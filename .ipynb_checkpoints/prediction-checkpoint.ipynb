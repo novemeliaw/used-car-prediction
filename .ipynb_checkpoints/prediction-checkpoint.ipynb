{
 "cells": [
  {
   "cell_type": "markdown",
   "id": "0573ea30",
   "metadata": {},
   "source": [
    "## Used Car Prediction\n",
    "\n",
    "Main Objective : Predict MMR (market price) for car sellers\n",
    "\n",
    "<img src=\"https://img.etimg.com/thumb/msid-106586397,width-300,height-225,imgsize-39324,resizemode-75/car-sales.jpg\" />"
   ]
  },
  {
   "cell_type": "code",
   "execution_count": 1,
   "id": "71a051e6",
   "metadata": {},
   "outputs": [],
   "source": [
    "from pyspark.sql import SparkSession\n",
    "\n",
    "spark = (SparkSession.builder\n",
    "         .appName('Used Car Prediction')\n",
    "         .master('local[*]')\n",
    "         .getOrCreate()\n",
    "        )"
   ]
  },
  {
   "cell_type": "code",
   "execution_count": 2,
   "id": "a006b1c4",
   "metadata": {},
   "outputs": [
    {
     "name": "stdout",
     "output_type": "stream",
     "text": [
      "+----+-------------+----------------+--------------------+-----------+------------+-----------------+-----+---------+--------+--------+--------+---------------------------------------------+-----+------------+---------------------------------------+\n",
      "|year|         make|           model|                trim|       body|transmission|              vin|state|condition|odometer|   color|interior|                                       seller|  mmr|sellingprice|                               saledate|\n",
      "+----+-------------+----------------+--------------------+-----------+------------+-----------------+-----+---------+--------+--------+--------+---------------------------------------------+-----+------------+---------------------------------------+\n",
      "|2009|     Chrysler|Town and Country|             Touring|    Minivan|   automatic|2a8hr54179r570758|   wi|      1.6| 90655.0|    gold|     tan|                        dt credit corporation| 8425|        7900|Wed Jan 21 2015 02:00:00 GMT-0800 (PST)|\n",
      "|2007|    Chevrolet|  Silverado 1500|          Work Truck|   Crew Cab|   automatic|2gcec13c971578282|   ca|     NULL|106732.0|    blue|   black|                                   auto plaza|13350|       14500|Thu Dec 18 2014 13:00:00 GMT-0800 (PST)|\n",
      "|2011|       Nissan|            Leaf|                  SL|  Hatchback|   automatic|jn1az0cp8bt007673|   wa|      4.1| 21852.0|     red|   beige|                           nissan-infiniti lt|10450|       10900|Wed Jan 21 2015 06:40:00 GMT-0800 (PST)|\n",
      "|2006|          GMC|        Envoy XL|              Denali|        SUV|   automatic|1gket66m066153160|   nv|        2|121829.0|   black|       —|                    titlemax/fort apache-nv16| 7275|        5900|Wed Dec 31 2014 11:00:00 GMT-0800 (PST)|\n",
      "|2011|         Ford|           F-150|                 XLT|  SuperCrew|        NULL|1ftfw1et2bke11814|   mi|      4.8| 31961.0|    gray|    gray|                       automobiles paille inc|25500|       24500|Thu Dec 18 2014 09:30:00 GMT-0800 (PST)|\n",
      "|2007|       HUMMER|              H3|                Base|        SUV|   automatic|5gtdn13ex78160245|   fl|      3.9|107497.0|burgundy|   black|                       mercedes benz of tampa|11400|       12700|Thu Dec 18 2014 16:20:00 GMT-0800 (PST)|\n",
      "|2004|   Volkswagen|           Jetta|            GLI 1.8T|      Sedan|        NULL|3vwse69m54m021929|   il|     NULL|106381.0|    blue|       —|                      grossinger autoplex inc| 2700|        2500|Thu Dec 18 2014 14:00:00 GMT-0800 (PST)|\n",
      "|2012|      Hyundai|   Sonata Hybrid|                Base|      Sedan|   automatic|kmhec4a49ca060519|   fl|      4.1| 50306.0|     red|     tan|                                      gte fcu|13250|       13100|Tue Dec 23 2014 14:00:00 GMT-0800 (PST)|\n",
      "|2014|    Chevrolet|          Impala|                 LTZ|      Sedan|   automatic|2g1155s3xe9133901|   fl|        4| 14037.0|   black|   black|                               gm remarketing|24300|       24700|Mon Feb 09 2015 05:00:00 GMT-0800 (PST)|\n",
      "|2014|          Kia|           Forte|                  LX|      Sedan|   automatic|knafx4a60e5210850|   wi|      3.8| 12835.0|     red|    gray|                      kia motors america, inc|12550|       11900|Wed Feb 18 2015 02:00:00 GMT-0800 (PST)|\n",
      "|2007|         Jeep|        Wrangler|                   X|        SUV|      manual|1j4fa24167l160554|   pa|     NULL| 60967.0|   green|       —|                               randy ford inc|13150|       13900|Fri Dec 19 2014 09:15:00 GMT-0800 (PST)|\n",
      "|2006|          Kia|             Rio|                Base|      Sedan|   automatic|knade123066035429|   ga|     NULL|182744.0|  silver|   black|                                cars & trucks| 1400|        2150|Thu Dec 18 2014 10:00:00 GMT-0800 (PST)|\n",
      "|2011|   Volkswagen|          Tiguan|                  SE|        SUV|   automatic|wvgav7axxbw524469|   tx|      2.5| 69830.0|   white|    gray|                                    vw credit|10550|       10200|Thu Dec 18 2014 11:00:00 GMT-0800 (PST)|\n",
      "|2010|        Honda|         Odyssey|                  LX|    Minivan|   automatic|5fnrl3h27ab080213|   ca|      2.7| 79116.0|   white|     tan|                      high bid trading co inc| 9825|       12500|Wed Dec 17 2014 12:15:00 GMT-0800 (PST)|\n",
      "|2011|         Ford|         Mustang|                  V6|      Coupe|   automatic|1zvbp8am6b5130291|   sc|      2.8| 74223.0|    blue|   black|                            pnc national bank|11350|       12000|Tue Dec 23 2014 09:15:00 GMT-0800 (PST)|\n",
      "|2011|        Buick|         Enclave|                CXL2|        SUV|   automatic|5gakvced6bj367698|   oh|      2.9| 33442.0|    gray|    gray|fiserv/usb dealer services northstar exchange|24100|       23100|Tue Jan 13 2015 09:30:00 GMT-0800 (PST)|\n",
      "|2007|       Saturn|            Aura|                  XE|      Sedan|   automatic|1g8zs57n27f208351|   ca|      3.8|118943.0|   white|   beige|                                   valley kia| 3800|        3800|Thu Dec 18 2014 12:00:00 GMT-0800 (PST)|\n",
      "|2004|      Pontiac|      Grand Prix|                 GT1|      Sedan|   automatic|2g2wp522941339050|   nc|      1.7|117538.0|  silver|   black|                                 dt inventory| 2500|        1300|Tue Dec 30 2014 09:30:00 GMT-0800 (PST)|\n",
      "|2014|         Ford|  E-Series Wagon|E-350 Super Duty XLT|        Van|        NULL|1fbne3blxedb01678|   mn|      3.5| 15939.0|       —|    gray|                            avis budget group|20100|       19900|Tue Dec 23 2014 14:00:00 GMT-0800 (PST)|\n",
      "|2008|     Chrysler|         Sebring|             Limited|Convertible|   automatic|1c3lc65m98n573663|   tx|        2|131199.0|   white|     tan|                     caprock auto remarketing| 3175|        1300|Thu Dec 18 2014 14:00:00 GMT-0800 (PST)|\n",
      "|2011|    Chevrolet|        Traverse|                 LT2|        SUV|   automatic|1gnkrjed2bj415308|   ca|      2.6| 25305.0|  silver|    gray|fiserv/usb dealer services northstar exchange|19150|       18500|Tue Dec 16 2014 12:30:00 GMT-0800 (PST)|\n",
      "|2009|       Nissan|           Rogue|                  SL|        SUV|   automatic|jn8as58v49w436294|   ma|      3.5| 51698.0|  silver|   black|                     capital one auto finance|11000|       12600|Tue Jan 06 2015 01:30:00 GMT-0800 (PST)|\n",
      "|2006|         jeep|        wrangler|            6c sport|       NULL|        NULL|1j4fa49s36p702035|   fl|      2.2| 76807.0|   black|   black|                 remarketing by ge/penair fcu|12900|        9500|Tue Dec 30 2014 11:15:00 GMT-0800 (PST)|\n",
      "|2011|     Infiniti|         G Sedan|                G25x|    G Sedan|        NULL|jn1dv6arxbm451146|   pa|      2.8| 34154.0|   black|   black|                           nissan infiniti lt|17200|       16000|Tue Dec 23 2014 09:00:00 GMT-0800 (PST)|\n",
      "|2012|        Scion|              iQ|                Base|  Hatchback|   automatic|jtnjjxb01cj012739|   ga|      4.3| 14821.0|    gray|   black|                    toyota financial services| 9375|        9200|Thu Dec 18 2014 10:00:00 GMT-0800 (PST)|\n",
      "|2008|         Audi|              S6|             quattro|      Sedan|        NULL|waudn74f78n015312|   va|      2.6|119236.0|  silver|    gray|                    brown's volkswagen suzuki|16700|       14200|Thu Dec 18 2014 09:05:00 GMT-0800 (PST)|\n",
      "|2013|       Nissan|           Rogue|                  SV|        SUV|        NULL|jn8as5mt1dw014710|   ca|      4.3| 22338.0|  silver|   black|                    nissan north america inc.|15050|       18000|Tue Dec 16 2014 12:30:00 GMT-0800 (PST)|\n",
      "|2014|          GMC|     Sierra 1500|                 SLT|   Crew Cab|   automatic|3gtu2vec4eg141863|   tx|      4.4| 31048.0|    blue|   brown|                     winter motor company inc|34500|       35300|Wed Dec 31 2014 10:20:00 GMT-0800 (PST)|\n",
      "|2013|Mercedes-Benz|         C-Class|                C250|      Coupe|   automatic|wddgj4hb6df984949|   nv|      4.5| 21632.0|   white|   black|             mercedes-benz financial services|24600|       24250|Thu Jan 22 2015 06:00:00 GMT-0800 (PST)|\n",
      "|2014|     Infiniti|             Q50|             Premium|      Sedan|   automatic|jn1bv7apxem671757|   ca|      3.8| 12397.0|   black|   black|                    nissan north america inc.|29900|       30000|Thu Dec 18 2014 12:30:00 GMT-0800 (PST)|\n",
      "+----+-------------+----------------+--------------------+-----------+------------+-----------------+-----+---------+--------+--------+--------+---------------------------------------------+-----+------------+---------------------------------------+\n",
      "only showing top 30 rows\n",
      "\n"
     ]
    }
   ],
   "source": [
    "df = spark.read.format('csv').options(header=True, inferSchema=True).load('dataset/car_prices.csv').repartition(4)\n",
    "df.show(30, truncate=50)"
   ]
  },
  {
   "cell_type": "markdown",
   "id": "0b7d6a3e",
   "metadata": {},
   "source": [
    "## Preprocessing & Cleaning"
   ]
  },
  {
   "cell_type": "code",
   "execution_count": 3,
   "id": "fc0b0105",
   "metadata": {},
   "outputs": [],
   "source": [
    "from pyspark.sql.types import *\n",
    "from pyspark.sql.functions import *"
   ]
  },
  {
   "cell_type": "code",
   "execution_count": 4,
   "id": "b2faca3a-4ccc-4863-a0ae-f5f157a05e15",
   "metadata": {},
   "outputs": [
    {
     "data": {
      "text/plain": [
       "558837"
      ]
     },
     "execution_count": 4,
     "metadata": {},
     "output_type": "execute_result"
    }
   ],
   "source": [
    "# Count raw data\n",
    "df.count()"
   ]
  },
  {
   "cell_type": "code",
   "execution_count": 5,
   "id": "b79c71ea",
   "metadata": {},
   "outputs": [
    {
     "name": "stdout",
     "output_type": "stream",
     "text": [
      "+----+-----+-----+-----+-----+------------+---+-----+---------+--------+-----+--------+------+---+------------+--------+\n",
      "|year| make|model| trim| body|transmission|vin|state|condition|odometer|color|interior|seller|mmr|sellingprice|saledate|\n",
      "+----+-----+-----+-----+-----+------------+---+-----+---------+--------+-----+--------+------+---+------------+--------+\n",
      "|   0|10301|10399|10651|13195|       65353|  4|    0|    11794|      94|  749|     749|     0|  0|           0|       0|\n",
      "+----+-----+-----+-----+-----+------------+---+-----+---------+--------+-----+--------+------+---+------------+--------+\n",
      "\n"
     ]
    }
   ],
   "source": [
    "# Count for missing values\n",
    "df.select([count(when(isnan(c) | isnull(c),1)).alias(c) for c in df.columns]).show()"
   ]
  },
  {
   "cell_type": "markdown",
   "id": "f61547ed-8585-4edf-97e5-fe481032858d",
   "metadata": {},
   "source": [
    "### Filling NULL Transmission"
   ]
  },
  {
   "cell_type": "code",
   "execution_count": null,
   "id": "599aa03c",
   "metadata": {},
   "outputs": [],
   "source": [
    "df = df.withColumn(\"body\", lower(df[\"body\"]))\n",
    "df = df.withColumn(\"make\", lower(df[\"make\"]))\n",
    "df = df.withColumn(\"model\", lower(df[\"model\"]))\n",
    "df.select(['body', 'make', 'model']).show()"
   ]
  },
  {
   "cell_type": "code",
   "execution_count": 7,
   "id": "aedd1217-9f3d-4cba-81a1-fc59571904ff",
   "metadata": {},
   "outputs": [
    {
     "name": "stdout",
     "output_type": "stream",
     "text": [
      "+----+----+-----+----+----+------------+---+-----+---------+--------+-----+--------+------+---+------------+--------+\n",
      "|year|make|model|trim|body|transmission|vin|state|condition|odometer|color|interior|seller|mmr|sellingprice|saledate|\n",
      "+----+----+-----+----+----+------------+---+-----+---------+--------+-----+--------+------+---+------------+--------+\n",
      "+----+----+-----+----+----+------------+---+-----+---------+--------+-----+--------+------+---+------------+--------+\n",
      "\n"
     ]
    }
   ],
   "source": [
    "# New df for joining\n",
    "filled_df = df.dropna(subset=[\"transmission\"])\n",
    "filled_df.where(col('transmission').isNull()).show()"
   ]
  },
  {
   "cell_type": "code",
   "execution_count": 8,
   "id": "8bd48f4a-1224-47e2-a204-42f7a14ad0d0",
   "metadata": {},
   "outputs": [],
   "source": [
    "# Inner join to fill missing transmission values\n",
    "df = df.alias(\"df\").join(\n",
    "    filled_df.alias(\"filled_df\"),\n",
    "    on=[\"year\", \"make\", \"model\", \"trim\", \"body\"],\n",
    "    how=\"inner\"\n",
    ").select(\n",
    "    col(\"df.year\"),\n",
    "    col(\"df.make\"),\n",
    "    col(\"df.model\"),\n",
    "    col(\"df.trim\"),\n",
    "    col(\"df.body\"),\n",
    "    col(\"df.vin\"),\n",
    "    col(\"df.state\"),\n",
    "    col(\"df.condition\"),\n",
    "    col(\"df.odometer\"),\n",
    "    col(\"df.color\"),\n",
    "    col(\"df.interior\"),\n",
    "    col(\"df.seller\"),\n",
    "    col(\"df.mmr\"),\n",
    "    col(\"df.sellingprice\"),\n",
    "    col(\"df.saledate\"),\n",
    "    col(\"df.transmission\").alias(\"original_transmission\"),\n",
    "    col(\"filled_df.transmission\").alias(\"filled_transmission\")\n",
    ").distinct()"
   ]
  },
  {
   "cell_type": "code",
   "execution_count": 9,
   "id": "2627a056-4f3a-46c1-ac07-963452721152",
   "metadata": {},
   "outputs": [
    {
     "name": "stdout",
     "output_type": "stream",
     "text": [
      "+----+----------+---------------+-----------+------------+---------------------+-------------------+-----+\n",
      "|year|      make|          model|       trim|        body|original_transmission|filled_transmission|count|\n",
      "+----+----------+---------------+-----------+------------+---------------------+-------------------+-----+\n",
      "|1990|    Toyota|          Camry|     Deluxe|       Sedan|                 NULL|          automatic|    1|\n",
      "|1993|    Nissan|          Truck|       Base| Regular Cab|                 NULL|          automatic|    1|\n",
      "|1993|    Toyota|          Camry|     XLE V6|       Sedan|                 NULL|          automatic|    1|\n",
      "|1993|    Toyota|        Corolla|       Base|       Sedan|                 NULL|             manual|    1|\n",
      "|1993|    Toyota|        Corolla|       Base|       Sedan|                 NULL|          automatic|    1|\n",
      "|1994|Oldsmobile|  Cutlass Ciera|          S|       Sedan|                 NULL|          automatic|    2|\n",
      "|1995|  Cadillac|        DeVille|       Base|       Sedan|                 NULL|          automatic|    4|\n",
      "|1995|      Ford|       Explorer|        XLT|         SUV|                 NULL|          automatic|    4|\n",
      "|1995|    Nissan|     Pathfinder|         XE|         SUV|                 NULL|          automatic|    2|\n",
      "|1996|      Ford|         Ranger|        XLT|Extended Cab|                 NULL|             manual|    1|\n",
      "|1996|      Ford|         Ranger|        XLT|Extended Cab|                 NULL|          automatic|    1|\n",
      "|1996|    Toyota|        4Runner|    Limited|         SUV|                 NULL|          automatic|    1|\n",
      "|1997| Chevrolet|       Cavalier|       Base|       Sedan|                 NULL|          automatic|    1|\n",
      "|1997|     Dodge|Ram Pickup 1500|Laramie SLT| Regular Cab|                 NULL|          automatic|    1|\n",
      "|1997|      Ford|     Expedition|        XLT|         SUV|                 NULL|          automatic|    1|\n",
      "|1997|      Ford|       Explorer|         XL|         SUV|                 NULL|          automatic|    3|\n",
      "|1997|      Ford|          F-150|        XLT| Regular Cab|                 NULL|             manual|    2|\n",
      "|1997|      Ford|          F-150|        XLT| Regular Cab|                 NULL|          automatic|    2|\n",
      "|1997|Mitsubishi|         Galant|         ES|       Sedan|                 NULL|          automatic|    1|\n",
      "|1997|    Nissan|     Pathfinder|         SE|         SUV|                 NULL|          automatic|    1|\n",
      "|1997|    Toyota|         Avalon|        XLS|       Sedan|                 NULL|          automatic|    1|\n",
      "|1998|     Dodge|Ram Pickup 1500|Laramie SLT|Extended Cab|                 NULL|          automatic|    1|\n",
      "|1998|      Ford|       Explorer|      Sport|         SUV|                 NULL|          automatic|    3|\n",
      "|1998|     Honda|         Accord|      EX V6|       coupe|                 NULL|          automatic|    1|\n",
      "|1998|     Honda|          Civic|         EX|       Coupe|                 NULL|             manual|    3|\n",
      "|1998|     Honda|          Civic|         EX|       Coupe|                 NULL|          automatic|    3|\n",
      "|1998|     Isuzu|          Rodeo|         LS|         SUV|                 NULL|          automatic|    1|\n",
      "|1998|     Lexus|         ES 300|       Base|       sedan|                 NULL|          automatic|    2|\n",
      "|1998|Mitsubishi|  Montero Sport|         LS|         SUV|                 NULL|          automatic|    3|\n",
      "|1998|    Toyota|        4Runner|        SR5|         suv|                 NULL|          automatic|    2|\n",
      "|1998|    Toyota|         Tacoma|         V6|Extended Cab|                 NULL|          automatic|    1|\n",
      "|1998|Volkswagen|          Jetta|         GT|       Sedan|                 NULL|             manual|    1|\n",
      "|1998|     Volvo|            S70|       Base|       Sedan|                 NULL|          automatic|    2|\n",
      "|1999|     Acura|             RL|        3.5|       Sedan|                 NULL|          automatic|    1|\n",
      "|1999| Chevrolet|       Cavalier|       Base|       Coupe|                 NULL|          automatic|    1|\n",
      "|1999| Chevrolet|       Cavalier|       Base|       Coupe|                 NULL|             manual|    1|\n",
      "|1999| Chevrolet| Silverado 1500|       Base|Extended Cab|                 NULL|          automatic|    2|\n",
      "|1999|      Ford|          F-150|         XL| Regular Cab|                 NULL|          automatic|    2|\n",
      "|1999|      Ford|          F-150|         XL| Regular Cab|                 NULL|             manual|    2|\n",
      "|1999|       GMC|          envoy|       Base|         SUV|                 NULL|          automatic|    1|\n",
      "|1999|     Honda|           CR-V|         EX|         suv|                 NULL|          automatic|    1|\n",
      "|1999|     Honda|           CR-V|         LX|         suv|                 NULL|          automatic|    2|\n",
      "|1999|       Kia|         Sephia|       Base|       Sedan|                 NULL|             manual|    1|\n",
      "|1999|     Lexus|         LX 470|       Base|         SUV|                 NULL|          automatic|    2|\n",
      "|1999|   Lincoln|       Town Car|  Signature|       sedan|                 NULL|          automatic|    1|\n",
      "|1999|Mitsubishi|        Montero|       Base|         SUV|                 NULL|          automatic|    1|\n",
      "|1999|    Nissan|         Altima|        GXE|       Sedan|                 NULL|          automatic|    8|\n",
      "|1999|    Nissan|         Altima|         SE|       Sedan|                 NULL|          automatic|    1|\n",
      "|1999|    Saturn|       S-Series|        SL2|       Sedan|                 NULL|          automatic|    1|\n",
      "|1999|    Saturn|       S-Series|        SL2|       Sedan|                 NULL|             manual|    1|\n",
      "+----+----------+---------------+-----------+------------+---------------------+-------------------+-----+\n",
      "only showing top 50 rows\n",
      "\n"
     ]
    }
   ],
   "source": [
    "# Validating the filled transmission corresponds correctly\n",
    "df.select(['year','make', 'model', 'trim', 'body', 'original_transmission', 'filled_transmission']).where(col('original_transmission').isNull()).groupBy(['year','make', 'model', 'trim', 'body', 'original_transmission', 'filled_transmission']).count().show(50)"
   ]
  },
  {
   "cell_type": "code",
   "execution_count": 10,
   "id": "e3f8a4b5-b82d-4bb8-ab59-f1b2f8ad47f0",
   "metadata": {},
   "outputs": [],
   "source": [
    "# Merging into one \"transmission\" column\n",
    "\n",
    "df = df.withColumn(\n",
    "    \"transmission\",\n",
    "    when(col(\"original_transmission\").isNotNull(), col(\"original_transmission\")).otherwise(col(\"filled_transmission\"))\n",
    ").drop(\"original_transmission\", \"filled_transmission\")"
   ]
  },
  {
   "cell_type": "code",
   "execution_count": 11,
   "id": "fca80f7c-6653-42e9-90a2-b114baab8d0a",
   "metadata": {},
   "outputs": [
    {
     "name": "stdout",
     "output_type": "stream",
     "text": [
      "+----+---------+---------------+---------+-----------+-----------------+-----+---------+--------+------+--------+--------------------+----+------------+--------------------+------------+\n",
      "|year|     make|          model|     trim|       body|              vin|state|condition|odometer| color|interior|              seller| mmr|sellingprice|            saledate|transmission|\n",
      "+----+---------+---------------+---------+-----------+-----------------+-----+---------+--------+------+--------+--------------------+----+------------+--------------------+------------+\n",
      "|1990|Chevrolet|C/K 1500 Series|    454SS|Regular Cab|1gcdc14n4lz157583|   fl|        3|101927.0| black|     red|american bank aut...|7225|        8000|Tue Feb 10 2015 0...|   automatic|\n",
      "|1990|Chevrolet|C/K 1500 Series|    454SS|Regular Cab|1gcdc14n5lz242061|   tn|        4| 34266.0| black|     red|        t & s motors|9550|       11500|Wed Mar 04 2015 0...|   automatic|\n",
      "|1990|   Toyota|          Camry|   Deluxe|      Sedan|4t1sv21e3lu252866|   ga|        2|201659.0| black|    gray|        purple heart| 675|         375|Thu Jan 15 2015 0...|   automatic|\n",
      "|1990|   Toyota|          Camry|   Deluxe|      Sedan|4t1sv21e0lu227097|   ca|        2|122877.0|  blue|       —|charitable auto r...| 700|         400|Tue Dec 30 2014 1...|   automatic|\n",
      "|1990|   Toyota|          Camry|   Deluxe|      Sedan|jt2sv21exl0345999|   wa|        2|214723.0|  blue|    blue|  donate for charity| 675|         375|Wed Jan 28 2015 0...|   automatic|\n",
      "|1991|    Honda|          Civic|     Base|  Hatchback|2hged6349mh586681|   fl|        1|130708.0|   red|   black|autonation toyota...| 625|         400|Tue Jan 20 2015 1...|      manual|\n",
      "|1991|   Nissan|          300ZX|     Base|  Hatchback|jn1rz24h7mx502139|   tn|        1|183646.0| white|   brown|          easy money|2450|         550|Tue May 26 2015 0...|      manual|\n",
      "|1992|  Lincoln|       Town Car|Signature|      sedan|1lnlm82w5ny705589|   wi|        3| 55099.0| white|    gray|napletons hyundai...| 725|        1000|Wed Jun 17 2015 0...|   automatic|\n",
      "|1992|   Nissan|         Maxima|      GXE|      Sedan|jn1hj01fxnt025757|   nv|        2|179305.0| white|       —|automotive remark...| 600|         350|Thu Feb 19 2015 0...|   automatic|\n",
      "|1992|   Toyota|        Corolla|   Deluxe|      Sedan|2t1ae94a4nc150171|   md|        2| 81781.0| white|    blue|purple heart serv...| 600|         900|Tue Dec 23 2014 1...|   automatic|\n",
      "|1992|   Toyota|        Corolla|   Deluxe|      Sedan|1nxae94a5nz364939|   fl|        2| 99444.0| white|    gray|purple heart serv...| 600|         400|Thu Dec 18 2014 1...|   automatic|\n",
      "|1993| Cadillac|        DeVille|     Base|      Sedan|1g6cd53b2p4320910|   ca|        2|106132.0|  gray|     red|aaero sweet corpo...| 825|         950|Wed May 27 2015 0...|   automatic|\n",
      "|1993| Cadillac|        DeVille|     Base|      Sedan|1g6cd53b9p4211411|   ga|        1|117252.0|  gold|     tan|riverside toyota ...| 425|        1100|Tue Feb 10 2015 0...|   automatic|\n",
      "|1993|Chevrolet|C/K 1500 Series|Silverado|Regular Cab|1gcec14z4pe121509|   tx|        1|213169.0|  blue|    blue|        dt inventory| 900|         850|Tue May 26 2015 0...|   automatic|\n",
      "|1993|Chevrolet|        Caprice|     Base|      Sedan|1g1bl53e8pr112788|   la|        3|110596.0|silver|    gray| westfall auto sales| 925|        3000|Wed Feb 25 2015 0...|   automatic|\n",
      "|1993|     Ford|         Ranger|      XLT|regular cab|1ftcr10u1pub06522|   nc|        1| 67495.0| white|       —|crossroads nissan...| 250|         600|Mon Jun 01 2015 0...|      manual|\n",
      "|1993|    Honda|          Civic|       LX|      Sedan|1hgeg865xpl032404|   nc|        2|204052.0| green|     tan|crossroads nissan...| 450|        1000|Mon Feb 02 2015 0...|   automatic|\n",
      "|1993|    Honda|          Civic|       LX|      Sedan|1hgeg865xpl032404|   nc|        2|204052.0| green|     tan|crossroads nissan...| 450|        1000|Mon Feb 02 2015 0...|   automatic|\n",
      "|1993|    Honda|          Civic|       LX|      Sedan|jhmeg8558ps013211|   wa|        2|206935.0| green|   beige|     bellevue nissan| 700|         600|Wed Jun 03 2015 0...|      manual|\n",
      "|1993|    Honda|          Civic|       LX|      Sedan|jhmeg8558ps013211|   wa|        2|206935.0| green|   beige|     bellevue nissan| 700|         600|Wed Jun 03 2015 0...|      manual|\n",
      "+----+---------+---------------+---------+-----------+-----------------+-----+---------+--------+------+--------+--------------------+----+------------+--------------------+------------+\n",
      "only showing top 20 rows\n",
      "\n"
     ]
    }
   ],
   "source": [
    "df.show()"
   ]
  },
  {
   "cell_type": "code",
   "execution_count": 14,
   "id": "70fc9b43",
   "metadata": {},
   "outputs": [
    {
     "name": "stdout",
     "output_type": "stream",
     "text": [
      "+------------+------+--------+\n",
      "|transmission| color|interior|\n",
      "+------------+------+--------+\n",
      "|   automatic| black|     red|\n",
      "|   automatic| black|     red|\n",
      "|   automatic|  blue|    blue|\n",
      "|   automatic| black|    gray|\n",
      "|      manual|   red|   black|\n",
      "|      manual| white|   brown|\n",
      "|   automatic| white|    gray|\n",
      "|   automatic| white|    blue|\n",
      "|   automatic| white|    gray|\n",
      "|   automatic|  gold|     tan|\n",
      "|   automatic|  gray|     red|\n",
      "|   automatic|  blue|    blue|\n",
      "|   automatic|silver|    gray|\n",
      "|   automatic| green|     tan|\n",
      "|   automatic| green|     tan|\n",
      "|      manual| green|   beige|\n",
      "|      manual| green|   beige|\n",
      "|   automatic| beige|    gray|\n",
      "|   automatic| beige|   beige|\n",
      "|   automatic| green|     tan|\n",
      "+------------+------+--------+\n",
      "only showing top 20 rows\n",
      "\n"
     ]
    }
   ],
   "source": [
    "df = df.where((df[\"transmission\"] == \"automatic\") | (df[\"transmission\"] == \"manual\"))\n",
    "df = df.where((df[\"color\"] != '—'))\n",
    "df = df.where((df[\"interior\"] != '—'))\n",
    "df.select(['transmission', 'color', 'interior']).show()"
   ]
  },
  {
   "cell_type": "code",
   "execution_count": 15,
   "id": "8aa9c163",
   "metadata": {},
   "outputs": [],
   "source": [
    "# Cast to respective data types\n",
    "df = df.withColumn('sellingprice', col('sellingprice').cast('integer'))\n",
    "df = df.withColumn('mmr', col('mmr').cast('integer'))\n",
    "df = df.withColumn('condition', col('condition').cast('double'))\n",
    "df = df.withColumn('odometer', col('odometer').cast('integer'))"
   ]
  },
  {
   "cell_type": "code",
   "execution_count": 16,
   "id": "213fdb52",
   "metadata": {},
   "outputs": [],
   "source": [
    "# Drop rows with missing values\n",
    "df = df.dropna(subset=[\"year\", \"make\", \"model\", \"body\", \"condition\", \"transmission\", \"odometer\", \"color\"])\n",
    "df = df.distinct()"
   ]
  },
  {
   "cell_type": "code",
   "execution_count": 17,
   "id": "b373bb3c",
   "metadata": {},
   "outputs": [
    {
     "data": {
      "text/plain": [
       "512009"
      ]
     },
     "execution_count": 17,
     "metadata": {},
     "output_type": "execute_result"
    }
   ],
   "source": [
    "# Count remaining data\n",
    "df.count()"
   ]
  },
  {
   "cell_type": "code",
   "execution_count": 18,
   "id": "caf118d0-9e35-4fde-99dc-a888168a5c60",
   "metadata": {},
   "outputs": [
    {
     "name": "stdout",
     "output_type": "stream",
     "text": [
      "+----+---------+----------------+----------+------------+-----------------+-----+---------+--------+------+--------+--------------------+-----+------------+--------------------+------------+\n",
      "|year|     make|           model|      trim|        body|              vin|state|condition|odometer| color|interior|              seller|  mmr|sellingprice|            saledate|transmission|\n",
      "+----+---------+----------------+----------+------------+-----------------+-----+---------+--------+------+--------+--------------------+-----+------------+--------------------+------------+\n",
      "|1996|     ford|          ranger|       XLT|extended cab|1ftcr14a4tpa48981|   wa|      1.0|   94084|  blue|    gray|  donate for charity| 1325|         900|Wed Feb 25 2015 0...|      manual|\n",
      "|1997|chevrolet|        cavalier|      Base|       sedan|1g1jc5243v7198623|   nc|      1.9|  225075|  blue|    blue|boyd honda of sou...|  275|         700|Mon Feb 16 2015 0...|   automatic|\n",
      "|1999|      bmw|        3 series|      328i|       sedan|wbaam5334xkg05312|   nj|      1.0|  141450| black|    gray| bmw of mount laurel| 1825|        1050|Wed Feb 18 2015 0...|      manual|\n",
      "|2000|    honda|          accord|        EX|       coupe|1hgcg3276ya004064|   ma|      1.9|  206059|silver|    gray|     boch honda west| 1100|         600|Thu Jan 22 2015 1...|   automatic|\n",
      "|2000|  porsche|         boxster|         S| convertible|wp0cb2989yu662191|   ga|      4.2|   38116|silver|   black|       germain lexus|10500|       12000|Thu Feb 26 2015 0...|      manual|\n",
      "|2001|     ford|        windstar|  SE Sport|     minivan|2fmza57491ba39675|   va|      2.7|  179277|  blue|    gray|credit acceptance...| 1025|         700|Thu Feb 26 2015 0...|   automatic|\n",
      "|2001|   saturn|        s-series|       SC2|       coupe|1g8zy12751z295927|   oh|      2.1|  145336|   red|   black| aex credit services|  725|        1000|Thu May 28 2015 0...|   automatic|\n",
      "|2002|chevrolet|          impala|        LS|       sedan|2g1wh55k729244210|   va|      1.0|  196587| beige|    gray|select remarketin...| 1300|         400|Wed Mar 04 2015 0...|   automatic|\n",
      "|2002|chevrolet|silverado 2500hd|        LS|    crew cab|1gchc231x2f198323|   ca|      3.2|  136076| white|    gray|garys auto sales inc| 6225|        9400|Thu Jan 22 2015 0...|   automatic|\n",
      "|2002|     ford|f-250 super duty|       XLT|    supercab|1ftnx20l22eb11971|   pa|      1.9|  249421| white|   beige|dream cars by bus...| 1625|         500|Tue Jun 02 2015 0...|   automatic|\n",
      "|2002|     ford|         mustang|   Premium| convertible|1fafp44412f229710|   ca|      2.8|  123850| white|   beige|trade in solution...| 2175|        2450|Wed Feb 11 2015 0...|   automatic|\n",
      "|2002|    honda|         odyssey|        EX|     minivan|2hkrl18622h500910|   ca|      2.7|  159503|silver|    gray|      audi san diego| 1975|        2900|Wed Mar 04 2015 0...|   automatic|\n",
      "|2002|    mazda|         tribute|     ES-V6|         suv|4f2yu08182km11206|   oh|      2.6|  122356| black|   beige|car now acceptanc...| 2675|        2800|Thu May 28 2015 0...|   automatic|\n",
      "|2002|   nissan|          maxima|        SE|       sedan|jn1da31ax2t001815|   md|      2.2|  172100|  gray|   black|darcars toyota of...| 1550|        1400|Tue Jun 09 2015 0...|   automatic|\n",
      "|2002|   subaru|        forester|         S|       wagon|jf1sf65672h724592|   nc|      2.9|  124794| white|    gray|parkway automotiv...| 2600|        4000|Fri May 22 2015 0...|   automatic|\n",
      "|2003|    acura|              tl|3.2 Type-S|       sedan|19uua56823a076232|   tx|      3.9|  137764| black|   beige|united auto credi...| 2825|        3800|Tue Jun 02 2015 0...|   automatic|\n",
      "|2003|    buick|         century|      Base|       sedan|2g4ws52j331299530|   la|      3.1|  103958|silver|    gray| westfall auto sales| 2200|        3500|Wed Feb 11 2015 0...|   automatic|\n",
      "|2003|    buick|         century|      Base|       sedan|2g4ws52j631106321|   pa|      3.5|   66876|silver|    gray|car now acceptanc...| 2950|        2700|Tue Mar 03 2015 0...|   automatic|\n",
      "|2003| cadillac|         deville|      Base|       sedan|1g6kd54y53u194390|   nc|      2.9|  154201| green|     tan|credit acceptance...| 1175|        1000|Mon Mar 09 2015 0...|   automatic|\n",
      "|2003| cadillac|        escalade|      Base|         suv|1gyec63t03r104505|   tx|      1.9|  218370| white|   beige|automotive remark...| 4275|        2400|Tue Jan 27 2015 0...|   automatic|\n",
      "+----+---------+----------------+----------+------------+-----------------+-----+---------+--------+------+--------+--------------------+-----+------------+--------------------+------------+\n",
      "only showing top 20 rows\n",
      "\n"
     ]
    }
   ],
   "source": [
    "df.show()"
   ]
  },
  {
   "cell_type": "code",
   "execution_count": 35,
   "id": "553fcf33",
   "metadata": {},
   "outputs": [
    {
     "name": "stdout",
     "output_type": "stream",
     "text": [
      "root\n",
      " |-- year: integer (nullable = true)\n",
      " |-- make: string (nullable = true)\n",
      " |-- model: string (nullable = true)\n",
      " |-- trim: string (nullable = true)\n",
      " |-- body: string (nullable = true)\n",
      " |-- vin: string (nullable = true)\n",
      " |-- state: string (nullable = true)\n",
      " |-- condition: string (nullable = true)\n",
      " |-- odometer: double (nullable = true)\n",
      " |-- color: string (nullable = true)\n",
      " |-- interior: string (nullable = true)\n",
      " |-- seller: string (nullable = true)\n",
      " |-- mmr: string (nullable = true)\n",
      " |-- sellingprice: integer (nullable = true)\n",
      " |-- saledate: string (nullable = true)\n",
      " |-- transmission: string (nullable = true)\n",
      "\n"
     ]
    }
   ],
   "source": [
    "df.printSchema()"
   ]
  },
  {
   "cell_type": "code",
   "execution_count": 8,
   "id": "f3c5840f",
   "metadata": {},
   "outputs": [
    {
     "name": "stdout",
     "output_type": "stream",
     "text": [
      "+-----------+-----+\n",
      "|       make|count|\n",
      "+-----------+-----+\n",
      "|    ford tk|    1|\n",
      "|      Lotus|    1|\n",
      "|  airstream|    1|\n",
      "| hyundai tk|    1|\n",
      "|   mazda tk|    1|\n",
      "|   dodge tk|    1|\n",
      "|        dot|    1|\n",
      "| chev truck|    1|\n",
      "| mercedes-b|    2|\n",
      "| ford truck|    3|\n",
      "|     Daewoo|    3|\n",
      "|   maserati|    3|\n",
      "|Lamborghini|    4|\n",
      "|     suzuki|    5|\n",
      "|   plymouth|    7|\n",
      "|        kia|    7|\n",
      "|       audi|    8|\n",
      "|     Fisker|    9|\n",
      "|  gmc truck|   11|\n",
      "|      buick|   14|\n",
      "+-----------+-----+\n",
      "only showing top 20 rows\n",
      "\n",
      "+----------------+-----+\n",
      "|           model|count|\n",
      "+----------------+-----+\n",
      "|          Altima|19349|\n",
      "|           F-150|14479|\n",
      "|          Fusion|12946|\n",
      "|           Camry|12545|\n",
      "|          Escape|11861|\n",
      "|            NULL|10399|\n",
      "|           Focus|10394|\n",
      "|          Accord| 9127|\n",
      "|        3 Series| 8204|\n",
      "|   Grand Caravan| 7941|\n",
      "|          Impala| 7923|\n",
      "|        Explorer| 7707|\n",
      "|           Civic| 7433|\n",
      "|         G Sedan| 7417|\n",
      "|         Corolla| 7354|\n",
      "|          Malibu| 7028|\n",
      "|          Sonata| 6914|\n",
      "|          Maxima| 6611|\n",
      "|  Silverado 1500| 6362|\n",
      "|           Cruze| 6348|\n",
      "|         Elantra| 6262|\n",
      "|Town and Country| 5994|\n",
      "|            Edge| 5915|\n",
      "|           Rogue| 5589|\n",
      "|          Sentra| 5465|\n",
      "|         C-Class| 5397|\n",
      "|         Mustang| 4950|\n",
      "|         Equinox| 4916|\n",
      "|           Jetta| 4686|\n",
      "|  Grand Cherokee| 4686|\n",
      "+----------------+-----+\n",
      "only showing top 30 rows\n",
      "\n",
      "+------------+------+\n",
      "|        body| count|\n",
      "+------------+------+\n",
      "|       Sedan|199437|\n",
      "|         SUV|119292|\n",
      "|       sedan| 41906|\n",
      "|         suv| 24552|\n",
      "|   Hatchback| 21380|\n",
      "|     Minivan| 21363|\n",
      "|       Coupe| 14602|\n",
      "|       Wagon| 13630|\n",
      "|    Crew Cab| 13280|\n",
      "|        NULL| 13195|\n",
      "| Convertible|  8652|\n",
      "|   SuperCrew|  7423|\n",
      "|     G Sedan|  5999|\n",
      "|   hatchback|  4857|\n",
      "|    SuperCab|  4449|\n",
      "|     minivan|  4166|\n",
      "| Regular Cab|  4067|\n",
      "|         Van|  3958|\n",
      "|Extended Cab|  3824|\n",
      "|    Quad Cab|  3436|\n",
      "+------------+------+\n",
      "only showing top 20 rows\n",
      "\n",
      "+-----+-----+\n",
      "|color|count|\n",
      "+-----+-----+\n",
      "|11034|    1|\n",
      "| 9887|    1|\n",
      "| 2172|    1|\n",
      "|20379|    1|\n",
      "|15719|    1|\n",
      "|18384|    1|\n",
      "| 5705|    1|\n",
      "|12655|    1|\n",
      "| 2846|    1|\n",
      "| 1167|    1|\n",
      "|16633|    1|\n",
      "| 9837|    1|\n",
      "| 4802|    1|\n",
      "| 9410|    1|\n",
      "| 6864|    1|\n",
      "| 5001|    1|\n",
      "| 2817|    1|\n",
      "|  339|    1|\n",
      "|20627|    1|\n",
      "|14872|    1|\n",
      "+-----+-----+\n",
      "only showing top 20 rows\n",
      "\n",
      "+---------+------+\n",
      "| interior| count|\n",
      "+---------+------+\n",
      "|   yellow|    20|\n",
      "|   orange|   145|\n",
      "| burgundy|   191|\n",
      "|    green|   245|\n",
      "|    white|   256|\n",
      "|     gold|   324|\n",
      "|   purple|   339|\n",
      "|off-white|   480|\n",
      "|     NULL|   749|\n",
      "|   silver|  1104|\n",
      "|     blue|  1143|\n",
      "|      red|  1363|\n",
      "|    brown|  8640|\n",
      "|        —| 17077|\n",
      "|      tan| 44093|\n",
      "|    beige| 59758|\n",
      "|     gray|178581|\n",
      "|    black|244329|\n",
      "+---------+------+\n",
      "\n",
      "+------------+------+\n",
      "|transmission| count|\n",
      "+------------+------+\n",
      "|       Sedan|    11|\n",
      "|       sedan|    15|\n",
      "|      manual| 17544|\n",
      "|        NULL| 65353|\n",
      "|   automatic|475914|\n",
      "+------------+------+\n",
      "\n"
     ]
    }
   ],
   "source": [
    "# Count each categorical value\n",
    "df.groupBy(\"make\").count().sort(\"count\").show()\n",
    "df.groupBy(\"model\").count().sort(desc(\"count\")).show(30)\n",
    "df.groupBy(\"body\").count().sort(desc(\"count\")).show()\n",
    "df.groupBy(\"color\").count().sort(\"count\").show()\n",
    "df.groupBy(\"interior\").count().sort(\"count\").show()\n",
    "df.groupBy(\"transmission\").count().sort(\"count\").show()"
   ]
  },
  {
   "cell_type": "code",
   "execution_count": 40,
   "id": "2665c690",
   "metadata": {},
   "outputs": [
    {
     "name": "stdout",
     "output_type": "stream",
     "text": [
      "root\n",
      " |-- year: integer (nullable = true)\n",
      " |-- make: string (nullable = true)\n",
      " |-- model: string (nullable = true)\n",
      " |-- trim: string (nullable = true)\n",
      " |-- body: string (nullable = true)\n",
      " |-- vin: string (nullable = true)\n",
      " |-- state: string (nullable = true)\n",
      " |-- condition: double (nullable = true)\n",
      " |-- odometer: integer (nullable = true)\n",
      " |-- color: string (nullable = true)\n",
      " |-- interior: string (nullable = true)\n",
      " |-- seller: string (nullable = true)\n",
      " |-- mmr: integer (nullable = true)\n",
      " |-- sellingprice: integer (nullable = true)\n",
      " |-- saledate: string (nullable = true)\n",
      " |-- transmission: string (nullable = true)\n",
      "\n"
     ]
    }
   ],
   "source": [
    "df.printSchema()"
   ]
  },
  {
   "cell_type": "code",
   "execution_count": 41,
   "id": "5cbb8e52",
   "metadata": {},
   "outputs": [
    {
     "name": "stdout",
     "output_type": "stream",
     "text": [
      "+-------+------------------+------+-----------------+-----------------+----------+-----------------+------+------------------+-----------------+------+--------+--------------------+------------------+-----------------+--------------------+------------+\n",
      "|summary|              year|  make|            model|             trim|      body|              vin| state|         condition|         odometer| color|interior|              seller|               mmr|     sellingprice|            saledate|transmission|\n",
      "+-------+------------------+------+-----------------+-----------------+----------+-----------------+------+------------------+-----------------+------+--------+--------------------+------------------+-----------------+--------------------+------------+\n",
      "|  count|            514422|514422|           514422|           514422|    514422|           514422|514422|            514422|           514422|514422|  514422|              514422|            514422|           514422|              514422|      514422|\n",
      "|   mean|2010.1687544467384|  NULL|   799.4075604053|357.7256923197621|      NULL|             NULL|  NULL| 3.424198226358681|66977.45799363169|  NULL|    NULL|                NULL|13777.973434262143| 13628.1730174837|                NULL|        NULL|\n",
      "| stddev| 3.831393249895466|  NULL|808.0952343002039|837.5216958266615|      NULL|             NULL|  NULL|0.9419169064180203|52207.61591500532|  NULL|    NULL|                NULL| 9454.406009485154|9526.952865942303|                NULL|        NULL|\n",
      "|    min|              1990| acura|         1 series|                !|access cab|137za84341e193591|    ab|               1.0|                1| beige|   beige|\"enterprise vehic...|                25|                1|Fri Apr 03 2015 0...|   automatic|\n",
      "|    25%|              2008|  NULL|            200.0|              2.5|      NULL|             NULL|  NULL|               2.7|            28322|  NULL|    NULL|                NULL|              7400|             7200|                NULL|        NULL|\n",
      "|    50%|              2012|  NULL|            300.0|              2.5|      NULL|             NULL|  NULL|               3.6|            51252|  NULL|    NULL|                NULL|             12300|            12200|                NULL|        NULL|\n",
      "|    75%|              2013|  NULL|           1500.0|              3.5|      NULL|             NULL|  NULL|               4.2|            96761|  NULL|    NULL|                NULL|             18200|            18100|                NULL|        NULL|\n",
      "|    max|              2015| volvo|           zephyr|        xDrive50i|   xtracab|zhwgu22t97la05738|    wi|               5.0|           999999|yellow|  yellow|      zygi auto corp|            182000|           230000|Wed May 27 2015 1...|      manual|\n",
      "+-------+------------------+------+-----------------+-----------------+----------+-----------------+------+------------------+-----------------+------+--------+--------------------+------------------+-----------------+--------------------+------------+\n",
      "\n"
     ]
    }
   ],
   "source": [
    "df.summary().show()"
   ]
  },
  {
   "cell_type": "code",
   "execution_count": 25,
   "id": "be59f90c",
   "metadata": {},
   "outputs": [
    {
     "name": "stdout",
     "output_type": "stream",
     "text": [
      "+-----------+------+\n",
      "|  body_type| count|\n",
      "+-----------+------+\n",
      "|      sedan|248760|\n",
      "|        suv|143844|\n",
      "|        cab| 47540|\n",
      "|  hatchback| 26237|\n",
      "|    minivan| 25529|\n",
      "|      coupe| 19983|\n",
      "|      wagon| 16180|\n",
      "|       NULL| 13221|\n",
      "|convertible| 10933|\n",
      "|        van|  6430|\n",
      "|       koup|   180|\n",
      "+-----------+------+\n",
      "\n"
     ]
    }
   ],
   "source": [
    "# Body Type Categorization\n",
    "df = df.withColumn(\n",
    "    \"body_type\",\n",
    "     when(col(\"body\").like(\"%cab%\"), \"cab\")\n",
    "    .when(col(\"body\").like(\"%suv%\"), \"suv\")\n",
    "    .when(col(\"body\").like(\"%sedan%\"), \"sedan\")\n",
    "    .when(col(\"body\").like(\"%hatchback%\"), \"hatchback\")\n",
    "    .when(col(\"body\") == \"minivan\", \"minivan\")\n",
    "    .when(col(\"body\").like(\"%van%\"), \"van\")\n",
    "    .when(col(\"body\") == \"supercrew\", \"cab\")\n",
    "    .when(col(\"body\").like(\"%coupe%\"), \"coupe\")\n",
    "    .when(col(\"body\").like(\"%wagon%\"), \"wagon\")\n",
    "    .when(col(\"body\").like(\"%convertible%\"), \"convertible\")\n",
    "    .when(col(\"body\").like(\"%koup%\"), \"koup\")\n",
    ")\n",
    "df.groupBy(\"body_type\").count().sort(desc(\"count\")).show()"
   ]
  },
  {
   "cell_type": "markdown",
   "id": "c71455e0",
   "metadata": {},
   "source": [
    "## EDA"
   ]
  },
  {
   "cell_type": "code",
   "execution_count": 42,
   "id": "c8816b52",
   "metadata": {},
   "outputs": [
    {
     "name": "stdout",
     "output_type": "stream",
     "text": [
      "root\n",
      " |-- year: integer (nullable = true)\n",
      " |-- make: string (nullable = true)\n",
      " |-- model: string (nullable = true)\n",
      " |-- trim: string (nullable = true)\n",
      " |-- body: string (nullable = true)\n",
      " |-- vin: string (nullable = true)\n",
      " |-- state: string (nullable = true)\n",
      " |-- condition: double (nullable = true)\n",
      " |-- odometer: integer (nullable = true)\n",
      " |-- color: string (nullable = true)\n",
      " |-- interior: string (nullable = true)\n",
      " |-- seller: string (nullable = true)\n",
      " |-- mmr: integer (nullable = true)\n",
      " |-- sellingprice: integer (nullable = true)\n",
      " |-- saledate: string (nullable = true)\n",
      " |-- transmission: string (nullable = true)\n",
      "\n"
     ]
    }
   ],
   "source": [
    "df.printSchema()"
   ]
  },
  {
   "cell_type": "code",
   "execution_count": 43,
   "id": "3984758f",
   "metadata": {},
   "outputs": [
    {
     "name": "stdout",
     "output_type": "stream",
     "text": [
      "+------------+--------+\n",
      "|transmission| avg_mmr|\n",
      "+------------+--------+\n",
      "|   automatic|13918.45|\n",
      "|      manual|11679.29|\n",
      "+------------+--------+\n",
      "\n"
     ]
    }
   ],
   "source": [
    "# Harga rata-rata per transmission\n",
    "df.groupBy('transmission').agg(round(avg('mmr'), 2).alias('avg_mmr')).show()"
   ]
  },
  {
   "cell_type": "code",
   "execution_count": 29,
   "id": "48cd0ff5",
   "metadata": {},
   "outputs": [
    {
     "name": "stdout",
     "output_type": "stream",
     "text": [
      "+-----------+--------+\n",
      "|  body_type| avg_mmr|\n",
      "+-----------+--------+\n",
      "|        van|15230.75|\n",
      "|      wagon| 9993.74|\n",
      "|    minivan|11456.85|\n",
      "|      coupe|16239.33|\n",
      "|        suv|16103.16|\n",
      "|convertible|17669.69|\n",
      "|       koup| 9768.79|\n",
      "|      sedan|11859.07|\n",
      "|  hatchback| 10092.7|\n",
      "|        cab|18153.23|\n",
      "+-----------+--------+\n",
      "\n"
     ]
    }
   ],
   "source": [
    "# Harga rata-rata per body_type\n",
    "df.groupBy('body_type').agg(round(avg('mmr'), 2).alias('avg_mmr')).show()"
   ]
  },
  {
   "cell_type": "code",
   "execution_count": 42,
   "id": "2fe22dee",
   "metadata": {},
   "outputs": [
    {
     "name": "stdout",
     "output_type": "stream",
     "text": [
      "+------------+--------------------+\n",
      "|transmission|avg_price_difference|\n",
      "+------------+--------------------+\n",
      "|   automatic|              141.21|\n",
      "|      manual|              278.43|\n",
      "+------------+--------------------+\n",
      "\n"
     ]
    }
   ],
   "source": [
    "# Selisih harga mmr dan selling price per transmission\n",
    "df.groupBy('transmission').agg(round(avg(col('mmr') - col('sellingprice')),2).alias('avg_price_difference')).show()"
   ]
  },
  {
   "cell_type": "code",
   "execution_count": null,
   "id": "c1072f49",
   "metadata": {},
   "outputs": [],
   "source": [
    "# Harga rata-rata per transmission\n",
    "df.groupBy('transmission').agg(round(avg('mmr'), 2).alias('avg_mmr')).show()"
   ]
  },
  {
   "cell_type": "code",
   "execution_count": null,
   "id": "25c29894",
   "metadata": {},
   "outputs": [],
   "source": [
    "# Jumlah mobil berdasarkan tahun"
   ]
  },
  {
   "cell_type": "code",
   "execution_count": 57,
   "id": "8a0fb42b",
   "metadata": {},
   "outputs": [
    {
     "name": "stdout",
     "output_type": "stream",
     "text": [
      "+----+-----+\n",
      "|year|count|\n",
      "+----+-----+\n",
      "|1990|   30|\n",
      "|1991|   46|\n",
      "|1992|   87|\n",
      "|1993|  115|\n",
      "|1994|  257|\n",
      "|1995|  440|\n",
      "|1996|  530|\n",
      "|1997|  967|\n",
      "|1998| 1379|\n",
      "|1999| 2097|\n",
      "|2000| 3229|\n",
      "|2001| 4924|\n",
      "|2002| 7325|\n",
      "|2003| 9980|\n",
      "|2004|13063|\n",
      "|2005|16510|\n",
      "|2006|20823|\n",
      "|2007|24554|\n",
      "|2008|26091|\n",
      "|2009|17312|\n",
      "|2010|21655|\n",
      "|2011|38596|\n",
      "|2012|79779|\n",
      "|2013|80574|\n",
      "|2014|62626|\n",
      "|2015| 7414|\n",
      "+----+-----+\n",
      "\n"
     ]
    }
   ],
   "source": [
    "df.select('year').groupBy('year').count().sort('year').show(26)"
   ]
  },
  {
   "cell_type": "code",
   "execution_count": 43,
   "id": "ab877ff8",
   "metadata": {},
   "outputs": [],
   "source": [
    "import seaborn as sns\n",
    "import matplotlib.pyplot as plt\n",
    "import matplotlib.patches as mpatches"
   ]
  },
  {
   "cell_type": "code",
   "execution_count": 149,
   "id": "c59d4a94",
   "metadata": {},
   "outputs": [
    {
     "data": {
      "image/png": "[encoded data removed]",
      "text/plain": [
       "<Figure size 800x600 with 1 Axes>"
      ]
     },
     "metadata": {},
     "output_type": "display_data"
    }
   ],
   "source": [
    "df_pd = df.select('year').toPandas()\n",
    "plt.figure(figsize=(8, 6))\n",
    "sns.histplot(data=df_pd, x='year', bins=26)\n",
    "plt.title('Year Distribution')\n",
    "plt.xlabel('Year')\n",
    "plt.ylabel('Frequency')\n",
    "\n",
    "plt.show()"
   ]
  },
  {
   "cell_type": "code",
   "execution_count": 141,
   "id": "cee064ee",
   "metadata": {},
   "outputs": [],
   "source": [
    "df_2 = df.withColumn('saledate_clean', regexp_replace(col('saledate'), ' GMT.*', ''))"
   ]
  },
  {
   "cell_type": "code",
   "execution_count": 142,
   "id": "93d512a5",
   "metadata": {},
   "outputs": [],
   "source": [
    "# Convert the cleaned date string to a timestamp and then to a date\n",
    "df_2 = df_2.withColumn('saledate_clean', from_unixtime(unix_timestamp(col('saledate_clean'), 'EEE MMM dd yyyy HH:mm:ss')))\n",
    "\n",
    "# Calculate vehicle_age\n",
    "df_2 = df_2.withColumn('vehicle_age', year(col('saledate_clean')) - col('year'))"
   ]
  },
  {
   "cell_type": "code",
   "execution_count": 138,
   "id": "d66f1d26",
   "metadata": {},
   "outputs": [
    {
     "data": {
      "text/plain": [
       "148"
      ]
     },
     "execution_count": 138,
     "metadata": {},
     "output_type": "execute_result"
    }
   ],
   "source": [
    "df_2.select('year', 'saledate_clean').where(col('year') > year(col('saledate_clean'))).count()"
   ]
  },
  {
   "cell_type": "code",
   "execution_count": 143,
   "id": "d4f1e5de",
   "metadata": {},
   "outputs": [],
   "source": [
    "# Set the legacy time parser policy on the existing Spark session\n",
    "spark.conf.set(\"spark.sql.legacy.timeParserPolicy\", \"LEGACY\")"
   ]
  },
  {
   "cell_type": "code",
   "execution_count": 146,
   "id": "f0db0eb0",
   "metadata": {},
   "outputs": [],
   "source": [
    "df = df_2.filter(col('year') <= year(col('saledate_clean')))"
   ]
  },
  {
   "cell_type": "code",
   "execution_count": 147,
   "id": "82e35d3f",
   "metadata": {},
   "outputs": [
    {
     "name": "stdout",
     "output_type": "stream",
     "text": [
      "+----+--------------------+-----------+\n",
      "|year|year(saledate_clean)|vehicle_age|\n",
      "+----+--------------------+-----------+\n",
      "|1990|                2015|         25|\n",
      "|1990|                2014|         24|\n",
      "|1990|                2014|         24|\n",
      "|1990|                2015|         25|\n",
      "|1990|                2015|         25|\n",
      "|1990|                2015|         25|\n",
      "|1990|                2015|         25|\n",
      "|1990|                2015|         25|\n",
      "|1990|                2015|         25|\n",
      "|1990|                2015|         25|\n",
      "|1990|                2014|         24|\n",
      "|1990|                2015|         25|\n",
      "|1990|                2015|         25|\n",
      "|1990|                2015|         25|\n",
      "|1990|                2015|         25|\n",
      "|1990|                2015|         25|\n",
      "|1990|                2015|         25|\n",
      "|1990|                2015|         25|\n",
      "|1990|                2015|         25|\n",
      "|1990|                2015|         25|\n",
      "+----+--------------------+-----------+\n",
      "only showing top 20 rows\n",
      "\n"
     ]
    }
   ],
   "source": [
    "df.select(['year', year(col('saledate_clean')), 'vehicle_age']).sort('year').show()"
   ]
  },
  {
   "cell_type": "code",
   "execution_count": 150,
   "id": "8b9b4596",
   "metadata": {},
   "outputs": [
    {
     "name": "stdout",
     "output_type": "stream",
     "text": [
      "+----+------------------+\n",
      "|year|   avg_vehicle_age|\n",
      "+----+------------------+\n",
      "|1990|              24.9|\n",
      "|1991|23.869565217391305|\n",
      "|1992|22.816091954022987|\n",
      "|1993|21.904347826086955|\n",
      "|1994|20.894941634241246|\n",
      "|1995| 19.87272727272727|\n",
      "|1996| 18.88867924528302|\n",
      "|1997|17.890382626680456|\n",
      "|1998|  16.9108049311095|\n",
      "|1999|15.901287553648068|\n",
      "|2000|14.906472592133788|\n",
      "|2001|13.908813972380178|\n",
      "|2002|12.900750853242322|\n",
      "|2003| 11.90941883767535|\n",
      "|2004|10.907218862435888|\n",
      "|2005| 9.910054512416718|\n",
      "|2006| 8.907602170676656|\n",
      "|2007| 7.909709212348294|\n",
      "|2008| 6.912421907937603|\n",
      "|2009| 5.907116451016636|\n",
      "+----+------------------+\n",
      "only showing top 20 rows\n",
      "\n"
     ]
    }
   ],
   "source": [
    "df.groupBy('year').agg(avg('vehicle_age').alias('avg_vehicle_age')).sort('year').show()"
   ]
  },
  {
   "cell_type": "markdown",
   "id": "1a8868b6",
   "metadata": {},
   "source": [
    "## Correlation Matrix"
   ]
  },
  {
   "cell_type": "code",
   "execution_count": 225,
   "id": "93f263a0",
   "metadata": {},
   "outputs": [
    {
     "name": "stdout",
     "output_type": "stream",
     "text": [
      "root\n",
      " |-- year: integer (nullable = true)\n",
      " |-- make: string (nullable = true)\n",
      " |-- model: string (nullable = true)\n",
      " |-- trim: string (nullable = true)\n",
      " |-- body: string (nullable = true)\n",
      " |-- transmission: string (nullable = true)\n",
      " |-- vin: string (nullable = true)\n",
      " |-- state: string (nullable = true)\n",
      " |-- condition: double (nullable = true)\n",
      " |-- odometer: integer (nullable = true)\n",
      " |-- color: string (nullable = true)\n",
      " |-- interior: string (nullable = true)\n",
      " |-- seller: string (nullable = true)\n",
      " |-- mmr: integer (nullable = true)\n",
      " |-- sellingprice: integer (nullable = true)\n",
      " |-- saledate: string (nullable = true)\n",
      " |-- body_type: string (nullable = true)\n",
      " |-- saledate_clean: string (nullable = true)\n",
      " |-- vehicle_age: integer (nullable = true)\n",
      "\n"
     ]
    }
   ],
   "source": [
    "df.printSchema()"
   ]
  },
  {
   "cell_type": "code",
   "execution_count": 44,
   "id": "8b9b352d",
   "metadata": {},
   "outputs": [],
   "source": [
    "from pyspark.sql.types import *\n",
    "from pyspark.ml.feature import StringIndexer\n",
    "from pyspark.ml.feature import VectorAssembler\n",
    "from pyspark.ml.feature import VectorIndexer\n",
    "from pyspark.ml import Pipeline"
   ]
  },
  {
   "cell_type": "code",
   "execution_count": 161,
   "id": "29be8689",
   "metadata": {},
   "outputs": [
    {
     "name": "stderr",
     "output_type": "stream",
     "text": [
      "[Stage 582:============================>                            (4 + 4) / 8]\r"
     ]
    },
    {
     "name": "stdout",
     "output_type": "stream",
     "text": [
      "+----+-------------+---------------+---------------+---------+------------+-----------------+-----+---------+--------+--------+--------+--------------------+-----+------------+--------------------+---------+-------------------+-----------+--------+---------+----------------+---------+-------------+\n",
      "|year|         make|          model|           trim|     body|transmission|              vin|state|condition|odometer|   color|interior|              seller|  mmr|sellingprice|            saledate|body_type|     saledate_clean|vehicle_age|make_idx|model_idx|transmission_idx|color_idx|body_type_idx|\n",
      "+----+-------------+---------------+---------------+---------+------------+-----------------+-----+---------+--------+--------+--------+--------------------+-----+------------+--------------------+---------+-------------------+-----------+--------+---------+----------------+---------+-------------+\n",
      "|2013|    chevrolet|          cruze|            1LT|    sedan|   automatic|1g1pc5sb9d7167061|   va|      2.8| 29322.0|     red|    gray|fiserv/citizens a...|11200|       10200|Mon Dec 22 2014 0...|    sedan|2014-12-22 09:30:00|          1|     1.0|     16.0|             0.0|      5.0|          0.0|\n",
      "|2008|          gmc|         acadia|          SLT-2|      suv|   automatic|1gker33768j202809|   tx|      2.9| 97458.0|    gray|   black|ford motor credit...|12250|       11000|Tue Dec 23 2014 1...|      suv|2014-12-23 14:00:00|          6|    15.0|     68.0|             0.0|      3.0|          1.0|\n",
      "|2005|       nissan|         maxima|         3.5 SL|    sedan|   automatic|1n4ba41e25c827484|   va|      2.5|118589.0|    blue|   black|dt credit corpora...| 3700|        3800|Thu Jan 22 2015 0...|    sedan|2015-01-22 01:05:00|         10|     2.0|     19.0|             0.0|      4.0|          0.0|\n",
      "|2007|       hummer|             h3|           Base|      suv|   automatic|5gtdn13ex78160245|   fl|      3.9|107497.0|burgundy|   black|mercedes benz of ...|11400|       12700|Thu Dec 18 2014 1...|      suv|2014-12-18 16:20:00|          7|    35.0|    200.0|             0.0|      8.0|          1.0|\n",
      "|2004|      hyundai|         accent|             GL|    sedan|   automatic|kmhcg45c74u517860|   ca|      2.1| 85336.0|   green|   beige| aaero sweet company| 1225|        1800|Wed Dec 31 2014 1...|    sedan|2014-12-31 11:30:00|         10|     6.0|     64.0|             0.0|      7.0|          0.0|\n",
      "|2009|       toyota|         sienna|XLE 7-Passenger|  minivan|   automatic|5tdzk22c39s233823|   fl|      2.4| 79873.0|    gray|    gray|         palm toyota|12750|       10500|Wed Jan 07 2015 1...|  minivan|2015-01-07 16:15:00|          6|     3.0|     47.0|             0.0|      3.0|          4.0|\n",
      "|2013|        honda|        insight|             EX|hatchback|   automatic|jhmze2h78ds000083|   ca|      2.4| 31019.0|   white|    gray|ahfc/honda lease ...|13450|       11200|Thu Dec 18 2014 1...|hatchback|2014-12-18 12:00:00|          1|     5.0|    286.0|             0.0|      1.0|          3.0|\n",
      "|2012|          ram|           1500|            SLT| quad cab|   automatic|1c6rd7gp3cs292718|   md|      3.2| 26199.0|   black|   black|    chrysler capital|21600|       22600|Tue Dec 30 2014 0...|      cab|2014-12-30 09:30:00|          2|    23.0|     40.0|             0.0|      0.0|          2.0|\n",
      "|2010|        honda|        odyssey|             LX|  minivan|   automatic|5fnrl3h27ab080213|   ca|      2.7| 79116.0|   white|     tan|high bid trading ...| 9825|       12500|Wed Dec 17 2014 1...|  minivan|2014-12-17 12:15:00|          4|     5.0|     37.0|             0.0|      1.0|          4.0|\n",
      "|2014|         ford|          focus|             SE|hatchback|   automatic|1fadp3k27el150647|   ga|        2| 24432.0|  silver|   black|enterprise vehicl...|12500|        8700|Thu Jan 08 2015 1...|hatchback|2015-01-08 12:30:00|          1|     0.0|      6.0|             0.0|      2.0|          3.0|\n",
      "|2007|       saturn|           aura|             XE|    sedan|   automatic|1g8zs57n27f208351|   ca|      3.8|118943.0|   white|   beige|          valley kia| 3800|        3800|Thu Dec 18 2014 1...|    sedan|2014-12-18 12:00:00|          7|    27.0|    193.0|             0.0|      1.0|          0.0|\n",
      "|2011|mercedes-benz|        e-class|           E550|    sedan|   automatic|wddhf7cb8ba296721|   fl|      3.5| 43514.0|   white|   brown|mercedes-benz fin...|25600|       27600|Thu Dec 18 2014 0...|    sedan|2014-12-18 09:30:00|          3|    12.0|     41.0|             0.0|      1.0|          0.0|\n",
      "|2012|mercedes-benz|        m-class|  ML350 BlueTEC|      suv|   automatic|4jgda2eb1ca074994|   ca|      4.3| 45365.0|    gray|    gray| land rover san jose|35100|       35000|Tue Jan 06 2015 1...|      suv|2015-01-06 12:30:00|          3|    12.0|     82.0|             0.0|      3.0|          1.0|\n",
      "|2013|         ford|transit connect|  Cargo Van XLT|  minivan|   automatic|nm0ls7dn8dt148923|   tx|      4.7|  4551.0|   white|    gray|enterprise fleet ...|17200|       17000|Wed Dec 31 2014 1...|  minivan|2014-12-31 10:00:00|          1|     0.0|    167.0|             0.0|      1.0|          4.0|\n",
      "|2008|          gmc|       yukon xl|         Denali|      suv|   automatic|1gkfk66808j174939|   co|      2.5|103200.0|   black|   black|  dtg operations inc|16850|       17500|Wed Dec 31 2014 1...|      suv|2014-12-31 11:45:00|          6|    15.0|    100.0|             0.0|      0.0|          1.0|\n",
      "|2014|          ram|           1500|            SLT| quad cab|   automatic|1c6rr6gt8es416221|   ca|        2|  3658.0|    gray|    gray|enterprise vehicl...|22500|       15900|Tue Dec 30 2014 1...|      cab|2014-12-30 13:00:00|          0|    23.0|     40.0|             0.0|      3.0|          2.0|\n",
      "|2014|    chevrolet| impala limited|      LTZ Fleet|    sedan|   automatic|2g1wc5e38e1147124|   fl|        4| 14080.0|    gray|   beige|      gm remarketing|15000|       15000|Mon Jan 26 2015 0...|    sedan|2015-01-26 05:00:00|          1|     1.0|    105.0|             0.0|      3.0|          0.0|\n",
      "|2008|          bmw|       1 series|           135i|    coupe|      manual|wbauc73578vf23541|   fl|      3.7| 80489.0|    blue|    gray|summer enterprise...|11700|       13500|Tue Dec 30 2014 0...|    coupe|2014-12-30 09:30:00|          6|     7.0|    223.0|             1.0|      4.0|          5.0|\n",
      "|2014|        dodge|        avenger|             SE|    sedan|   automatic|1c3cdzab6en110572|   co|      4.3| 27444.0|     red|   beige|        gm financial|11100|       11900|Tue Dec 23 2014 1...|    sedan|2014-12-23 11:45:00|          0|     4.0|     27.0|             0.0|      5.0|          0.0|\n",
      "|2012|   volkswagen|             cc|          Sport|    sedan|   automatic|wvwmn7an1ce540261|   fl|      4.1| 22991.0|    blue|   beige|expert auto group...|14050|       14700|Thu Dec 18 2014 1...|    sedan|2014-12-18 10:25:00|          2|    14.0|    169.0|             0.0|      4.0|          0.0|\n",
      "+----+-------------+---------------+---------------+---------+------------+-----------------+-----+---------+--------+--------+--------+--------------------+-----+------------+--------------------+---------+-------------------+-----------+--------+---------+----------------+---------+-------------+\n",
      "only showing top 20 rows\n",
      "\n"
     ]
    },
    {
     "name": "stderr",
     "output_type": "stream",
     "text": [
      "\r",
      "                                                                                \r"
     ]
    }
   ],
   "source": [
    "indexers_cor = [StringIndexer(inputCol=col, outputCol=col+'_idx').fit(df) for col in [\"make\", \"model\", \"transmission\", \"color\", \"body_type\"]]\n",
    "pipeline = Pipeline(stages=indexers_cor)\n",
    "cor_df = pipeline.fit(df).transform(df)\n",
    "cor_df.show()"
   ]
  },
  {
   "cell_type": "code",
   "execution_count": 173,
   "id": "d3affa72",
   "metadata": {},
   "outputs": [
    {
     "name": "stderr",
     "output_type": "stream",
     "text": [
      "                                                                                \r"
     ]
    },
    {
     "data": {
      "image/png": "[encoded data removed]",
      "text/plain": [
       "<Figure size 1200x1000 with 2 Axes>"
      ]
     },
     "metadata": {},
     "output_type": "display_data"
    }
   ],
   "source": [
    "# Select relevant columns for correlation analysis\n",
    "cols = [ \"sellingprice\", \"mmr\", \"make_idx\", \"model_idx\", \"transmission_idx\", \"color_idx\", \"body_type_idx\", \"year\", \"condition\", \"odometer\", \"vehicle_age\"]\n",
    "\n",
    "# Generate the correlation matrix\n",
    "plt.figure(figsize=(12, 10))\n",
    "sns.set(font_scale=1.2)\n",
    "corr_matrix = cor_df.select(cols).toPandas().corr()\n",
    "heatmap = sns.heatmap(data=corr_matrix, cmap='coolwarm', annot=True, fmt=\".2f\", linewidths=.5)\n",
    "plt.title('Correlation Matrix')\n",
    "plt.show()"
   ]
  },
  {
   "cell_type": "markdown",
   "id": "36f68ecb",
   "metadata": {},
   "source": [
    "## Model-Making"
   ]
  },
  {
   "cell_type": "code",
   "execution_count": 243,
   "id": "b5df1d13",
   "metadata": {},
   "outputs": [
    {
     "name": "stdout",
     "output_type": "stream",
     "text": [
      "+----------+----------------+----+---------+------------+---------+--------+------+--------+-----+\n",
      "|      make|           model|year|body_type|transmission|condition|odometer| color|interior|  mmr|\n",
      "+----------+----------------+----+---------+------------+---------+--------+------+--------+-----+\n",
      "|      ford|          fusion|2012|    sedan|   automatic|      3.1|   86927|   red|   black| 8150|\n",
      "|    toyota|          sienna|2014|  minivan|   automatic|      4.4|   24913|  gray|    gray|21300|\n",
      "| chevrolet|             hhr|2008|    wagon|   automatic|      4.2|   66269|  gold|   black| 5800|\n",
      "|     honda|           civic|2012|    sedan|   automatic|      3.4|   35852|  blue|    gray|11050|\n",
      "|      ford|          fiesta|2011|    sedan|   automatic|      4.7|   52164|silver|   black| 7300|\n",
      "|    subaru|         outback|2006|    wagon|   automatic|      3.7|   31414| black|   black| 9575|\n",
      "|    nissan|           rogue|2012|      suv|   automatic|      4.1|   61656|  gray|   black|12350|\n",
      "|    nissan|          altima|2012|    sedan|   automatic|      2.9|   67416|silver|   black|10200|\n",
      "|       bmw|              x5|2004|      suv|   automatic|      3.7|  144154| black|   black| 4525|\n",
      "| chevrolet|  silverado 1500|2014|      cab|   automatic|      4.3|   14893| black|    gray|18950|\n",
      "|       bmw|        3 series|2005|    sedan|   automatic|      1.9|   99615| green|   black| 4975|\n",
      "|      ford|          fusion|2012|    sedan|   automatic|      3.1|   53677|silver|   black|11200|\n",
      "|  infiniti|         g coupe|2012|    coupe|   automatic|      4.8|   31667|  gray|   black|23100|\n",
      "|     dodge|         journey|2012|      suv|   automatic|      3.6|   62286| white|   black|11150|\n",
      "| chevrolet|silverado 2500hd|2014|      cab|   automatic|      3.0|   22859| white|    gray|35900|\n",
      "|mitsubishi|          galant|2001|    sedan|   automatic|      1.9|  166873| black|    gray|  475|\n",
      "|   hyundai|          sonata|2013|    sedan|   automatic|      2.1|   73667|  gray|    gray|10150|\n",
      "| chevrolet|           cruze|2014|    sedan|      manual|      4.2|    8150| black|   black|13150|\n",
      "|    jaguar|              xj|2012|    sedan|   automatic|      3.6|   40558|  gray|   brown|42200|\n",
      "|     honda|            cr-v|2000|      suv|   automatic|      2.5|  109453|  gold|   black| 2975|\n",
      "+----------+----------------+----+---------+------------+---------+--------+------+--------+-----+\n",
      "only showing top 20 rows\n",
      "\n"
     ]
    },
    {
     "name": "stderr",
     "output_type": "stream",
     "text": [
      "\r",
      "[Stage 1847:=====================>                                  (3 + 5) / 8]\r",
      "\r",
      "                                                                                \r"
     ]
    }
   ],
   "source": [
    "# Feature Selection\n",
    "features_df = df.select([\"make\", \"model\", \"year\", \"body_type\", \"transmission\", \"condition\", \"odometer\", \"color\", \"interior\", \"sellingprice\",\"mmr\"])\n",
    "features_df.show()"
   ]
  },
  {
   "cell_type": "code",
   "execution_count": 227,
   "id": "f60da0b4",
   "metadata": {},
   "outputs": [],
   "source": [
    "from pyspark.sql.types import *\n",
    "from pyspark.ml.feature import StringIndexer\n",
    "from pyspark.ml.feature import VectorAssembler\n",
    "from pyspark.ml.feature import VectorIndexer\n",
    "from pyspark.ml import Pipeline"
   ]
  },
  {
   "cell_type": "code",
   "execution_count": 244,
   "id": "d655b809",
   "metadata": {},
   "outputs": [
    {
     "name": "stdout",
     "output_type": "stream",
     "text": [
      "+----------+----------------+----+---------+------------+---------+--------+------+--------+-----+--------+-------------+\n",
      "|      make|           model|year|body_type|transmission|condition|odometer| color|interior|  mmr|make_idx|body_type_idx|\n",
      "+----------+----------------+----+---------+------------+---------+--------+------+--------+-----+--------+-------------+\n",
      "|      ford|          fusion|2012|    sedan|   automatic|      3.1|   86927|   red|   black| 8150|     0.0|          0.0|\n",
      "|    toyota|          sienna|2014|  minivan|   automatic|      4.4|   24913|  gray|    gray|21300|     3.0|          4.0|\n",
      "| chevrolet|             hhr|2008|    wagon|   automatic|      4.2|   66269|  gold|   black| 5800|     1.0|          6.0|\n",
      "|     honda|           civic|2012|    sedan|   automatic|      3.4|   35852|  blue|    gray|11050|     5.0|          0.0|\n",
      "|      ford|          fiesta|2011|    sedan|   automatic|      4.7|   52164|silver|   black| 7300|     0.0|          0.0|\n",
      "|    subaru|         outback|2006|    wagon|   automatic|      3.7|   31414| black|   black| 9575|    21.0|          6.0|\n",
      "|    nissan|           rogue|2012|      suv|   automatic|      4.1|   61656|  gray|   black|12350|     2.0|          1.0|\n",
      "|    nissan|          altima|2012|    sedan|   automatic|      2.9|   67416|silver|   black|10200|     2.0|          0.0|\n",
      "|       bmw|              x5|2004|      suv|   automatic|      3.7|  144154| black|   black| 4525|     7.0|          1.0|\n",
      "| chevrolet|  silverado 1500|2014|      cab|   automatic|      4.3|   14893| black|    gray|18950|     1.0|          2.0|\n",
      "|       bmw|        3 series|2005|    sedan|   automatic|      1.9|   99615| green|   black| 4975|     7.0|          0.0|\n",
      "|      ford|          fusion|2012|    sedan|   automatic|      3.1|   53677|silver|   black|11200|     0.0|          0.0|\n",
      "|  infiniti|         g coupe|2012|    coupe|   automatic|      4.8|   31667|  gray|   black|23100|    10.0|          5.0|\n",
      "|     dodge|         journey|2012|      suv|   automatic|      3.6|   62286| white|   black|11150|     4.0|          1.0|\n",
      "| chevrolet|silverado 2500hd|2014|      cab|   automatic|      3.0|   22859| white|    gray|35900|     1.0|          2.0|\n",
      "|mitsubishi|          galant|2001|    sedan|   automatic|      1.9|  166873| black|    gray|  475|    25.0|          0.0|\n",
      "|   hyundai|          sonata|2013|    sedan|   automatic|      2.1|   73667|  gray|    gray|10150|     6.0|          0.0|\n",
      "| chevrolet|           cruze|2014|    sedan|      manual|      4.2|    8150| black|   black|13150|     1.0|          0.0|\n",
      "|    jaguar|              xj|2012|    sedan|   automatic|      3.6|   40558|  gray|   brown|42200|    32.0|          0.0|\n",
      "|     honda|            cr-v|2000|      suv|   automatic|      2.5|  109453|  gold|   black| 2975|     5.0|          1.0|\n",
      "+----------+----------------+----+---------+------------+---------+--------+------+--------+-----+--------+-------------+\n",
      "only showing top 20 rows\n",
      "\n"
     ]
    },
    {
     "name": "stderr",
     "output_type": "stream",
     "text": [
      "\r",
      "[Stage 1862:=====================>                                  (3 + 5) / 8]\r",
      "\r",
      "                                                                                \r"
     ]
    }
   ],
   "source": [
    "indexers = [StringIndexer(inputCol=col, outputCol=col+'_idx').fit(features_df) for col in [\"make\", \"body_type\", \"model\"]]\n",
    "pipeline = Pipeline(stages=indexers)\n",
    "features_df = pipeline.fit(features_df).transform(features_df)\n",
    "features_df.show()\n",
    "#, \"transmission\", \"color\""
   ]
  },
  {
   "cell_type": "code",
   "execution_count": 245,
   "id": "d868742a",
   "metadata": {},
   "outputs": [
    {
     "name": "stdout",
     "output_type": "stream",
     "text": [
      "+----------+----------------+----+---------+------------+---------+--------+------+--------+-----+--------+-------------+---------------------+\n",
      "|make      |model           |year|body_type|transmission|condition|odometer|color |interior|mmr  |make_idx|body_type_idx|features             |\n",
      "+----------+----------------+----+---------+------------+---------+--------+------+--------+-----+--------+-------------+---------------------+\n",
      "|ford      |fusion          |2012|sedan    |automatic   |3.1      |86927   |red   |black   |8150 |0.0     |0.0          |[0.0,0.0,2012.0,3.1] |\n",
      "|toyota    |sienna          |2014|minivan  |automatic   |4.4      |24913   |gray  |gray    |21300|3.0     |4.0          |[3.0,4.0,2014.0,4.4] |\n",
      "|chevrolet |hhr             |2008|wagon    |automatic   |4.2      |66269   |gold  |black   |5800 |1.0     |6.0          |[1.0,6.0,2008.0,4.2] |\n",
      "|honda     |civic           |2012|sedan    |automatic   |3.4      |35852   |blue  |gray    |11050|5.0     |0.0          |[5.0,0.0,2012.0,3.4] |\n",
      "|ford      |fiesta          |2011|sedan    |automatic   |4.7      |52164   |silver|black   |7300 |0.0     |0.0          |[0.0,0.0,2011.0,4.7] |\n",
      "|subaru    |outback         |2006|wagon    |automatic   |3.7      |31414   |black |black   |9575 |21.0    |6.0          |[21.0,6.0,2006.0,3.7]|\n",
      "|nissan    |rogue           |2012|suv      |automatic   |4.1      |61656   |gray  |black   |12350|2.0     |1.0          |[2.0,1.0,2012.0,4.1] |\n",
      "|nissan    |altima          |2012|sedan    |automatic   |2.9      |67416   |silver|black   |10200|2.0     |0.0          |[2.0,0.0,2012.0,2.9] |\n",
      "|bmw       |x5              |2004|suv      |automatic   |3.7      |144154  |black |black   |4525 |7.0     |1.0          |[7.0,1.0,2004.0,3.7] |\n",
      "|chevrolet |silverado 1500  |2014|cab      |automatic   |4.3      |14893   |black |gray    |18950|1.0     |2.0          |[1.0,2.0,2014.0,4.3] |\n",
      "|bmw       |3 series        |2005|sedan    |automatic   |1.9      |99615   |green |black   |4975 |7.0     |0.0          |[7.0,0.0,2005.0,1.9] |\n",
      "|ford      |fusion          |2012|sedan    |automatic   |3.1      |53677   |silver|black   |11200|0.0     |0.0          |[0.0,0.0,2012.0,3.1] |\n",
      "|infiniti  |g coupe         |2012|coupe    |automatic   |4.8      |31667   |gray  |black   |23100|10.0    |5.0          |[10.0,5.0,2012.0,4.8]|\n",
      "|dodge     |journey         |2012|suv      |automatic   |3.6      |62286   |white |black   |11150|4.0     |1.0          |[4.0,1.0,2012.0,3.6] |\n",
      "|chevrolet |silverado 2500hd|2014|cab      |automatic   |3.0      |22859   |white |gray    |35900|1.0     |2.0          |[1.0,2.0,2014.0,3.0] |\n",
      "|mitsubishi|galant          |2001|sedan    |automatic   |1.9      |166873  |black |gray    |475  |25.0    |0.0          |[25.0,0.0,2001.0,1.9]|\n",
      "|hyundai   |sonata          |2013|sedan    |automatic   |2.1      |73667   |gray  |gray    |10150|6.0     |0.0          |[6.0,0.0,2013.0,2.1] |\n",
      "|chevrolet |cruze           |2014|sedan    |manual      |4.2      |8150    |black |black   |13150|1.0     |0.0          |[1.0,0.0,2014.0,4.2] |\n",
      "|jaguar    |xj              |2012|sedan    |automatic   |3.6      |40558   |gray  |brown   |42200|32.0    |0.0          |[32.0,0.0,2012.0,3.6]|\n",
      "|honda     |cr-v            |2000|suv      |automatic   |2.5      |109453  |gold  |black   |2975 |5.0     |1.0          |[5.0,1.0,2000.0,2.5] |\n",
      "+----------+----------------+----+---------+------------+---------+--------+------+--------+-----+--------+-------------+---------------------+\n",
      "only showing top 20 rows\n",
      "\n"
     ]
    }
   ],
   "source": [
    "assembler = VectorAssembler(\n",
    "    inputCols=[\"make_idx\", \"body_type_idx\", \"year\", \"condition\", \"model_idx\"],\n",
    "    outputCol=\"features\"\n",
    ")\n",
    "features_df = assembler.transform(features_df)\n",
    "features_df.show(truncate=False)\n",
    "#\"sellingprice_idx\", \"transmission_idx\", \"color_idx\""
   ]
  },
  {
   "cell_type": "code",
   "execution_count": 246,
   "id": "87fe1a05",
   "metadata": {},
   "outputs": [
    {
     "name": "stdout",
     "output_type": "stream",
     "text": [
      "+---------------------+-----+\n",
      "|features             |mmr  |\n",
      "+---------------------+-----+\n",
      "|[7.0,7.0,2012.0,4.2] |24200|\n",
      "|[5.0,1.0,2011.0,3.5] |20300|\n",
      "|[1.0,1.0,2008.0,2.8] |4275 |\n",
      "|[19.0,1.0,2012.0,3.8]|25700|\n",
      "|[1.0,0.0,2009.0,4.3] |6625 |\n",
      "|[10.0,0.0,2012.0,4.7]|21000|\n",
      "|[13.0,0.0,2008.0,3.4]|22400|\n",
      "|[3.0,0.0,2013.0,4.4] |11350|\n",
      "|[3.0,0.0,2010.0,2.1] |7150 |\n",
      "|[14.0,0.0,2006.0,2.8]|3800 |\n",
      "|[4.0,4.0,2014.0,3.0] |17250|\n",
      "|[4.0,1.0,2005.0,3.0] |4075 |\n",
      "|[5.0,4.0,2005.0,2.8] |4975 |\n",
      "|[2.0,0.0,2011.0,2.0] |9525 |\n",
      "|[2.0,0.0,2009.0,3.1] |4800 |\n",
      "|[15.0,1.0,2008.0,2.9]|14050|\n",
      "|[4.0,1.0,2004.0,1.9] |2125 |\n",
      "|[0.0,1.0,2013.0,4.8] |19500|\n",
      "|[10.0,0.0,2012.0,4.1]|28200|\n",
      "|[0.0,0.0,2007.0,2.4] |3625 |\n",
      "+---------------------+-----+\n",
      "only showing top 20 rows\n",
      "\n"
     ]
    },
    {
     "name": "stderr",
     "output_type": "stream",
     "text": [
      "\r",
      "[Stage 1868:==============>                                         (2 + 6) / 8]\r",
      "\r",
      "                                                                                \r"
     ]
    }
   ],
   "source": [
    "features_vector_df = features_df.select(['features','mmr'])\n",
    "features_vector_df = features_vector_df.withColumn('mmr', features_vector_df['mmr'].cast(IntegerType()))\n",
    "features_vector_df.show(truncate=False)"
   ]
  },
  {
   "cell_type": "code",
   "execution_count": 247,
   "id": "b1be608e",
   "metadata": {},
   "outputs": [],
   "source": [
    "(trainData, testData) = features_vector_df.randomSplit([0.83, 0.17], seed=42)"
   ]
  },
  {
   "cell_type": "code",
   "execution_count": 248,
   "id": "03dca6be",
   "metadata": {},
   "outputs": [
    {
     "name": "stdout",
     "output_type": "stream",
     "text": [
      "+--------------------+---+\n",
      "|            features|mmr|\n",
      "+--------------------+---+\n",
      "|[0.0,0.0,1996.0,1.0]|500|\n",
      "|[0.0,0.0,1996.0,1.0]|650|\n",
      "|[0.0,0.0,1996.0,2.0]|575|\n",
      "|[0.0,0.0,1996.0,2.0]|600|\n",
      "|[0.0,0.0,1997.0,1.0]|350|\n",
      "|[0.0,0.0,1997.0,1.9]|850|\n",
      "|[0.0,0.0,1997.0,2.0]|675|\n",
      "|[0.0,0.0,1997.0,2.4]|800|\n",
      "|[0.0,0.0,1997.0,2.6]|650|\n",
      "|[0.0,0.0,1997.0,2.7]|400|\n",
      "|[0.0,0.0,1998.0,1.9]|375|\n",
      "|[0.0,0.0,1998.0,1.9]|400|\n",
      "|[0.0,0.0,1998.0,1.9]|400|\n",
      "|[0.0,0.0,1998.0,2.0]|775|\n",
      "|[0.0,0.0,1998.0,2.7]|850|\n",
      "|[0.0,0.0,1999.0,1.0]|700|\n",
      "|[0.0,0.0,1999.0,1.0]|700|\n",
      "|[0.0,0.0,1999.0,1.0]|750|\n",
      "|[0.0,0.0,1999.0,1.9]|575|\n",
      "|[0.0,0.0,1999.0,1.9]|600|\n",
      "+--------------------+---+\n",
      "only showing top 20 rows\n",
      "\n"
     ]
    }
   ],
   "source": [
    "trainData.show()"
   ]
  },
  {
   "cell_type": "code",
   "execution_count": 182,
   "id": "435f1df8",
   "metadata": {},
   "outputs": [],
   "source": [
    "# Import classification models\n",
    "\n",
    "from pyspark.ml.regression import RandomForestRegressor, GBTRegressor, LinearRegression"
   ]
  },
  {
   "cell_type": "markdown",
   "id": "4dcffb20",
   "metadata": {},
   "source": [
    "### Random Forest"
   ]
  },
  {
   "cell_type": "code",
   "execution_count": 254,
   "id": "abfcd9a2",
   "metadata": {},
   "outputs": [
    {
     "name": "stderr",
     "output_type": "stream",
     "text": [
      "                                                                                \r"
     ]
    }
   ],
   "source": [
    "rf = RandomForestRegressor(labelCol=\"mmr\", featuresCol=\"features\", maxBins=761).fit(trainData)"
   ]
  },
  {
   "cell_type": "code",
   "execution_count": 255,
   "id": "1c840840",
   "metadata": {},
   "outputs": [
    {
     "name": "stderr",
     "output_type": "stream",
     "text": [
      "[Stage 1904:>                                                       (0 + 1) / 1]\r"
     ]
    },
    {
     "name": "stdout",
     "output_type": "stream",
     "text": [
      "+--------------------+----+------------------+\n",
      "|            features| mmr|        prediction|\n",
      "+--------------------+----+------------------+\n",
      "|[0.0,0.0,1996.0,2.0]| 475|2452.7270896570267|\n",
      "|[0.0,0.0,1997.0,1.7]| 575|2452.7270896570267|\n",
      "|[0.0,0.0,1997.0,2.0]| 600|2452.7270896570267|\n",
      "|[0.0,0.0,1997.0,2.8]| 375| 2956.218436159469|\n",
      "|[0.0,0.0,1998.0,2.8]| 650| 2956.218436159469|\n",
      "|[0.0,0.0,1999.0,1.9]| 450|2452.7270896570267|\n",
      "|[0.0,0.0,1999.0,3.1]| 775|3401.1134240433844|\n",
      "|[0.0,0.0,2000.0,1.9]|1050|2452.7270896570267|\n",
      "|[0.0,0.0,2000.0,2.0]| 650|2452.7270896570267|\n",
      "|[0.0,0.0,2000.0,2.0]|1100|2452.7270896570267|\n",
      "|[0.0,0.0,2000.0,2.0]|1500|2452.7270896570267|\n",
      "|[0.0,0.0,2000.0,2.5]| 375|2452.7270896570267|\n",
      "|[0.0,0.0,2000.0,3.8]|1175| 4253.009498145293|\n",
      "|[0.0,0.0,2001.0,1.9]| 800|2452.7270896570267|\n",
      "|[0.0,0.0,2001.0,2.0]| 800|2452.7270896570267|\n",
      "|[0.0,0.0,2002.0,1.0]| 725|2585.5071572717084|\n",
      "|[0.0,0.0,2002.0,1.9]|6275|2585.5071572717084|\n",
      "|[0.0,0.0,2002.0,2.1]| 725|2585.5071572717084|\n",
      "|[0.0,0.0,2002.0,2.1]|1025|2585.5071572717084|\n",
      "|[0.0,0.0,2002.0,2.5]|1450|2585.5071572717084|\n",
      "+--------------------+----+------------------+\n",
      "only showing top 20 rows\n",
      "\n"
     ]
    },
    {
     "name": "stderr",
     "output_type": "stream",
     "text": [
      "\r",
      "                                                                                \r"
     ]
    }
   ],
   "source": [
    "predictedDataRF = rf.transform(testData)\n",
    "predictedDataRF.show()"
   ]
  },
  {
   "cell_type": "markdown",
   "id": "b72cd235",
   "metadata": {},
   "source": [
    "### Linear Regression"
   ]
  },
  {
   "cell_type": "code",
   "execution_count": 238,
   "id": "4fff9d6d",
   "metadata": {},
   "outputs": [],
   "source": [
    "lr = LinearRegression(labelCol=\"mmr\", featuresCol=\"features\")"
   ]
  },
  {
   "cell_type": "code",
   "execution_count": 239,
   "id": "9040ee44",
   "metadata": {},
   "outputs": [
    {
     "name": "stderr",
     "output_type": "stream",
     "text": [
      "24/05/23 23:35:47 WARN Instrumentation: [f4161af3] regParam is zero, which might cause numerical instability and overfitting.\n",
      "                                                                                \r"
     ]
    },
    {
     "name": "stdout",
     "output_type": "stream",
     "text": [
      "+--------------------+----+-------------------+\n",
      "|            features| mmr|         prediction|\n",
      "+--------------------+----+-------------------+\n",
      "|[0.0,1.0,2.0,1997...|1050|  -8388.49006060278|\n",
      "|[0.0,1.0,2.0,1997...|2400|  -8388.49006060278|\n",
      "|[0.0,1.0,2.0,1997...|1475| -8181.722684533335|\n",
      "|[0.0,1.0,2.0,1998...|1150| -8939.722815691493|\n",
      "|[0.0,1.0,2.0,1998...|1875| -7078.816431066487|\n",
      "|[0.0,1.0,2.0,1999...|2075| -5769.142801529728|\n",
      "|[0.0,1.0,2.0,2000...|1850| -2598.562787368428|\n",
      "|[0.0,1.0,2.0,2001...|4000|-3149.7955424566753|\n",
      "|[0.0,1.0,2.0,2001...|4100|-3149.7955424566753|\n",
      "|[0.0,1.0,2.0,2001...|2875|  -2943.02816638723|\n",
      "|[0.0,1.0,2.0,2001...|4275|  -2943.02816638723|\n",
      "|[0.0,1.0,2.0,2001...|3475|-1702.4239099705592|\n",
      "|[0.0,1.0,2.0,2002...|2300|-3701.0282975453883|\n",
      "|[0.0,1.0,2.0,2002...|2525|-1840.1219129203819|\n",
      "|[0.0,1.0,2.0,2002...|2650|-1633.3545368509367|\n",
      "|[0.0,1.0,2.0,2003...|3450| -530.4482833836228|\n",
      "|[0.0,1.0,2.0,2003...|4200|  89.85384482471272|\n",
      "|[0.0,1.0,2.0,2003...|7775|  296.6212208941579|\n",
      "|[0.0,1.0,2.0,2003...|8875|  296.6212208941579|\n",
      "|[0.0,1.0,2.0,2003...|2750| 1330.4581012413837|\n",
      "+--------------------+----+-------------------+\n",
      "only showing top 20 rows\n",
      "\n"
     ]
    }
   ],
   "source": [
    "# Fit the LinearRegression model to the training data\n",
    "lrModel = lr.fit(trainData)\n",
    "\n",
    "# Use the trained model to make predictions on the test data\n",
    "predictedDataLR = lrModel.transform(testData)\n",
    "\n",
    "# Show the predicted data\n",
    "predictedDataLR.show()"
   ]
  },
  {
   "cell_type": "markdown",
   "id": "ed4cba60",
   "metadata": {},
   "source": [
    "### Gradient Boosted"
   ]
  },
  {
   "cell_type": "code",
   "execution_count": 256,
   "id": "e9efbd67",
   "metadata": {},
   "outputs": [],
   "source": [
    "gbt = GBTRegressor(labelCol=\"mmr\", featuresCol=\"features\", maxBins = 60)"
   ]
  },
  {
   "cell_type": "code",
   "execution_count": 257,
   "id": "3d362889",
   "metadata": {},
   "outputs": [
    {
     "name": "stderr",
     "output_type": "stream",
     "text": [
      "                                                                                \r"
     ]
    },
    {
     "name": "stdout",
     "output_type": "stream",
     "text": [
      "+--------------------+----+------------------+\n",
      "|            features| mmr|        prediction|\n",
      "+--------------------+----+------------------+\n",
      "|[0.0,0.0,1996.0,2.0]| 475|  732.991696439143|\n",
      "|[0.0,0.0,1997.0,1.7]| 575|  732.991696439143|\n",
      "|[0.0,0.0,1997.0,2.0]| 600|  732.991696439143|\n",
      "|[0.0,0.0,1997.0,2.8]| 375| 1067.655733620657|\n",
      "|[0.0,0.0,1998.0,2.8]| 650| 1067.655733620657|\n",
      "|[0.0,0.0,1999.0,1.9]| 450| 956.5840226142152|\n",
      "|[0.0,0.0,1999.0,3.1]| 775|1470.4757644780334|\n",
      "|[0.0,0.0,2000.0,1.9]|1050|1078.7264770768213|\n",
      "|[0.0,0.0,2000.0,2.0]| 650|1078.7264770768213|\n",
      "|[0.0,0.0,2000.0,2.0]|1100|1078.7264770768213|\n",
      "|[0.0,0.0,2000.0,2.0]|1500|1078.7264770768213|\n",
      "|[0.0,0.0,2000.0,2.5]| 375|1126.3941036340664|\n",
      "|[0.0,0.0,2000.0,3.8]|1175|1899.0523753395898|\n",
      "|[0.0,0.0,2001.0,1.9]| 800| 1252.107958904391|\n",
      "|[0.0,0.0,2001.0,2.0]| 800| 1252.107958904391|\n",
      "|[0.0,0.0,2002.0,1.0]| 725|1559.4482241833864|\n",
      "|[0.0,0.0,2002.0,1.9]|6275|1559.4482241833864|\n",
      "|[0.0,0.0,2002.0,2.1]| 725|1607.1158507406312|\n",
      "|[0.0,0.0,2002.0,2.1]|1025|1607.1158507406312|\n",
      "|[0.0,0.0,2002.0,2.5]|1450|1607.1158507406312|\n",
      "+--------------------+----+------------------+\n",
      "only showing top 20 rows\n",
      "\n"
     ]
    }
   ],
   "source": [
    "# Fit the LinearRegression model to the training data\n",
    "gbtModel = gbt.fit(trainData)\n",
    "\n",
    "# Use the trained model to make predictions on the test data\n",
    "predictedDataGBT = gbtModel.transform(testData)\n",
    "\n",
    "# Show the predicted data\n",
    "predictedDataGBT.show()"
   ]
  },
  {
   "cell_type": "markdown",
   "id": "c7a02e3f",
   "metadata": {},
   "source": [
    "## Model Evaluation"
   ]
  },
  {
   "cell_type": "code",
   "execution_count": 198,
   "id": "0557f0ae",
   "metadata": {},
   "outputs": [],
   "source": [
    "# Import evaluation models\n",
    "\n",
    "from pyspark.ml.evaluation import RegressionEvaluator\n",
    "from pyspark.mllib.evaluation import MulticlassMetrics\n"
   ]
  },
  {
   "cell_type": "markdown",
   "id": "569b6058",
   "metadata": {},
   "source": [
    "### Random Forest"
   ]
  },
  {
   "cell_type": "code",
   "execution_count": 258,
   "id": "7f3299f7",
   "metadata": {},
   "outputs": [
    {
     "name": "stderr",
     "output_type": "stream",
     "text": [
      "\r",
      "[Stage 2219:==============>                                         (1 + 3) / 4]\r",
      "\r",
      "                                                                                \r"
     ]
    },
    {
     "name": "stdout",
     "output_type": "stream",
     "text": [
      "Root Mean Squared Error (RMSE) 5058.197210360737\n",
      "Mean Squared Error (MSE) 25585359.01890114\n",
      "R-squared (R²) 0.711080482132586\n"
     ]
    }
   ],
   "source": [
    "evaluator1 = RegressionEvaluator(\n",
    "    labelCol=\"mmr\", predictionCol=\"prediction\", metricName=\"rmse\")\n",
    "evaluator2 = RegressionEvaluator(\n",
    "    labelCol=\"mmr\", predictionCol=\"prediction\", metricName=\"mse\")\n",
    "evaluator3 = RegressionEvaluator(\n",
    "    labelCol=\"mmr\", predictionCol=\"prediction\", metricName=\"r2\")\n",
    "rmse = evaluator1.evaluate(predictedDataRF)\n",
    "mse = evaluator2.evaluate(predictedDataRF)\n",
    "r2 = evaluator3.evaluate(predictedDataRF)\n",
    "print(\"Root Mean Squared Error (RMSE)\", rmse)\n",
    "print(\"Mean Squared Error (MSE)\", mse)\n",
    "print(\"R-squared (R²)\", r2)"
   ]
  },
  {
   "cell_type": "code",
   "execution_count": 259,
   "id": "a12310c5",
   "metadata": {},
   "outputs": [
    {
     "name": "stdout",
     "output_type": "stream",
     "text": [
      "Mean Absolute Percentage Error (MAPE) on test data = 38.90868814537291%\n"
     ]
    }
   ],
   "source": [
    "predictions = predictedDataRF.withColumn(\"ape\", abs((col(\"mmr\") - col(\"prediction\")) / col(\"mmr\")))\n",
    "mape = predictions.select(mean(col(\"ape\"))).collect()[0][0] * 100\n",
    "\n",
    "print(f\"Mean Absolute Percentage Error (MAPE) on test data = {mape}%\")"
   ]
  },
  {
   "cell_type": "markdown",
   "id": "3997c8dc",
   "metadata": {},
   "source": [
    "### Linear Regression"
   ]
  },
  {
   "cell_type": "code",
   "execution_count": 240,
   "id": "101c5882",
   "metadata": {},
   "outputs": [
    {
     "name": "stderr",
     "output_type": "stream",
     "text": [
      "\r",
      "[Stage 1834:>                                                       (0 + 4) / 4]\r",
      "\r",
      "                                                                                \r"
     ]
    },
    {
     "name": "stdout",
     "output_type": "stream",
     "text": [
      "Root Mean Squared Error (RMSE) 7032.623407311401\n",
      "Mean Squared Error (MSE) 49457791.98906422\n",
      "R-squared (R²) 0.4353174422038686\n"
     ]
    }
   ],
   "source": [
    "evaluator1 = RegressionEvaluator(\n",
    "    labelCol=\"mmr\", predictionCol=\"prediction\", metricName=\"rmse\")\n",
    "evaluator2 = RegressionEvaluator(\n",
    "    labelCol=\"mmr\", predictionCol=\"prediction\", metricName=\"mse\")\n",
    "evaluator3 = RegressionEvaluator(\n",
    "    labelCol=\"mmr\", predictionCol=\"prediction\", metricName=\"r2\")\n",
    "rmse = evaluator1.evaluate(predictedDataLR)\n",
    "mse = evaluator2.evaluate(predictedDataLR)\n",
    "r2 = evaluator3.evaluate(predictedDataLR)\n",
    "print(\"Root Mean Squared Error (RMSE)\", rmse)\n",
    "print(\"Mean Squared Error (MSE)\", mse)\n",
    "print(\"R-squared (R²)\", r2)"
   ]
  },
  {
   "cell_type": "code",
   "execution_count": 241,
   "id": "7659fbbe",
   "metadata": {},
   "outputs": [
    {
     "name": "stderr",
     "output_type": "stream",
     "text": [
      "\r",
      "[Stage 1841:===================================>                    (5 + 3) / 8]\r"
     ]
    },
    {
     "name": "stdout",
     "output_type": "stream",
     "text": [
      "Mean Absolute Percentage Error (MAPE) on test data = 66.41334733512191%\n"
     ]
    },
    {
     "name": "stderr",
     "output_type": "stream",
     "text": [
      "\r",
      "                                                                                \r"
     ]
    }
   ],
   "source": [
    "predictions = predictedDataLR.withColumn(\"ape\", abs((col(\"mmr\") - col(\"prediction\")) / col(\"mmr\")))\n",
    "mape = predictions.select(mean(col(\"ape\"))).collect()[0][0] * 100\n",
    "\n",
    "print(f\"Mean Absolute Percentage Error (MAPE) on test data = {mape}%\")"
   ]
  },
  {
   "cell_type": "markdown",
   "id": "4702ffa2",
   "metadata": {},
   "source": [
    "### Gradient Boosted"
   ]
  },
  {
   "cell_type": "code",
   "execution_count": 260,
   "id": "0f290047",
   "metadata": {},
   "outputs": [
    {
     "name": "stdout",
     "output_type": "stream",
     "text": [
      "Root Mean Squared Error (RMSE) 4487.275016381302\n",
      "Mean Squared Error (MSE) 20135637.07263981\n",
      "R-squared (R²) 0.7726207964999593\n"
     ]
    }
   ],
   "source": [
    "evaluator1 = RegressionEvaluator(\n",
    "    labelCol=\"mmr\", predictionCol=\"prediction\", metricName=\"rmse\")\n",
    "evaluator2 = RegressionEvaluator(\n",
    "    labelCol=\"mmr\", predictionCol=\"prediction\", metricName=\"mse\")\n",
    "evaluator3 = RegressionEvaluator(\n",
    "    labelCol=\"mmr\", predictionCol=\"prediction\", metricName=\"r2\")\n",
    "rmse = evaluator1.evaluate(predictedDataGBT)\n",
    "mse = evaluator2.evaluate(predictedDataGBT)\n",
    "r2 = evaluator3.evaluate(predictedDataGBT)\n",
    "print(\"Root Mean Squared Error (RMSE)\", rmse)\n",
    "print(\"Mean Squared Error (MSE)\", mse)\n",
    "print(\"R-squared (R²)\", r2)"
   ]
  },
  {
   "cell_type": "code",
   "execution_count": 261,
   "id": "fcef9ded",
   "metadata": {},
   "outputs": [
    {
     "name": "stdout",
     "output_type": "stream",
     "text": [
      "Mean Absolute Percentage Error (MAPE) on test data = 28.664560693914527%\n"
     ]
    }
   ],
   "source": [
    "predictions = predictedDataGBT.withColumn(\"ape\", abs((col(\"mmr\") - col(\"prediction\")) / col(\"mmr\")))\n",
    "mape = predictions.select(mean(col(\"ape\"))).collect()[0][0] * 100\n",
    "\n",
    "print(f\"Mean Absolute Percentage Error (MAPE) on test data = {mape}%\")"
   ]
  }
 ],
 "metadata": {
  "kernelspec": {
   "display_name": "Python 3 (ipykernel)",
   "language": "python",
   "name": "python3"
  },
  "language_info": {
   "codemirror_mode": {
    "name": "ipython",
    "version": 3
   },
   "file_extension": ".py",
   "mimetype": "text/x-python",
   "name": "python",
   "nbconvert_exporter": "python",
   "pygments_lexer": "ipython3",
   "version": "3.11.7"
  }
 },
 "nbformat": 4,
 "nbformat_minor": 5
}
