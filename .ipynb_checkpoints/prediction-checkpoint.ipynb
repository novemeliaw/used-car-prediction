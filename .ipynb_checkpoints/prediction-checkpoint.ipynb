{
 "cells": [
  {
   "cell_type": "code",
   "execution_count": 1,
   "id": "c38f2872-9d7f-4625-9781-58e899309def",
   "metadata": {},
   "outputs": [],
   "source": [
    "from pyspark.sql import SparkSession\n",
    "\n",
    "spark = (SparkSession.builder\n",
    "         .appName('Used Car Prediction')\n",
    "         .master('local[*]')\n",
    "         .getOrCreate()\n",
    "        )"
   ]
  },
  {
   "cell_type": "code",
   "execution_count": 2,
   "id": "d0351c4a-369d-4542-82eb-8b59e968abcd",
   "metadata": {},
   "outputs": [
    {
     "name": "stdout",
     "output_type": "stream",
     "text": [
      "+----+-------------+----------------+--------------------+-----------+------------+-----------------+-----+---------+--------+--------+--------+---------------------------------------------+-----+------------+---------------------------------------+\n",
      "|year|         make|           model|                trim|       body|transmission|              vin|state|condition|odometer|   color|interior|                                       seller|  mmr|sellingprice|                               saledate|\n",
      "+----+-------------+----------------+--------------------+-----------+------------+-----------------+-----+---------+--------+--------+--------+---------------------------------------------+-----+------------+---------------------------------------+\n",
      "|2009|     Chrysler|Town and Country|             Touring|    Minivan|   automatic|2a8hr54179r570758|   wi|      1.6| 90655.0|    gold|     tan|                        dt credit corporation| 8425|        7900|Wed Jan 21 2015 02:00:00 GMT-0800 (PST)|\n",
      "|2007|    Chevrolet|  Silverado 1500|          Work Truck|   Crew Cab|   automatic|2gcec13c971578282|   ca|     NULL|106732.0|    blue|   black|                                   auto plaza|13350|       14500|Thu Dec 18 2014 13:00:00 GMT-0800 (PST)|\n",
      "|2011|       Nissan|            Leaf|                  SL|  Hatchback|   automatic|jn1az0cp8bt007673|   wa|      4.1| 21852.0|     red|   beige|                           nissan-infiniti lt|10450|       10900|Wed Jan 21 2015 06:40:00 GMT-0800 (PST)|\n",
      "|2006|          GMC|        Envoy XL|              Denali|        SUV|   automatic|1gket66m066153160|   nv|        2|121829.0|   black|       —|                    titlemax/fort apache-nv16| 7275|        5900|Wed Dec 31 2014 11:00:00 GMT-0800 (PST)|\n",
      "|2011|         Ford|           F-150|                 XLT|  SuperCrew|        NULL|1ftfw1et2bke11814|   mi|      4.8| 31961.0|    gray|    gray|                       automobiles paille inc|25500|       24500|Thu Dec 18 2014 09:30:00 GMT-0800 (PST)|\n",
      "|2007|       HUMMER|              H3|                Base|        SUV|   automatic|5gtdn13ex78160245|   fl|      3.9|107497.0|burgundy|   black|                       mercedes benz of tampa|11400|       12700|Thu Dec 18 2014 16:20:00 GMT-0800 (PST)|\n",
      "|2004|   Volkswagen|           Jetta|            GLI 1.8T|      Sedan|        NULL|3vwse69m54m021929|   il|     NULL|106381.0|    blue|       —|                      grossinger autoplex inc| 2700|        2500|Thu Dec 18 2014 14:00:00 GMT-0800 (PST)|\n",
      "|2012|      Hyundai|   Sonata Hybrid|                Base|      Sedan|   automatic|kmhec4a49ca060519|   fl|      4.1| 50306.0|     red|     tan|                                      gte fcu|13250|       13100|Tue Dec 23 2014 14:00:00 GMT-0800 (PST)|\n",
      "|2014|    Chevrolet|          Impala|                 LTZ|      Sedan|   automatic|2g1155s3xe9133901|   fl|        4| 14037.0|   black|   black|                               gm remarketing|24300|       24700|Mon Feb 09 2015 05:00:00 GMT-0800 (PST)|\n",
      "|2014|          Kia|           Forte|                  LX|      Sedan|   automatic|knafx4a60e5210850|   wi|      3.8| 12835.0|     red|    gray|                      kia motors america, inc|12550|       11900|Wed Feb 18 2015 02:00:00 GMT-0800 (PST)|\n",
      "|2007|         Jeep|        Wrangler|                   X|        SUV|      manual|1j4fa24167l160554|   pa|     NULL| 60967.0|   green|       —|                               randy ford inc|13150|       13900|Fri Dec 19 2014 09:15:00 GMT-0800 (PST)|\n",
      "|2006|          Kia|             Rio|                Base|      Sedan|   automatic|knade123066035429|   ga|     NULL|182744.0|  silver|   black|                                cars & trucks| 1400|        2150|Thu Dec 18 2014 10:00:00 GMT-0800 (PST)|\n",
      "|2011|   Volkswagen|          Tiguan|                  SE|        SUV|   automatic|wvgav7axxbw524469|   tx|      2.5| 69830.0|   white|    gray|                                    vw credit|10550|       10200|Thu Dec 18 2014 11:00:00 GMT-0800 (PST)|\n",
      "|2010|        Honda|         Odyssey|                  LX|    Minivan|   automatic|5fnrl3h27ab080213|   ca|      2.7| 79116.0|   white|     tan|                      high bid trading co inc| 9825|       12500|Wed Dec 17 2014 12:15:00 GMT-0800 (PST)|\n",
      "|2011|         Ford|         Mustang|                  V6|      Coupe|   automatic|1zvbp8am6b5130291|   sc|      2.8| 74223.0|    blue|   black|                            pnc national bank|11350|       12000|Tue Dec 23 2014 09:15:00 GMT-0800 (PST)|\n",
      "|2011|        Buick|         Enclave|                CXL2|        SUV|   automatic|5gakvced6bj367698|   oh|      2.9| 33442.0|    gray|    gray|fiserv/usb dealer services northstar exchange|24100|       23100|Tue Jan 13 2015 09:30:00 GMT-0800 (PST)|\n",
      "|2007|       Saturn|            Aura|                  XE|      Sedan|   automatic|1g8zs57n27f208351|   ca|      3.8|118943.0|   white|   beige|                                   valley kia| 3800|        3800|Thu Dec 18 2014 12:00:00 GMT-0800 (PST)|\n",
      "|2004|      Pontiac|      Grand Prix|                 GT1|      Sedan|   automatic|2g2wp522941339050|   nc|      1.7|117538.0|  silver|   black|                                 dt inventory| 2500|        1300|Tue Dec 30 2014 09:30:00 GMT-0800 (PST)|\n",
      "|2014|         Ford|  E-Series Wagon|E-350 Super Duty XLT|        Van|        NULL|1fbne3blxedb01678|   mn|      3.5| 15939.0|       —|    gray|                            avis budget group|20100|       19900|Tue Dec 23 2014 14:00:00 GMT-0800 (PST)|\n",
      "|2008|     Chrysler|         Sebring|             Limited|Convertible|   automatic|1c3lc65m98n573663|   tx|        2|131199.0|   white|     tan|                     caprock auto remarketing| 3175|        1300|Thu Dec 18 2014 14:00:00 GMT-0800 (PST)|\n",
      "|2011|    Chevrolet|        Traverse|                 LT2|        SUV|   automatic|1gnkrjed2bj415308|   ca|      2.6| 25305.0|  silver|    gray|fiserv/usb dealer services northstar exchange|19150|       18500|Tue Dec 16 2014 12:30:00 GMT-0800 (PST)|\n",
      "|2009|       Nissan|           Rogue|                  SL|        SUV|   automatic|jn8as58v49w436294|   ma|      3.5| 51698.0|  silver|   black|                     capital one auto finance|11000|       12600|Tue Jan 06 2015 01:30:00 GMT-0800 (PST)|\n",
      "|2006|         jeep|        wrangler|            6c sport|       NULL|        NULL|1j4fa49s36p702035|   fl|      2.2| 76807.0|   black|   black|                 remarketing by ge/penair fcu|12900|        9500|Tue Dec 30 2014 11:15:00 GMT-0800 (PST)|\n",
      "|2011|     Infiniti|         G Sedan|                G25x|    G Sedan|        NULL|jn1dv6arxbm451146|   pa|      2.8| 34154.0|   black|   black|                           nissan infiniti lt|17200|       16000|Tue Dec 23 2014 09:00:00 GMT-0800 (PST)|\n",
      "|2012|        Scion|              iQ|                Base|  Hatchback|   automatic|jtnjjxb01cj012739|   ga|      4.3| 14821.0|    gray|   black|                    toyota financial services| 9375|        9200|Thu Dec 18 2014 10:00:00 GMT-0800 (PST)|\n",
      "|2008|         Audi|              S6|             quattro|      Sedan|        NULL|waudn74f78n015312|   va|      2.6|119236.0|  silver|    gray|                    brown's volkswagen suzuki|16700|       14200|Thu Dec 18 2014 09:05:00 GMT-0800 (PST)|\n",
      "|2013|       Nissan|           Rogue|                  SV|        SUV|        NULL|jn8as5mt1dw014710|   ca|      4.3| 22338.0|  silver|   black|                    nissan north america inc.|15050|       18000|Tue Dec 16 2014 12:30:00 GMT-0800 (PST)|\n",
      "|2014|          GMC|     Sierra 1500|                 SLT|   Crew Cab|   automatic|3gtu2vec4eg141863|   tx|      4.4| 31048.0|    blue|   brown|                     winter motor company inc|34500|       35300|Wed Dec 31 2014 10:20:00 GMT-0800 (PST)|\n",
      "|2013|Mercedes-Benz|         C-Class|                C250|      Coupe|   automatic|wddgj4hb6df984949|   nv|      4.5| 21632.0|   white|   black|             mercedes-benz financial services|24600|       24250|Thu Jan 22 2015 06:00:00 GMT-0800 (PST)|\n",
      "|2014|     Infiniti|             Q50|             Premium|      Sedan|   automatic|jn1bv7apxem671757|   ca|      3.8| 12397.0|   black|   black|                    nissan north america inc.|29900|       30000|Thu Dec 18 2014 12:30:00 GMT-0800 (PST)|\n",
      "+----+-------------+----------------+--------------------+-----------+------------+-----------------+-----+---------+--------+--------+--------+---------------------------------------------+-----+------------+---------------------------------------+\n",
      "only showing top 30 rows\n",
      "\n"
     ]
    }
   ],
   "source": [
    "df = spark.read.format('csv').options(header=True, inferSchema=True).load('dataset/car_prices.csv').repartition(4)\n",
    "df.show(30, truncate=50)"
   ]
  },
  {
   "cell_type": "code",
   "execution_count": 4,
   "id": "1dab6ddd-cc94-42a9-a824-b980045c9aaf",
   "metadata": {},
   "outputs": [],
   "source": [
    "from pyspark.sql.types import *\n",
    "from pyspark.sql.functions import *"
   ]
  },
  {
   "cell_type": "code",
   "execution_count": 48,
   "id": "6d198189-be72-4b15-9f0c-f4d760b7dbbc",
   "metadata": {},
   "outputs": [
    {
     "name": "stdout",
     "output_type": "stream",
     "text": [
      "+----+----+-----+----+----+------------+---+-----+---------+--------+-----+--------+------+---+------------+--------+\n",
      "|year|make|model|trim|body|transmission|vin|state|condition|odometer|color|interior|seller|mmr|sellingprice|saledate|\n",
      "+----+----+-----+----+----+------------+---+-----+---------+--------+-----+--------+------+---+------------+--------+\n",
      "|   0|   0|    0|   0|   0|           0|  0|    0|        0|       0|    0|       0|     0|  0|           0|       0|\n",
      "+----+----+-----+----+----+------------+---+-----+---------+--------+-----+--------+------+---+------------+--------+\n",
      "\n"
     ]
    }
   ],
   "source": [
    "# Count for missing numbers\n",
    "df.select([count(when(isnan(c) | isnull(c),1)).alias(c) for c in df.columns]).show()"
   ]
  },
  {
   "cell_type": "code",
   "execution_count": 6,
   "id": "82094cce-cb1e-456e-ae25-b121ffdea013",
   "metadata": {},
   "outputs": [
    {
     "name": "stdout",
     "output_type": "stream",
     "text": [
      "+----+-------------+--------+-------+-----------+------------+-----------------+-----+---------+--------+------+--------+--------------------+-----+------------+--------------------+\n",
      "|year|         make|   model|   trim|       body|transmission|              vin|state|condition|odometer| color|interior|              seller|  mmr|sellingprice|            saledate|\n",
      "+----+-------------+--------+-------+-----------+------------+-----------------+-----+---------+--------+------+--------+--------------------+-----+------------+--------------------+\n",
      "|2013|    Chevrolet|   Cruze|    1LT|      Sedan|   automatic|1g1pc5sb9d7167061|   va|      2.8| 29322.0|   red|    gray|fiserv/citizens a...|11200|       10200|Mon Dec 22 2014 0...|\n",
      "|2008|          GMC|  Acadia|  SLT-2|        SUV|   automatic|1gker33768j202809|   tx|      2.9| 97458.0|  gray|   black|ford motor credit...|12250|       11000|Tue Dec 23 2014 1...|\n",
      "|2005|       Nissan|  Maxima| 3.5 SL|      Sedan|   automatic|1n4ba41e25c827484|   va|      2.5|118589.0|  blue|   black|dt credit corpora...| 3700|        3800|Thu Jan 22 2015 0...|\n",
      "|2014|          Kia|     Rio|     LX|      Sedan|   automatic|knadm4a30e6373742|   ca|      4.9| 15106.0|silver|   black|kia motors americ...|11500|       12500|Tue Dec 16 2014 1...|\n",
      "|2004|        Mazda|  Mazda6|      s|      Sedan|      manual|1yvfp80d545n25596|   md|        2|173650.0|silver|   black|coastal credit ll...| 1800|        1100|Tue Jan 20 2015 0...|\n",
      "|2014|    Chevrolet|  Impala|    LTZ|      Sedan|   automatic|2g1155s3xe9133901|   fl|        4| 14037.0| black|   black|      gm remarketing|24300|       24700|Mon Feb 09 2015 0...|\n",
      "|2014|          BMW|2 Series|  M235i|      Coupe|   automatic|wba1j7c54evw84866|   nv|      4.2|  3001.0| black|   black|   bmw north america|39800|       33500|Thu Jan 22 2015 0...|\n",
      "|2004|        Lexus|  LS 430|   Base|      Sedan|   automatic|jthbn36f840157562|   az|      3.6|114503.0| black|   beige|dealer network gr...|11650|       10700|Thu Dec 18 2014 1...|\n",
      "|2011|   Volkswagen|  Tiguan|     SE|        SUV|   automatic|wvgav7axxbw524469|   tx|      2.5| 69830.0| white|    gray|           vw credit|10550|       10200|Thu Dec 18 2014 1...|\n",
      "|2007|     Chrysler|     300|Touring|      Sedan|   automatic|2c3ka53g27h792545|   nc|      2.3| 82371.0|  gray|   beige|        dt inventory| 7475|        8600|Tue Dec 30 2014 0...|\n",
      "|2012|      Hyundai|Veloster|   Base|  Hatchback|   automatic|kmhtc6ad4cu027591|   fl|      2.7| 33128.0|orange|   black|hyundai motor fin...|11950|       12600|Mon Dec 22 2014 0...|\n",
      "|1999|       Nissan|  Sentra|    GXE|      Sedan|   automatic|1n4ab41d0xc711641|   ca|      2.4|163472.0|  gray|   black| aaero sweet company|  675|        1200|Wed Dec 17 2014 1...|\n",
      "|2008|Mercedes-Benz|GL-Class|  GL450|        SUV|   automatic|4jgbf71e98a380127|   ca|      3.6| 55554.0|silver|   black|               ecars|21300|       23000|Tue Dec 30 2014 1...|\n",
      "|2008|     Chrysler| Sebring|Limited|Convertible|   automatic|1c3lc65m98n573663|   tx|        2|131199.0| white|     tan|caprock auto rema...| 3175|        1300|Thu Dec 18 2014 1...|\n",
      "|2011|    Chevrolet|Traverse|    LT2|        SUV|   automatic|1gnkrjed2bj415308|   ca|      2.6| 25305.0|silver|    gray|fiserv/usb dealer...|19150|       18500|Tue Dec 16 2014 1...|\n",
      "|2009|       Nissan|   Rogue|     SL|        SUV|   automatic|jn8as58v49w436294|   ma|      3.5| 51698.0|silver|   black|capital one auto ...|11000|       12600|Tue Jan 06 2015 0...|\n",
      "|2012|         Ford|   Focus|    SEL|  Hatchback|   automatic|1fahp3m23cl386692|   tx|      3.5| 38409.0|silver|   brown|remktgedge / cars...|10900|        9000|Wed Dec 31 2014 1...|\n",
      "|2013|         Ford|  Escape|      S|        SUV|   automatic|1fmcu0f72dua92776|   mi|      2.5| 17732.0| black|    gray|ford motor credit...|14400|       12700|Thu Dec 18 2014 0...|\n",
      "|2008|          GMC|  Acadia|  SLT-1|        SUV|   automatic|1gkev23728j197338|   nj|      3.5|128828.0| white|   black|  lester glenn buick| 8275|        7800|Wed Feb 04 2015 0...|\n",
      "|2006|      Porsche|Cayman S|   Base|      Coupe|      manual|wp0ab29856u780789|   ca|      4.7| 65696.0| white|     tan|sports trend auto...|22200|       24500|Thu Dec 18 2014 1...|\n",
      "+----+-------------+--------+-------+-----------+------------+-----------------+-----+---------+--------+------+--------+--------------------+-----+------------+--------------------+\n",
      "only showing top 20 rows\n",
      "\n"
     ]
    }
   ],
   "source": [
    "df = df.dropna(subset=[\"year\", \"make\", \"model\", \"body\", \"transmission\", \"condition\", \"odometer\", \"color\"])\n",
    "df.show()"
   ]
  },
  {
   "cell_type": "code",
   "execution_count": 47,
   "id": "4f7bc9d2-5aa0-4175-821b-42c507bc62e5",
   "metadata": {},
   "outputs": [
    {
     "data": {
      "text/plain": [
       "440403"
      ]
     },
     "execution_count": 47,
     "metadata": {},
     "output_type": "execute_result"
    }
   ],
   "source": [
    "df.count()"
   ]
  },
  {
   "cell_type": "code",
   "execution_count": 41,
   "id": "6bc0a2d6-cb30-49e9-b3c3-30c41629a898",
   "metadata": {},
   "outputs": [
    {
     "name": "stdout",
     "output_type": "stream",
     "text": [
      "root\n",
      " |-- year: integer (nullable = true)\n",
      " |-- make: string (nullable = true)\n",
      " |-- model: string (nullable = true)\n",
      " |-- trim: string (nullable = true)\n",
      " |-- body: string (nullable = true)\n",
      " |-- transmission: string (nullable = true)\n",
      " |-- vin: string (nullable = true)\n",
      " |-- state: string (nullable = true)\n",
      " |-- condition: double (nullable = true)\n",
      " |-- odometer: integer (nullable = true)\n",
      " |-- color: string (nullable = true)\n",
      " |-- interior: string (nullable = true)\n",
      " |-- seller: string (nullable = true)\n",
      " |-- mmr: integer (nullable = true)\n",
      " |-- sellingprice: integer (nullable = true)\n",
      " |-- saledate: string (nullable = true)\n",
      "\n"
     ]
    }
   ],
   "source": [
    "df.printSchema()"
   ]
  },
  {
   "cell_type": "code",
   "execution_count": 45,
   "id": "befc5a8e-6bf1-4637-9872-6835d75fc539",
   "metadata": {},
   "outputs": [
    {
     "name": "stdout",
     "output_type": "stream",
     "text": [
      "+----+-------------+---------------+---------------+---------+------------+-----------------+-----+---------+--------+--------+--------+--------------------+-----+------------+--------------------+\n",
      "|year|         make|          model|           trim|     body|transmission|              vin|state|condition|odometer|   color|interior|              seller|  mmr|sellingprice|            saledate|\n",
      "+----+-------------+---------------+---------------+---------+------------+-----------------+-----+---------+--------+--------+--------+--------------------+-----+------------+--------------------+\n",
      "|2013|    chevrolet|          cruze|            1LT|    sedan|   automatic|1g1pc5sb9d7167061|   va|      2.8|   29322|     red|    gray|fiserv/citizens a...|11200|       10200|Mon Dec 22 2014 0...|\n",
      "|2008|          gmc|         acadia|          SLT-2|      suv|   automatic|1gker33768j202809|   tx|      2.9|   97458|    gray|   black|ford motor credit...|12250|       11000|Tue Dec 23 2014 1...|\n",
      "|2005|       nissan|         maxima|         3.5 SL|    sedan|   automatic|1n4ba41e25c827484|   va|      2.5|  118589|    blue|   black|dt credit corpora...| 3700|        3800|Thu Jan 22 2015 0...|\n",
      "|2007|       hummer|             h3|           Base|      suv|   automatic|5gtdn13ex78160245|   fl|      3.9|  107497|burgundy|   black|mercedes benz of ...|11400|       12700|Thu Dec 18 2014 1...|\n",
      "|2004|      hyundai|         accent|             GL|    sedan|   automatic|kmhcg45c74u517860|   ca|      2.1|   85336|   green|   beige| aaero sweet company| 1225|        1800|Wed Dec 31 2014 1...|\n",
      "|2009|       toyota|         sienna|XLE 7-Passenger|  minivan|   automatic|5tdzk22c39s233823|   fl|      2.4|   79873|    gray|    gray|         palm toyota|12750|       10500|Wed Jan 07 2015 1...|\n",
      "|2013|        honda|        insight|             EX|hatchback|   automatic|jhmze2h78ds000083|   ca|      2.4|   31019|   white|    gray|ahfc/honda lease ...|13450|       11200|Thu Dec 18 2014 1...|\n",
      "|2012|          ram|           1500|            SLT| quad cab|   automatic|1c6rd7gp3cs292718|   md|      3.2|   26199|   black|   black|    chrysler capital|21600|       22600|Tue Dec 30 2014 0...|\n",
      "|2010|        honda|        odyssey|             LX|  minivan|   automatic|5fnrl3h27ab080213|   ca|      2.7|   79116|   white|     tan|high bid trading ...| 9825|       12500|Wed Dec 17 2014 1...|\n",
      "|2014|         ford|          focus|             SE|hatchback|   automatic|1fadp3k27el150647|   ga|      2.0|   24432|  silver|   black|enterprise vehicl...|12500|        8700|Thu Jan 08 2015 1...|\n",
      "|2007|       saturn|           aura|             XE|    sedan|   automatic|1g8zs57n27f208351|   ca|      3.8|  118943|   white|   beige|          valley kia| 3800|        3800|Thu Dec 18 2014 1...|\n",
      "|2011|mercedes-benz|        e-class|           E550|    sedan|   automatic|wddhf7cb8ba296721|   fl|      3.5|   43514|   white|   brown|mercedes-benz fin...|25600|       27600|Thu Dec 18 2014 0...|\n",
      "|2012|mercedes-benz|        m-class|  ML350 BlueTEC|      suv|   automatic|4jgda2eb1ca074994|   ca|      4.3|   45365|    gray|    gray| land rover san jose|35100|       35000|Tue Jan 06 2015 1...|\n",
      "|2013|         ford|transit connect|  Cargo Van XLT|  minivan|   automatic|nm0ls7dn8dt148923|   tx|      4.7|    4551|   white|    gray|enterprise fleet ...|17200|       17000|Wed Dec 31 2014 1...|\n",
      "|2008|          gmc|       yukon xl|         Denali|      suv|   automatic|1gkfk66808j174939|   co|      2.5|  103200|   black|   black|  dtg operations inc|16850|       17500|Wed Dec 31 2014 1...|\n",
      "|2014|          ram|           1500|            SLT| quad cab|   automatic|1c6rr6gt8es416221|   ca|      2.0|    3658|    gray|    gray|enterprise vehicl...|22500|       15900|Tue Dec 30 2014 1...|\n",
      "|2014|    chevrolet| impala limited|      LTZ Fleet|    sedan|   automatic|2g1wc5e38e1147124|   fl|      4.0|   14080|    gray|   beige|      gm remarketing|15000|       15000|Mon Jan 26 2015 0...|\n",
      "|2008|          bmw|       1 series|           135i|    coupe|      manual|wbauc73578vf23541|   fl|      3.7|   80489|    blue|    gray|summer enterprise...|11700|       13500|Tue Dec 30 2014 0...|\n",
      "|2014|        dodge|        avenger|             SE|    sedan|   automatic|1c3cdzab6en110572|   co|      4.3|   27444|     red|   beige|        gm financial|11100|       11900|Tue Dec 23 2014 1...|\n",
      "|2012|   volkswagen|             cc|          Sport|    sedan|   automatic|wvwmn7an1ce540261|   fl|      4.1|   22991|    blue|   beige|expert auto group...|14050|       14700|Thu Dec 18 2014 1...|\n",
      "+----+-------------+---------------+---------------+---------+------------+-----------------+-----+---------+--------+--------+--------+--------------------+-----+------------+--------------------+\n",
      "only showing top 20 rows\n",
      "\n"
     ]
    }
   ],
   "source": [
    "df = df.where((df[\"transmission\"] == \"automatic\") | (df[\"transmission\"] == \"manual\"))\n",
    "df = df.where((df[\"color\"] != '—'))\n",
    "df = df.where((df[\"interior\"] != '—'))\n",
    "df.show()"
   ]
  },
  {
   "cell_type": "code",
   "execution_count": 30,
   "id": "b75e74f1-c836-47f8-94da-5d0e5ff1406c",
   "metadata": {},
   "outputs": [
    {
     "name": "stdout",
     "output_type": "stream",
     "text": [
      "+----+-------------+--------+-------+-----------+------------+-----------------+-----+---------+--------+------+--------+--------------------+-----+------------+--------------------+\n",
      "|year|         make|   model|   trim|       body|transmission|              vin|state|condition|odometer| color|interior|              seller|  mmr|sellingprice|            saledate|\n",
      "+----+-------------+--------+-------+-----------+------------+-----------------+-----+---------+--------+------+--------+--------------------+-----+------------+--------------------+\n",
      "|2013|    chevrolet|   cruze|    1LT|      sedan|   automatic|1g1pc5sb9d7167061|   va|      2.8| 29322.0|   red|    gray|fiserv/citizens a...|11200|       10200|Mon Dec 22 2014 0...|\n",
      "|2008|          gmc|  acadia|  SLT-2|        suv|   automatic|1gker33768j202809|   tx|      2.9| 97458.0|  gray|   black|ford motor credit...|12250|       11000|Tue Dec 23 2014 1...|\n",
      "|2005|       nissan|  maxima| 3.5 SL|      sedan|   automatic|1n4ba41e25c827484|   va|      2.5|118589.0|  blue|   black|dt credit corpora...| 3700|        3800|Thu Jan 22 2015 0...|\n",
      "|2014|          kia|     rio|     LX|      sedan|   automatic|knadm4a30e6373742|   ca|      4.9| 15106.0|silver|   black|kia motors americ...|11500|       12500|Tue Dec 16 2014 1...|\n",
      "|2004|        mazda|  mazda6|      s|      sedan|      manual|1yvfp80d545n25596|   md|        2|173650.0|silver|   black|coastal credit ll...| 1800|        1100|Tue Jan 20 2015 0...|\n",
      "|2014|    chevrolet|  impala|    LTZ|      sedan|   automatic|2g1155s3xe9133901|   fl|        4| 14037.0| black|   black|      gm remarketing|24300|       24700|Mon Feb 09 2015 0...|\n",
      "|2014|          bmw|2 series|  M235i|      coupe|   automatic|wba1j7c54evw84866|   nv|      4.2|  3001.0| black|   black|   bmw north america|39800|       33500|Thu Jan 22 2015 0...|\n",
      "|2004|        lexus|  ls 430|   Base|      sedan|   automatic|jthbn36f840157562|   az|      3.6|114503.0| black|   beige|dealer network gr...|11650|       10700|Thu Dec 18 2014 1...|\n",
      "|2011|   volkswagen|  tiguan|     SE|        suv|   automatic|wvgav7axxbw524469|   tx|      2.5| 69830.0| white|    gray|           vw credit|10550|       10200|Thu Dec 18 2014 1...|\n",
      "|2007|     chrysler|     300|Touring|      sedan|   automatic|2c3ka53g27h792545|   nc|      2.3| 82371.0|  gray|   beige|        dt inventory| 7475|        8600|Tue Dec 30 2014 0...|\n",
      "|2012|      hyundai|veloster|   Base|  hatchback|   automatic|kmhtc6ad4cu027591|   fl|      2.7| 33128.0|orange|   black|hyundai motor fin...|11950|       12600|Mon Dec 22 2014 0...|\n",
      "|1999|       nissan|  sentra|    GXE|      sedan|   automatic|1n4ab41d0xc711641|   ca|      2.4|163472.0|  gray|   black| aaero sweet company|  675|        1200|Wed Dec 17 2014 1...|\n",
      "|2008|mercedes-benz|gl-class|  GL450|        suv|   automatic|4jgbf71e98a380127|   ca|      3.6| 55554.0|silver|   black|               ecars|21300|       23000|Tue Dec 30 2014 1...|\n",
      "|2008|     chrysler| sebring|Limited|convertible|   automatic|1c3lc65m98n573663|   tx|        2|131199.0| white|     tan|caprock auto rema...| 3175|        1300|Thu Dec 18 2014 1...|\n",
      "|2011|    chevrolet|traverse|    LT2|        suv|   automatic|1gnkrjed2bj415308|   ca|      2.6| 25305.0|silver|    gray|fiserv/usb dealer...|19150|       18500|Tue Dec 16 2014 1...|\n",
      "|2009|       nissan|   rogue|     SL|        suv|   automatic|jn8as58v49w436294|   ma|      3.5| 51698.0|silver|   black|capital one auto ...|11000|       12600|Tue Jan 06 2015 0...|\n",
      "|2012|         ford|   focus|    SEL|  hatchback|   automatic|1fahp3m23cl386692|   tx|      3.5| 38409.0|silver|   brown|remktgedge / cars...|10900|        9000|Wed Dec 31 2014 1...|\n",
      "|2013|         ford|  escape|      S|        suv|   automatic|1fmcu0f72dua92776|   mi|      2.5| 17732.0| black|    gray|ford motor credit...|14400|       12700|Thu Dec 18 2014 0...|\n",
      "|2008|          gmc|  acadia|  SLT-1|        suv|   automatic|1gkev23728j197338|   nj|      3.5|128828.0| white|   black|  lester glenn buick| 8275|        7800|Wed Feb 04 2015 0...|\n",
      "|2006|      porsche|cayman s|   Base|      coupe|      manual|wp0ab29856u780789|   ca|      4.7| 65696.0| white|     tan|sports trend auto...|22200|       24500|Thu Dec 18 2014 1...|\n",
      "+----+-------------+--------+-------+-----------+------------+-----------------+-----+---------+--------+------+--------+--------------------+-----+------------+--------------------+\n",
      "only showing top 20 rows\n",
      "\n"
     ]
    }
   ],
   "source": [
    "df = df.withColumn(\"body\", lower(df[\"body\"]))\n",
    "df = df.withColumn(\"make\", lower(df[\"make\"]))\n",
    "df = df.withColumn(\"model\", lower(df[\"model\"]))\n",
    "df.show()"
   ]
  },
  {
   "cell_type": "code",
   "execution_count": 61,
   "id": "47df5532-4353-4862-aeec-b7f65a13cacf",
   "metadata": {},
   "outputs": [
    {
     "name": "stdout",
     "output_type": "stream",
     "text": [
      "+----+-----+\n",
      "|year|count|\n",
      "+----+-----+\n",
      "|1990|   30|\n",
      "|1991|   46|\n",
      "|1992|   87|\n",
      "|1993|  115|\n",
      "|1994|  257|\n",
      "|1995|  440|\n",
      "|1996|  530|\n",
      "|1997|  967|\n",
      "|1998| 1379|\n",
      "|1999| 2097|\n",
      "|2000| 3229|\n",
      "|2001| 4924|\n",
      "|2002| 7325|\n",
      "|2015| 7414|\n",
      "|2003| 9980|\n",
      "|2004|13063|\n",
      "|2005|16510|\n",
      "|2009|17312|\n",
      "|2006|20823|\n",
      "|2010|21655|\n",
      "+----+-----+\n",
      "only showing top 20 rows\n",
      "\n",
      "+------------+-----+\n",
      "|        make|count|\n",
      "+------------+-----+\n",
      "|       lotus|    1|\n",
      "|      daewoo|    2|\n",
      "| lamborghini|    3|\n",
      "|      fisker|    9|\n",
      "|    plymouth|   15|\n",
      "|     ferrari|   15|\n",
      "| rolls-royce|   15|\n",
      "|         geo|   16|\n",
      "|       tesla|   22|\n",
      "|aston martin|   22|\n",
      "|     bentley|  102|\n",
      "|    maserati|  105|\n",
      "|       isuzu|  167|\n",
      "|  oldsmobile|  307|\n",
      "|       smart|  332|\n",
      "|        saab|  404|\n",
      "|        fiat|  673|\n",
      "|      hummer|  738|\n",
      "|      suzuki|  945|\n",
      "|     porsche| 1136|\n",
      "+------------+-----+\n",
      "only showing top 20 rows\n",
      "\n",
      "+--------------+-----+\n",
      "|         model|count|\n",
      "+--------------+-----+\n",
      "|        altima|15094|\n",
      "|         f-150|10713|\n",
      "|         camry|10405|\n",
      "|        fusion|10079|\n",
      "|        escape| 9127|\n",
      "|        accord| 8327|\n",
      "|         focus| 8258|\n",
      "|        impala| 7275|\n",
      "|         civic| 6894|\n",
      "| grand caravan| 6586|\n",
      "|       corolla| 6533|\n",
      "|       g sedan| 6526|\n",
      "|      3 series| 6503|\n",
      "|        malibu| 6015|\n",
      "|        sonata| 5513|\n",
      "|silverado 1500| 5510|\n",
      "|         cruze| 5211|\n",
      "|       elantra| 5190|\n",
      "|      explorer| 5187|\n",
      "|        maxima| 5121|\n",
      "+--------------+-----+\n",
      "only showing top 20 rows\n",
      "\n",
      "+--------------------+-----+\n",
      "|                body|count|\n",
      "+--------------------+-----+\n",
      "|         cts-v wagon|    1|\n",
      "|            cab plus|    2|\n",
      "|          cab plus 4|    5|\n",
      "|granturismo conve...|   10|\n",
      "|           g37 coupe|   11|\n",
      "|           cts wagon|   11|\n",
      "|         regular-cab|   13|\n",
      "|         transit van|   16|\n",
      "|     g37 convertible|   19|\n",
      "|         cts-v coupe|   25|\n",
      "|     tsx sport wagon|   28|\n",
      "|     q60 convertible|   30|\n",
      "|           q60 coupe|   31|\n",
      "|             xtracab|   34|\n",
      "|  beetle convertible|   36|\n",
      "| promaster cargo van|   55|\n",
      "|       elantra coupe|   84|\n",
      "|            mega cab|   93|\n",
      "|           cts coupe|  118|\n",
      "|            club cab|  143|\n",
      "+--------------------+-----+\n",
      "only showing top 20 rows\n",
      "\n",
      "+---------+-----+\n",
      "|    color|count|\n",
      "+---------+-----+\n",
      "|     lime|   11|\n",
      "|     pink|   36|\n",
      "|turquoise|  189|\n",
      "| charcoal|  425|\n",
      "|   yellow| 1060|\n",
      "|off-white| 1231|\n",
      "|   purple| 1249|\n",
      "|   orange| 1709|\n",
      "|    brown| 5473|\n",
      "|    beige| 7292|\n",
      "| burgundy| 7459|\n",
      "|    green| 8983|\n",
      "|     gold| 9309|\n",
      "|      red|36494|\n",
      "|     blue|41991|\n",
      "|     gray|69257|\n",
      "|   silver|69780|\n",
      "|    white|87044|\n",
      "|    black|91411|\n",
      "+---------+-----+\n",
      "\n",
      "+---------+------+\n",
      "| interior| count|\n",
      "+---------+------+\n",
      "|   yellow|    19|\n",
      "|   orange|   120|\n",
      "| burgundy|   143|\n",
      "|    green|   191|\n",
      "|    white|   199|\n",
      "|off-white|   249|\n",
      "|     gold|   262|\n",
      "|   purple|   269|\n",
      "|     blue|   898|\n",
      "|   silver|   972|\n",
      "|      red|  1054|\n",
      "|    brown|  6675|\n",
      "|      tan| 35657|\n",
      "|    beige| 48076|\n",
      "|     gray|146599|\n",
      "|    black|199020|\n",
      "+---------+------+\n",
      "\n",
      "+------------+------+\n",
      "|transmission| count|\n",
      "+------------+------+\n",
      "|      manual| 15441|\n",
      "|   automatic|424962|\n",
      "+------------+------+\n",
      "\n"
     ]
    }
   ],
   "source": [
    "# \"year\", \"make\", \"model\", \"body\", \"transmission\", \"condition\", \"odometer\", \"color\"\n",
    "df.groupBy(\"year\").count().sort(\"count\").show()\n",
    "df.groupBy(\"make\").count().sort(\"count\").show()\n",
    "df.groupBy(\"model\").count().sort(desc(\"count\")).show()\n",
    "df.groupBy(\"body\").count().sort(\"count\").show()\n",
    "df.groupBy(\"color\").count().sort(\"count\").show()\n",
    "df.groupBy(\"interior\").count().sort(\"count\").show()\n",
    "df.groupBy(\"transmission\").count().sort(\"count\").show()"
   ]
  },
  {
   "cell_type": "code",
   "execution_count": 40,
   "id": "276bd980-ba04-4442-b4de-d4f5998fe1cf",
   "metadata": {},
   "outputs": [],
   "source": [
    "# Cast to respective data types\n",
    "df = df.withColumn('mmr', col('mmr').cast('integer'))\n",
    "df = df.withColumn('condition', col('condition').cast('double'))\n",
    "df = df.withColumn('odometer', col('odometer').cast('integer'))"
   ]
  },
  {
   "cell_type": "code",
   "execution_count": 42,
   "id": "7f8c25b5-06d2-4220-a269-fa1036bc5bfe",
   "metadata": {},
   "outputs": [
    {
     "name": "stdout",
     "output_type": "stream",
     "text": [
      "+----+-------------+----------------+----------+---------+------------+-----------------+-----+---------+--------+--------+--------+--------------------+-----+------------+--------------------+\n",
      "|year|         make|           model|      trim|     body|transmission|              vin|state|condition|odometer|   color|interior|              seller|  mmr|sellingprice|            saledate|\n",
      "+----+-------------+----------------+----------+---------+------------+-----------------+-----+---------+--------+--------+--------+--------------------+-----+------------+--------------------+\n",
      "|2013|    chevrolet|           cruze|       1LT|    sedan|   automatic|1g1pc5sb9d7167061|   va|      2.8|   29322|     red|    gray|fiserv/citizens a...|11200|       10200|Mon Dec 22 2014 0...|\n",
      "|2008|          gmc|          acadia|     SLT-2|      suv|   automatic|1gker33768j202809|   tx|      2.9|   97458|    gray|   black|ford motor credit...|12250|       11000|Tue Dec 23 2014 1...|\n",
      "|2005|       nissan|          maxima|    3.5 SL|    sedan|   automatic|1n4ba41e25c827484|   va|      2.5|  118589|    blue|   black|dt credit corpora...| 3700|        3800|Thu Jan 22 2015 0...|\n",
      "|2014|          kia|             rio|        LX|    sedan|   automatic|knadm4a30e6373742|   ca|      4.9|   15106|  silver|   black|kia motors americ...|11500|       12500|Tue Dec 16 2014 1...|\n",
      "|2004|        mazda|          mazda6|         s|    sedan|      manual|1yvfp80d545n25596|   md|      2.0|  173650|  silver|   black|coastal credit ll...| 1800|        1100|Tue Jan 20 2015 0...|\n",
      "|2014|    chevrolet|          impala|       LTZ|    sedan|   automatic|2g1155s3xe9133901|   fl|      4.0|   14037|   black|   black|      gm remarketing|24300|       24700|Mon Feb 09 2015 0...|\n",
      "|2014|          bmw|        2 series|     M235i|    coupe|   automatic|wba1j7c54evw84866|   nv|      4.2|    3001|   black|   black|   bmw north america|39800|       33500|Thu Jan 22 2015 0...|\n",
      "|2012|      hyundai|          tucson|       GLS|      suv|   automatic|km8ju3ac2cu417275|   fl|      3.8|   70099|    blue|       —|hyundai motor fin...|12800|       12200|Tue Jan 06 2015 0...|\n",
      "|2013|         ford|            edge|       SEL|      suv|   automatic|2fmdk4jc9dbb04305|   ny|      4.6|   29157|burgundy|   black|ford motor credit...|23100|       24300|Wed Jan 07 2015 0...|\n",
      "|2011|         ford|         mustang|        V6|    coupe|   automatic|1zvbp8am6b5130291|   sc|      2.8|   74223|    blue|   black|   pnc national bank|11350|       12000|Tue Dec 23 2014 0...|\n",
      "|2011|        buick|         enclave|      CXL2|      suv|   automatic|5gakvced6bj367698|   oh|      2.9|   33442|    gray|    gray|fiserv/usb dealer...|24100|       23100|Tue Jan 13 2015 0...|\n",
      "|2003|         ford|           f-150|       XLT|supercrew|   automatic|1ftrw07663kd30766|   ca|      2.8|  137058|    gold|    gray|honda cars of corona| 4750|        4200|Wed Dec 31 2014 1...|\n",
      "|2013|        volvo|            xc60|       3.2|      suv|   automatic|yv4952dl6d2413654|   ca|      3.9|   39860|    blue|   black|    avis corporation|20400|       20600|Tue Dec 16 2014 1...|\n",
      "|2013|          kia|          optima|        LX|    sedan|   automatic|5xxgm4a75dg140328|   ga|      2.2|   53799|   black|   beige|     td auto finance|11700|       10500|Tue Dec 23 2014 1...|\n",
      "|2009|     chrysler|town and country|        LX|  minivan|   automatic|2a8hr44e09r527179|   ca|      2.1|  163365|     red|    gray|    guard auto sales| 4225|        3400|Wed Dec 17 2014 1...|\n",
      "|2013|mercedes-benz|         e-class|E350 Sport|    sedan|   automatic|wddhf5kb8da762334|   ca|      2.5|    4995|   black|   black|   mercedes-benz usa|35400|       31750|Thu Jan 15 2015 0...|\n",
      "|2011|       toyota|           prius|     Three|hatchback|   automatic|jtdkn3du6b1471527|   fl|      3.7|   71264|    blue|    gray|    tdaf remarketing|12300|       12300|Tue Jan 06 2015 0...|\n",
      "|2012|        scion|              iq|      Base|hatchback|   automatic|jtnjjxb01cj012739|   ga|      4.3|   14821|    gray|   black|toyota financial ...| 9375|        9200|Thu Dec 18 2014 1...|\n",
      "|2014|        dodge|         journey|       SXT|      suv|   automatic|3c4pdcbg7et177914|   fl|      4.0|   20552|    blue|   beige|hertz corporation...|16650|       16400|Mon Jan 05 2015 0...|\n",
      "|2013|    chevrolet|          malibu|        LT|    sedan|   automatic|1g11e5sa6df248841|   nc|      3.8|   50307|   white|   black|t & k enterprises...|12300|       12400|Tue Jan 06 2015 0...|\n",
      "+----+-------------+----------------+----------+---------+------------+-----------------+-----+---------+--------+--------+--------+--------------------+-----+------------+--------------------+\n",
      "only showing top 20 rows\n",
      "\n"
     ]
    }
   ],
   "source": [
    "df.show()"
   ]
  },
  {
   "cell_type": "code",
   "execution_count": 56,
   "id": "418acf31-19cb-4a0b-8034-7d16a9e2836d",
   "metadata": {},
   "outputs": [
    {
     "name": "stdout",
     "output_type": "stream",
     "text": [
      "+----+----+-----+----+----+------------+---+-----+---------+--------+-----+--------+------+---+------------+--------+\n",
      "|year|make|model|trim|body|transmission|vin|state|condition|odometer|color|interior|seller|mmr|sellingprice|saledate|\n",
      "+----+----+-----+----+----+------------+---+-----+---------+--------+-----+--------+------+---+------------+--------+\n",
      "+----+----+-----+----+----+------------+---+-----+---------+--------+-----+--------+------+---+------------+--------+\n",
      "\n"
     ]
    }
   ],
   "source": [
    "def is_numeric(value):\n",
    "    try:\n",
    "        float(value)\n",
    "        return True\n",
    "    except ValueError:\n",
    "        return False\n",
    "\n",
    "is_numeric_udf = udf(is_numeric, BooleanType())\n",
    "\n",
    "df.filter(~is_numeric_udf(col(\"mmr\"))).show()"
   ]
  },
  {
   "cell_type": "code",
   "execution_count": 60,
   "id": "e902b9ca-9641-4a56-a860-a3e1e40658eb",
   "metadata": {},
   "outputs": [
    {
     "name": "stdout",
     "output_type": "stream",
     "text": [
      "+---+\n",
      "|mmr|\n",
      "+---+\n",
      "+---+\n",
      "\n"
     ]
    }
   ],
   "source": [
    "df.select(\"mmr\").where(df[\"mmr\"] == 'n.a.\"').show()"
   ]
  }
 ],
 "metadata": {
  "kernelspec": {
   "display_name": "Python 3 (ipykernel)",
   "language": "python",
   "name": "python3"
  },
  "language_info": {
   "codemirror_mode": {
    "name": "ipython",
    "version": 3
   },
   "file_extension": ".py",
   "mimetype": "text/x-python",
   "name": "python",
   "nbconvert_exporter": "python",
   "pygments_lexer": "ipython3",
   "version": "3.11.7"
  }
 },
 "nbformat": 4,
 "nbformat_minor": 5
}
