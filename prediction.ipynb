{
 "cells": [
  {
   "cell_type": "markdown",
   "id": "18654fef",
   "metadata": {
    "jp-MarkdownHeadingCollapsed": true
   },
   "source": [
    "## Used Car Prediction\n",
    "\n",
    "Main Objective : Predict MMR (market price) for car sellers\n",
    "\n",
    "<img src=\"https://img.etimg.com/thumb/msid-106586397,width-300,height-225,imgsize-39324,resizemode-75/car-sales.jpg\" />"
   ]
  },
  {
   "cell_type": "code",
   "execution_count": 2,
   "id": "e55d4823",
   "metadata": {},
   "outputs": [
    {
     "name": "stderr",
     "output_type": "stream",
     "text": [
      "24/05/21 22:08:24 WARN Utils: Your hostname, Sidis-Laptop.local resolves to a loopback address: 127.0.0.1; using 192.168.100.21 instead (on interface en0)\n",
      "24/05/21 22:08:24 WARN Utils: Set SPARK_LOCAL_IP if you need to bind to another address\n",
      "Setting default log level to \"WARN\".\n",
      "To adjust logging level use sc.setLogLevel(newLevel). For SparkR, use setLogLevel(newLevel).\n",
      "24/05/21 22:08:24 WARN NativeCodeLoader: Unable to load native-hadoop library for your platform... using builtin-java classes where applicable\n"
     ]
    }
   ],
   "source": [
    "from pyspark.sql import SparkSession\n",
    "\n",
    "spark = (SparkSession.builder\n",
    "         .appName('Used Car Prediction')\n",
    "         .master('local[*]')\n",
    "         .getOrCreate()\n",
    "        )"
   ]
  },
  {
   "cell_type": "code",
   "execution_count": 3,
   "id": "48c712c2",
   "metadata": {},
   "outputs": [
    {
     "name": "stderr",
     "output_type": "stream",
     "text": [
      "[Stage 2:=======>                                                   (1 + 7) / 8]\r"
     ]
    },
    {
     "name": "stdout",
     "output_type": "stream",
     "text": [
      "+----+-------------+----------------+--------------------+-----------+------------+-----------------+-----+---------+--------+--------+--------+---------------------------------------------+-----+------------+---------------------------------------+\n",
      "|year|         make|           model|                trim|       body|transmission|              vin|state|condition|odometer|   color|interior|                                       seller|  mmr|sellingprice|                               saledate|\n",
      "+----+-------------+----------------+--------------------+-----------+------------+-----------------+-----+---------+--------+--------+--------+---------------------------------------------+-----+------------+---------------------------------------+\n",
      "|2009|     Chrysler|Town and Country|             Touring|    Minivan|   automatic|2a8hr54179r570758|   wi|      1.6| 90655.0|    gold|     tan|                        dt credit corporation| 8425|        7900|Wed Jan 21 2015 02:00:00 GMT-0800 (PST)|\n",
      "|2007|    Chevrolet|  Silverado 1500|          Work Truck|   Crew Cab|   automatic|2gcec13c971578282|   ca|     NULL|106732.0|    blue|   black|                                   auto plaza|13350|       14500|Thu Dec 18 2014 13:00:00 GMT-0800 (PST)|\n",
      "|2011|       Nissan|            Leaf|                  SL|  Hatchback|   automatic|jn1az0cp8bt007673|   wa|      4.1| 21852.0|     red|   beige|                           nissan-infiniti lt|10450|       10900|Wed Jan 21 2015 06:40:00 GMT-0800 (PST)|\n",
      "|2006|          GMC|        Envoy XL|              Denali|        SUV|   automatic|1gket66m066153160|   nv|        2|121829.0|   black|       —|                    titlemax/fort apache-nv16| 7275|        5900|Wed Dec 31 2014 11:00:00 GMT-0800 (PST)|\n",
      "|2011|         Ford|           F-150|                 XLT|  SuperCrew|        NULL|1ftfw1et2bke11814|   mi|      4.8| 31961.0|    gray|    gray|                       automobiles paille inc|25500|       24500|Thu Dec 18 2014 09:30:00 GMT-0800 (PST)|\n",
      "|2007|       HUMMER|              H3|                Base|        SUV|   automatic|5gtdn13ex78160245|   fl|      3.9|107497.0|burgundy|   black|                       mercedes benz of tampa|11400|       12700|Thu Dec 18 2014 16:20:00 GMT-0800 (PST)|\n",
      "|2004|   Volkswagen|           Jetta|            GLI 1.8T|      Sedan|        NULL|3vwse69m54m021929|   il|     NULL|106381.0|    blue|       —|                      grossinger autoplex inc| 2700|        2500|Thu Dec 18 2014 14:00:00 GMT-0800 (PST)|\n",
      "|2012|      Hyundai|   Sonata Hybrid|                Base|      Sedan|   automatic|kmhec4a49ca060519|   fl|      4.1| 50306.0|     red|     tan|                                      gte fcu|13250|       13100|Tue Dec 23 2014 14:00:00 GMT-0800 (PST)|\n",
      "|2014|    Chevrolet|          Impala|                 LTZ|      Sedan|   automatic|2g1155s3xe9133901|   fl|        4| 14037.0|   black|   black|                               gm remarketing|24300|       24700|Mon Feb 09 2015 05:00:00 GMT-0800 (PST)|\n",
      "|2014|          Kia|           Forte|                  LX|      Sedan|   automatic|knafx4a60e5210850|   wi|      3.8| 12835.0|     red|    gray|                      kia motors america, inc|12550|       11900|Wed Feb 18 2015 02:00:00 GMT-0800 (PST)|\n",
      "|2007|         Jeep|        Wrangler|                   X|        SUV|      manual|1j4fa24167l160554|   pa|     NULL| 60967.0|   green|       —|                               randy ford inc|13150|       13900|Fri Dec 19 2014 09:15:00 GMT-0800 (PST)|\n",
      "|2006|          Kia|             Rio|                Base|      Sedan|   automatic|knade123066035429|   ga|     NULL|182744.0|  silver|   black|                                cars & trucks| 1400|        2150|Thu Dec 18 2014 10:00:00 GMT-0800 (PST)|\n",
      "|2011|   Volkswagen|          Tiguan|                  SE|        SUV|   automatic|wvgav7axxbw524469|   tx|      2.5| 69830.0|   white|    gray|                                    vw credit|10550|       10200|Thu Dec 18 2014 11:00:00 GMT-0800 (PST)|\n",
      "|2010|        Honda|         Odyssey|                  LX|    Minivan|   automatic|5fnrl3h27ab080213|   ca|      2.7| 79116.0|   white|     tan|                      high bid trading co inc| 9825|       12500|Wed Dec 17 2014 12:15:00 GMT-0800 (PST)|\n",
      "|2011|         Ford|         Mustang|                  V6|      Coupe|   automatic|1zvbp8am6b5130291|   sc|      2.8| 74223.0|    blue|   black|                            pnc national bank|11350|       12000|Tue Dec 23 2014 09:15:00 GMT-0800 (PST)|\n",
      "|2011|        Buick|         Enclave|                CXL2|        SUV|   automatic|5gakvced6bj367698|   oh|      2.9| 33442.0|    gray|    gray|fiserv/usb dealer services northstar exchange|24100|       23100|Tue Jan 13 2015 09:30:00 GMT-0800 (PST)|\n",
      "|2007|       Saturn|            Aura|                  XE|      Sedan|   automatic|1g8zs57n27f208351|   ca|      3.8|118943.0|   white|   beige|                                   valley kia| 3800|        3800|Thu Dec 18 2014 12:00:00 GMT-0800 (PST)|\n",
      "|2004|      Pontiac|      Grand Prix|                 GT1|      Sedan|   automatic|2g2wp522941339050|   nc|      1.7|117538.0|  silver|   black|                                 dt inventory| 2500|        1300|Tue Dec 30 2014 09:30:00 GMT-0800 (PST)|\n",
      "|2014|         Ford|  E-Series Wagon|E-350 Super Duty XLT|        Van|        NULL|1fbne3blxedb01678|   mn|      3.5| 15939.0|       —|    gray|                            avis budget group|20100|       19900|Tue Dec 23 2014 14:00:00 GMT-0800 (PST)|\n",
      "|2008|     Chrysler|         Sebring|             Limited|Convertible|   automatic|1c3lc65m98n573663|   tx|        2|131199.0|   white|     tan|                     caprock auto remarketing| 3175|        1300|Thu Dec 18 2014 14:00:00 GMT-0800 (PST)|\n",
      "|2011|    Chevrolet|        Traverse|                 LT2|        SUV|   automatic|1gnkrjed2bj415308|   ca|      2.6| 25305.0|  silver|    gray|fiserv/usb dealer services northstar exchange|19150|       18500|Tue Dec 16 2014 12:30:00 GMT-0800 (PST)|\n",
      "|2009|       Nissan|           Rogue|                  SL|        SUV|   automatic|jn8as58v49w436294|   ma|      3.5| 51698.0|  silver|   black|                     capital one auto finance|11000|       12600|Tue Jan 06 2015 01:30:00 GMT-0800 (PST)|\n",
      "|2006|         jeep|        wrangler|            6c sport|       NULL|        NULL|1j4fa49s36p702035|   fl|      2.2| 76807.0|   black|   black|                 remarketing by ge/penair fcu|12900|        9500|Tue Dec 30 2014 11:15:00 GMT-0800 (PST)|\n",
      "|2011|     Infiniti|         G Sedan|                G25x|    G Sedan|        NULL|jn1dv6arxbm451146|   pa|      2.8| 34154.0|   black|   black|                           nissan infiniti lt|17200|       16000|Tue Dec 23 2014 09:00:00 GMT-0800 (PST)|\n",
      "|2012|        Scion|              iQ|                Base|  Hatchback|   automatic|jtnjjxb01cj012739|   ga|      4.3| 14821.0|    gray|   black|                    toyota financial services| 9375|        9200|Thu Dec 18 2014 10:00:00 GMT-0800 (PST)|\n",
      "|2008|         Audi|              S6|             quattro|      Sedan|        NULL|waudn74f78n015312|   va|      2.6|119236.0|  silver|    gray|                    brown's volkswagen suzuki|16700|       14200|Thu Dec 18 2014 09:05:00 GMT-0800 (PST)|\n",
      "|2013|       Nissan|           Rogue|                  SV|        SUV|        NULL|jn8as5mt1dw014710|   ca|      4.3| 22338.0|  silver|   black|                    nissan north america inc.|15050|       18000|Tue Dec 16 2014 12:30:00 GMT-0800 (PST)|\n",
      "|2014|          GMC|     Sierra 1500|                 SLT|   Crew Cab|   automatic|3gtu2vec4eg141863|   tx|      4.4| 31048.0|    blue|   brown|                     winter motor company inc|34500|       35300|Wed Dec 31 2014 10:20:00 GMT-0800 (PST)|\n",
      "|2013|Mercedes-Benz|         C-Class|                C250|      Coupe|   automatic|wddgj4hb6df984949|   nv|      4.5| 21632.0|   white|   black|             mercedes-benz financial services|24600|       24250|Thu Jan 22 2015 06:00:00 GMT-0800 (PST)|\n",
      "|2014|     Infiniti|             Q50|             Premium|      Sedan|   automatic|jn1bv7apxem671757|   ca|      3.8| 12397.0|   black|   black|                    nissan north america inc.|29900|       30000|Thu Dec 18 2014 12:30:00 GMT-0800 (PST)|\n",
      "+----+-------------+----------------+--------------------+-----------+------------+-----------------+-----+---------+--------+--------+--------+---------------------------------------------+-----+------------+---------------------------------------+\n",
      "only showing top 30 rows\n",
      "\n"
     ]
    },
    {
     "name": "stderr",
     "output_type": "stream",
     "text": [
      "24/05/21 22:08:40 WARN GarbageCollectionMetrics: To enable non-built-in garbage collector(s) List(G1 Concurrent GC), users should configure it(them) to spark.eventLog.gcMetrics.youngGenerationGarbageCollectors or spark.eventLog.gcMetrics.oldGenerationGarbageCollectors\n"
     ]
    }
   ],
   "source": [
    "df = spark.read.format('csv').options(header=True, inferSchema=True).load('dataset/car_prices.csv').repartition(4)\n",
    "df.show(30, truncate=50)"
   ]
  },
  {
   "cell_type": "markdown",
   "id": "341555d9",
   "metadata": {},
   "source": [
    "## Preprocessing & Cleaning"
   ]
  },
  {
   "cell_type": "code",
   "execution_count": 4,
   "id": "ec3ff246",
   "metadata": {},
   "outputs": [],
   "source": [
    "from pyspark.sql.types import *\n",
    "from pyspark.sql.functions import *"
   ]
  },
  {
   "cell_type": "code",
   "execution_count": 5,
   "id": "0d23ff82",
   "metadata": {},
   "outputs": [
    {
     "name": "stderr",
     "output_type": "stream",
     "text": [
      "\r",
      "[Stage 7:>                                                          (0 + 4) / 4]\r"
     ]
    },
    {
     "name": "stdout",
     "output_type": "stream",
     "text": [
      "+----+-----+-----+-----+-----+------------+---+-----+---------+--------+-----+--------+------+---+------------+--------+\n",
      "|year| make|model| trim| body|transmission|vin|state|condition|odometer|color|interior|seller|mmr|sellingprice|saledate|\n",
      "+----+-----+-----+-----+-----+------------+---+-----+---------+--------+-----+--------+------+---+------------+--------+\n",
      "|   0|10301|10399|10651|13195|       65353|  4|    0|    11794|      94|  749|     749|     0|  0|           0|       0|\n",
      "+----+-----+-----+-----+-----+------------+---+-----+---------+--------+-----+--------+------+---+------------+--------+\n",
      "\n"
     ]
    },
    {
     "name": "stderr",
     "output_type": "stream",
     "text": [
      "\r",
      "                                                                                \r"
     ]
    }
   ],
   "source": [
    "# Count for missing numbers\n",
    "df.select([count(when(isnan(c) | isnull(c),1)).alias(c) for c in df.columns]).show()"
   ]
  },
  {
   "cell_type": "code",
   "execution_count": 20,
   "id": "6797138e",
   "metadata": {},
   "outputs": [
    {
     "name": "stdout",
     "output_type": "stream",
     "text": [
      "+----+-------------+---------------+---------------+---------+------------+-----------------+-----+---------+--------+--------+--------+--------------------+-----+------------+--------------------+---------+\n",
      "|year|         make|          model|           trim|     body|transmission|              vin|state|condition|odometer|   color|interior|              seller|  mmr|sellingprice|            saledate|body_type|\n",
      "+----+-------------+---------------+---------------+---------+------------+-----------------+-----+---------+--------+--------+--------+--------------------+-----+------------+--------------------+---------+\n",
      "|2013|    chevrolet|          cruze|            1LT|    sedan|   automatic|1g1pc5sb9d7167061|   va|      2.8|   29322|     red|    gray|fiserv/citizens a...|11200|       10200|Mon Dec 22 2014 0...|    sedan|\n",
      "|2008|          gmc|         acadia|          SLT-2|      suv|   automatic|1gker33768j202809|   tx|      2.9|   97458|    gray|   black|ford motor credit...|12250|       11000|Tue Dec 23 2014 1...|      suv|\n",
      "|2005|       nissan|         maxima|         3.5 SL|    sedan|   automatic|1n4ba41e25c827484|   va|      2.5|  118589|    blue|   black|dt credit corpora...| 3700|        3800|Thu Jan 22 2015 0...|    sedan|\n",
      "|2007|       hummer|             h3|           Base|      suv|   automatic|5gtdn13ex78160245|   fl|      3.9|  107497|burgundy|   black|mercedes benz of ...|11400|       12700|Thu Dec 18 2014 1...|      suv|\n",
      "|2004|      hyundai|         accent|             GL|    sedan|   automatic|kmhcg45c74u517860|   ca|      2.1|   85336|   green|   beige| aaero sweet company| 1225|        1800|Wed Dec 31 2014 1...|    sedan|\n",
      "|2009|       toyota|         sienna|XLE 7-Passenger|  minivan|   automatic|5tdzk22c39s233823|   fl|      2.4|   79873|    gray|    gray|         palm toyota|12750|       10500|Wed Jan 07 2015 1...|  minivan|\n",
      "|2013|        honda|        insight|             EX|hatchback|   automatic|jhmze2h78ds000083|   ca|      2.4|   31019|   white|    gray|ahfc/honda lease ...|13450|       11200|Thu Dec 18 2014 1...|hatchback|\n",
      "|2012|          ram|           1500|            SLT| quad cab|   automatic|1c6rd7gp3cs292718|   md|      3.2|   26199|   black|   black|    chrysler capital|21600|       22600|Tue Dec 30 2014 0...|      cab|\n",
      "|2010|        honda|        odyssey|             LX|  minivan|   automatic|5fnrl3h27ab080213|   ca|      2.7|   79116|   white|     tan|high bid trading ...| 9825|       12500|Wed Dec 17 2014 1...|  minivan|\n",
      "|2014|         ford|          focus|             SE|hatchback|   automatic|1fadp3k27el150647|   ga|      2.0|   24432|  silver|   black|enterprise vehicl...|12500|        8700|Thu Jan 08 2015 1...|hatchback|\n",
      "|2007|       saturn|           aura|             XE|    sedan|   automatic|1g8zs57n27f208351|   ca|      3.8|  118943|   white|   beige|          valley kia| 3800|        3800|Thu Dec 18 2014 1...|    sedan|\n",
      "|2011|mercedes-benz|        e-class|           E550|    sedan|   automatic|wddhf7cb8ba296721|   fl|      3.5|   43514|   white|   brown|mercedes-benz fin...|25600|       27600|Thu Dec 18 2014 0...|    sedan|\n",
      "|2012|mercedes-benz|        m-class|  ML350 BlueTEC|      suv|   automatic|4jgda2eb1ca074994|   ca|      4.3|   45365|    gray|    gray| land rover san jose|35100|       35000|Tue Jan 06 2015 1...|      suv|\n",
      "|2013|         ford|transit connect|  Cargo Van XLT|  minivan|   automatic|nm0ls7dn8dt148923|   tx|      4.7|    4551|   white|    gray|enterprise fleet ...|17200|       17000|Wed Dec 31 2014 1...|  minivan|\n",
      "|2008|          gmc|       yukon xl|         Denali|      suv|   automatic|1gkfk66808j174939|   co|      2.5|  103200|   black|   black|  dtg operations inc|16850|       17500|Wed Dec 31 2014 1...|      suv|\n",
      "|2014|          ram|           1500|            SLT| quad cab|   automatic|1c6rr6gt8es416221|   ca|      2.0|    3658|    gray|    gray|enterprise vehicl...|22500|       15900|Tue Dec 30 2014 1...|      cab|\n",
      "|2014|    chevrolet| impala limited|      LTZ Fleet|    sedan|   automatic|2g1wc5e38e1147124|   fl|      4.0|   14080|    gray|   beige|      gm remarketing|15000|       15000|Mon Jan 26 2015 0...|    sedan|\n",
      "|2008|          bmw|       1 series|           135i|    coupe|      manual|wbauc73578vf23541|   fl|      3.7|   80489|    blue|    gray|summer enterprise...|11700|       13500|Tue Dec 30 2014 0...|    coupe|\n",
      "|2014|        dodge|        avenger|             SE|    sedan|   automatic|1c3cdzab6en110572|   co|      4.3|   27444|     red|   beige|        gm financial|11100|       11900|Tue Dec 23 2014 1...|    sedan|\n",
      "|2012|   volkswagen|             cc|          Sport|    sedan|   automatic|wvwmn7an1ce540261|   fl|      4.1|   22991|    blue|   beige|expert auto group...|14050|       14700|Thu Dec 18 2014 1...|    sedan|\n",
      "+----+-------------+---------------+---------------+---------+------------+-----------------+-----+---------+--------+--------+--------+--------------------+-----+------------+--------------------+---------+\n",
      "only showing top 20 rows\n",
      "\n"
     ]
    }
   ],
   "source": [
    "df = df.dropna(subset=[\"year\", \"make\", \"model\", \"body\", \"transmission\", \"condition\", \"odometer\", \"color\"])\n",
    "df.show()"
   ]
  },
  {
   "cell_type": "code",
   "execution_count": 21,
   "id": "2dcf955c",
   "metadata": {},
   "outputs": [
    {
     "data": {
      "text/plain": [
       "440403"
      ]
     },
     "execution_count": 21,
     "metadata": {},
     "output_type": "execute_result"
    }
   ],
   "source": [
    "df.count()"
   ]
  },
  {
   "cell_type": "code",
   "execution_count": 22,
   "id": "94db7198",
   "metadata": {},
   "outputs": [
    {
     "name": "stdout",
     "output_type": "stream",
     "text": [
      "root\n",
      " |-- year: integer (nullable = true)\n",
      " |-- make: string (nullable = true)\n",
      " |-- model: string (nullable = true)\n",
      " |-- trim: string (nullable = true)\n",
      " |-- body: string (nullable = true)\n",
      " |-- transmission: string (nullable = true)\n",
      " |-- vin: string (nullable = true)\n",
      " |-- state: string (nullable = true)\n",
      " |-- condition: double (nullable = true)\n",
      " |-- odometer: integer (nullable = true)\n",
      " |-- color: string (nullable = true)\n",
      " |-- interior: string (nullable = true)\n",
      " |-- seller: string (nullable = true)\n",
      " |-- mmr: integer (nullable = true)\n",
      " |-- sellingprice: integer (nullable = true)\n",
      " |-- saledate: string (nullable = true)\n",
      " |-- body_type: string (nullable = true)\n",
      "\n"
     ]
    }
   ],
   "source": [
    "df.printSchema()"
   ]
  },
  {
   "cell_type": "code",
   "execution_count": 23,
   "id": "508213a6",
   "metadata": {},
   "outputs": [
    {
     "name": "stdout",
     "output_type": "stream",
     "text": [
      "+----+-------------+---------------+---------------+---------+------------+-----------------+-----+---------+--------+--------+--------+--------------------+-----+------------+--------------------+---------+\n",
      "|year|         make|          model|           trim|     body|transmission|              vin|state|condition|odometer|   color|interior|              seller|  mmr|sellingprice|            saledate|body_type|\n",
      "+----+-------------+---------------+---------------+---------+------------+-----------------+-----+---------+--------+--------+--------+--------------------+-----+------------+--------------------+---------+\n",
      "|2013|    chevrolet|          cruze|            1LT|    sedan|   automatic|1g1pc5sb9d7167061|   va|      2.8|   29322|     red|    gray|fiserv/citizens a...|11200|       10200|Mon Dec 22 2014 0...|    sedan|\n",
      "|2008|          gmc|         acadia|          SLT-2|      suv|   automatic|1gker33768j202809|   tx|      2.9|   97458|    gray|   black|ford motor credit...|12250|       11000|Tue Dec 23 2014 1...|      suv|\n",
      "|2005|       nissan|         maxima|         3.5 SL|    sedan|   automatic|1n4ba41e25c827484|   va|      2.5|  118589|    blue|   black|dt credit corpora...| 3700|        3800|Thu Jan 22 2015 0...|    sedan|\n",
      "|2007|       hummer|             h3|           Base|      suv|   automatic|5gtdn13ex78160245|   fl|      3.9|  107497|burgundy|   black|mercedes benz of ...|11400|       12700|Thu Dec 18 2014 1...|      suv|\n",
      "|2004|      hyundai|         accent|             GL|    sedan|   automatic|kmhcg45c74u517860|   ca|      2.1|   85336|   green|   beige| aaero sweet company| 1225|        1800|Wed Dec 31 2014 1...|    sedan|\n",
      "|2009|       toyota|         sienna|XLE 7-Passenger|  minivan|   automatic|5tdzk22c39s233823|   fl|      2.4|   79873|    gray|    gray|         palm toyota|12750|       10500|Wed Jan 07 2015 1...|  minivan|\n",
      "|2013|        honda|        insight|             EX|hatchback|   automatic|jhmze2h78ds000083|   ca|      2.4|   31019|   white|    gray|ahfc/honda lease ...|13450|       11200|Thu Dec 18 2014 1...|hatchback|\n",
      "|2012|          ram|           1500|            SLT| quad cab|   automatic|1c6rd7gp3cs292718|   md|      3.2|   26199|   black|   black|    chrysler capital|21600|       22600|Tue Dec 30 2014 0...|      cab|\n",
      "|2010|        honda|        odyssey|             LX|  minivan|   automatic|5fnrl3h27ab080213|   ca|      2.7|   79116|   white|     tan|high bid trading ...| 9825|       12500|Wed Dec 17 2014 1...|  minivan|\n",
      "|2014|         ford|          focus|             SE|hatchback|   automatic|1fadp3k27el150647|   ga|      2.0|   24432|  silver|   black|enterprise vehicl...|12500|        8700|Thu Jan 08 2015 1...|hatchback|\n",
      "|2007|       saturn|           aura|             XE|    sedan|   automatic|1g8zs57n27f208351|   ca|      3.8|  118943|   white|   beige|          valley kia| 3800|        3800|Thu Dec 18 2014 1...|    sedan|\n",
      "|2011|mercedes-benz|        e-class|           E550|    sedan|   automatic|wddhf7cb8ba296721|   fl|      3.5|   43514|   white|   brown|mercedes-benz fin...|25600|       27600|Thu Dec 18 2014 0...|    sedan|\n",
      "|2012|mercedes-benz|        m-class|  ML350 BlueTEC|      suv|   automatic|4jgda2eb1ca074994|   ca|      4.3|   45365|    gray|    gray| land rover san jose|35100|       35000|Tue Jan 06 2015 1...|      suv|\n",
      "|2013|         ford|transit connect|  Cargo Van XLT|  minivan|   automatic|nm0ls7dn8dt148923|   tx|      4.7|    4551|   white|    gray|enterprise fleet ...|17200|       17000|Wed Dec 31 2014 1...|  minivan|\n",
      "|2008|          gmc|       yukon xl|         Denali|      suv|   automatic|1gkfk66808j174939|   co|      2.5|  103200|   black|   black|  dtg operations inc|16850|       17500|Wed Dec 31 2014 1...|      suv|\n",
      "|2014|          ram|           1500|            SLT| quad cab|   automatic|1c6rr6gt8es416221|   ca|      2.0|    3658|    gray|    gray|enterprise vehicl...|22500|       15900|Tue Dec 30 2014 1...|      cab|\n",
      "|2014|    chevrolet| impala limited|      LTZ Fleet|    sedan|   automatic|2g1wc5e38e1147124|   fl|      4.0|   14080|    gray|   beige|      gm remarketing|15000|       15000|Mon Jan 26 2015 0...|    sedan|\n",
      "|2008|          bmw|       1 series|           135i|    coupe|      manual|wbauc73578vf23541|   fl|      3.7|   80489|    blue|    gray|summer enterprise...|11700|       13500|Tue Dec 30 2014 0...|    coupe|\n",
      "|2014|        dodge|        avenger|             SE|    sedan|   automatic|1c3cdzab6en110572|   co|      4.3|   27444|     red|   beige|        gm financial|11100|       11900|Tue Dec 23 2014 1...|    sedan|\n",
      "|2012|   volkswagen|             cc|          Sport|    sedan|   automatic|wvwmn7an1ce540261|   fl|      4.1|   22991|    blue|   beige|expert auto group...|14050|       14700|Thu Dec 18 2014 1...|    sedan|\n",
      "+----+-------------+---------------+---------------+---------+------------+-----------------+-----+---------+--------+--------+--------+--------------------+-----+------------+--------------------+---------+\n",
      "only showing top 20 rows\n",
      "\n"
     ]
    }
   ],
   "source": [
    "df = df.where((df[\"transmission\"] == \"automatic\") | (df[\"transmission\"] == \"manual\"))\n",
    "df = df.where((df[\"color\"] != '—'))\n",
    "df = df.where((df[\"interior\"] != '—'))\n",
    "df.show()"
   ]
  },
  {
   "cell_type": "code",
   "execution_count": 24,
   "id": "b5785a83",
   "metadata": {},
   "outputs": [
    {
     "name": "stdout",
     "output_type": "stream",
     "text": [
      "+----+-------------+---------------+---------------+---------+------------+-----------------+-----+---------+--------+--------+--------+--------------------+-----+------------+--------------------+---------+\n",
      "|year|         make|          model|           trim|     body|transmission|              vin|state|condition|odometer|   color|interior|              seller|  mmr|sellingprice|            saledate|body_type|\n",
      "+----+-------------+---------------+---------------+---------+------------+-----------------+-----+---------+--------+--------+--------+--------------------+-----+------------+--------------------+---------+\n",
      "|2013|    chevrolet|          cruze|            1LT|    sedan|   automatic|1g1pc5sb9d7167061|   va|      2.8|   29322|     red|    gray|fiserv/citizens a...|11200|       10200|Mon Dec 22 2014 0...|    sedan|\n",
      "|2008|          gmc|         acadia|          SLT-2|      suv|   automatic|1gker33768j202809|   tx|      2.9|   97458|    gray|   black|ford motor credit...|12250|       11000|Tue Dec 23 2014 1...|      suv|\n",
      "|2005|       nissan|         maxima|         3.5 SL|    sedan|   automatic|1n4ba41e25c827484|   va|      2.5|  118589|    blue|   black|dt credit corpora...| 3700|        3800|Thu Jan 22 2015 0...|    sedan|\n",
      "|2007|       hummer|             h3|           Base|      suv|   automatic|5gtdn13ex78160245|   fl|      3.9|  107497|burgundy|   black|mercedes benz of ...|11400|       12700|Thu Dec 18 2014 1...|      suv|\n",
      "|2004|      hyundai|         accent|             GL|    sedan|   automatic|kmhcg45c74u517860|   ca|      2.1|   85336|   green|   beige| aaero sweet company| 1225|        1800|Wed Dec 31 2014 1...|    sedan|\n",
      "|2009|       toyota|         sienna|XLE 7-Passenger|  minivan|   automatic|5tdzk22c39s233823|   fl|      2.4|   79873|    gray|    gray|         palm toyota|12750|       10500|Wed Jan 07 2015 1...|  minivan|\n",
      "|2013|        honda|        insight|             EX|hatchback|   automatic|jhmze2h78ds000083|   ca|      2.4|   31019|   white|    gray|ahfc/honda lease ...|13450|       11200|Thu Dec 18 2014 1...|hatchback|\n",
      "|2012|          ram|           1500|            SLT| quad cab|   automatic|1c6rd7gp3cs292718|   md|      3.2|   26199|   black|   black|    chrysler capital|21600|       22600|Tue Dec 30 2014 0...|      cab|\n",
      "|2010|        honda|        odyssey|             LX|  minivan|   automatic|5fnrl3h27ab080213|   ca|      2.7|   79116|   white|     tan|high bid trading ...| 9825|       12500|Wed Dec 17 2014 1...|  minivan|\n",
      "|2014|         ford|          focus|             SE|hatchback|   automatic|1fadp3k27el150647|   ga|      2.0|   24432|  silver|   black|enterprise vehicl...|12500|        8700|Thu Jan 08 2015 1...|hatchback|\n",
      "|2007|       saturn|           aura|             XE|    sedan|   automatic|1g8zs57n27f208351|   ca|      3.8|  118943|   white|   beige|          valley kia| 3800|        3800|Thu Dec 18 2014 1...|    sedan|\n",
      "|2011|mercedes-benz|        e-class|           E550|    sedan|   automatic|wddhf7cb8ba296721|   fl|      3.5|   43514|   white|   brown|mercedes-benz fin...|25600|       27600|Thu Dec 18 2014 0...|    sedan|\n",
      "|2012|mercedes-benz|        m-class|  ML350 BlueTEC|      suv|   automatic|4jgda2eb1ca074994|   ca|      4.3|   45365|    gray|    gray| land rover san jose|35100|       35000|Tue Jan 06 2015 1...|      suv|\n",
      "|2013|         ford|transit connect|  Cargo Van XLT|  minivan|   automatic|nm0ls7dn8dt148923|   tx|      4.7|    4551|   white|    gray|enterprise fleet ...|17200|       17000|Wed Dec 31 2014 1...|  minivan|\n",
      "|2008|          gmc|       yukon xl|         Denali|      suv|   automatic|1gkfk66808j174939|   co|      2.5|  103200|   black|   black|  dtg operations inc|16850|       17500|Wed Dec 31 2014 1...|      suv|\n",
      "|2014|          ram|           1500|            SLT| quad cab|   automatic|1c6rr6gt8es416221|   ca|      2.0|    3658|    gray|    gray|enterprise vehicl...|22500|       15900|Tue Dec 30 2014 1...|      cab|\n",
      "|2014|    chevrolet| impala limited|      LTZ Fleet|    sedan|   automatic|2g1wc5e38e1147124|   fl|      4.0|   14080|    gray|   beige|      gm remarketing|15000|       15000|Mon Jan 26 2015 0...|    sedan|\n",
      "|2008|          bmw|       1 series|           135i|    coupe|      manual|wbauc73578vf23541|   fl|      3.7|   80489|    blue|    gray|summer enterprise...|11700|       13500|Tue Dec 30 2014 0...|    coupe|\n",
      "|2014|        dodge|        avenger|             SE|    sedan|   automatic|1c3cdzab6en110572|   co|      4.3|   27444|     red|   beige|        gm financial|11100|       11900|Tue Dec 23 2014 1...|    sedan|\n",
      "|2012|   volkswagen|             cc|          Sport|    sedan|   automatic|wvwmn7an1ce540261|   fl|      4.1|   22991|    blue|   beige|expert auto group...|14050|       14700|Thu Dec 18 2014 1...|    sedan|\n",
      "+----+-------------+---------------+---------------+---------+------------+-----------------+-----+---------+--------+--------+--------+--------------------+-----+------------+--------------------+---------+\n",
      "only showing top 20 rows\n",
      "\n"
     ]
    }
   ],
   "source": [
    "df = df.withColumn(\"body\", lower(df[\"body\"]))\n",
    "df = df.withColumn(\"make\", lower(df[\"make\"]))\n",
    "df = df.withColumn(\"model\", lower(df[\"model\"]))\n",
    "df.show()"
   ]
  },
  {
   "cell_type": "code",
   "execution_count": 25,
   "id": "7a193218",
   "metadata": {},
   "outputs": [
    {
     "name": "stdout",
     "output_type": "stream",
     "text": [
      "+------------+-----+\n",
      "|        make|count|\n",
      "+------------+-----+\n",
      "|       lotus|    1|\n",
      "|      daewoo|    2|\n",
      "| lamborghini|    3|\n",
      "|      fisker|    9|\n",
      "|    plymouth|   15|\n",
      "|     ferrari|   15|\n",
      "| rolls-royce|   15|\n",
      "|         geo|   16|\n",
      "|       tesla|   22|\n",
      "|aston martin|   22|\n",
      "|     bentley|  102|\n",
      "|    maserati|  105|\n",
      "|       isuzu|  167|\n",
      "|  oldsmobile|  307|\n",
      "|       smart|  332|\n",
      "|        saab|  404|\n",
      "|        fiat|  673|\n",
      "|      hummer|  738|\n",
      "|      suzuki|  945|\n",
      "|     porsche| 1136|\n",
      "+------------+-----+\n",
      "only showing top 20 rows\n",
      "\n",
      "+--------------+-----+\n",
      "|         model|count|\n",
      "+--------------+-----+\n",
      "|        altima|15094|\n",
      "|         f-150|10713|\n",
      "|         camry|10405|\n",
      "|        fusion|10079|\n",
      "|        escape| 9127|\n",
      "|        accord| 8327|\n",
      "|         focus| 8258|\n",
      "|        impala| 7275|\n",
      "|         civic| 6894|\n",
      "| grand caravan| 6586|\n",
      "|       corolla| 6533|\n",
      "|       g sedan| 6526|\n",
      "|      3 series| 6503|\n",
      "|        malibu| 6015|\n",
      "|        sonata| 5513|\n",
      "|silverado 1500| 5510|\n",
      "|         cruze| 5211|\n",
      "|       elantra| 5190|\n",
      "|      explorer| 5187|\n",
      "|        maxima| 5121|\n",
      "+--------------+-----+\n",
      "only showing top 20 rows\n",
      "\n",
      "+--------------------+-----+\n",
      "|                body|count|\n",
      "+--------------------+-----+\n",
      "|         cts-v wagon|    1|\n",
      "|            cab plus|    2|\n",
      "|          cab plus 4|    5|\n",
      "|granturismo conve...|   10|\n",
      "|           g37 coupe|   11|\n",
      "|           cts wagon|   11|\n",
      "|         regular-cab|   13|\n",
      "|         transit van|   16|\n",
      "|     g37 convertible|   19|\n",
      "|         cts-v coupe|   25|\n",
      "|     tsx sport wagon|   28|\n",
      "|     q60 convertible|   30|\n",
      "|           q60 coupe|   31|\n",
      "|             xtracab|   34|\n",
      "|  beetle convertible|   36|\n",
      "| promaster cargo van|   55|\n",
      "|       elantra coupe|   84|\n",
      "|            mega cab|   93|\n",
      "|           cts coupe|  118|\n",
      "|            club cab|  143|\n",
      "+--------------------+-----+\n",
      "only showing top 20 rows\n",
      "\n",
      "+---------+-----+\n",
      "|    color|count|\n",
      "+---------+-----+\n",
      "|     lime|   11|\n",
      "|     pink|   36|\n",
      "|turquoise|  189|\n",
      "| charcoal|  425|\n",
      "|   yellow| 1060|\n",
      "|off-white| 1231|\n",
      "|   purple| 1249|\n",
      "|   orange| 1709|\n",
      "|    brown| 5473|\n",
      "|    beige| 7292|\n",
      "| burgundy| 7459|\n",
      "|    green| 8983|\n",
      "|     gold| 9309|\n",
      "|      red|36494|\n",
      "|     blue|41991|\n",
      "|     gray|69257|\n",
      "|   silver|69780|\n",
      "|    white|87044|\n",
      "|    black|91411|\n",
      "+---------+-----+\n",
      "\n",
      "+---------+------+\n",
      "| interior| count|\n",
      "+---------+------+\n",
      "|   yellow|    19|\n",
      "|   orange|   120|\n",
      "| burgundy|   143|\n",
      "|    green|   191|\n",
      "|    white|   199|\n",
      "|off-white|   249|\n",
      "|     gold|   262|\n",
      "|   purple|   269|\n",
      "|     blue|   898|\n",
      "|   silver|   972|\n",
      "|      red|  1054|\n",
      "|    brown|  6675|\n",
      "|      tan| 35657|\n",
      "|    beige| 48076|\n",
      "|     gray|146599|\n",
      "|    black|199020|\n",
      "+---------+------+\n",
      "\n",
      "+------------+------+\n",
      "|transmission| count|\n",
      "+------------+------+\n",
      "|      manual| 15441|\n",
      "|   automatic|424962|\n",
      "+------------+------+\n",
      "\n"
     ]
    }
   ],
   "source": [
    "# \"year\", \"make\", \"model\", \"body\", \"transmission\", \"condition\", \"odometer\", \"color\"\n",
    "df.groupBy(\"make\").count().sort(\"count\").show()\n",
    "df.groupBy(\"model\").count().sort(desc(\"count\")).show()\n",
    "df.groupBy(\"body\").count().sort((\"count\")).show()\n",
    "df.groupBy(\"color\").count().sort(\"count\").show()\n",
    "df.groupBy(\"interior\").count().sort(\"count\").show()\n",
    "df.groupBy(\"transmission\").count().sort(\"count\").show()"
   ]
  },
  {
   "cell_type": "code",
   "execution_count": 26,
   "id": "7bc77543",
   "metadata": {},
   "outputs": [],
   "source": [
    "# Cast to respective data types\n",
    "df = df.withColumn('mmr', col('mmr').cast('integer'))\n",
    "df = df.withColumn('condition', col('condition').cast('double'))\n",
    "df = df.withColumn('odometer', col('odometer').cast('integer'))"
   ]
  },
  {
   "cell_type": "code",
   "execution_count": 27,
   "id": "71570867",
   "metadata": {},
   "outputs": [
    {
     "name": "stdout",
     "output_type": "stream",
     "text": [
      "+--------------------+\n",
      "|count(DISTINCT year)|\n",
      "+--------------------+\n",
      "|                  26|\n",
      "+--------------------+\n",
      "\n",
      "+---------------------+\n",
      "|count(DISTINCT model)|\n",
      "+---------------------+\n",
      "|                  761|\n",
      "+---------------------+\n",
      "\n"
     ]
    }
   ],
   "source": [
    "df.select(countDistinct(\"year\")).show()\n",
    "df.select(countDistinct(\"model\")).show()\n"
   ]
  },
  {
   "cell_type": "code",
   "execution_count": 28,
   "id": "f09fc56b",
   "metadata": {},
   "outputs": [
    {
     "name": "stdout",
     "output_type": "stream",
     "text": [
      "+----+-------------+---------------+---------------+---------+------------+-----------------+-----+---------+--------+--------+--------+--------------------+-----+------------+--------------------+---------+\n",
      "|year|         make|          model|           trim|     body|transmission|              vin|state|condition|odometer|   color|interior|              seller|  mmr|sellingprice|            saledate|body_type|\n",
      "+----+-------------+---------------+---------------+---------+------------+-----------------+-----+---------+--------+--------+--------+--------------------+-----+------------+--------------------+---------+\n",
      "|2013|    chevrolet|          cruze|            1LT|    sedan|   automatic|1g1pc5sb9d7167061|   va|      2.8|   29322|     red|    gray|fiserv/citizens a...|11200|       10200|Mon Dec 22 2014 0...|    sedan|\n",
      "|2008|          gmc|         acadia|          SLT-2|      suv|   automatic|1gker33768j202809|   tx|      2.9|   97458|    gray|   black|ford motor credit...|12250|       11000|Tue Dec 23 2014 1...|      suv|\n",
      "|2005|       nissan|         maxima|         3.5 SL|    sedan|   automatic|1n4ba41e25c827484|   va|      2.5|  118589|    blue|   black|dt credit corpora...| 3700|        3800|Thu Jan 22 2015 0...|    sedan|\n",
      "|2007|       hummer|             h3|           Base|      suv|   automatic|5gtdn13ex78160245|   fl|      3.9|  107497|burgundy|   black|mercedes benz of ...|11400|       12700|Thu Dec 18 2014 1...|      suv|\n",
      "|2004|      hyundai|         accent|             GL|    sedan|   automatic|kmhcg45c74u517860|   ca|      2.1|   85336|   green|   beige| aaero sweet company| 1225|        1800|Wed Dec 31 2014 1...|    sedan|\n",
      "|2009|       toyota|         sienna|XLE 7-Passenger|  minivan|   automatic|5tdzk22c39s233823|   fl|      2.4|   79873|    gray|    gray|         palm toyota|12750|       10500|Wed Jan 07 2015 1...|  minivan|\n",
      "|2013|        honda|        insight|             EX|hatchback|   automatic|jhmze2h78ds000083|   ca|      2.4|   31019|   white|    gray|ahfc/honda lease ...|13450|       11200|Thu Dec 18 2014 1...|hatchback|\n",
      "|2012|          ram|           1500|            SLT| quad cab|   automatic|1c6rd7gp3cs292718|   md|      3.2|   26199|   black|   black|    chrysler capital|21600|       22600|Tue Dec 30 2014 0...|      cab|\n",
      "|2010|        honda|        odyssey|             LX|  minivan|   automatic|5fnrl3h27ab080213|   ca|      2.7|   79116|   white|     tan|high bid trading ...| 9825|       12500|Wed Dec 17 2014 1...|  minivan|\n",
      "|2014|         ford|          focus|             SE|hatchback|   automatic|1fadp3k27el150647|   ga|      2.0|   24432|  silver|   black|enterprise vehicl...|12500|        8700|Thu Jan 08 2015 1...|hatchback|\n",
      "|2007|       saturn|           aura|             XE|    sedan|   automatic|1g8zs57n27f208351|   ca|      3.8|  118943|   white|   beige|          valley kia| 3800|        3800|Thu Dec 18 2014 1...|    sedan|\n",
      "|2011|mercedes-benz|        e-class|           E550|    sedan|   automatic|wddhf7cb8ba296721|   fl|      3.5|   43514|   white|   brown|mercedes-benz fin...|25600|       27600|Thu Dec 18 2014 0...|    sedan|\n",
      "|2012|mercedes-benz|        m-class|  ML350 BlueTEC|      suv|   automatic|4jgda2eb1ca074994|   ca|      4.3|   45365|    gray|    gray| land rover san jose|35100|       35000|Tue Jan 06 2015 1...|      suv|\n",
      "|2013|         ford|transit connect|  Cargo Van XLT|  minivan|   automatic|nm0ls7dn8dt148923|   tx|      4.7|    4551|   white|    gray|enterprise fleet ...|17200|       17000|Wed Dec 31 2014 1...|  minivan|\n",
      "|2008|          gmc|       yukon xl|         Denali|      suv|   automatic|1gkfk66808j174939|   co|      2.5|  103200|   black|   black|  dtg operations inc|16850|       17500|Wed Dec 31 2014 1...|      suv|\n",
      "|2014|          ram|           1500|            SLT| quad cab|   automatic|1c6rr6gt8es416221|   ca|      2.0|    3658|    gray|    gray|enterprise vehicl...|22500|       15900|Tue Dec 30 2014 1...|      cab|\n",
      "|2014|    chevrolet| impala limited|      LTZ Fleet|    sedan|   automatic|2g1wc5e38e1147124|   fl|      4.0|   14080|    gray|   beige|      gm remarketing|15000|       15000|Mon Jan 26 2015 0...|    sedan|\n",
      "|2008|          bmw|       1 series|           135i|    coupe|      manual|wbauc73578vf23541|   fl|      3.7|   80489|    blue|    gray|summer enterprise...|11700|       13500|Tue Dec 30 2014 0...|    coupe|\n",
      "|2014|        dodge|        avenger|             SE|    sedan|   automatic|1c3cdzab6en110572|   co|      4.3|   27444|     red|   beige|        gm financial|11100|       11900|Tue Dec 23 2014 1...|    sedan|\n",
      "|2012|   volkswagen|             cc|          Sport|    sedan|   automatic|wvwmn7an1ce540261|   fl|      4.1|   22991|    blue|   beige|expert auto group...|14050|       14700|Thu Dec 18 2014 1...|    sedan|\n",
      "+----+-------------+---------------+---------------+---------+------------+-----------------+-----+---------+--------+--------+--------+--------------------+-----+------------+--------------------+---------+\n",
      "only showing top 20 rows\n",
      "\n"
     ]
    }
   ],
   "source": [
    "df.show()"
   ]
  },
  {
   "cell_type": "code",
   "execution_count": 29,
   "id": "c7378a60",
   "metadata": {},
   "outputs": [
    {
     "name": "stdout",
     "output_type": "stream",
     "text": [
      "+----+----+-----+----+----+------------+---+-----+---------+--------+-----+--------+------+---+------------+--------+---------+\n",
      "|year|make|model|trim|body|transmission|vin|state|condition|odometer|color|interior|seller|mmr|sellingprice|saledate|body_type|\n",
      "+----+----+-----+----+----+------------+---+-----+---------+--------+-----+--------+------+---+------------+--------+---------+\n",
      "+----+----+-----+----+----+------------+---+-----+---------+--------+-----+--------+------+---+------------+--------+---------+\n",
      "\n"
     ]
    },
    {
     "name": "stderr",
     "output_type": "stream",
     "text": [
      "\r",
      "[Stage 179:=======>                                                 (1 + 7) / 8]\r"
     ]
    }
   ],
   "source": [
    "def is_numeric(value):\n",
    "    try:\n",
    "        float(value)\n",
    "        return True\n",
    "    except ValueError:\n",
    "        return False\n",
    "\n",
    "is_numeric_udf = udf(is_numeric, BooleanType())\n",
    "\n",
    "df.filter(~is_numeric_udf(col(\"mmr\"))).show()"
   ]
  },
  {
   "cell_type": "code",
   "execution_count": 30,
   "id": "13814273",
   "metadata": {},
   "outputs": [
    {
     "name": "stderr",
     "output_type": "stream",
     "text": [
      "\r",
      "[Stage 182:>                                                        (0 + 4) / 4]\r"
     ]
    },
    {
     "name": "stdout",
     "output_type": "stream",
     "text": [
      "+-------+------------------+------+-----------------+-----------------+----------+------------+-----------------+------+------------------+------------------+------+--------+--------------------+-----------------+------------------+--------------------+---------+\n",
      "|summary|              year|  make|            model|             trim|      body|transmission|              vin| state|         condition|          odometer| color|interior|              seller|              mmr|      sellingprice|            saledate|body_type|\n",
      "+-------+------------------+------+-----------------+-----------------+----------+------------+-----------------+------+------------------+------------------+------+--------+--------------------+-----------------+------------------+--------------------+---------+\n",
      "|  count|            440403|440403|           440403|           440403|    440403|      440403|           440403|440403|            440403|            440403|440403|  440403|              440403|           440403|            440403|              440403|   440403|\n",
      "|   mean| 2010.135546306451|  NULL|792.9732079488999|378.9737514945275|      NULL|        NULL|             NULL|  NULL|3.4105601006355393| 67673.32837878034|  NULL|    NULL|                NULL|13645.91856776634|13499.895541129375|                NULL|     NULL|\n",
      "| stddev|3.8343812960404224|  NULL|807.4243361140836|855.8373107132091|      NULL|        NULL|             NULL|  NULL|0.9418832997963358|52150.906014961205|  NULL|    NULL|                NULL|9435.569254344875|  9514.81231643145|                NULL|     NULL|\n",
      "|    min|              1990| acura|         1 series|                !|access cab|   automatic|137za84341e193591|    al|               1.0|                 1| beige|   beige|\"enterprise vehic...|               25|                 1|Fri Apr 03 2015 0...|      cab|\n",
      "|    25%|              2008|  NULL|            200.0|              2.5|      NULL|        NULL|             NULL|  NULL|               2.7|             28808|  NULL|    NULL|                NULL|             7250|              7000|                NULL|     NULL|\n",
      "|    50%|              2012|  NULL|            300.0|              2.5|      NULL|        NULL|             NULL|  NULL|               3.6|             52488|  NULL|    NULL|                NULL|            12150|             12000|                NULL|     NULL|\n",
      "|    75%|              2013|  NULL|           1500.0|              3.8|      NULL|        NULL|             NULL|  NULL|               4.2|             97884|  NULL|    NULL|                NULL|            18050|             18000|                NULL|     NULL|\n",
      "|    max|              2015| volvo|           zephyr|        xDrive50i|   xtracab|      manual|zhwgu22t97la05738|    wi|               5.0|            999999|yellow|  yellow|      zygi auto corp|           182000|            230000|Wed May 27 2015 1...|    wagon|\n",
      "+-------+------------------+------+-----------------+-----------------+----------+------------+-----------------+------+------------------+------------------+------+--------+--------------------+-----------------+------------------+--------------------+---------+\n",
      "\n"
     ]
    },
    {
     "name": "stderr",
     "output_type": "stream",
     "text": [
      "\r",
      "                                                                                \r"
     ]
    }
   ],
   "source": [
    "df.summary().show()"
   ]
  },
  {
   "cell_type": "code",
   "execution_count": 31,
   "id": "2ed36c39",
   "metadata": {},
   "outputs": [
    {
     "name": "stdout",
     "output_type": "stream",
     "text": [
      "+-----------+------+\n",
      "|  body_type| count|\n",
      "+-----------+------+\n",
      "|      sedan|203397|\n",
      "|        suv|112922|\n",
      "|        cab| 38070|\n",
      "|  hatchback| 21539|\n",
      "|    minivan| 20907|\n",
      "|      coupe| 16679|\n",
      "|      wagon| 13378|\n",
      "|convertible|  8905|\n",
      "|        van|  4449|\n",
      "|       koup|   157|\n",
      "+-----------+------+\n",
      "\n"
     ]
    }
   ],
   "source": [
    "# Body Type Categorization\n",
    "df = df.withColumn(\n",
    "    \"body_type\",\n",
    "     when(col(\"body\").like(\"%cab%\"), \"cab\")\n",
    "    .when(col(\"body\").like(\"%suv%\"), \"suv\")\n",
    "    .when(col(\"body\").like(\"%sedan%\"), \"sedan\")\n",
    "    .when(col(\"body\").like(\"%hatchback%\"), \"hatchback\")\n",
    "    .when(col(\"body\") == \"minivan\", \"minivan\")\n",
    "    .when(col(\"body\").like(\"%van%\"), \"van\")\n",
    "    .when(col(\"body\") == \"supercrew\", \"cab\")\n",
    "    .when(col(\"body\").like(\"%coupe%\"), \"coupe\")\n",
    "    .when(col(\"body\").like(\"%wagon%\"), \"wagon\")\n",
    "    .when(col(\"body\").like(\"%convertible%\"), \"convertible\")\n",
    "    .when(col(\"body\").like(\"%koup%\"), \"koup\")\n",
    ")\n",
    "df.groupBy(\"body_type\").count().sort(desc(\"count\")).show()"
   ]
  },
  {
   "cell_type": "markdown",
   "id": "569634a6",
   "metadata": {},
   "source": [
    "## Model-Making"
   ]
  },
  {
   "cell_type": "code",
   "execution_count": 32,
   "id": "5239bbe8",
   "metadata": {},
   "outputs": [
    {
     "name": "stdout",
     "output_type": "stream",
     "text": [
      "+----+-----------+------------+---------+--------+--------+--------+-----+\n",
      "|year|  body_type|transmission|condition|odometer|   color|interior|  mmr|\n",
      "+----+-----------+------------+---------+--------+--------+--------+-----+\n",
      "|2009|      sedan|   automatic|      2.9|   91341|   black|   black| 8650|\n",
      "|2008|convertible|   automatic|      3.3|   69135|     red|   black| 7500|\n",
      "|2008|        suv|   automatic|      4.1|  170726|    blue|    gray|10300|\n",
      "|2006|      sedan|   automatic|      1.9|  110866|     red|    gray| 2025|\n",
      "|2013|      sedan|      manual|      3.9|   24072|    gray|   black|11750|\n",
      "|2013|        suv|   automatic|      3.7|   19499|  silver|   black|17050|\n",
      "|2010|      sedan|   automatic|      2.0|  153354|    gray|    gray| 5750|\n",
      "|2010|        cab|   automatic|      2.6|   76422|   black|    gray|19400|\n",
      "|2014|        van|   automatic|      4.9|    5620|   white|    gray|20400|\n",
      "|2014|        cab|   automatic|      4.2|   17665|     red|    gray|20500|\n",
      "|2012|        suv|   automatic|      4.1|   41449|   white|   beige|28800|\n",
      "|2014|      sedan|   automatic|      3.8|   16379|    gray|   black|29500|\n",
      "|2012|        suv|   automatic|      2.0|   26796|  silver|    gray|16300|\n",
      "|2001|        suv|   automatic|      1.9|  156047|  silver|    gray| 2000|\n",
      "|2005|        cab|   automatic|      3.5|  121260|   black|    gray| 7675|\n",
      "|2008|convertible|   automatic|      4.1|   36138|   green|   beige| 8700|\n",
      "|2006|      coupe|   automatic|      1.9|  146935|  silver|   black| 4100|\n",
      "|2009|  hatchback|   automatic|      2.5|   50111|    blue|   black| 8675|\n",
      "|2011|      sedan|   automatic|      2.6|   75999|burgundy|    gray| 7525|\n",
      "|2012|        suv|   automatic|      3.0|   25810|    gray|    gray|16600|\n",
      "+----+-----------+------------+---------+--------+--------+--------+-----+\n",
      "only showing top 20 rows\n",
      "\n"
     ]
    }
   ],
   "source": [
    "# \"year\", \"make\", \"model\", \"body\", \"transmission\", \"condition\", \"odometer\", \"color\"\n",
    "features_df = df.select([\"year\", \"body_type\", \"transmission\", \"condition\", \"odometer\", \"color\", \"interior\", \"mmr\"])\n",
    "features_df.show()"
   ]
  },
  {
   "cell_type": "code",
   "execution_count": 33,
   "id": "1e7283a4",
   "metadata": {},
   "outputs": [],
   "source": [
    "from pyspark.sql.types import *\n",
    "from pyspark.ml.feature import StringIndexer\n",
    "from pyspark.ml.feature import VectorAssembler\n",
    "from pyspark.ml.feature import VectorIndexer\n",
    "from pyspark.ml import Pipeline"
   ]
  },
  {
   "cell_type": "code",
   "execution_count": 34,
   "id": "f13fb37f",
   "metadata": {},
   "outputs": [
    {
     "name": "stdout",
     "output_type": "stream",
     "text": [
      "+----+-----------+------------+---------+--------+--------+--------+-----+-------------+----------------+---------+------------+\n",
      "|year|  body_type|transmission|condition|odometer|   color|interior|  mmr|body_type_idx|transmission_idx|color_idx|interior_idx|\n",
      "+----+-----------+------------+---------+--------+--------+--------+-----+-------------+----------------+---------+------------+\n",
      "|2009|      sedan|   automatic|      2.9|   91341|   black|   black| 8650|          0.0|             0.0|      0.0|         0.0|\n",
      "|2008|convertible|   automatic|      3.3|   69135|     red|   black| 7500|          7.0|             0.0|      5.0|         0.0|\n",
      "|2008|        suv|   automatic|      4.1|  170726|    blue|    gray|10300|          1.0|             0.0|      4.0|         1.0|\n",
      "|2006|      sedan|   automatic|      1.9|  110866|     red|    gray| 2025|          0.0|             0.0|      5.0|         1.0|\n",
      "|2013|      sedan|      manual|      3.9|   24072|    gray|   black|11750|          0.0|             1.0|      3.0|         0.0|\n",
      "|2013|        suv|   automatic|      3.7|   19499|  silver|   black|17050|          1.0|             0.0|      2.0|         0.0|\n",
      "|2010|      sedan|   automatic|      2.0|  153354|    gray|    gray| 5750|          0.0|             0.0|      3.0|         1.0|\n",
      "|2010|        cab|   automatic|      2.6|   76422|   black|    gray|19400|          2.0|             0.0|      0.0|         1.0|\n",
      "|2014|        van|   automatic|      4.9|    5620|   white|    gray|20400|          8.0|             0.0|      1.0|         1.0|\n",
      "|2014|        cab|   automatic|      4.2|   17665|     red|    gray|20500|          2.0|             0.0|      5.0|         1.0|\n",
      "|2012|        suv|   automatic|      4.1|   41449|   white|   beige|28800|          1.0|             0.0|      1.0|         2.0|\n",
      "|2014|      sedan|   automatic|      3.8|   16379|    gray|   black|29500|          0.0|             0.0|      3.0|         0.0|\n",
      "|2012|        suv|   automatic|      2.0|   26796|  silver|    gray|16300|          1.0|             0.0|      2.0|         1.0|\n",
      "|2001|        suv|   automatic|      1.9|  156047|  silver|    gray| 2000|          1.0|             0.0|      2.0|         1.0|\n",
      "|2005|        cab|   automatic|      3.5|  121260|   black|    gray| 7675|          2.0|             0.0|      0.0|         1.0|\n",
      "|2008|convertible|   automatic|      4.1|   36138|   green|   beige| 8700|          7.0|             0.0|      7.0|         2.0|\n",
      "|2006|      coupe|   automatic|      1.9|  146935|  silver|   black| 4100|          5.0|             0.0|      2.0|         0.0|\n",
      "|2009|  hatchback|   automatic|      2.5|   50111|    blue|   black| 8675|          3.0|             0.0|      4.0|         0.0|\n",
      "|2011|      sedan|   automatic|      2.6|   75999|burgundy|    gray| 7525|          0.0|             0.0|      8.0|         1.0|\n",
      "|2012|        suv|   automatic|      3.0|   25810|    gray|    gray|16600|          1.0|             0.0|      3.0|         1.0|\n",
      "+----+-----------+------------+---------+--------+--------+--------+-----+-------------+----------------+---------+------------+\n",
      "only showing top 20 rows\n",
      "\n"
     ]
    }
   ],
   "source": [
    "indexers = [StringIndexer(inputCol=col, outputCol=col+'_idx').fit(features_df) for col in [\"body_type\", \"transmission\",\"color\", \"interior\"]]\n",
    "pipeline = Pipeline(stages=indexers)\n",
    "features_df = pipeline.fit(features_df).transform(features_df)\n",
    "features_df.show()"
   ]
  },
  {
   "cell_type": "code",
   "execution_count": 35,
   "id": "1daf5237",
   "metadata": {},
   "outputs": [
    {
     "name": "stdout",
     "output_type": "stream",
     "text": [
      "+----+-----------+------------+---------+--------+--------+--------+-----+-------------+----------------+---------+------------+---------------------------------+\n",
      "|year|body_type  |transmission|condition|odometer|color   |interior|mmr  |body_type_idx|transmission_idx|color_idx|interior_idx|features                         |\n",
      "+----+-----------+------------+---------+--------+--------+--------+-----+-------------+----------------+---------+------------+---------------------------------+\n",
      "|2009|sedan      |automatic   |2.9      |91341   |black   |black   |8650 |0.0          |0.0             |0.0      |0.0         |(6,[0,3],[2009.0,91341.0])       |\n",
      "|2008|convertible|automatic   |3.3      |69135   |red     |black   |7500 |7.0          |0.0             |5.0      |0.0         |[2008.0,7.0,0.0,69135.0,5.0,0.0] |\n",
      "|2008|suv        |automatic   |4.1      |170726  |blue    |gray    |10300|1.0          |0.0             |4.0      |1.0         |[2008.0,1.0,0.0,170726.0,4.0,1.0]|\n",
      "|2006|sedan      |automatic   |1.9      |110866  |red     |gray    |2025 |0.0          |0.0             |5.0      |1.0         |[2006.0,0.0,0.0,110866.0,5.0,1.0]|\n",
      "|2013|sedan      |manual      |3.9      |24072   |gray    |black   |11750|0.0          |1.0             |3.0      |0.0         |[2013.0,0.0,1.0,24072.0,3.0,0.0] |\n",
      "|2013|suv        |automatic   |3.7      |19499   |silver  |black   |17050|1.0          |0.0             |2.0      |0.0         |[2013.0,1.0,0.0,19499.0,2.0,0.0] |\n",
      "|2010|sedan      |automatic   |2.0      |153354  |gray    |gray    |5750 |0.0          |0.0             |3.0      |1.0         |[2010.0,0.0,0.0,153354.0,3.0,1.0]|\n",
      "|2010|cab        |automatic   |2.6      |76422   |black   |gray    |19400|2.0          |0.0             |0.0      |1.0         |[2010.0,2.0,0.0,76422.0,0.0,1.0] |\n",
      "|2014|van        |automatic   |4.9      |5620    |white   |gray    |20400|8.0          |0.0             |1.0      |1.0         |[2014.0,8.0,0.0,5620.0,1.0,1.0]  |\n",
      "|2014|cab        |automatic   |4.2      |17665   |red     |gray    |20500|2.0          |0.0             |5.0      |1.0         |[2014.0,2.0,0.0,17665.0,5.0,1.0] |\n",
      "|2012|suv        |automatic   |4.1      |41449   |white   |beige   |28800|1.0          |0.0             |1.0      |2.0         |[2012.0,1.0,0.0,41449.0,1.0,2.0] |\n",
      "|2014|sedan      |automatic   |3.8      |16379   |gray    |black   |29500|0.0          |0.0             |3.0      |0.0         |[2014.0,0.0,0.0,16379.0,3.0,0.0] |\n",
      "|2012|suv        |automatic   |2.0      |26796   |silver  |gray    |16300|1.0          |0.0             |2.0      |1.0         |[2012.0,1.0,0.0,26796.0,2.0,1.0] |\n",
      "|2001|suv        |automatic   |1.9      |156047  |silver  |gray    |2000 |1.0          |0.0             |2.0      |1.0         |[2001.0,1.0,0.0,156047.0,2.0,1.0]|\n",
      "|2005|cab        |automatic   |3.5      |121260  |black   |gray    |7675 |2.0          |0.0             |0.0      |1.0         |[2005.0,2.0,0.0,121260.0,0.0,1.0]|\n",
      "|2008|convertible|automatic   |4.1      |36138   |green   |beige   |8700 |7.0          |0.0             |7.0      |2.0         |[2008.0,7.0,0.0,36138.0,7.0,2.0] |\n",
      "|2006|coupe      |automatic   |1.9      |146935  |silver  |black   |4100 |5.0          |0.0             |2.0      |0.0         |[2006.0,5.0,0.0,146935.0,2.0,0.0]|\n",
      "|2009|hatchback  |automatic   |2.5      |50111   |blue    |black   |8675 |3.0          |0.0             |4.0      |0.0         |[2009.0,3.0,0.0,50111.0,4.0,0.0] |\n",
      "|2011|sedan      |automatic   |2.6      |75999   |burgundy|gray    |7525 |0.0          |0.0             |8.0      |1.0         |[2011.0,0.0,0.0,75999.0,8.0,1.0] |\n",
      "|2012|suv        |automatic   |3.0      |25810   |gray    |gray    |16600|1.0          |0.0             |3.0      |1.0         |[2012.0,1.0,0.0,25810.0,3.0,1.0] |\n",
      "+----+-----------+------------+---------+--------+--------+--------+-----+-------------+----------------+---------+------------+---------------------------------+\n",
      "only showing top 20 rows\n",
      "\n"
     ]
    }
   ],
   "source": [
    "assembler = VectorAssembler(\n",
    "    inputCols=[\"year\", \"body_type_idx\", \"transmission_idx\", \"odometer\", \"color_idx\", \"interior_idx\"],\n",
    "    outputCol=\"features\"\n",
    ")\n",
    "features_df = assembler.transform(features_df)\n",
    "features_df.show(truncate=False)"
   ]
  },
  {
   "cell_type": "code",
   "execution_count": 36,
   "id": "08c9155f",
   "metadata": {},
   "outputs": [
    {
     "name": "stdout",
     "output_type": "stream",
     "text": [
      "+---------------------------------+-----+\n",
      "|features                         |mmr  |\n",
      "+---------------------------------+-----+\n",
      "|(6,[0,3],[2008.0,128962.0])      |5475 |\n",
      "|[2011.0,0.0,0.0,52875.0,0.0,2.0] |16950|\n",
      "|[2002.0,0.0,0.0,125093.0,3.0,0.0]|2475 |\n",
      "|[2014.0,5.0,0.0,4760.0,5.0,0.0]  |18100|\n",
      "|[2011.0,1.0,0.0,49007.0,2.0,0.0] |21000|\n",
      "|[2010.0,1.0,0.0,82837.0,0.0,1.0] |27600|\n",
      "|[2011.0,2.0,0.0,47190.0,5.0,1.0] |15700|\n",
      "|[2004.0,2.0,0.0,117633.0,9.0,2.0]|4825 |\n",
      "|[2015.0,1.0,0.0,21433.0,3.0,0.0] |19600|\n",
      "|[2005.0,0.0,0.0,118274.0,4.0,0.0]|4775 |\n",
      "|[2013.0,0.0,0.0,19031.0,0.0,10.0]|33100|\n",
      "|[2011.0,0.0,0.0,72619.0,1.0,0.0] |7875 |\n",
      "|[2008.0,0.0,0.0,108617.0,0.0,1.0]|4475 |\n",
      "|[2006.0,0.0,0.0,97114.0,0.0,1.0] |10500|\n",
      "|[2006.0,1.0,0.0,117611.0,1.0,1.0]|3525 |\n",
      "|[2012.0,0.0,0.0,56051.0,3.0,0.0] |11200|\n",
      "|[2004.0,0.0,1.0,126041.0,2.0,0.0]|2325 |\n",
      "|[2013.0,0.0,0.0,39510.0,8.0,0.0] |19800|\n",
      "|[2013.0,1.0,0.0,21231.0,1.0,1.0] |15650|\n",
      "|[2013.0,4.0,0.0,26123.0,3.0,0.0] |13250|\n",
      "+---------------------------------+-----+\n",
      "only showing top 20 rows\n",
      "\n"
     ]
    }
   ],
   "source": [
    "features_vector_df = features_df.select(['features','mmr'])\n",
    "features_vector_df = features_vector_df.withColumn('mmr', features_vector_df['mmr'].cast(IntegerType()))\n",
    "features_vector_df.show(truncate=False)"
   ]
  },
  {
   "cell_type": "code",
   "execution_count": 48,
   "id": "98164d13",
   "metadata": {},
   "outputs": [],
   "source": [
    "(trainData, testData) = features_vector_df.randomSplit([0.8, 0.2], seed=42)"
   ]
  },
  {
   "cell_type": "code",
   "execution_count": 49,
   "id": "ac1f4f70",
   "metadata": {},
   "outputs": [
    {
     "name": "stdout",
     "output_type": "stream",
     "text": [
      "+--------------------+----+\n",
      "|            features| mmr|\n",
      "+--------------------+----+\n",
      "|(6,[0,3],[1991.0,...| 825|\n",
      "|(6,[0,3],[1995.0,...|1825|\n",
      "|(6,[0,3],[1995.0,...| 550|\n",
      "|(6,[0,3],[1996.0,...| 850|\n",
      "|(6,[0,3],[1996.0,...| 850|\n",
      "|(6,[0,3],[1997.0,...| 950|\n",
      "|(6,[0,3],[1998.0,...|1650|\n",
      "|(6,[0,3],[1998.0,...| 700|\n",
      "|(6,[0,3],[1998.0,...| 925|\n",
      "|(6,[0,3],[1999.0,...|1575|\n",
      "|(6,[0,3],[1999.0,...|2275|\n",
      "|(6,[0,3],[1999.0,...|2025|\n",
      "|(6,[0,3],[1999.0,...|1000|\n",
      "|(6,[0,3],[1999.0,...|1475|\n",
      "|(6,[0,3],[1999.0,...|2025|\n",
      "|(6,[0,3],[2000.0,...|2050|\n",
      "|(6,[0,3],[2000.0,...|2850|\n",
      "|(6,[0,3],[2000.0,...|1925|\n",
      "|(6,[0,3],[2000.0,...|1750|\n",
      "|(6,[0,3],[2000.0,...|1725|\n",
      "+--------------------+----+\n",
      "only showing top 20 rows\n",
      "\n"
     ]
    }
   ],
   "source": [
    "trainData.show()"
   ]
  },
  {
   "cell_type": "code",
   "execution_count": 50,
   "id": "31ecca34",
   "metadata": {},
   "outputs": [],
   "source": [
    "# Import classification models\n",
    "\n",
    "from pyspark.ml.regression import RandomForestRegressor"
   ]
  },
  {
   "cell_type": "code",
   "execution_count": 51,
   "id": "7e00f0fd",
   "metadata": {},
   "outputs": [
    {
     "name": "stderr",
     "output_type": "stream",
     "text": [
      "\r",
      "[Stage 294:>                                                        (0 + 4) / 4]\r",
      "\r",
      "                                                                                \r"
     ]
    }
   ],
   "source": [
    "rf = RandomForestRegressor(labelCol=\"mmr\", featuresCol=\"features\").fit(trainData)"
   ]
  },
  {
   "cell_type": "code",
   "execution_count": 52,
   "id": "564206b6",
   "metadata": {},
   "outputs": [
    {
     "name": "stdout",
     "output_type": "stream",
     "text": [
      "+--------------------+----+------------------+\n",
      "|            features| mmr|        prediction|\n",
      "+--------------------+----+------------------+\n",
      "|(6,[0,3],[1995.0,...|1000|3772.2759705701947|\n",
      "|(6,[0,3],[1997.0,...|1175|3772.2759705701947|\n",
      "|(6,[0,3],[1998.0,...|4000|12315.465208868423|\n",
      "|(6,[0,3],[1999.0,...| 825|5271.3616879513675|\n",
      "|(6,[0,3],[2000.0,...|2900|11150.932468240342|\n",
      "|(6,[0,3],[2000.0,...|2625| 4145.303389299348|\n",
      "|(6,[0,3],[2000.0,...| 950|3772.2759705701947|\n",
      "|(6,[0,3],[2001.0,...|2300| 6626.539169637092|\n",
      "|(6,[0,3],[2001.0,...|1425|3753.7845590225274|\n",
      "|(6,[0,3],[2001.0,...|1850|3753.7845590225274|\n",
      "|(6,[0,3],[2001.0,...|2175|3753.7845590225274|\n",
      "|(6,[0,3],[2001.0,...|2525|3753.7845590225274|\n",
      "|(6,[0,3],[2001.0,...|3550|3753.7845590225274|\n",
      "|(6,[0,3],[2001.0,...| 975|3753.7845590225274|\n",
      "|(6,[0,3],[2002.0,...|5125| 6700.053904849291|\n",
      "|(6,[0,3],[2002.0,...|1800| 5344.876423163568|\n",
      "|(6,[0,3],[2002.0,...|3075|3827.2992942347278|\n",
      "|(6,[0,3],[2003.0,...|6025| 6363.784416557144|\n",
      "|(6,[0,3],[2003.0,...|2950| 4717.405432177123|\n",
      "|(6,[0,3],[2003.0,...|3100| 4218.818124511547|\n",
      "+--------------------+----+------------------+\n",
      "only showing top 20 rows\n",
      "\n"
     ]
    }
   ],
   "source": [
    "predictedData = rf.transform(testData)\n",
    "predictedData.show()"
   ]
  },
  {
   "cell_type": "code",
   "execution_count": 53,
   "id": "74ad2a34",
   "metadata": {},
   "outputs": [],
   "source": [
    "from pyspark.ml.regression import LinearRegression"
   ]
  },
  {
   "cell_type": "code",
   "execution_count": 54,
   "id": "1bf7ff97",
   "metadata": {},
   "outputs": [],
   "source": [
    "lr = LinearRegression(labelCol=\"mmr\", featuresCol=\"features\")"
   ]
  },
  {
   "cell_type": "code",
   "execution_count": 55,
   "id": "f8529af7",
   "metadata": {},
   "outputs": [
    {
     "name": "stderr",
     "output_type": "stream",
     "text": [
      "24/05/21 22:13:44 WARN Instrumentation: [f0a03281] regParam is zero, which might cause numerical instability and overfitting.\n"
     ]
    },
    {
     "name": "stdout",
     "output_type": "stream",
     "text": [
      "+--------------------+----+------------------+\n",
      "|            features| mmr|        prediction|\n",
      "+--------------------+----+------------------+\n",
      "|(6,[0,3],[1995.0,...|1000|-7477.758853127714|\n",
      "|(6,[0,3],[1997.0,...|1175|-4854.502307966119|\n",
      "|(6,[0,3],[1998.0,...|4000| 6491.479753039312|\n",
      "|(6,[0,3],[1999.0,...| 825|1484.4832051359117|\n",
      "|(6,[0,3],[2000.0,...|2900| 6049.502044158056|\n",
      "|(6,[0,3],[2000.0,...|2625|1243.0052000151481|\n",
      "|(6,[0,3],[2000.0,...| 950| -3088.20066066063|\n",
      "|(6,[0,3],[2001.0,...|2300| 4934.584440817358|\n",
      "|(6,[0,3],[2001.0,...|1425| 568.7619451463688|\n",
      "|(6,[0,3],[2001.0,...|1850|285.00870034401305|\n",
      "|(6,[0,3],[2001.0,...|2175|267.64307053689845|\n",
      "|(6,[0,3],[2001.0,...|2525|27.045994859188795|\n",
      "|(6,[0,3],[2001.0,...|3550|-85.17150732688606|\n",
      "|(6,[0,3],[2001.0,...| 975|-800.7156926142052|\n",
      "|(6,[0,3],[2002.0,...|5125| 5838.550255252281|\n",
      "|(6,[0,3],[2002.0,...|1800|4077.8014798900113|\n",
      "|(6,[0,3],[2002.0,...|3075|  1579.44328004634|\n",
      "|(6,[0,3],[2003.0,...|6025| 5978.657607411966|\n",
      "|(6,[0,3],[2003.0,...|2950| 4663.512039146852|\n",
      "|(6,[0,3],[2003.0,...|3100|3975.3631378456485|\n",
      "+--------------------+----+------------------+\n",
      "only showing top 20 rows\n",
      "\n"
     ]
    }
   ],
   "source": [
    "# Fit the LinearRegression model to the training data\n",
    "lrModel = lr.fit(trainData)\n",
    "\n",
    "# Use the trained model to make predictions on the test data\n",
    "predictedData = lrModel.transform(testData)\n",
    "\n",
    "# Show the predicted data\n",
    "predictedData.show()"
   ]
  },
  {
   "cell_type": "markdown",
   "id": "b1b4abfa",
   "metadata": {},
   "source": [
    "## Model Evaluation"
   ]
  },
  {
   "cell_type": "code",
   "execution_count": 56,
   "id": "04f5c7e5",
   "metadata": {},
   "outputs": [],
   "source": [
    "# Import evaluation models\n",
    "\n",
    "from pyspark.ml.evaluation import RegressionEvaluator\n",
    "from pyspark.mllib.evaluation import MulticlassMetrics\n"
   ]
  },
  {
   "cell_type": "code",
   "execution_count": 57,
   "id": "d9e9af6b",
   "metadata": {},
   "outputs": [
    {
     "name": "stdout",
     "output_type": "stream",
     "text": [
      "Root Mean Squared Error (RMSE) 7223.210532345055\n",
      "Mean Squared Error (MSE) 52174770.394580536\n",
      "R-squared (R²) 0.4055157492134709\n"
     ]
    }
   ],
   "source": [
    "evaluator1 = RegressionEvaluator(\n",
    "    labelCol=\"mmr\", predictionCol=\"prediction\", metricName=\"rmse\")\n",
    "evaluator2 = RegressionEvaluator(\n",
    "    labelCol=\"mmr\", predictionCol=\"prediction\", metricName=\"mse\")\n",
    "evaluator3 = RegressionEvaluator(\n",
    "    labelCol=\"mmr\", predictionCol=\"prediction\", metricName=\"r2\")\n",
    "rmse = evaluator1.evaluate(predictedData)\n",
    "mse = evaluator2.evaluate(predictedData)\n",
    "r2 = evaluator3.evaluate(predictedData)\n",
    "print(\"Root Mean Squared Error (RMSE)\", rmse)\n",
    "print(\"Mean Squared Error (MSE)\", mse)\n",
    "print(\"R-squared (R²)\", r2)"
   ]
  },
  {
   "cell_type": "code",
   "execution_count": 58,
   "id": "d71cf4ac",
   "metadata": {},
   "outputs": [
    {
     "name": "stdout",
     "output_type": "stream",
     "text": [
      "Mean Absolute Percentage Error (MAPE) on test data = 63.076883842008236%\n"
     ]
    }
   ],
   "source": [
    "predictions = predictedData.withColumn(\"ape\", abs((col(\"mmr\") - col(\"prediction\")) / col(\"mmr\")))\n",
    "mape = predictions.select(mean(col(\"ape\"))).collect()[0][0] * 100\n",
    "\n",
    "print(f\"Mean Absolute Percentage Error (MAPE) on test data = {mape}%\")"
   ]
  },
  {
   "cell_type": "code",
   "execution_count": null,
   "id": "8102c8d2",
   "metadata": {},
   "outputs": [],
   "source": []
  }
 ],
 "metadata": {
  "kernelspec": {
   "display_name": "Python 3 (ipykernel)",
   "language": "python",
   "name": "python3"
  },
  "language_info": {
   "codemirror_mode": {
    "name": "ipython",
    "version": 3
   },
   "file_extension": ".py",
   "mimetype": "text/x-python",
   "name": "python",
   "nbconvert_exporter": "python",
   "pygments_lexer": "ipython3",
   "version": "3.10.11"
  }
 },
 "nbformat": 4,
 "nbformat_minor": 5
}
