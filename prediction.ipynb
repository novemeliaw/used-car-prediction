{
 "cells": [
  {
   "cell_type": "markdown",
   "id": "032f48b2",
   "metadata": {},
   "source": [
    "## Used Car Prediction\n",
    "\n",
    "Main Objective : Predict selling price for car sellers\n",
    "\n",
    "<img src=\"https://img.etimg.com/thumb/msid-106586397,width-300,height-225,imgsize-39324,resizemode-75/car-sales.jpg\" />"
   ]
  },
  {
   "cell_type": "code",
   "execution_count": 1,
   "id": "7ce98173",
   "metadata": {},
   "outputs": [],
   "source": [
    "from pyspark.sql import SparkSession\n",
    "\n",
    "spark = (SparkSession.builder\n",
    "         .appName('Used Car Prediction')\n",
    "         .master('local[*]')\n",
    "         .getOrCreate()\n",
    "        )"
   ]
  },
  {
   "cell_type": "code",
   "execution_count": 35,
   "id": "da0a34d0",
   "metadata": {},
   "outputs": [],
   "source": [
    "# Set the legacy time parser policy on the existing Spark session\n",
    "spark.conf.set(\"spark.sql.legacy.timeParserPolicy\", \"LEGACY\")"
   ]
  },
  {
   "cell_type": "code",
   "execution_count": 3,
   "id": "e116e95f",
   "metadata": {},
   "outputs": [
    {
     "name": "stdout",
     "output_type": "stream",
     "text": [
      "+----+-------------+----------------+--------------------+-----------+------------+-----------------+-----+---------+--------+--------+--------+---------------------------------------------+-----+------------+---------------------------------------+\n",
      "|year|         make|           model|                trim|       body|transmission|              vin|state|condition|odometer|   color|interior|                                       seller|  mmr|sellingprice|                               saledate|\n",
      "+----+-------------+----------------+--------------------+-----------+------------+-----------------+-----+---------+--------+--------+--------+---------------------------------------------+-----+------------+---------------------------------------+\n",
      "|2009|     Chrysler|Town and Country|             Touring|    Minivan|   automatic|2a8hr54179r570758|   wi|      1.6| 90655.0|    gold|     tan|                        dt credit corporation| 8425|        7900|Wed Jan 21 2015 02:00:00 GMT-0800 (PST)|\n",
      "|2007|    Chevrolet|  Silverado 1500|          Work Truck|   Crew Cab|   automatic|2gcec13c971578282|   ca|     NULL|106732.0|    blue|   black|                                   auto plaza|13350|       14500|Thu Dec 18 2014 13:00:00 GMT-0800 (PST)|\n",
      "|2011|       Nissan|            Leaf|                  SL|  Hatchback|   automatic|jn1az0cp8bt007673|   wa|      4.1| 21852.0|     red|   beige|                           nissan-infiniti lt|10450|       10900|Wed Jan 21 2015 06:40:00 GMT-0800 (PST)|\n",
      "|2006|          GMC|        Envoy XL|              Denali|        SUV|   automatic|1gket66m066153160|   nv|        2|121829.0|   black|       —|                    titlemax/fort apache-nv16| 7275|        5900|Wed Dec 31 2014 11:00:00 GMT-0800 (PST)|\n",
      "|2011|         Ford|           F-150|                 XLT|  SuperCrew|        NULL|1ftfw1et2bke11814|   mi|      4.8| 31961.0|    gray|    gray|                       automobiles paille inc|25500|       24500|Thu Dec 18 2014 09:30:00 GMT-0800 (PST)|\n",
      "|2007|       HUMMER|              H3|                Base|        SUV|   automatic|5gtdn13ex78160245|   fl|      3.9|107497.0|burgundy|   black|                       mercedes benz of tampa|11400|       12700|Thu Dec 18 2014 16:20:00 GMT-0800 (PST)|\n",
      "|2004|   Volkswagen|           Jetta|            GLI 1.8T|      Sedan|        NULL|3vwse69m54m021929|   il|     NULL|106381.0|    blue|       —|                      grossinger autoplex inc| 2700|        2500|Thu Dec 18 2014 14:00:00 GMT-0800 (PST)|\n",
      "|2012|      Hyundai|   Sonata Hybrid|                Base|      Sedan|   automatic|kmhec4a49ca060519|   fl|      4.1| 50306.0|     red|     tan|                                      gte fcu|13250|       13100|Tue Dec 23 2014 14:00:00 GMT-0800 (PST)|\n",
      "|2014|    Chevrolet|          Impala|                 LTZ|      Sedan|   automatic|2g1155s3xe9133901|   fl|        4| 14037.0|   black|   black|                               gm remarketing|24300|       24700|Mon Feb 09 2015 05:00:00 GMT-0800 (PST)|\n",
      "|2014|          Kia|           Forte|                  LX|      Sedan|   automatic|knafx4a60e5210850|   wi|      3.8| 12835.0|     red|    gray|                      kia motors america, inc|12550|       11900|Wed Feb 18 2015 02:00:00 GMT-0800 (PST)|\n",
      "|2007|         Jeep|        Wrangler|                   X|        SUV|      manual|1j4fa24167l160554|   pa|     NULL| 60967.0|   green|       —|                               randy ford inc|13150|       13900|Fri Dec 19 2014 09:15:00 GMT-0800 (PST)|\n",
      "|2006|          Kia|             Rio|                Base|      Sedan|   automatic|knade123066035429|   ga|     NULL|182744.0|  silver|   black|                                cars & trucks| 1400|        2150|Thu Dec 18 2014 10:00:00 GMT-0800 (PST)|\n",
      "|2011|   Volkswagen|          Tiguan|                  SE|        SUV|   automatic|wvgav7axxbw524469|   tx|      2.5| 69830.0|   white|    gray|                                    vw credit|10550|       10200|Thu Dec 18 2014 11:00:00 GMT-0800 (PST)|\n",
      "|2010|        Honda|         Odyssey|                  LX|    Minivan|   automatic|5fnrl3h27ab080213|   ca|      2.7| 79116.0|   white|     tan|                      high bid trading co inc| 9825|       12500|Wed Dec 17 2014 12:15:00 GMT-0800 (PST)|\n",
      "|2011|         Ford|         Mustang|                  V6|      Coupe|   automatic|1zvbp8am6b5130291|   sc|      2.8| 74223.0|    blue|   black|                            pnc national bank|11350|       12000|Tue Dec 23 2014 09:15:00 GMT-0800 (PST)|\n",
      "|2011|        Buick|         Enclave|                CXL2|        SUV|   automatic|5gakvced6bj367698|   oh|      2.9| 33442.0|    gray|    gray|fiserv/usb dealer services northstar exchange|24100|       23100|Tue Jan 13 2015 09:30:00 GMT-0800 (PST)|\n",
      "|2007|       Saturn|            Aura|                  XE|      Sedan|   automatic|1g8zs57n27f208351|   ca|      3.8|118943.0|   white|   beige|                                   valley kia| 3800|        3800|Thu Dec 18 2014 12:00:00 GMT-0800 (PST)|\n",
      "|2004|      Pontiac|      Grand Prix|                 GT1|      Sedan|   automatic|2g2wp522941339050|   nc|      1.7|117538.0|  silver|   black|                                 dt inventory| 2500|        1300|Tue Dec 30 2014 09:30:00 GMT-0800 (PST)|\n",
      "|2014|         Ford|  E-Series Wagon|E-350 Super Duty XLT|        Van|        NULL|1fbne3blxedb01678|   mn|      3.5| 15939.0|       —|    gray|                            avis budget group|20100|       19900|Tue Dec 23 2014 14:00:00 GMT-0800 (PST)|\n",
      "|2008|     Chrysler|         Sebring|             Limited|Convertible|   automatic|1c3lc65m98n573663|   tx|        2|131199.0|   white|     tan|                     caprock auto remarketing| 3175|        1300|Thu Dec 18 2014 14:00:00 GMT-0800 (PST)|\n",
      "|2011|    Chevrolet|        Traverse|                 LT2|        SUV|   automatic|1gnkrjed2bj415308|   ca|      2.6| 25305.0|  silver|    gray|fiserv/usb dealer services northstar exchange|19150|       18500|Tue Dec 16 2014 12:30:00 GMT-0800 (PST)|\n",
      "|2009|       Nissan|           Rogue|                  SL|        SUV|   automatic|jn8as58v49w436294|   ma|      3.5| 51698.0|  silver|   black|                     capital one auto finance|11000|       12600|Tue Jan 06 2015 01:30:00 GMT-0800 (PST)|\n",
      "|2006|         jeep|        wrangler|            6c sport|       NULL|        NULL|1j4fa49s36p702035|   fl|      2.2| 76807.0|   black|   black|                 remarketing by ge/penair fcu|12900|        9500|Tue Dec 30 2014 11:15:00 GMT-0800 (PST)|\n",
      "|2011|     Infiniti|         G Sedan|                G25x|    G Sedan|        NULL|jn1dv6arxbm451146|   pa|      2.8| 34154.0|   black|   black|                           nissan infiniti lt|17200|       16000|Tue Dec 23 2014 09:00:00 GMT-0800 (PST)|\n",
      "|2012|        Scion|              iQ|                Base|  Hatchback|   automatic|jtnjjxb01cj012739|   ga|      4.3| 14821.0|    gray|   black|                    toyota financial services| 9375|        9200|Thu Dec 18 2014 10:00:00 GMT-0800 (PST)|\n",
      "|2008|         Audi|              S6|             quattro|      Sedan|        NULL|waudn74f78n015312|   va|      2.6|119236.0|  silver|    gray|                    brown's volkswagen suzuki|16700|       14200|Thu Dec 18 2014 09:05:00 GMT-0800 (PST)|\n",
      "|2013|       Nissan|           Rogue|                  SV|        SUV|        NULL|jn8as5mt1dw014710|   ca|      4.3| 22338.0|  silver|   black|                    nissan north america inc.|15050|       18000|Tue Dec 16 2014 12:30:00 GMT-0800 (PST)|\n",
      "|2014|          GMC|     Sierra 1500|                 SLT|   Crew Cab|   automatic|3gtu2vec4eg141863|   tx|      4.4| 31048.0|    blue|   brown|                     winter motor company inc|34500|       35300|Wed Dec 31 2014 10:20:00 GMT-0800 (PST)|\n",
      "|2013|Mercedes-Benz|         C-Class|                C250|      Coupe|   automatic|wddgj4hb6df984949|   nv|      4.5| 21632.0|   white|   black|             mercedes-benz financial services|24600|       24250|Thu Jan 22 2015 06:00:00 GMT-0800 (PST)|\n",
      "|2014|     Infiniti|             Q50|             Premium|      Sedan|   automatic|jn1bv7apxem671757|   ca|      3.8| 12397.0|   black|   black|                    nissan north america inc.|29900|       30000|Thu Dec 18 2014 12:30:00 GMT-0800 (PST)|\n",
      "+----+-------------+----------------+--------------------+-----------+------------+-----------------+-----+---------+--------+--------+--------+---------------------------------------------+-----+------------+---------------------------------------+\n",
      "only showing top 30 rows\n",
      "\n"
     ]
    }
   ],
   "source": [
    "df = spark.read.format('csv').options(header=True, inferSchema=True).load('dataset/car_prices.csv').repartition(4)\n",
    "df.show(30, truncate=50)"
   ]
  },
  {
   "cell_type": "markdown",
   "id": "a55193ee",
   "metadata": {},
   "source": [
    "## Preprocessing & Cleaning"
   ]
  },
  {
   "cell_type": "code",
   "execution_count": 4,
   "id": "dfe6c8c5",
   "metadata": {},
   "outputs": [],
   "source": [
    "from pyspark.sql.types import *\n",
    "from pyspark.sql.functions import *"
   ]
  },
  {
   "cell_type": "code",
   "execution_count": 4,
   "id": "bba2b49c",
   "metadata": {},
   "outputs": [
    {
     "data": {
      "text/plain": [
       "558837"
      ]
     },
     "execution_count": 4,
     "metadata": {},
     "output_type": "execute_result"
    }
   ],
   "source": [
    "# Count raw data\n",
    "df.count()"
   ]
  },
  {
   "cell_type": "code",
   "execution_count": 5,
   "id": "3f78d544",
   "metadata": {},
   "outputs": [
    {
     "name": "stdout",
     "output_type": "stream",
     "text": [
      "+----+-----+-----+-----+-----+------------+---+-----+---------+--------+-----+--------+------+---+------------+--------+\n",
      "|year| make|model| trim| body|transmission|vin|state|condition|odometer|color|interior|seller|mmr|sellingprice|saledate|\n",
      "+----+-----+-----+-----+-----+------------+---+-----+---------+--------+-----+--------+------+---+------------+--------+\n",
      "|   0|10301|10399|10651|13195|       65353|  4|    0|    11794|      94|  749|     749|     0|  0|           0|       0|\n",
      "+----+-----+-----+-----+-----+------------+---+-----+---------+--------+-----+--------+------+---+------------+--------+\n",
      "\n"
     ]
    }
   ],
   "source": [
    "# Count for missing values\n",
    "df.select([count(when(isnan(c) | isnull(c),1)).alias(c) for c in df.columns]).show()"
   ]
  },
  {
   "cell_type": "markdown",
   "id": "cc2f5863",
   "metadata": {},
   "source": [
    "### Filling NULL Transmission"
   ]
  },
  {
   "cell_type": "code",
   "execution_count": 6,
   "id": "3be61b22",
   "metadata": {},
   "outputs": [
    {
     "name": "stdout",
     "output_type": "stream",
     "text": [
      "+-------+----------+-------------+\n",
      "|   body|      make|        model|\n",
      "+-------+----------+-------------+\n",
      "|    suv|   mercury|  mountaineer|\n",
      "|    suv|   mercury|  mountaineer|\n",
      "|    suv|   mercury|  mountaineer|\n",
      "|    suv|   mercury|  mountaineer|\n",
      "|    suv|   mercury|  mountaineer|\n",
      "|    suv|   mercury|  mountaineer|\n",
      "|    suv|   mercury|  mountaineer|\n",
      "|    suv|   mercury|  mountaineer|\n",
      "|    suv|   mercury|  mountaineer|\n",
      "|    suv|   mercury|  mountaineer|\n",
      "|    suv|   mercury|  mountaineer|\n",
      "|    suv|   mercury|  mountaineer|\n",
      "|    suv|   mercury|  mountaineer|\n",
      "|    suv|   mercury|  mountaineer|\n",
      "|    suv|   mercury|  mountaineer|\n",
      "|    suv|   mercury|  mountaineer|\n",
      "|    suv|   mercury|  mountaineer|\n",
      "|   NULL|oldsmobile|        ciera|\n",
      "|  sedan|      ford|fusion energi|\n",
      "|minivan|       ram|c/v cargo van|\n",
      "+-------+----------+-------------+\n",
      "only showing top 20 rows\n",
      "\n"
     ]
    }
   ],
   "source": [
    "df = df.withColumn(\"body\", lower(df[\"body\"]))\n",
    "df = df.withColumn(\"make\", lower(df[\"make\"]))\n",
    "df = df.withColumn(\"model\", lower(df[\"model\"]))\n",
    "df.select(['body', 'make', 'model']).show()"
   ]
  },
  {
   "cell_type": "code",
   "execution_count": 7,
   "id": "588c99c7",
   "metadata": {},
   "outputs": [
    {
     "name": "stdout",
     "output_type": "stream",
     "text": [
      "+----+----+-----+----+----+------------+---+-----+---------+--------+-----+--------+------+---+------------+--------+\n",
      "|year|make|model|trim|body|transmission|vin|state|condition|odometer|color|interior|seller|mmr|sellingprice|saledate|\n",
      "+----+----+-----+----+----+------------+---+-----+---------+--------+-----+--------+------+---+------------+--------+\n",
      "+----+----+-----+----+----+------------+---+-----+---------+--------+-----+--------+------+---+------------+--------+\n",
      "\n"
     ]
    }
   ],
   "source": [
    "# New df for joining\n",
    "filled_df = df.dropna(subset=[\"transmission\"])\n",
    "filled_df.where(col('transmission').isNull()).show()"
   ]
  },
  {
   "cell_type": "code",
   "execution_count": 8,
   "id": "41b4cd7d",
   "metadata": {},
   "outputs": [],
   "source": [
    "# Inner join to fill missing transmission values\n",
    "df = df.alias(\"df\").join(\n",
    "    filled_df.alias(\"filled_df\"),\n",
    "    on=[\"year\", \"make\", \"model\", \"trim\", \"body\"],\n",
    "    how=\"inner\"\n",
    ").select(\n",
    "    col(\"df.year\"),\n",
    "    col(\"df.make\"),\n",
    "    col(\"df.model\"),\n",
    "    col(\"df.trim\"),\n",
    "    col(\"df.body\"),\n",
    "    col(\"df.vin\"),\n",
    "    col(\"df.state\"),\n",
    "    col(\"df.condition\"),\n",
    "    col(\"df.odometer\"),\n",
    "    col(\"df.color\"),\n",
    "    col(\"df.interior\"),\n",
    "    col(\"df.seller\"),\n",
    "    col(\"df.mmr\"),\n",
    "    col(\"df.sellingprice\"),\n",
    "    col(\"df.saledate\"),\n",
    "    col(\"df.transmission\").alias(\"original_transmission\"),\n",
    "    col(\"filled_df.transmission\").alias(\"filled_transmission\")\n",
    ").distinct()"
   ]
  },
  {
   "cell_type": "code",
   "execution_count": 9,
   "id": "9d9de78e",
   "metadata": {},
   "outputs": [
    {
     "name": "stdout",
     "output_type": "stream",
     "text": [
      "+----+-------------+---------------+-----------+------------+---------------------+-------------------+-----+\n",
      "|year|         make|          model|       trim|        body|original_transmission|filled_transmission|count|\n",
      "+----+-------------+---------------+-----------+------------+---------------------+-------------------+-----+\n",
      "|1992|        honda|         accord|         EX|       sedan|                 NULL|          automatic|    1|\n",
      "|1992|        honda|         accord|         EX|       sedan|                 NULL|             manual|    1|\n",
      "|1993|         ford|         escort|         LX|       wagon|                 NULL|          automatic|    1|\n",
      "|1993|       toyota|          camry|         LE|       sedan|                 NULL|          automatic|    6|\n",
      "|1994|         ford|         ranger|        XLT| regular cab|                 NULL|             manual|    1|\n",
      "|1994|         ford|         ranger|        XLT| regular cab|                 NULL|          automatic|    1|\n",
      "|1994|         jeep| grand cherokee|     Laredo|         suv|                 NULL|          automatic|    3|\n",
      "|1994|        lexus|         es 300|       Base|       sedan|                 NULL|          automatic|    2|\n",
      "|1994|       nissan|         altima|        GLE|       sedan|                 NULL|          automatic|    1|\n",
      "|1994|       nissan|         maxima|        GXE|       sedan|                 NULL|          automatic|    1|\n",
      "|1995|        honda|         accord|         LX|       sedan|                 NULL|          automatic|    2|\n",
      "|1995|        honda|         accord|         LX|       sedan|                 NULL|             manual|    2|\n",
      "|1995|       toyota|          camry|         LE|       sedan|                 NULL|          automatic|    7|\n",
      "|1996|    chevrolet|         lumina|       Base|       sedan|                 NULL|          automatic|    2|\n",
      "|1996|        dodge|ram pickup 1500|         ST|extended cab|                 NULL|          automatic|    2|\n",
      "|1996|         ford|       explorer|        XLT|         suv|                 NULL|          automatic|    4|\n",
      "|1996|         ford|         taurus|         LX|       sedan|                 NULL|          automatic|    1|\n",
      "|1996|          geo|          prizm|       Base|       sedan|                 NULL|          automatic|    1|\n",
      "|1996|          geo|          prizm|       Base|       sedan|                 NULL|             manual|    1|\n",
      "|1996|       jaguar|      xj-series|Vanden Plas|       sedan|                 NULL|          automatic|    1|\n",
      "|1996|        mazda|b-series pickup|      B2300| regular cab|                 NULL|          automatic|    1|\n",
      "|1996|       nissan|         altima|         XE|       sedan|                 NULL|          automatic|    1|\n",
      "|1996|       toyota|         avalon|        XLS|       sedan|                 NULL|          automatic|    3|\n",
      "|1996|       toyota|          camry|     XLE V6|       sedan|                 NULL|          automatic|    4|\n",
      "|1997|        acura|             cl|3.0 Premium|       coupe|                 NULL|          automatic|    1|\n",
      "|1997|    chevrolet|         lumina|       Base|       sedan|                 NULL|          automatic|    1|\n",
      "|1997|         ford|     expedition|        XLT|         suv|                 NULL|          automatic|    2|\n",
      "|1997|         ford|        mustang|         GT| convertible|                 NULL|             manual|    1|\n",
      "|1997|         ford|        mustang|         GT| convertible|                 NULL|          automatic|    1|\n",
      "|1997|        honda|         accord|         EX|       sedan|                 NULL|          automatic|    1|\n",
      "|1997|        honda|         accord|         EX|       sedan|                 NULL|             manual|    1|\n",
      "|1997|     infiniti|            qx4|       Base|         suv|                 NULL|          automatic|    1|\n",
      "|1997|      mercury|  grand marquis|         LS|       sedan|                 NULL|          automatic|    2|\n",
      "|1997|   mitsubishi|         galant|         ES|       sedan|                 NULL|          automatic|    1|\n",
      "|1997|       nissan|         sentra|       Base|       sedan|                 NULL|          automatic|    2|\n",
      "|1997|   oldsmobile|cutlass supreme|         SL|       sedan|                 NULL|          automatic|    1|\n",
      "|1997|       toyota|          camry|         CE|       sedan|                 NULL|          automatic|    2|\n",
      "|1998|          bmw|       5 series|       540i|       sedan|                 NULL|          automatic|    1|\n",
      "|1998|          bmw|             z3|        2.8| convertible|                 NULL|             manual|    1|\n",
      "|1998|        buick|        century|     Custom|       sedan|                 NULL|          automatic|    1|\n",
      "|1998|         ford|     expedition|        XLT|         suv|                 NULL|          automatic|    4|\n",
      "|1998|         ford|         ranger|        XLT|extended cab|                 NULL|             manual|    2|\n",
      "|1998|         ford|         ranger|        XLT|extended cab|                 NULL|          automatic|    2|\n",
      "|1998|         ford|         taurus|         LX|       sedan|                 NULL|          automatic|    2|\n",
      "|1998|        honda|          civic|         EX|       coupe|                 NULL|             manual|    3|\n",
      "|1998|        honda|          civic|         EX|       coupe|                 NULL|          automatic|    3|\n",
      "|1998|        isuzu|          rodeo|         LS|         suv|                 NULL|          automatic|    1|\n",
      "|1998|mercedes-benz|        e-class|       E320|       sedan|                 NULL|          automatic|    1|\n",
      "|1998|   mitsubishi|  montero sport|         LS|         suv|                 NULL|          automatic|    3|\n",
      "|1998|       nissan|         altima|        GLE|       sedan|                 NULL|          automatic|    2|\n",
      "+----+-------------+---------------+-----------+------------+---------------------+-------------------+-----+\n",
      "only showing top 50 rows\n",
      "\n"
     ]
    }
   ],
   "source": [
    "# Validating the filled transmission corresponds correctly\n",
    "df.select(['year','make', 'model', 'trim', 'body', 'original_transmission', 'filled_transmission']).where(col('original_transmission').isNull()).groupBy(['year','make', 'model', 'trim', 'body', 'original_transmission', 'filled_transmission']).count().show(50)"
   ]
  },
  {
   "cell_type": "code",
   "execution_count": 10,
   "id": "63d86ac3",
   "metadata": {},
   "outputs": [],
   "source": [
    "# Merging into one \"transmission\" column\n",
    "\n",
    "df = df.withColumn(\n",
    "    \"transmission\",\n",
    "    when(col(\"original_transmission\").isNotNull(), col(\"original_transmission\")).otherwise(col(\"filled_transmission\"))\n",
    ").drop(\"original_transmission\", \"filled_transmission\")"
   ]
  },
  {
   "cell_type": "code",
   "execution_count": 11,
   "id": "03b359a1",
   "metadata": {},
   "outputs": [
    {
     "name": "stdout",
     "output_type": "stream",
     "text": [
      "+----+---------+---------+-------------+---------+-----------------+-----+---------+--------+--------+--------+--------------------+----+------------+--------------------+------------+\n",
      "|year|     make|    model|         trim|     body|              vin|state|condition|odometer|   color|interior|              seller| mmr|sellingprice|            saledate|transmission|\n",
      "+----+---------+---------+-------------+---------+-----------------+-----+---------+--------+--------+--------+--------------------+----+------------+--------------------+------------+\n",
      "|1990|   jaguar|xj-series|XJ6 Sovereign|    sedan|sajhy174xlc607411|   ga|        2|135657.0|    blue|     tan|capital auto auction| 775|         550|Thu May 28 2015 0...|   automatic|\n",
      "|1991|chevrolet| corvette|         Base|hatchback|1g1yy238xm5116736|   fl|        2| 91569.0|    blue|    gray|germain toyota of...|4900|        2400|Wed Jan 14 2015 0...|   automatic|\n",
      "|1991|chevrolet| corvette|         Base|hatchback|1g1yy2384m5104212|   fl|        2|138310.0|     red|     red|autonation toyota...|4625|        2700|Tue May 26 2015 1...|   automatic|\n",
      "|1991|   toyota|    camry|       Deluxe|    sedan|jt2sv21e3m3460184|   ca|        2|252591.0|    gray|    gray| honda of serramonte| 300|         150|Wed Jan 21 2015 0...|   automatic|\n",
      "|1991|   toyota|    camry|       Deluxe|    sedan|jt2sv21e3m3460184|   ca|        2|252591.0|    gray|    gray| honda of serramonte| 300|         150|Wed Jan 21 2015 0...|   automatic|\n",
      "|1991|   toyota|    camry|       Deluxe|    sedan|4t1sv21e7mu434409|   sc|        1|189563.0|burgundy|    gray|purple heart serv...| 425|         300|Thu Jan 15 2015 0...|      manual|\n",
      "|1991|   toyota|    camry|       Deluxe|    sedan|4t1sv21e7mu434409|   sc|        1|189563.0|burgundy|    gray|purple heart serv...| 425|         300|Thu Jan 15 2015 0...|      manual|\n",
      "|1991|   toyota|    camry|       Deluxe|    sedan|4t1sv21e5mu324474|   nc|        2|264816.0|   white|    blue|        dt inventory| 275|         200|Tue Mar 03 2015 0...|   automatic|\n",
      "|1991|   toyota|    camry|       Deluxe|    sedan|4t1sv21e5mu324474|   nc|        2|264816.0|   white|    blue|        dt inventory| 275|         200|Tue Mar 03 2015 0...|   automatic|\n",
      "|1991|   toyota|    camry|       Deluxe|    sedan|4t1sv21e2mu374524|   nc|        2|175381.0|burgundy|    gray|        dt inventory| 425|         300|Tue Feb 17 2015 0...|   automatic|\n",
      "|1991|   toyota|    camry|       Deluxe|    sedan|4t1sv21e2mu374524|   nc|        2|175381.0|burgundy|    gray|        dt inventory| 425|         300|Tue Feb 17 2015 0...|   automatic|\n",
      "|1991|   toyota|    camry|       Deluxe|    sedan|4t1sv21e8mu304686|   fl|        3|244226.0|   white|    blue|autonation toyota...| 300|         500|Tue Jan 13 2015 1...|   automatic|\n",
      "|1991|   toyota|    camry|       Deluxe|    sedan|4t1sv21e8mu304686|   fl|        3|244226.0|   white|    blue|autonation toyota...| 300|         500|Tue Jan 13 2015 1...|   automatic|\n",
      "|1991|   toyota|    camry|       Deluxe|    sedan|4t1sv21e5mu453282|   md|        2| 91780.0|   white|   beige|purple heart serv...| 550|         550|Tue Jan 06 2015 0...|   automatic|\n",
      "|1991|   toyota|    camry|       Deluxe|    sedan|4t1sv21e5mu453282|   md|        2| 91780.0|   white|   beige|purple heart serv...| 550|         550|Tue Jan 06 2015 0...|   automatic|\n",
      "|1991|   toyota|    camry|       Deluxe|    sedan|4t1sv21e5mu352579|   fl|        2|210619.0|    blue|    blue|autonation chevro...| 375|         400|Tue Mar 03 2015 1...|   automatic|\n",
      "|1991|   toyota|    camry|       Deluxe|    sedan|4t1sv21e5mu352579|   fl|        2|210619.0|    blue|    blue|autonation chevro...| 375|         400|Tue Mar 03 2015 1...|   automatic|\n",
      "|1991|   toyota|    camry|       Deluxe|    sedan|4t1sv21e1mu378712|   md|        1|209809.0|   beige|   beige|        liberty ford| 475|         250|Tue Jun 02 2015 0...|   automatic|\n",
      "|1991|   toyota|    camry|       Deluxe|    sedan|4t1sv21e1mu378712|   md|        1|209809.0|   beige|   beige|        liberty ford| 475|         250|Tue Jun 02 2015 0...|   automatic|\n",
      "|1991|   toyota|    camry|       Deluxe|    sedan|4t1sv21e6mu303147|   va|        2|232476.0|   white|    blue|     check into cash| 325|         300|Thu Feb 05 2015 0...|   automatic|\n",
      "+----+---------+---------+-------------+---------+-----------------+-----+---------+--------+--------+--------+--------------------+----+------------+--------------------+------------+\n",
      "only showing top 20 rows\n",
      "\n"
     ]
    }
   ],
   "source": [
    "df.show()"
   ]
  },
  {
   "cell_type": "code",
   "execution_count": 12,
   "id": "6f4729f7",
   "metadata": {},
   "outputs": [
    {
     "name": "stdout",
     "output_type": "stream",
     "text": [
      "+------------+--------+--------+\n",
      "|transmission|   color|interior|\n",
      "+------------+--------+--------+\n",
      "|   automatic|    blue|     tan|\n",
      "|   automatic|    blue|    gray|\n",
      "|   automatic|     red|     red|\n",
      "|   automatic|   white|   beige|\n",
      "|   automatic|   white|   beige|\n",
      "|   automatic|   white|    blue|\n",
      "|   automatic|   white|    blue|\n",
      "|   automatic|   beige|   beige|\n",
      "|   automatic|   beige|   beige|\n",
      "|   automatic|   white|    blue|\n",
      "|   automatic|   white|    blue|\n",
      "|   automatic|   white|    blue|\n",
      "|   automatic|   white|    blue|\n",
      "|   automatic|    gray|    gray|\n",
      "|   automatic|    gray|    gray|\n",
      "|   automatic|burgundy|    gray|\n",
      "|   automatic|burgundy|    gray|\n",
      "|      manual|burgundy|    gray|\n",
      "|      manual|burgundy|    gray|\n",
      "|   automatic|    blue|    blue|\n",
      "+------------+--------+--------+\n",
      "only showing top 20 rows\n",
      "\n"
     ]
    }
   ],
   "source": [
    "df = df.where((df[\"transmission\"] == \"automatic\") | (df[\"transmission\"] == \"manual\"))\n",
    "df = df.where((df[\"color\"] != '—'))\n",
    "df = df.where((df[\"interior\"] != '—'))\n",
    "df.select(['transmission', 'color', 'interior']).show()"
   ]
  },
  {
   "cell_type": "code",
   "execution_count": 13,
   "id": "852d6495",
   "metadata": {},
   "outputs": [],
   "source": [
    "# Cast to respective data types\n",
    "df = df.withColumn('sellingprice', col('sellingprice').cast('integer'))\n",
    "df = df.withColumn('mmr', col('mmr').cast('integer'))\n",
    "df = df.withColumn('condition', col('condition').cast('double'))\n",
    "df = df.withColumn('odometer', col('odometer').cast('integer'))"
   ]
  },
  {
   "cell_type": "code",
   "execution_count": 14,
   "id": "4682b1bc",
   "metadata": {},
   "outputs": [],
   "source": [
    "# Drop rows with missing values\n",
    "df = df.dropna(subset=[\"year\", \"make\", \"model\", \"body\", \"condition\", \"transmission\", \"odometer\", \"color\"])\n",
    "df = df.distinct()"
   ]
  },
  {
   "cell_type": "code",
   "execution_count": 15,
   "id": "ad9ffa59",
   "metadata": {},
   "outputs": [
    {
     "data": {
      "text/plain": [
       "514422"
      ]
     },
     "execution_count": 15,
     "metadata": {},
     "output_type": "execute_result"
    }
   ],
   "source": [
    "# Count remaining data\n",
    "df.count()"
   ]
  },
  {
   "cell_type": "code",
   "execution_count": 116,
   "id": "5a610e5e",
   "metadata": {},
   "outputs": [
    {
     "name": "stderr",
     "output_type": "stream",
     "text": [
      "[Stage 81:>                                                         (0 + 1) / 1]\r"
     ]
    },
    {
     "name": "stdout",
     "output_type": "stream",
     "text": [
      "+----+---------+---------+-------------+-----------+-----------------+-----+---------+--------+--------+--------+--------------------+----+------------+--------------------+------------+\n",
      "|year|     make|    model|         trim|       body|              vin|state|condition|odometer|   color|interior|              seller| mmr|sellingprice|            saledate|transmission|\n",
      "+----+---------+---------+-------------+-----------+-----------------+-----+---------+--------+--------+--------+--------------------+----+------------+--------------------+------------+\n",
      "|1990|   jaguar|xj-series|XJ6 Sovereign|      sedan|sajhy174xlc607411|   ga|      2.0|  135657|    blue|     tan|capital auto auction| 775|         550|Thu May 28 2015 0...|   automatic|\n",
      "|1991|chevrolet| corvette|         Base|  hatchback|1g1yy238xm5116736|   fl|      2.0|   91569|    blue|    gray|germain toyota of...|4900|        2400|Wed Jan 14 2015 0...|   automatic|\n",
      "|1991|chevrolet| corvette|         Base|  hatchback|1g1yy2384m5104212|   fl|      2.0|  138310|     red|     red|autonation toyota...|4625|        2700|Tue May 26 2015 1...|   automatic|\n",
      "|1991|   toyota|    camry|       Deluxe|      sedan|4t1sv21e5mu453282|   md|      2.0|   91780|   white|   beige|purple heart serv...| 550|         550|Tue Jan 06 2015 0...|   automatic|\n",
      "|1991|   toyota|    camry|       Deluxe|      sedan|4t1sv21e6mu303147|   va|      2.0|  232476|   white|    blue|     check into cash| 325|         300|Thu Feb 05 2015 0...|   automatic|\n",
      "|1991|   toyota|    camry|       Deluxe|      sedan|4t1sv21e1mu378712|   md|      1.0|  209809|   beige|   beige|        liberty ford| 475|         250|Tue Jun 02 2015 0...|   automatic|\n",
      "|1991|   toyota|    camry|       Deluxe|      sedan|4t1sv21e8mu304686|   fl|      3.0|  244226|   white|    blue|autonation toyota...| 300|         500|Tue Jan 13 2015 1...|   automatic|\n",
      "|1991|   toyota|    camry|       Deluxe|      sedan|4t1sv21e5mu324474|   nc|      2.0|  264816|   white|    blue|        dt inventory| 275|         200|Tue Mar 03 2015 0...|   automatic|\n",
      "|1991|   toyota|    camry|       Deluxe|      sedan|jt2sv21e3m3460184|   ca|      2.0|  252591|    gray|    gray| honda of serramonte| 300|         150|Wed Jan 21 2015 0...|   automatic|\n",
      "|1991|   toyota|    camry|       Deluxe|      sedan|4t1sv21e2mu374524|   nc|      2.0|  175381|burgundy|    gray|        dt inventory| 425|         300|Tue Feb 17 2015 0...|   automatic|\n",
      "|1991|   toyota|    camry|       Deluxe|      sedan|4t1sv21e7mu434409|   sc|      1.0|  189563|burgundy|    gray|purple heart serv...| 425|         300|Thu Jan 15 2015 0...|      manual|\n",
      "|1991|   toyota|    camry|       Deluxe|      sedan|4t1sv21e5mu352579|   fl|      2.0|  210619|    blue|    blue|autonation chevro...| 375|         400|Tue Mar 03 2015 1...|   automatic|\n",
      "|1991|   toyota|  corolla|       Deluxe|      wagon|jt2ae94k6m3447855|   tx|      2.0|  199195|   white|    gray|     manheim houston| 450|         200|Tue Jun 02 2015 0...|   automatic|\n",
      "|1992|chevrolet| corvette|         Base|convertible|1g1yy33p7n5112321|   nc|      3.0|   14372|     red|   black| flow gm auto center|9025|       13700|Tue Jan 20 2015 0...|   automatic|\n",
      "|1992|    honda|   accord|           EX|      sedan|1hgcb7676na099981|   va|      1.0|  238417|    gray|    gray|        dt inventory| 675|         250|Thu Feb 12 2015 0...|   automatic|\n",
      "|1992|    honda|   accord|           EX|      sedan|1hgcb767xna011644|   ca|      3.0|  109999|   white|    blue|      stadium nissan| 525|         400|Wed Dec 31 2014 1...|   automatic|\n",
      "|1992|    honda|   accord|           EX|      sedan|1hgcb7675na198596|   ga|      1.0|  162000|    gray|burgundy|by the book auto ...| 500|         900|Tue Jan 27 2015 0...|   automatic|\n",
      "|1992|    honda|   accord|           EX|      sedan|1hgcb7674na053565|   oh|      1.0|  206841|   black|    gray|purple heart serv...| 675|         475|Tue Mar 03 2015 0...|   automatic|\n",
      "|1992|    honda|   accord|           EX|      sedan|1hgcb7674na053565|   oh|      1.0|  206841|   black|    gray|purple heart serv...| 675|         475|Tue Mar 03 2015 0...|      manual|\n",
      "|1992|    honda|   accord|           EX|      sedan|1hgcb7574na201277|   va|      1.0|  160933|     red|    gray|browns arlington ...| 650|         850|Thu Feb 05 2015 0...|      manual|\n",
      "+----+---------+---------+-------------+-----------+-----------------+-----+---------+--------+--------+--------+--------------------+----+------------+--------------------+------------+\n",
      "only showing top 20 rows\n",
      "\n"
     ]
    },
    {
     "name": "stderr",
     "output_type": "stream",
     "text": [
      "\r",
      "                                                                                \r"
     ]
    }
   ],
   "source": [
    "df.show()"
   ]
  },
  {
   "cell_type": "code",
   "execution_count": 117,
   "id": "8064a7e7",
   "metadata": {},
   "outputs": [
    {
     "name": "stdout",
     "output_type": "stream",
     "text": [
      "root\n",
      " |-- year: integer (nullable = true)\n",
      " |-- make: string (nullable = true)\n",
      " |-- model: string (nullable = true)\n",
      " |-- trim: string (nullable = true)\n",
      " |-- body: string (nullable = true)\n",
      " |-- vin: string (nullable = true)\n",
      " |-- state: string (nullable = true)\n",
      " |-- condition: double (nullable = true)\n",
      " |-- odometer: integer (nullable = true)\n",
      " |-- color: string (nullable = true)\n",
      " |-- interior: string (nullable = true)\n",
      " |-- seller: string (nullable = true)\n",
      " |-- mmr: integer (nullable = true)\n",
      " |-- sellingprice: integer (nullable = true)\n",
      " |-- saledate: string (nullable = true)\n",
      " |-- transmission: string (nullable = true)\n",
      "\n"
     ]
    }
   ],
   "source": [
    "df.printSchema()"
   ]
  },
  {
   "cell_type": "code",
   "execution_count": 118,
   "id": "dcfe8fa0",
   "metadata": {},
   "outputs": [
    {
     "name": "stderr",
     "output_type": "stream",
     "text": [
      "24/06/15 17:41:43 WARN RowBasedKeyValueBatch: Calling spill() on RowBasedKeyValueBatch. Will not spill but return 0.\n",
      "24/06/15 17:41:43 WARN RowBasedKeyValueBatch: Calling spill() on RowBasedKeyValueBatch. Will not spill but return 0.\n",
      "24/06/15 17:41:43 WARN RowBasedKeyValueBatch: Calling spill() on RowBasedKeyValueBatch. Will not spill but return 0.\n",
      "24/06/15 17:41:45 WARN RowBasedKeyValueBatch: Calling spill() on RowBasedKeyValueBatch. Will not spill but return 0.\n",
      "24/06/15 17:41:45 WARN RowBasedKeyValueBatch: Calling spill() on RowBasedKeyValueBatch. Will not spill but return 0.\n",
      "24/06/15 17:41:45 WARN RowBasedKeyValueBatch: Calling spill() on RowBasedKeyValueBatch. Will not spill but return 0.\n",
      "24/06/15 17:41:46 WARN RowBasedKeyValueBatch: Calling spill() on RowBasedKeyValueBatch. Will not spill but return 0.\n",
      "24/06/15 17:41:46 WARN RowBasedKeyValueBatch: Calling spill() on RowBasedKeyValueBatch. Will not spill but return 0.\n",
      "24/06/15 17:41:46 WARN RowBasedKeyValueBatch: Calling spill() on RowBasedKeyValueBatch. Will not spill but return 0.\n",
      "24/06/15 17:41:46 WARN RowBasedKeyValueBatch: Calling spill() on RowBasedKeyValueBatch. Will not spill but return 0.\n",
      "24/06/15 17:41:46 WARN RowBasedKeyValueBatch: Calling spill() on RowBasedKeyValueBatch. Will not spill but return 0.\n",
      "24/06/15 17:41:46 WARN RowBasedKeyValueBatch: Calling spill() on RowBasedKeyValueBatch. Will not spill but return 0.\n",
      "24/06/15 17:41:47 WARN RowBasedKeyValueBatch: Calling spill() on RowBasedKeyValueBatch. Will not spill but return 0.\n",
      "24/06/15 17:41:47 WARN RowBasedKeyValueBatch: Calling spill() on RowBasedKeyValueBatch. Will not spill but return 0.\n",
      "24/06/15 17:41:47 WARN RowBasedKeyValueBatch: Calling spill() on RowBasedKeyValueBatch. Will not spill but return 0.\n",
      "24/06/15 17:41:50 WARN RowBasedKeyValueBatch: Calling spill() on RowBasedKeyValueBatch. Will not spill but return 0.\n",
      "24/06/15 17:41:50 WARN RowBasedKeyValueBatch: Calling spill() on RowBasedKeyValueBatch. Will not spill but return 0.\n",
      "24/06/15 17:41:50 WARN RowBasedKeyValueBatch: Calling spill() on RowBasedKeyValueBatch. Will not spill but return 0.\n",
      "24/06/15 17:41:51 WARN RowBasedKeyValueBatch: Calling spill() on RowBasedKeyValueBatch. Will not spill but return 0.\n",
      "24/06/15 17:41:51 WARN RowBasedKeyValueBatch: Calling spill() on RowBasedKeyValueBatch. Will not spill but return 0.\n",
      "24/06/15 17:41:51 WARN RowBasedKeyValueBatch: Calling spill() on RowBasedKeyValueBatch. Will not spill but return 0.\n",
      "                                                                                \r"
     ]
    },
    {
     "name": "stdout",
     "output_type": "stream",
     "text": [
      "+------------+-----+\n",
      "|        make|count|\n",
      "+------------+-----+\n",
      "|       lotus|    1|\n",
      "|      daewoo|    2|\n",
      "| lamborghini|    3|\n",
      "|      fisker|    9|\n",
      "|    plymouth|   15|\n",
      "| rolls-royce|   15|\n",
      "|     ferrari|   16|\n",
      "|         geo|   20|\n",
      "|       tesla|   22|\n",
      "|aston martin|   24|\n",
      "|     bentley|  109|\n",
      "|    maserati|  123|\n",
      "|       isuzu|  173|\n",
      "|  oldsmobile|  314|\n",
      "|       smart|  375|\n",
      "|        saab|  457|\n",
      "|      hummer|  768|\n",
      "|        fiat|  892|\n",
      "|      suzuki|  999|\n",
      "|      jaguar| 1313|\n",
      "+------------+-----+\n",
      "only showing top 20 rows\n",
      "\n"
     ]
    },
    {
     "name": "stderr",
     "output_type": "stream",
     "text": [
      "24/06/15 17:42:41 WARN RowBasedKeyValueBatch: Calling spill() on RowBasedKeyValueBatch. Will not spill but return 0.\n",
      "24/06/15 17:42:41 WARN RowBasedKeyValueBatch: Calling spill() on RowBasedKeyValueBatch. Will not spill but return 0.\n",
      "24/06/15 17:42:41 WARN RowBasedKeyValueBatch: Calling spill() on RowBasedKeyValueBatch. Will not spill but return 0.\n",
      "24/06/15 17:42:44 WARN RowBasedKeyValueBatch: Calling spill() on RowBasedKeyValueBatch. Will not spill but return 0.\n",
      "24/06/15 17:42:44 WARN RowBasedKeyValueBatch: Calling spill() on RowBasedKeyValueBatch. Will not spill but return 0.\n",
      "24/06/15 17:42:44 WARN RowBasedKeyValueBatch: Calling spill() on RowBasedKeyValueBatch. Will not spill but return 0.\n",
      "24/06/15 17:42:44 WARN RowBasedKeyValueBatch: Calling spill() on RowBasedKeyValueBatch. Will not spill but return 0.\n",
      "24/06/15 17:42:44 WARN RowBasedKeyValueBatch: Calling spill() on RowBasedKeyValueBatch. Will not spill but return 0.\n",
      "24/06/15 17:42:44 WARN RowBasedKeyValueBatch: Calling spill() on RowBasedKeyValueBatch. Will not spill but return 0.\n",
      "24/06/15 17:42:45 WARN RowBasedKeyValueBatch: Calling spill() on RowBasedKeyValueBatch. Will not spill but return 0.\n",
      "24/06/15 17:42:45 WARN RowBasedKeyValueBatch: Calling spill() on RowBasedKeyValueBatch. Will not spill but return 0.\n",
      "24/06/15 17:42:45 WARN RowBasedKeyValueBatch: Calling spill() on RowBasedKeyValueBatch. Will not spill but return 0.\n",
      "24/06/15 17:42:45 WARN RowBasedKeyValueBatch: Calling spill() on RowBasedKeyValueBatch. Will not spill but return 0.\n",
      "24/06/15 17:42:45 WARN RowBasedKeyValueBatch: Calling spill() on RowBasedKeyValueBatch. Will not spill but return 0.\n",
      "24/06/15 17:42:45 WARN RowBasedKeyValueBatch: Calling spill() on RowBasedKeyValueBatch. Will not spill but return 0.\n",
      "ERROR:root:KeyboardInterrupt while sending command.\n",
      "Traceback (most recent call last):\n",
      "  File \"/opt/anaconda3/envs/pyspark_env/lib/python3.10/site-packages/py4j/java_gateway.py\", line 1038, in send_command\n",
      "    response = connection.send_command(command)\n",
      "  File \"/opt/anaconda3/envs/pyspark_env/lib/python3.10/site-packages/py4j/clientserver.py\", line 511, in send_command\n",
      "    answer = smart_decode(self.stream.readline()[:-1])\n",
      "  File \"/opt/anaconda3/envs/pyspark_env/lib/python3.10/socket.py\", line 705, in readinto\n",
      "    return self._sock.recv_into(b)\n",
      "KeyboardInterrupt\n"
     ]
    },
    {
     "ename": "KeyboardInterrupt",
     "evalue": "",
     "output_type": "error",
     "traceback": [
      "\u001b[0;31m---------------------------------------------------------------------------\u001b[0m",
      "\u001b[0;31mKeyboardInterrupt\u001b[0m                         Traceback (most recent call last)",
      "Cell \u001b[0;32mIn[118], line 3\u001b[0m\n\u001b[1;32m      1\u001b[0m \u001b[38;5;66;03m# Count each categorical value\u001b[39;00m\n\u001b[1;32m      2\u001b[0m df\u001b[38;5;241m.\u001b[39mgroupBy(\u001b[38;5;124m\"\u001b[39m\u001b[38;5;124mmake\u001b[39m\u001b[38;5;124m\"\u001b[39m)\u001b[38;5;241m.\u001b[39mcount()\u001b[38;5;241m.\u001b[39msort(\u001b[38;5;124m\"\u001b[39m\u001b[38;5;124mcount\u001b[39m\u001b[38;5;124m\"\u001b[39m)\u001b[38;5;241m.\u001b[39mshow()\n\u001b[0;32m----> 3\u001b[0m \u001b[43mdf\u001b[49m\u001b[38;5;241;43m.\u001b[39;49m\u001b[43mgroupBy\u001b[49m\u001b[43m(\u001b[49m\u001b[38;5;124;43m\"\u001b[39;49m\u001b[38;5;124;43mmodel\u001b[39;49m\u001b[38;5;124;43m\"\u001b[39;49m\u001b[43m)\u001b[49m\u001b[38;5;241;43m.\u001b[39;49m\u001b[43mcount\u001b[49m\u001b[43m(\u001b[49m\u001b[43m)\u001b[49m\u001b[38;5;241;43m.\u001b[39;49m\u001b[43msort\u001b[49m\u001b[43m(\u001b[49m\u001b[43mdesc\u001b[49m\u001b[43m(\u001b[49m\u001b[38;5;124;43m\"\u001b[39;49m\u001b[38;5;124;43mcount\u001b[39;49m\u001b[38;5;124;43m\"\u001b[39;49m\u001b[43m)\u001b[49m\u001b[43m)\u001b[49m\u001b[38;5;241;43m.\u001b[39;49m\u001b[43mshow\u001b[49m\u001b[43m(\u001b[49m\u001b[38;5;241;43m30\u001b[39;49m\u001b[43m)\u001b[49m\n\u001b[1;32m      4\u001b[0m df\u001b[38;5;241m.\u001b[39mgroupBy(\u001b[38;5;124m\"\u001b[39m\u001b[38;5;124mbody\u001b[39m\u001b[38;5;124m\"\u001b[39m)\u001b[38;5;241m.\u001b[39mcount()\u001b[38;5;241m.\u001b[39msort(desc(\u001b[38;5;124m\"\u001b[39m\u001b[38;5;124mcount\u001b[39m\u001b[38;5;124m\"\u001b[39m))\u001b[38;5;241m.\u001b[39mshow()\n\u001b[1;32m      5\u001b[0m df\u001b[38;5;241m.\u001b[39mgroupBy(\u001b[38;5;124m\"\u001b[39m\u001b[38;5;124mcolor\u001b[39m\u001b[38;5;124m\"\u001b[39m)\u001b[38;5;241m.\u001b[39mcount()\u001b[38;5;241m.\u001b[39msort(\u001b[38;5;124m\"\u001b[39m\u001b[38;5;124mcount\u001b[39m\u001b[38;5;124m\"\u001b[39m)\u001b[38;5;241m.\u001b[39mshow()\n",
      "File \u001b[0;32m/opt/anaconda3/envs/pyspark_env/lib/python3.10/site-packages/pyspark/sql/dataframe.py:945\u001b[0m, in \u001b[0;36mDataFrame.show\u001b[0;34m(self, n, truncate, vertical)\u001b[0m\n\u001b[1;32m    885\u001b[0m \u001b[38;5;28;01mdef\u001b[39;00m \u001b[38;5;21mshow\u001b[39m(\u001b[38;5;28mself\u001b[39m, n: \u001b[38;5;28mint\u001b[39m \u001b[38;5;241m=\u001b[39m \u001b[38;5;241m20\u001b[39m, truncate: Union[\u001b[38;5;28mbool\u001b[39m, \u001b[38;5;28mint\u001b[39m] \u001b[38;5;241m=\u001b[39m \u001b[38;5;28;01mTrue\u001b[39;00m, vertical: \u001b[38;5;28mbool\u001b[39m \u001b[38;5;241m=\u001b[39m \u001b[38;5;28;01mFalse\u001b[39;00m) \u001b[38;5;241m-\u001b[39m\u001b[38;5;241m>\u001b[39m \u001b[38;5;28;01mNone\u001b[39;00m:\n\u001b[1;32m    886\u001b[0m \u001b[38;5;250m    \u001b[39m\u001b[38;5;124;03m\"\"\"Prints the first ``n`` rows to the console.\u001b[39;00m\n\u001b[1;32m    887\u001b[0m \n\u001b[1;32m    888\u001b[0m \u001b[38;5;124;03m    .. versionadded:: 1.3.0\u001b[39;00m\n\u001b[0;32m   (...)\u001b[0m\n\u001b[1;32m    943\u001b[0m \u001b[38;5;124;03m    name | Bob\u001b[39;00m\n\u001b[1;32m    944\u001b[0m \u001b[38;5;124;03m    \"\"\"\u001b[39;00m\n\u001b[0;32m--> 945\u001b[0m     \u001b[38;5;28mprint\u001b[39m(\u001b[38;5;28;43mself\u001b[39;49m\u001b[38;5;241;43m.\u001b[39;49m\u001b[43m_show_string\u001b[49m\u001b[43m(\u001b[49m\u001b[43mn\u001b[49m\u001b[43m,\u001b[49m\u001b[43m \u001b[49m\u001b[43mtruncate\u001b[49m\u001b[43m,\u001b[49m\u001b[43m \u001b[49m\u001b[43mvertical\u001b[49m\u001b[43m)\u001b[49m)\n",
      "File \u001b[0;32m/opt/anaconda3/envs/pyspark_env/lib/python3.10/site-packages/pyspark/sql/dataframe.py:963\u001b[0m, in \u001b[0;36mDataFrame._show_string\u001b[0;34m(self, n, truncate, vertical)\u001b[0m\n\u001b[1;32m    957\u001b[0m     \u001b[38;5;28;01mraise\u001b[39;00m PySparkTypeError(\n\u001b[1;32m    958\u001b[0m         error_class\u001b[38;5;241m=\u001b[39m\u001b[38;5;124m\"\u001b[39m\u001b[38;5;124mNOT_BOOL\u001b[39m\u001b[38;5;124m\"\u001b[39m,\n\u001b[1;32m    959\u001b[0m         message_parameters\u001b[38;5;241m=\u001b[39m{\u001b[38;5;124m\"\u001b[39m\u001b[38;5;124marg_name\u001b[39m\u001b[38;5;124m\"\u001b[39m: \u001b[38;5;124m\"\u001b[39m\u001b[38;5;124mvertical\u001b[39m\u001b[38;5;124m\"\u001b[39m, \u001b[38;5;124m\"\u001b[39m\u001b[38;5;124marg_type\u001b[39m\u001b[38;5;124m\"\u001b[39m: \u001b[38;5;28mtype\u001b[39m(vertical)\u001b[38;5;241m.\u001b[39m\u001b[38;5;18m__name__\u001b[39m},\n\u001b[1;32m    960\u001b[0m     )\n\u001b[1;32m    962\u001b[0m \u001b[38;5;28;01mif\u001b[39;00m \u001b[38;5;28misinstance\u001b[39m(truncate, \u001b[38;5;28mbool\u001b[39m) \u001b[38;5;129;01mand\u001b[39;00m truncate:\n\u001b[0;32m--> 963\u001b[0m     \u001b[38;5;28;01mreturn\u001b[39;00m \u001b[38;5;28;43mself\u001b[39;49m\u001b[38;5;241;43m.\u001b[39;49m\u001b[43m_jdf\u001b[49m\u001b[38;5;241;43m.\u001b[39;49m\u001b[43mshowString\u001b[49m\u001b[43m(\u001b[49m\u001b[43mn\u001b[49m\u001b[43m,\u001b[49m\u001b[43m \u001b[49m\u001b[38;5;241;43m20\u001b[39;49m\u001b[43m,\u001b[49m\u001b[43m \u001b[49m\u001b[43mvertical\u001b[49m\u001b[43m)\u001b[49m\n\u001b[1;32m    964\u001b[0m \u001b[38;5;28;01melse\u001b[39;00m:\n\u001b[1;32m    965\u001b[0m     \u001b[38;5;28;01mtry\u001b[39;00m:\n",
      "File \u001b[0;32m/opt/anaconda3/envs/pyspark_env/lib/python3.10/site-packages/py4j/java_gateway.py:1321\u001b[0m, in \u001b[0;36mJavaMember.__call__\u001b[0;34m(self, *args)\u001b[0m\n\u001b[1;32m   1314\u001b[0m args_command, temp_args \u001b[38;5;241m=\u001b[39m \u001b[38;5;28mself\u001b[39m\u001b[38;5;241m.\u001b[39m_build_args(\u001b[38;5;241m*\u001b[39margs)\n\u001b[1;32m   1316\u001b[0m command \u001b[38;5;241m=\u001b[39m proto\u001b[38;5;241m.\u001b[39mCALL_COMMAND_NAME \u001b[38;5;241m+\u001b[39m\\\n\u001b[1;32m   1317\u001b[0m     \u001b[38;5;28mself\u001b[39m\u001b[38;5;241m.\u001b[39mcommand_header \u001b[38;5;241m+\u001b[39m\\\n\u001b[1;32m   1318\u001b[0m     args_command \u001b[38;5;241m+\u001b[39m\\\n\u001b[1;32m   1319\u001b[0m     proto\u001b[38;5;241m.\u001b[39mEND_COMMAND_PART\n\u001b[0;32m-> 1321\u001b[0m answer \u001b[38;5;241m=\u001b[39m \u001b[38;5;28;43mself\u001b[39;49m\u001b[38;5;241;43m.\u001b[39;49m\u001b[43mgateway_client\u001b[49m\u001b[38;5;241;43m.\u001b[39;49m\u001b[43msend_command\u001b[49m\u001b[43m(\u001b[49m\u001b[43mcommand\u001b[49m\u001b[43m)\u001b[49m\n\u001b[1;32m   1322\u001b[0m return_value \u001b[38;5;241m=\u001b[39m get_return_value(\n\u001b[1;32m   1323\u001b[0m     answer, \u001b[38;5;28mself\u001b[39m\u001b[38;5;241m.\u001b[39mgateway_client, \u001b[38;5;28mself\u001b[39m\u001b[38;5;241m.\u001b[39mtarget_id, \u001b[38;5;28mself\u001b[39m\u001b[38;5;241m.\u001b[39mname)\n\u001b[1;32m   1325\u001b[0m \u001b[38;5;28;01mfor\u001b[39;00m temp_arg \u001b[38;5;129;01min\u001b[39;00m temp_args:\n",
      "File \u001b[0;32m/opt/anaconda3/envs/pyspark_env/lib/python3.10/site-packages/py4j/java_gateway.py:1038\u001b[0m, in \u001b[0;36mGatewayClient.send_command\u001b[0;34m(self, command, retry, binary)\u001b[0m\n\u001b[1;32m   1036\u001b[0m connection \u001b[38;5;241m=\u001b[39m \u001b[38;5;28mself\u001b[39m\u001b[38;5;241m.\u001b[39m_get_connection()\n\u001b[1;32m   1037\u001b[0m \u001b[38;5;28;01mtry\u001b[39;00m:\n\u001b[0;32m-> 1038\u001b[0m     response \u001b[38;5;241m=\u001b[39m \u001b[43mconnection\u001b[49m\u001b[38;5;241;43m.\u001b[39;49m\u001b[43msend_command\u001b[49m\u001b[43m(\u001b[49m\u001b[43mcommand\u001b[49m\u001b[43m)\u001b[49m\n\u001b[1;32m   1039\u001b[0m     \u001b[38;5;28;01mif\u001b[39;00m binary:\n\u001b[1;32m   1040\u001b[0m         \u001b[38;5;28;01mreturn\u001b[39;00m response, \u001b[38;5;28mself\u001b[39m\u001b[38;5;241m.\u001b[39m_create_connection_guard(connection)\n",
      "File \u001b[0;32m/opt/anaconda3/envs/pyspark_env/lib/python3.10/site-packages/py4j/clientserver.py:511\u001b[0m, in \u001b[0;36mClientServerConnection.send_command\u001b[0;34m(self, command)\u001b[0m\n\u001b[1;32m    509\u001b[0m \u001b[38;5;28;01mtry\u001b[39;00m:\n\u001b[1;32m    510\u001b[0m     \u001b[38;5;28;01mwhile\u001b[39;00m \u001b[38;5;28;01mTrue\u001b[39;00m:\n\u001b[0;32m--> 511\u001b[0m         answer \u001b[38;5;241m=\u001b[39m smart_decode(\u001b[38;5;28;43mself\u001b[39;49m\u001b[38;5;241;43m.\u001b[39;49m\u001b[43mstream\u001b[49m\u001b[38;5;241;43m.\u001b[39;49m\u001b[43mreadline\u001b[49m\u001b[43m(\u001b[49m\u001b[43m)\u001b[49m[:\u001b[38;5;241m-\u001b[39m\u001b[38;5;241m1\u001b[39m])\n\u001b[1;32m    512\u001b[0m         logger\u001b[38;5;241m.\u001b[39mdebug(\u001b[38;5;124m\"\u001b[39m\u001b[38;5;124mAnswer received: \u001b[39m\u001b[38;5;132;01m{0}\u001b[39;00m\u001b[38;5;124m\"\u001b[39m\u001b[38;5;241m.\u001b[39mformat(answer))\n\u001b[1;32m    513\u001b[0m         \u001b[38;5;66;03m# Happens when a the other end is dead. There might be an empty\u001b[39;00m\n\u001b[1;32m    514\u001b[0m         \u001b[38;5;66;03m# answer before the socket raises an error.\u001b[39;00m\n",
      "File \u001b[0;32m/opt/anaconda3/envs/pyspark_env/lib/python3.10/socket.py:705\u001b[0m, in \u001b[0;36mSocketIO.readinto\u001b[0;34m(self, b)\u001b[0m\n\u001b[1;32m    703\u001b[0m \u001b[38;5;28;01mwhile\u001b[39;00m \u001b[38;5;28;01mTrue\u001b[39;00m:\n\u001b[1;32m    704\u001b[0m     \u001b[38;5;28;01mtry\u001b[39;00m:\n\u001b[0;32m--> 705\u001b[0m         \u001b[38;5;28;01mreturn\u001b[39;00m \u001b[38;5;28;43mself\u001b[39;49m\u001b[38;5;241;43m.\u001b[39;49m\u001b[43m_sock\u001b[49m\u001b[38;5;241;43m.\u001b[39;49m\u001b[43mrecv_into\u001b[49m\u001b[43m(\u001b[49m\u001b[43mb\u001b[49m\u001b[43m)\u001b[49m\n\u001b[1;32m    706\u001b[0m     \u001b[38;5;28;01mexcept\u001b[39;00m timeout:\n\u001b[1;32m    707\u001b[0m         \u001b[38;5;28mself\u001b[39m\u001b[38;5;241m.\u001b[39m_timeout_occurred \u001b[38;5;241m=\u001b[39m \u001b[38;5;28;01mTrue\u001b[39;00m\n",
      "\u001b[0;31mKeyboardInterrupt\u001b[0m: "
     ]
    }
   ],
   "source": [
    "# Count each categorical value\n",
    "df.groupBy(\"make\").count().sort(\"count\").show()\n",
    "df.groupBy(\"model\").count().sort(desc(\"count\")).show(30)\n",
    "df.groupBy(\"body\").count().sort(desc(\"count\")).show()\n",
    "df.groupBy(\"color\").count().sort(\"count\").show()\n",
    "df.groupBy(\"interior\").count().sort(\"count\").show()\n",
    "df.groupBy(\"transmission\").count().sort(\"count\").show()"
   ]
  },
  {
   "cell_type": "code",
   "execution_count": 14,
   "id": "b54a7d0d",
   "metadata": {},
   "outputs": [
    {
     "name": "stdout",
     "output_type": "stream",
     "text": [
      "root\n",
      " |-- year: integer (nullable = true)\n",
      " |-- make: string (nullable = true)\n",
      " |-- model: string (nullable = true)\n",
      " |-- trim: string (nullable = true)\n",
      " |-- body: string (nullable = true)\n",
      " |-- vin: string (nullable = true)\n",
      " |-- state: string (nullable = true)\n",
      " |-- condition: double (nullable = true)\n",
      " |-- odometer: integer (nullable = true)\n",
      " |-- color: string (nullable = true)\n",
      " |-- interior: string (nullable = true)\n",
      " |-- seller: string (nullable = true)\n",
      " |-- mmr: integer (nullable = true)\n",
      " |-- sellingprice: integer (nullable = true)\n",
      " |-- saledate: string (nullable = true)\n",
      " |-- transmission: string (nullable = true)\n",
      "\n"
     ]
    }
   ],
   "source": [
    "df.printSchema()"
   ]
  },
  {
   "cell_type": "code",
   "execution_count": 20,
   "id": "0e11a874",
   "metadata": {},
   "outputs": [
    {
     "name": "stderr",
     "output_type": "stream",
     "text": [
      "24/06/15 15:45:53 WARN SparkStringUtils: Truncated the string representation of a plan since it was too large. This behavior can be adjusted by setting 'spark.sql.debug.maxToStringFields'.\n",
      "24/06/15 15:46:09 WARN RowBasedKeyValueBatch: Calling spill() on RowBasedKeyValueBatch. Will not spill but return 0.\n",
      "24/06/15 15:46:09 WARN RowBasedKeyValueBatch: Calling spill() on RowBasedKeyValueBatch. Will not spill but return 0.\n",
      "24/06/15 15:46:11 WARN RowBasedKeyValueBatch: Calling spill() on RowBasedKeyValueBatch. Will not spill but return 0.\n",
      "24/06/15 15:46:11 WARN RowBasedKeyValueBatch: Calling spill() on RowBasedKeyValueBatch. Will not spill but return 0.\n",
      "24/06/15 15:46:12 WARN RowBasedKeyValueBatch: Calling spill() on RowBasedKeyValueBatch. Will not spill but return 0.\n",
      "24/06/15 15:46:12 WARN RowBasedKeyValueBatch: Calling spill() on RowBasedKeyValueBatch. Will not spill but return 0.\n",
      "24/06/15 15:46:13 WARN RowBasedKeyValueBatch: Calling spill() on RowBasedKeyValueBatch. Will not spill but return 0.\n",
      "24/06/15 15:46:13 WARN RowBasedKeyValueBatch: Calling spill() on RowBasedKeyValueBatch. Will not spill but return 0.\n",
      "24/06/15 15:46:15 WARN RowBasedKeyValueBatch: Calling spill() on RowBasedKeyValueBatch. Will not spill but return 0.\n",
      "24/06/15 15:46:15 WARN RowBasedKeyValueBatch: Calling spill() on RowBasedKeyValueBatch. Will not spill but return 0.\n",
      "[Stage 194:==================================================>      (8 + 1) / 9]\r"
     ]
    },
    {
     "name": "stdout",
     "output_type": "stream",
     "text": [
      "+-------+------------------+------+-----------------+-----------------+----------+-----------------+------+------------------+------------------+------+--------+--------------------+------------------+-----------------+--------------------+------------+\n",
      "|summary|              year|  make|            model|             trim|      body|              vin| state|         condition|          odometer| color|interior|              seller|               mmr|     sellingprice|            saledate|transmission|\n",
      "+-------+------------------+------+-----------------+-----------------+----------+-----------------+------+------------------+------------------+------+--------+--------------------+------------------+-----------------+--------------------+------------+\n",
      "|  count|            514422|514422|           514422|           514422|    514422|           514422|514422|            514422|            514422|514422|  514422|              514422|            514422|           514422|              514422|      514422|\n",
      "|   mean|2010.1687544467384|  NULL|   799.4075604053|357.7256923197621|      NULL|             NULL|  NULL| 3.424198226358681| 66977.45799363169|  NULL|    NULL|                NULL|13777.973434262143| 13628.1730174837|                NULL|        NULL|\n",
      "| stddev|3.8313932498955205|  NULL|808.0952343002039|837.5216958266615|      NULL|             NULL|  NULL|0.9419169064180198|52207.615915005335|  NULL|    NULL|                NULL| 9454.406009485156|9526.952865942303|                NULL|        NULL|\n",
      "|    min|              1990| acura|         1 series|                !|access cab|137za84341e193591|    ab|               1.0|                 1| beige|   beige|\"enterprise vehic...|                25|                1|Fri Apr 03 2015 0...|   automatic|\n",
      "|    25%|              2008|  NULL|            200.0|              2.5|      NULL|             NULL|  NULL|               2.7|             28322|  NULL|    NULL|                NULL|              7400|             7200|                NULL|        NULL|\n",
      "|    50%|              2012|  NULL|            300.0|              2.5|      NULL|             NULL|  NULL|               3.6|             51252|  NULL|    NULL|                NULL|             12300|            12200|                NULL|        NULL|\n",
      "|    75%|              2013|  NULL|           1500.0|              3.5|      NULL|             NULL|  NULL|               4.2|             96761|  NULL|    NULL|                NULL|             18200|            18100|                NULL|        NULL|\n",
      "|    max|              2015| volvo|           zephyr|        xDrive50i|   xtracab|zhwgu22t97la05738|    wi|               5.0|            999999|yellow|  yellow|      zygi auto corp|            182000|           230000|Wed May 27 2015 1...|      manual|\n",
      "+-------+------------------+------+-----------------+-----------------+----------+-----------------+------+------------------+------------------+------+--------+--------------------+------------------+-----------------+--------------------+------------+\n",
      "\n"
     ]
    },
    {
     "name": "stderr",
     "output_type": "stream",
     "text": [
      "\r",
      "[Stage 200:>                                                        (0 + 1) / 1]\r",
      "\r",
      "                                                                                \r"
     ]
    }
   ],
   "source": [
    "df.summary().show()"
   ]
  },
  {
   "cell_type": "code",
   "execution_count": 16,
   "id": "7c27408a",
   "metadata": {},
   "outputs": [
    {
     "name": "stdout",
     "output_type": "stream",
     "text": [
      "+-----------+------+\n",
      "|  body_type| count|\n",
      "+-----------+------+\n",
      "|      sedan|236630|\n",
      "|        suv|134152|\n",
      "|        cab| 44714|\n",
      "|  hatchback| 24652|\n",
      "|    minivan| 23739|\n",
      "|      coupe| 18866|\n",
      "|      wagon| 15340|\n",
      "|convertible| 10113|\n",
      "|        van|  6025|\n",
      "|       koup|   191|\n",
      "+-----------+------+\n",
      "\n"
     ]
    }
   ],
   "source": [
    "# Body Type Categorization\n",
    "df = df.withColumn(\n",
    "    \"body_type\",\n",
    "     when(col(\"body\").like(\"%cab%\"), \"cab\")\n",
    "    .when(col(\"body\").like(\"%suv%\"), \"suv\")\n",
    "    .when(col(\"body\").like(\"%sedan%\"), \"sedan\")\n",
    "    .when(col(\"body\").like(\"%hatchback%\"), \"hatchback\")\n",
    "    .when(col(\"body\") == \"minivan\", \"minivan\")\n",
    "    .when(col(\"body\").like(\"%van%\"), \"van\")\n",
    "    .when(col(\"body\") == \"supercrew\", \"cab\")\n",
    "    .when(col(\"body\").like(\"%coupe%\"), \"coupe\")\n",
    "    .when(col(\"body\").like(\"%wagon%\"), \"wagon\")\n",
    "    .when(col(\"body\").like(\"%convertible%\"), \"convertible\")\n",
    "    .when(col(\"body\").like(\"%koup%\"), \"koup\")\n",
    ")\n",
    "df.groupBy(\"body_type\").count().sort(desc(\"count\")).show()"
   ]
  },
  {
   "cell_type": "markdown",
   "id": "a4b0e655",
   "metadata": {},
   "source": [
    "## EDA"
   ]
  },
  {
   "cell_type": "code",
   "execution_count": 42,
   "id": "0bdee73f",
   "metadata": {},
   "outputs": [
    {
     "name": "stdout",
     "output_type": "stream",
     "text": [
      "root\n",
      " |-- year: integer (nullable = true)\n",
      " |-- make: string (nullable = true)\n",
      " |-- model: string (nullable = true)\n",
      " |-- trim: string (nullable = true)\n",
      " |-- body: string (nullable = true)\n",
      " |-- vin: string (nullable = true)\n",
      " |-- state: string (nullable = true)\n",
      " |-- condition: double (nullable = true)\n",
      " |-- odometer: integer (nullable = true)\n",
      " |-- color: string (nullable = true)\n",
      " |-- interior: string (nullable = true)\n",
      " |-- seller: string (nullable = true)\n",
      " |-- mmr: integer (nullable = true)\n",
      " |-- sellingprice: integer (nullable = true)\n",
      " |-- saledate: string (nullable = true)\n",
      " |-- transmission: string (nullable = true)\n",
      "\n"
     ]
    }
   ],
   "source": [
    "df.printSchema()"
   ]
  },
  {
   "cell_type": "code",
   "execution_count": 43,
   "id": "c0424af4",
   "metadata": {},
   "outputs": [
    {
     "name": "stdout",
     "output_type": "stream",
     "text": [
      "+------------+--------+\n",
      "|transmission| avg_mmr|\n",
      "+------------+--------+\n",
      "|   automatic|13918.45|\n",
      "|      manual|11679.29|\n",
      "+------------+--------+\n",
      "\n"
     ]
    }
   ],
   "source": [
    "# Harga rata-rata per transmission\n",
    "df.groupBy('transmission').agg(round(avg('mmr'), 2).alias('avg_mmr')).show()"
   ]
  },
  {
   "cell_type": "code",
   "execution_count": 29,
   "id": "9b0822a5",
   "metadata": {},
   "outputs": [
    {
     "name": "stdout",
     "output_type": "stream",
     "text": [
      "+-----------+--------+\n",
      "|  body_type| avg_mmr|\n",
      "+-----------+--------+\n",
      "|        van|15230.75|\n",
      "|      wagon| 9993.74|\n",
      "|    minivan|11456.85|\n",
      "|      coupe|16239.33|\n",
      "|        suv|16103.16|\n",
      "|convertible|17669.69|\n",
      "|       koup| 9768.79|\n",
      "|      sedan|11859.07|\n",
      "|  hatchback| 10092.7|\n",
      "|        cab|18153.23|\n",
      "+-----------+--------+\n",
      "\n"
     ]
    }
   ],
   "source": [
    "# Harga rata-rata per body_type\n",
    "df.groupBy('body_type').agg(round(avg('mmr'), 2).alias('avg_mmr')).show()"
   ]
  },
  {
   "cell_type": "code",
   "execution_count": 42,
   "id": "db0aa33d",
   "metadata": {},
   "outputs": [
    {
     "name": "stdout",
     "output_type": "stream",
     "text": [
      "+------------+--------------------+\n",
      "|transmission|avg_price_difference|\n",
      "+------------+--------------------+\n",
      "|   automatic|              141.21|\n",
      "|      manual|              278.43|\n",
      "+------------+--------------------+\n",
      "\n"
     ]
    }
   ],
   "source": [
    "# Selisih harga mmr dan selling price per transmission\n",
    "df.groupBy('transmission').agg(round(avg(col('mmr') - col('sellingprice')),2).alias('avg_price_difference')).show()"
   ]
  },
  {
   "cell_type": "code",
   "execution_count": null,
   "id": "e184d4ab",
   "metadata": {},
   "outputs": [],
   "source": [
    "# Harga rata-rata per transmission\n",
    "df.groupBy('transmission').agg(round(avg('mmr'), 2).alias('avg_mmr')).show()"
   ]
  },
  {
   "cell_type": "code",
   "execution_count": 57,
   "id": "4facb9fa",
   "metadata": {},
   "outputs": [
    {
     "name": "stdout",
     "output_type": "stream",
     "text": [
      "+----+-----+\n",
      "|year|count|\n",
      "+----+-----+\n",
      "|1990|   30|\n",
      "|1991|   46|\n",
      "|1992|   87|\n",
      "|1993|  115|\n",
      "|1994|  257|\n",
      "|1995|  440|\n",
      "|1996|  530|\n",
      "|1997|  967|\n",
      "|1998| 1379|\n",
      "|1999| 2097|\n",
      "|2000| 3229|\n",
      "|2001| 4924|\n",
      "|2002| 7325|\n",
      "|2003| 9980|\n",
      "|2004|13063|\n",
      "|2005|16510|\n",
      "|2006|20823|\n",
      "|2007|24554|\n",
      "|2008|26091|\n",
      "|2009|17312|\n",
      "|2010|21655|\n",
      "|2011|38596|\n",
      "|2012|79779|\n",
      "|2013|80574|\n",
      "|2014|62626|\n",
      "|2015| 7414|\n",
      "+----+-----+\n",
      "\n"
     ]
    }
   ],
   "source": [
    "# Jumlah mobil berdasarkan tahun\n",
    "df.select('year').groupBy('year').count().sort('year').show(26)"
   ]
  },
  {
   "cell_type": "code",
   "execution_count": 43,
   "id": "3b206132",
   "metadata": {},
   "outputs": [],
   "source": [
    "import seaborn as sns\n",
    "import matplotlib.pyplot as plt\n",
    "import matplotlib.patches as mpatches"
   ]
  },
  {
   "cell_type": "code",
   "execution_count": 149,
   "id": "c4583068",
   "metadata": {},
   "outputs": [
    {
     "data": {
      "image/png": "[encoded data removed]",
      "text/plain": [
       "<Figure size 800x600 with 1 Axes>"
      ]
     },
     "metadata": {},
     "output_type": "display_data"
    }
   ],
   "source": [
    "df_pd = df.select('year').toPandas()\n",
    "plt.figure(figsize=(8, 6))\n",
    "sns.histplot(data=df_pd, x='year', bins=26)\n",
    "plt.title('Year Distribution')\n",
    "plt.xlabel('Year')\n",
    "plt.ylabel('Frequency')\n",
    "\n",
    "plt.show()"
   ]
  },
  {
   "cell_type": "code",
   "execution_count": 17,
   "id": "6ebe93c8",
   "metadata": {},
   "outputs": [],
   "source": [
    "df_2 = df.withColumn('saledate_clean', regexp_replace(col('saledate'), ' GMT.*', ''))"
   ]
  },
  {
   "cell_type": "code",
   "execution_count": 18,
   "id": "2c1a0864",
   "metadata": {},
   "outputs": [],
   "source": [
    "# Convert the cleaned date string to a timestamp and then to a date\n",
    "df_2 = df_2.withColumn('saledate_clean', from_unixtime(unix_timestamp(col('saledate_clean'), 'EEE MMM dd yyyy HH:mm:ss')))\n",
    "\n",
    "# Calculate vehicle_age\n",
    "df_2 = df_2.withColumn('vehicle_age', year(col('saledate_clean')) - col('year'))"
   ]
  },
  {
   "cell_type": "code",
   "execution_count": 76,
   "id": "be8d8019",
   "metadata": {},
   "outputs": [
    {
     "name": "stderr",
     "output_type": "stream",
     "text": [
      "                                                                                \r"
     ]
    },
    {
     "data": {
      "text/plain": [
       "166"
      ]
     },
     "execution_count": 76,
     "metadata": {},
     "output_type": "execute_result"
    }
   ],
   "source": [
    "df_2.select('year', 'saledate_clean').where(col('year') > year(col('saledate_clean'))).count()"
   ]
  },
  {
   "cell_type": "code",
   "execution_count": 19,
   "id": "ad23b2c5",
   "metadata": {},
   "outputs": [],
   "source": [
    "df = df_2.filter(col('year') <= year(col('saledate_clean')))"
   ]
  },
  {
   "cell_type": "code",
   "execution_count": 22,
   "id": "858343d8",
   "metadata": {},
   "outputs": [
    {
     "name": "stderr",
     "output_type": "stream",
     "text": [
      "24/06/15 18:49:26 WARN RowBasedKeyValueBatch: Calling spill() on RowBasedKeyValueBatch. Will not spill but return 0.\n",
      "24/06/15 18:49:26 WARN RowBasedKeyValueBatch: Calling spill() on RowBasedKeyValueBatch. Will not spill but return 0.\n",
      "24/06/15 18:49:29 WARN RowBasedKeyValueBatch: Calling spill() on RowBasedKeyValueBatch. Will not spill but return 0.\n",
      "24/06/15 18:49:29 WARN RowBasedKeyValueBatch: Calling spill() on RowBasedKeyValueBatch. Will not spill but return 0.\n",
      "24/06/15 18:49:29 WARN RowBasedKeyValueBatch: Calling spill() on RowBasedKeyValueBatch. Will not spill but return 0.\n",
      "24/06/15 18:49:29 WARN RowBasedKeyValueBatch: Calling spill() on RowBasedKeyValueBatch. Will not spill but return 0.\n",
      "24/06/15 18:49:29 WARN RowBasedKeyValueBatch: Calling spill() on RowBasedKeyValueBatch. Will not spill but return 0.\n",
      "24/06/15 18:49:29 WARN RowBasedKeyValueBatch: Calling spill() on RowBasedKeyValueBatch. Will not spill but return 0.\n",
      "24/06/15 18:49:32 WARN RowBasedKeyValueBatch: Calling spill() on RowBasedKeyValueBatch. Will not spill but return 0.\n",
      "24/06/15 18:49:32 WARN RowBasedKeyValueBatch: Calling spill() on RowBasedKeyValueBatch. Will not spill but return 0.\n",
      "[Stage 72:===================================================>      (8 + 1) / 9]\r"
     ]
    },
    {
     "name": "stdout",
     "output_type": "stream",
     "text": [
      "+----+--------------------+-----------+\n",
      "|year|year(saledate_clean)|vehicle_age|\n",
      "+----+--------------------+-----------+\n",
      "|1990|                2015|         25|\n",
      "|1990|                2015|         25|\n",
      "|1990|                2015|         25|\n",
      "|1990|                2015|         25|\n",
      "|1990|                2015|         25|\n",
      "|1990|                2015|         25|\n",
      "|1990|                2015|         25|\n",
      "|1990|                2015|         25|\n",
      "|1990|                2014|         24|\n",
      "|1990|                2015|         25|\n",
      "|1990|                2015|         25|\n",
      "|1990|                2015|         25|\n",
      "|1990|                2014|         24|\n",
      "|1990|                2015|         25|\n",
      "|1990|                2015|         25|\n",
      "|1990|                2015|         25|\n",
      "|1990|                2015|         25|\n",
      "|1990|                2014|         24|\n",
      "|1990|                2015|         25|\n",
      "|1990|                2015|         25|\n",
      "+----+--------------------+-----------+\n",
      "only showing top 20 rows\n",
      "\n"
     ]
    },
    {
     "name": "stderr",
     "output_type": "stream",
     "text": [
      "\r",
      "                                                                                \r"
     ]
    }
   ],
   "source": [
    "df.select(['year', year(col('saledate_clean')), 'vehicle_age']).sort('year').show()"
   ]
  },
  {
   "cell_type": "code",
   "execution_count": 150,
   "id": "aeda3b76",
   "metadata": {},
   "outputs": [
    {
     "name": "stdout",
     "output_type": "stream",
     "text": [
      "+----+------------------+\n",
      "|year|   avg_vehicle_age|\n",
      "+----+------------------+\n",
      "|1990|              24.9|\n",
      "|1991|23.869565217391305|\n",
      "|1992|22.816091954022987|\n",
      "|1993|21.904347826086955|\n",
      "|1994|20.894941634241246|\n",
      "|1995| 19.87272727272727|\n",
      "|1996| 18.88867924528302|\n",
      "|1997|17.890382626680456|\n",
      "|1998|  16.9108049311095|\n",
      "|1999|15.901287553648068|\n",
      "|2000|14.906472592133788|\n",
      "|2001|13.908813972380178|\n",
      "|2002|12.900750853242322|\n",
      "|2003| 11.90941883767535|\n",
      "|2004|10.907218862435888|\n",
      "|2005| 9.910054512416718|\n",
      "|2006| 8.907602170676656|\n",
      "|2007| 7.909709212348294|\n",
      "|2008| 6.912421907937603|\n",
      "|2009| 5.907116451016636|\n",
      "+----+------------------+\n",
      "only showing top 20 rows\n",
      "\n"
     ]
    }
   ],
   "source": [
    "df.groupBy('year').agg(avg('vehicle_age').alias('avg_vehicle_age')).sort('year').show()"
   ]
  },
  {
   "cell_type": "markdown",
   "id": "72fdf41b",
   "metadata": {},
   "source": [
    "## Correlation Matrix"
   ]
  },
  {
   "cell_type": "code",
   "execution_count": 53,
   "id": "de0b917e",
   "metadata": {},
   "outputs": [
    {
     "name": "stdout",
     "output_type": "stream",
     "text": [
      "root\n",
      " |-- year: integer (nullable = true)\n",
      " |-- make: string (nullable = true)\n",
      " |-- model: string (nullable = true)\n",
      " |-- trim: string (nullable = true)\n",
      " |-- body: string (nullable = true)\n",
      " |-- vin: string (nullable = true)\n",
      " |-- state: string (nullable = true)\n",
      " |-- condition: double (nullable = true)\n",
      " |-- odometer: integer (nullable = true)\n",
      " |-- color: string (nullable = true)\n",
      " |-- interior: string (nullable = true)\n",
      " |-- seller: string (nullable = true)\n",
      " |-- mmr: integer (nullable = true)\n",
      " |-- sellingprice: integer (nullable = true)\n",
      " |-- saledate: string (nullable = true)\n",
      " |-- transmission: string (nullable = true)\n",
      " |-- body_type: string (nullable = true)\n",
      " |-- saledate_clean: string (nullable = true)\n",
      " |-- vehicle_age: integer (nullable = true)\n",
      "\n"
     ]
    }
   ],
   "source": [
    "df.printSchema()"
   ]
  },
  {
   "cell_type": "code",
   "execution_count": 44,
   "id": "1230889d",
   "metadata": {},
   "outputs": [],
   "source": [
    "from pyspark.sql.types import *\n",
    "from pyspark.ml.feature import StringIndexer\n",
    "from pyspark.ml.feature import VectorAssembler\n",
    "from pyspark.ml.feature import VectorIndexer\n",
    "from pyspark.ml import Pipeline"
   ]
  },
  {
   "cell_type": "code",
   "execution_count": 161,
   "id": "e5eb79e2",
   "metadata": {},
   "outputs": [
    {
     "name": "stderr",
     "output_type": "stream",
     "text": [
      "[Stage 582:============================>                            (4 + 4) / 8]\r"
     ]
    },
    {
     "name": "stdout",
     "output_type": "stream",
     "text": [
      "+----+-------------+---------------+---------------+---------+------------+-----------------+-----+---------+--------+--------+--------+--------------------+-----+------------+--------------------+---------+-------------------+-----------+--------+---------+----------------+---------+-------------+\n",
      "|year|         make|          model|           trim|     body|transmission|              vin|state|condition|odometer|   color|interior|              seller|  mmr|sellingprice|            saledate|body_type|     saledate_clean|vehicle_age|make_idx|model_idx|transmission_idx|color_idx|body_type_idx|\n",
      "+----+-------------+---------------+---------------+---------+------------+-----------------+-----+---------+--------+--------+--------+--------------------+-----+------------+--------------------+---------+-------------------+-----------+--------+---------+----------------+---------+-------------+\n",
      "|2013|    chevrolet|          cruze|            1LT|    sedan|   automatic|1g1pc5sb9d7167061|   va|      2.8| 29322.0|     red|    gray|fiserv/citizens a...|11200|       10200|Mon Dec 22 2014 0...|    sedan|2014-12-22 09:30:00|          1|     1.0|     16.0|             0.0|      5.0|          0.0|\n",
      "|2008|          gmc|         acadia|          SLT-2|      suv|   automatic|1gker33768j202809|   tx|      2.9| 97458.0|    gray|   black|ford motor credit...|12250|       11000|Tue Dec 23 2014 1...|      suv|2014-12-23 14:00:00|          6|    15.0|     68.0|             0.0|      3.0|          1.0|\n",
      "|2005|       nissan|         maxima|         3.5 SL|    sedan|   automatic|1n4ba41e25c827484|   va|      2.5|118589.0|    blue|   black|dt credit corpora...| 3700|        3800|Thu Jan 22 2015 0...|    sedan|2015-01-22 01:05:00|         10|     2.0|     19.0|             0.0|      4.0|          0.0|\n",
      "|2007|       hummer|             h3|           Base|      suv|   automatic|5gtdn13ex78160245|   fl|      3.9|107497.0|burgundy|   black|mercedes benz of ...|11400|       12700|Thu Dec 18 2014 1...|      suv|2014-12-18 16:20:00|          7|    35.0|    200.0|             0.0|      8.0|          1.0|\n",
      "|2004|      hyundai|         accent|             GL|    sedan|   automatic|kmhcg45c74u517860|   ca|      2.1| 85336.0|   green|   beige| aaero sweet company| 1225|        1800|Wed Dec 31 2014 1...|    sedan|2014-12-31 11:30:00|         10|     6.0|     64.0|             0.0|      7.0|          0.0|\n",
      "|2009|       toyota|         sienna|XLE 7-Passenger|  minivan|   automatic|5tdzk22c39s233823|   fl|      2.4| 79873.0|    gray|    gray|         palm toyota|12750|       10500|Wed Jan 07 2015 1...|  minivan|2015-01-07 16:15:00|          6|     3.0|     47.0|             0.0|      3.0|          4.0|\n",
      "|2013|        honda|        insight|             EX|hatchback|   automatic|jhmze2h78ds000083|   ca|      2.4| 31019.0|   white|    gray|ahfc/honda lease ...|13450|       11200|Thu Dec 18 2014 1...|hatchback|2014-12-18 12:00:00|          1|     5.0|    286.0|             0.0|      1.0|          3.0|\n",
      "|2012|          ram|           1500|            SLT| quad cab|   automatic|1c6rd7gp3cs292718|   md|      3.2| 26199.0|   black|   black|    chrysler capital|21600|       22600|Tue Dec 30 2014 0...|      cab|2014-12-30 09:30:00|          2|    23.0|     40.0|             0.0|      0.0|          2.0|\n",
      "|2010|        honda|        odyssey|             LX|  minivan|   automatic|5fnrl3h27ab080213|   ca|      2.7| 79116.0|   white|     tan|high bid trading ...| 9825|       12500|Wed Dec 17 2014 1...|  minivan|2014-12-17 12:15:00|          4|     5.0|     37.0|             0.0|      1.0|          4.0|\n",
      "|2014|         ford|          focus|             SE|hatchback|   automatic|1fadp3k27el150647|   ga|        2| 24432.0|  silver|   black|enterprise vehicl...|12500|        8700|Thu Jan 08 2015 1...|hatchback|2015-01-08 12:30:00|          1|     0.0|      6.0|             0.0|      2.0|          3.0|\n",
      "|2007|       saturn|           aura|             XE|    sedan|   automatic|1g8zs57n27f208351|   ca|      3.8|118943.0|   white|   beige|          valley kia| 3800|        3800|Thu Dec 18 2014 1...|    sedan|2014-12-18 12:00:00|          7|    27.0|    193.0|             0.0|      1.0|          0.0|\n",
      "|2011|mercedes-benz|        e-class|           E550|    sedan|   automatic|wddhf7cb8ba296721|   fl|      3.5| 43514.0|   white|   brown|mercedes-benz fin...|25600|       27600|Thu Dec 18 2014 0...|    sedan|2014-12-18 09:30:00|          3|    12.0|     41.0|             0.0|      1.0|          0.0|\n",
      "|2012|mercedes-benz|        m-class|  ML350 BlueTEC|      suv|   automatic|4jgda2eb1ca074994|   ca|      4.3| 45365.0|    gray|    gray| land rover san jose|35100|       35000|Tue Jan 06 2015 1...|      suv|2015-01-06 12:30:00|          3|    12.0|     82.0|             0.0|      3.0|          1.0|\n",
      "|2013|         ford|transit connect|  Cargo Van XLT|  minivan|   automatic|nm0ls7dn8dt148923|   tx|      4.7|  4551.0|   white|    gray|enterprise fleet ...|17200|       17000|Wed Dec 31 2014 1...|  minivan|2014-12-31 10:00:00|          1|     0.0|    167.0|             0.0|      1.0|          4.0|\n",
      "|2008|          gmc|       yukon xl|         Denali|      suv|   automatic|1gkfk66808j174939|   co|      2.5|103200.0|   black|   black|  dtg operations inc|16850|       17500|Wed Dec 31 2014 1...|      suv|2014-12-31 11:45:00|          6|    15.0|    100.0|             0.0|      0.0|          1.0|\n",
      "|2014|          ram|           1500|            SLT| quad cab|   automatic|1c6rr6gt8es416221|   ca|        2|  3658.0|    gray|    gray|enterprise vehicl...|22500|       15900|Tue Dec 30 2014 1...|      cab|2014-12-30 13:00:00|          0|    23.0|     40.0|             0.0|      3.0|          2.0|\n",
      "|2014|    chevrolet| impala limited|      LTZ Fleet|    sedan|   automatic|2g1wc5e38e1147124|   fl|        4| 14080.0|    gray|   beige|      gm remarketing|15000|       15000|Mon Jan 26 2015 0...|    sedan|2015-01-26 05:00:00|          1|     1.0|    105.0|             0.0|      3.0|          0.0|\n",
      "|2008|          bmw|       1 series|           135i|    coupe|      manual|wbauc73578vf23541|   fl|      3.7| 80489.0|    blue|    gray|summer enterprise...|11700|       13500|Tue Dec 30 2014 0...|    coupe|2014-12-30 09:30:00|          6|     7.0|    223.0|             1.0|      4.0|          5.0|\n",
      "|2014|        dodge|        avenger|             SE|    sedan|   automatic|1c3cdzab6en110572|   co|      4.3| 27444.0|     red|   beige|        gm financial|11100|       11900|Tue Dec 23 2014 1...|    sedan|2014-12-23 11:45:00|          0|     4.0|     27.0|             0.0|      5.0|          0.0|\n",
      "|2012|   volkswagen|             cc|          Sport|    sedan|   automatic|wvwmn7an1ce540261|   fl|      4.1| 22991.0|    blue|   beige|expert auto group...|14050|       14700|Thu Dec 18 2014 1...|    sedan|2014-12-18 10:25:00|          2|    14.0|    169.0|             0.0|      4.0|          0.0|\n",
      "+----+-------------+---------------+---------------+---------+------------+-----------------+-----+---------+--------+--------+--------+--------------------+-----+------------+--------------------+---------+-------------------+-----------+--------+---------+----------------+---------+-------------+\n",
      "only showing top 20 rows\n",
      "\n"
     ]
    },
    {
     "name": "stderr",
     "output_type": "stream",
     "text": [
      "\r",
      "                                                                                \r"
     ]
    }
   ],
   "source": [
    "indexers_cor = [StringIndexer(inputCol=col, outputCol=col+'_idx').fit(df) for col in [\"make\", \"model\", \"transmission\", \"color\", \"body_type\"]]\n",
    "pipeline = Pipeline(stages=indexers_cor)\n",
    "cor_df = pipeline.fit(df).transform(df)\n",
    "cor_df.show()"
   ]
  },
  {
   "cell_type": "code",
   "execution_count": 173,
   "id": "59085620",
   "metadata": {},
   "outputs": [
    {
     "name": "stderr",
     "output_type": "stream",
     "text": [
      "                                                                                \r"
     ]
    },
    {
     "data": {
      "image/png": "[encoded data removed]",
      "text/plain": [
       "<Figure size 1200x1000 with 2 Axes>"
      ]
     },
     "metadata": {},
     "output_type": "display_data"
    }
   ],
   "source": [
    "# Select relevant columns for correlation analysis\n",
    "cols = [ \"sellingprice\", \"mmr\", \"make_idx\", \"model_idx\", \"transmission_idx\", \"color_idx\", \"body_type_idx\", \"year\", \"condition\", \"odometer\", \"vehicle_age\"]\n",
    "\n",
    "# Generate the correlation matrix\n",
    "plt.figure(figsize=(12, 10))\n",
    "sns.set(font_scale=1.2)\n",
    "corr_matrix = cor_df.select(cols).toPandas().corr()\n",
    "heatmap = sns.heatmap(data=corr_matrix, cmap='coolwarm', annot=True, fmt=\".2f\", linewidths=.5)\n",
    "plt.title('Correlation Matrix')\n",
    "plt.show()"
   ]
  },
  {
   "cell_type": "markdown",
   "id": "417a77f6",
   "metadata": {},
   "source": [
    "## Model-Making"
   ]
  },
  {
   "cell_type": "code",
   "execution_count": null,
   "id": "df52933d",
   "metadata": {},
   "outputs": [],
   "source": [
    "# Feature Selection\n",
    "features_df = df.select([\"make\", \"model\", \"year\", \"body_type\", \"transmission\", \"condition\", \"odometer\", \"color\", \"interior\",\"mmr\"])\n",
    "features_df.show()"
   ]
  },
  {
   "cell_type": "code",
   "execution_count": 227,
   "id": "38481934",
   "metadata": {},
   "outputs": [],
   "source": [
    "from pyspark.sql.types import *\n",
    "from pyspark.ml.feature import StringIndexer\n",
    "from pyspark.ml.feature import VectorAssembler\n",
    "from pyspark.ml.feature import VectorIndexer\n",
    "from pyspark.ml import Pipeline"
   ]
  },
  {
   "cell_type": "code",
   "execution_count": 244,
   "id": "2b5da2db",
   "metadata": {},
   "outputs": [
    {
     "name": "stdout",
     "output_type": "stream",
     "text": [
      "+----------+----------------+----+---------+------------+---------+--------+------+--------+-----+--------+-------------+\n",
      "|      make|           model|year|body_type|transmission|condition|odometer| color|interior|  mmr|make_idx|body_type_idx|\n",
      "+----------+----------------+----+---------+------------+---------+--------+------+--------+-----+--------+-------------+\n",
      "|      ford|          fusion|2012|    sedan|   automatic|      3.1|   86927|   red|   black| 8150|     0.0|          0.0|\n",
      "|    toyota|          sienna|2014|  minivan|   automatic|      4.4|   24913|  gray|    gray|21300|     3.0|          4.0|\n",
      "| chevrolet|             hhr|2008|    wagon|   automatic|      4.2|   66269|  gold|   black| 5800|     1.0|          6.0|\n",
      "|     honda|           civic|2012|    sedan|   automatic|      3.4|   35852|  blue|    gray|11050|     5.0|          0.0|\n",
      "|      ford|          fiesta|2011|    sedan|   automatic|      4.7|   52164|silver|   black| 7300|     0.0|          0.0|\n",
      "|    subaru|         outback|2006|    wagon|   automatic|      3.7|   31414| black|   black| 9575|    21.0|          6.0|\n",
      "|    nissan|           rogue|2012|      suv|   automatic|      4.1|   61656|  gray|   black|12350|     2.0|          1.0|\n",
      "|    nissan|          altima|2012|    sedan|   automatic|      2.9|   67416|silver|   black|10200|     2.0|          0.0|\n",
      "|       bmw|              x5|2004|      suv|   automatic|      3.7|  144154| black|   black| 4525|     7.0|          1.0|\n",
      "| chevrolet|  silverado 1500|2014|      cab|   automatic|      4.3|   14893| black|    gray|18950|     1.0|          2.0|\n",
      "|       bmw|        3 series|2005|    sedan|   automatic|      1.9|   99615| green|   black| 4975|     7.0|          0.0|\n",
      "|      ford|          fusion|2012|    sedan|   automatic|      3.1|   53677|silver|   black|11200|     0.0|          0.0|\n",
      "|  infiniti|         g coupe|2012|    coupe|   automatic|      4.8|   31667|  gray|   black|23100|    10.0|          5.0|\n",
      "|     dodge|         journey|2012|      suv|   automatic|      3.6|   62286| white|   black|11150|     4.0|          1.0|\n",
      "| chevrolet|silverado 2500hd|2014|      cab|   automatic|      3.0|   22859| white|    gray|35900|     1.0|          2.0|\n",
      "|mitsubishi|          galant|2001|    sedan|   automatic|      1.9|  166873| black|    gray|  475|    25.0|          0.0|\n",
      "|   hyundai|          sonata|2013|    sedan|   automatic|      2.1|   73667|  gray|    gray|10150|     6.0|          0.0|\n",
      "| chevrolet|           cruze|2014|    sedan|      manual|      4.2|    8150| black|   black|13150|     1.0|          0.0|\n",
      "|    jaguar|              xj|2012|    sedan|   automatic|      3.6|   40558|  gray|   brown|42200|    32.0|          0.0|\n",
      "|     honda|            cr-v|2000|      suv|   automatic|      2.5|  109453|  gold|   black| 2975|     5.0|          1.0|\n",
      "+----------+----------------+----+---------+------------+---------+--------+------+--------+-----+--------+-------------+\n",
      "only showing top 20 rows\n",
      "\n"
     ]
    },
    {
     "name": "stderr",
     "output_type": "stream",
     "text": [
      "\r",
      "[Stage 1862:=====================>                                  (3 + 5) / 8]\r",
      "\r",
      "                                                                                \r"
     ]
    }
   ],
   "source": [
    "indexers = [StringIndexer(inputCol=col, outputCol=col+'_idx').fit(features_df) for col in [\"make\", \"body_type\", \"model\"]]\n",
    "pipeline = Pipeline(stages=indexers)\n",
    "features_df = pipeline.fit(features_df).transform(features_df)\n",
    "features_df.show()"
   ]
  },
  {
   "cell_type": "code",
   "execution_count": 245,
   "id": "9ee7aefc",
   "metadata": {},
   "outputs": [
    {
     "name": "stdout",
     "output_type": "stream",
     "text": [
      "+----------+----------------+----+---------+------------+---------+--------+------+--------+-----+--------+-------------+---------------------+\n",
      "|make      |model           |year|body_type|transmission|condition|odometer|color |interior|mmr  |make_idx|body_type_idx|features             |\n",
      "+----------+----------------+----+---------+------------+---------+--------+------+--------+-----+--------+-------------+---------------------+\n",
      "|ford      |fusion          |2012|sedan    |automatic   |3.1      |86927   |red   |black   |8150 |0.0     |0.0          |[0.0,0.0,2012.0,3.1] |\n",
      "|toyota    |sienna          |2014|minivan  |automatic   |4.4      |24913   |gray  |gray    |21300|3.0     |4.0          |[3.0,4.0,2014.0,4.4] |\n",
      "|chevrolet |hhr             |2008|wagon    |automatic   |4.2      |66269   |gold  |black   |5800 |1.0     |6.0          |[1.0,6.0,2008.0,4.2] |\n",
      "|honda     |civic           |2012|sedan    |automatic   |3.4      |35852   |blue  |gray    |11050|5.0     |0.0          |[5.0,0.0,2012.0,3.4] |\n",
      "|ford      |fiesta          |2011|sedan    |automatic   |4.7      |52164   |silver|black   |7300 |0.0     |0.0          |[0.0,0.0,2011.0,4.7] |\n",
      "|subaru    |outback         |2006|wagon    |automatic   |3.7      |31414   |black |black   |9575 |21.0    |6.0          |[21.0,6.0,2006.0,3.7]|\n",
      "|nissan    |rogue           |2012|suv      |automatic   |4.1      |61656   |gray  |black   |12350|2.0     |1.0          |[2.0,1.0,2012.0,4.1] |\n",
      "|nissan    |altima          |2012|sedan    |automatic   |2.9      |67416   |silver|black   |10200|2.0     |0.0          |[2.0,0.0,2012.0,2.9] |\n",
      "|bmw       |x5              |2004|suv      |automatic   |3.7      |144154  |black |black   |4525 |7.0     |1.0          |[7.0,1.0,2004.0,3.7] |\n",
      "|chevrolet |silverado 1500  |2014|cab      |automatic   |4.3      |14893   |black |gray    |18950|1.0     |2.0          |[1.0,2.0,2014.0,4.3] |\n",
      "|bmw       |3 series        |2005|sedan    |automatic   |1.9      |99615   |green |black   |4975 |7.0     |0.0          |[7.0,0.0,2005.0,1.9] |\n",
      "|ford      |fusion          |2012|sedan    |automatic   |3.1      |53677   |silver|black   |11200|0.0     |0.0          |[0.0,0.0,2012.0,3.1] |\n",
      "|infiniti  |g coupe         |2012|coupe    |automatic   |4.8      |31667   |gray  |black   |23100|10.0    |5.0          |[10.0,5.0,2012.0,4.8]|\n",
      "|dodge     |journey         |2012|suv      |automatic   |3.6      |62286   |white |black   |11150|4.0     |1.0          |[4.0,1.0,2012.0,3.6] |\n",
      "|chevrolet |silverado 2500hd|2014|cab      |automatic   |3.0      |22859   |white |gray    |35900|1.0     |2.0          |[1.0,2.0,2014.0,3.0] |\n",
      "|mitsubishi|galant          |2001|sedan    |automatic   |1.9      |166873  |black |gray    |475  |25.0    |0.0          |[25.0,0.0,2001.0,1.9]|\n",
      "|hyundai   |sonata          |2013|sedan    |automatic   |2.1      |73667   |gray  |gray    |10150|6.0     |0.0          |[6.0,0.0,2013.0,2.1] |\n",
      "|chevrolet |cruze           |2014|sedan    |manual      |4.2      |8150    |black |black   |13150|1.0     |0.0          |[1.0,0.0,2014.0,4.2] |\n",
      "|jaguar    |xj              |2012|sedan    |automatic   |3.6      |40558   |gray  |brown   |42200|32.0    |0.0          |[32.0,0.0,2012.0,3.6]|\n",
      "|honda     |cr-v            |2000|suv      |automatic   |2.5      |109453  |gold  |black   |2975 |5.0     |1.0          |[5.0,1.0,2000.0,2.5] |\n",
      "+----------+----------------+----+---------+------------+---------+--------+------+--------+-----+--------+-------------+---------------------+\n",
      "only showing top 20 rows\n",
      "\n"
     ]
    }
   ],
   "source": [
    "assembler = VectorAssembler(\n",
    "    inputCols=[\"make_idx\", \"body_type_idx\", \"year\", \"condition\", \"model_idx\"],\n",
    "    outputCol=\"features\"\n",
    ")\n",
    "features_df = assembler.transform(features_df)\n",
    "features_df.show(truncate=False)\n",
    "#\"sellingprice_idx\", \"transmission_idx\", \"color_idx\""
   ]
  },
  {
   "cell_type": "code",
   "execution_count": 246,
   "id": "29a8d72e",
   "metadata": {},
   "outputs": [
    {
     "name": "stdout",
     "output_type": "stream",
     "text": [
      "+---------------------+-----+\n",
      "|features             |mmr  |\n",
      "+---------------------+-----+\n",
      "|[7.0,7.0,2012.0,4.2] |24200|\n",
      "|[5.0,1.0,2011.0,3.5] |20300|\n",
      "|[1.0,1.0,2008.0,2.8] |4275 |\n",
      "|[19.0,1.0,2012.0,3.8]|25700|\n",
      "|[1.0,0.0,2009.0,4.3] |6625 |\n",
      "|[10.0,0.0,2012.0,4.7]|21000|\n",
      "|[13.0,0.0,2008.0,3.4]|22400|\n",
      "|[3.0,0.0,2013.0,4.4] |11350|\n",
      "|[3.0,0.0,2010.0,2.1] |7150 |\n",
      "|[14.0,0.0,2006.0,2.8]|3800 |\n",
      "|[4.0,4.0,2014.0,3.0] |17250|\n",
      "|[4.0,1.0,2005.0,3.0] |4075 |\n",
      "|[5.0,4.0,2005.0,2.8] |4975 |\n",
      "|[2.0,0.0,2011.0,2.0] |9525 |\n",
      "|[2.0,0.0,2009.0,3.1] |4800 |\n",
      "|[15.0,1.0,2008.0,2.9]|14050|\n",
      "|[4.0,1.0,2004.0,1.9] |2125 |\n",
      "|[0.0,1.0,2013.0,4.8] |19500|\n",
      "|[10.0,0.0,2012.0,4.1]|28200|\n",
      "|[0.0,0.0,2007.0,2.4] |3625 |\n",
      "+---------------------+-----+\n",
      "only showing top 20 rows\n",
      "\n"
     ]
    },
    {
     "name": "stderr",
     "output_type": "stream",
     "text": [
      "\r",
      "[Stage 1868:==============>                                         (2 + 6) / 8]\r",
      "\r",
      "                                                                                \r"
     ]
    }
   ],
   "source": [
    "features_vector_df = features_df.select(['features','mmr'])\n",
    "features_vector_df = features_vector_df.withColumn('mmr', features_vector_df['mmr'].cast(IntegerType()))\n",
    "features_vector_df.show(truncate=False)"
   ]
  },
  {
   "cell_type": "code",
   "execution_count": 247,
   "id": "ad271a9e",
   "metadata": {},
   "outputs": [],
   "source": [
    "(trainData, testData) = features_vector_df.randomSplit([0.83, 0.17], seed=42)"
   ]
  },
  {
   "cell_type": "code",
   "execution_count": 248,
   "id": "20c93438",
   "metadata": {},
   "outputs": [
    {
     "name": "stdout",
     "output_type": "stream",
     "text": [
      "+--------------------+---+\n",
      "|            features|mmr|\n",
      "+--------------------+---+\n",
      "|[0.0,0.0,1996.0,1.0]|500|\n",
      "|[0.0,0.0,1996.0,1.0]|650|\n",
      "|[0.0,0.0,1996.0,2.0]|575|\n",
      "|[0.0,0.0,1996.0,2.0]|600|\n",
      "|[0.0,0.0,1997.0,1.0]|350|\n",
      "|[0.0,0.0,1997.0,1.9]|850|\n",
      "|[0.0,0.0,1997.0,2.0]|675|\n",
      "|[0.0,0.0,1997.0,2.4]|800|\n",
      "|[0.0,0.0,1997.0,2.6]|650|\n",
      "|[0.0,0.0,1997.0,2.7]|400|\n",
      "|[0.0,0.0,1998.0,1.9]|375|\n",
      "|[0.0,0.0,1998.0,1.9]|400|\n",
      "|[0.0,0.0,1998.0,1.9]|400|\n",
      "|[0.0,0.0,1998.0,2.0]|775|\n",
      "|[0.0,0.0,1998.0,2.7]|850|\n",
      "|[0.0,0.0,1999.0,1.0]|700|\n",
      "|[0.0,0.0,1999.0,1.0]|700|\n",
      "|[0.0,0.0,1999.0,1.0]|750|\n",
      "|[0.0,0.0,1999.0,1.9]|575|\n",
      "|[0.0,0.0,1999.0,1.9]|600|\n",
      "+--------------------+---+\n",
      "only showing top 20 rows\n",
      "\n"
     ]
    }
   ],
   "source": [
    "trainData.show()"
   ]
  },
  {
   "cell_type": "code",
   "execution_count": null,
   "id": "5a9d5548",
   "metadata": {},
   "outputs": [],
   "source": [
    "# Import classification models\n",
    "from pyspark.ml.regression import RandomForestRegressor, GBTRegressor, LinearRegression"
   ]
  },
  {
   "cell_type": "markdown",
   "id": "55ddded8",
   "metadata": {},
   "source": [
    "### Random Forest"
   ]
  },
  {
   "cell_type": "code",
   "execution_count": 254,
   "id": "407624cb",
   "metadata": {},
   "outputs": [
    {
     "name": "stderr",
     "output_type": "stream",
     "text": [
      "                                                                                \r"
     ]
    }
   ],
   "source": [
    "rf = RandomForestRegressor(labelCol=\"mmr\", featuresCol=\"features\", maxBins=761).fit(trainData)"
   ]
  },
  {
   "cell_type": "code",
   "execution_count": 255,
   "id": "026f53ad",
   "metadata": {},
   "outputs": [
    {
     "name": "stderr",
     "output_type": "stream",
     "text": [
      "[Stage 1904:>                                                       (0 + 1) / 1]\r"
     ]
    },
    {
     "name": "stdout",
     "output_type": "stream",
     "text": [
      "+--------------------+----+------------------+\n",
      "|            features| mmr|        prediction|\n",
      "+--------------------+----+------------------+\n",
      "|[0.0,0.0,1996.0,2.0]| 475|2452.7270896570267|\n",
      "|[0.0,0.0,1997.0,1.7]| 575|2452.7270896570267|\n",
      "|[0.0,0.0,1997.0,2.0]| 600|2452.7270896570267|\n",
      "|[0.0,0.0,1997.0,2.8]| 375| 2956.218436159469|\n",
      "|[0.0,0.0,1998.0,2.8]| 650| 2956.218436159469|\n",
      "|[0.0,0.0,1999.0,1.9]| 450|2452.7270896570267|\n",
      "|[0.0,0.0,1999.0,3.1]| 775|3401.1134240433844|\n",
      "|[0.0,0.0,2000.0,1.9]|1050|2452.7270896570267|\n",
      "|[0.0,0.0,2000.0,2.0]| 650|2452.7270896570267|\n",
      "|[0.0,0.0,2000.0,2.0]|1100|2452.7270896570267|\n",
      "|[0.0,0.0,2000.0,2.0]|1500|2452.7270896570267|\n",
      "|[0.0,0.0,2000.0,2.5]| 375|2452.7270896570267|\n",
      "|[0.0,0.0,2000.0,3.8]|1175| 4253.009498145293|\n",
      "|[0.0,0.0,2001.0,1.9]| 800|2452.7270896570267|\n",
      "|[0.0,0.0,2001.0,2.0]| 800|2452.7270896570267|\n",
      "|[0.0,0.0,2002.0,1.0]| 725|2585.5071572717084|\n",
      "|[0.0,0.0,2002.0,1.9]|6275|2585.5071572717084|\n",
      "|[0.0,0.0,2002.0,2.1]| 725|2585.5071572717084|\n",
      "|[0.0,0.0,2002.0,2.1]|1025|2585.5071572717084|\n",
      "|[0.0,0.0,2002.0,2.5]|1450|2585.5071572717084|\n",
      "+--------------------+----+------------------+\n",
      "only showing top 20 rows\n",
      "\n"
     ]
    },
    {
     "name": "stderr",
     "output_type": "stream",
     "text": [
      "\r",
      "                                                                                \r"
     ]
    }
   ],
   "source": [
    "predictedDataRF = rf.transform(testData)\n",
    "predictedDataRF.show()"
   ]
  },
  {
   "cell_type": "markdown",
   "id": "720e0eb9",
   "metadata": {},
   "source": [
    "### Linear Regression"
   ]
  },
  {
   "cell_type": "code",
   "execution_count": 78,
   "id": "2c08f27b",
   "metadata": {},
   "outputs": [],
   "source": [
    "lr = LinearRegression(labelCol=\"mmr\", featuresCol=\"features\").setMaxIter(100)"
   ]
  },
  {
   "cell_type": "code",
   "execution_count": 239,
   "id": "1c03e7cd",
   "metadata": {},
   "outputs": [
    {
     "name": "stderr",
     "output_type": "stream",
     "text": [
      "24/05/23 23:35:47 WARN Instrumentation: [f4161af3] regParam is zero, which might cause numerical instability and overfitting.\n",
      "                                                                                \r"
     ]
    },
    {
     "name": "stdout",
     "output_type": "stream",
     "text": [
      "+--------------------+----+-------------------+\n",
      "|            features| mmr|         prediction|\n",
      "+--------------------+----+-------------------+\n",
      "|[0.0,1.0,2.0,1997...|1050|  -8388.49006060278|\n",
      "|[0.0,1.0,2.0,1997...|2400|  -8388.49006060278|\n",
      "|[0.0,1.0,2.0,1997...|1475| -8181.722684533335|\n",
      "|[0.0,1.0,2.0,1998...|1150| -8939.722815691493|\n",
      "|[0.0,1.0,2.0,1998...|1875| -7078.816431066487|\n",
      "|[0.0,1.0,2.0,1999...|2075| -5769.142801529728|\n",
      "|[0.0,1.0,2.0,2000...|1850| -2598.562787368428|\n",
      "|[0.0,1.0,2.0,2001...|4000|-3149.7955424566753|\n",
      "|[0.0,1.0,2.0,2001...|4100|-3149.7955424566753|\n",
      "|[0.0,1.0,2.0,2001...|2875|  -2943.02816638723|\n",
      "|[0.0,1.0,2.0,2001...|4275|  -2943.02816638723|\n",
      "|[0.0,1.0,2.0,2001...|3475|-1702.4239099705592|\n",
      "|[0.0,1.0,2.0,2002...|2300|-3701.0282975453883|\n",
      "|[0.0,1.0,2.0,2002...|2525|-1840.1219129203819|\n",
      "|[0.0,1.0,2.0,2002...|2650|-1633.3545368509367|\n",
      "|[0.0,1.0,2.0,2003...|3450| -530.4482833836228|\n",
      "|[0.0,1.0,2.0,2003...|4200|  89.85384482471272|\n",
      "|[0.0,1.0,2.0,2003...|7775|  296.6212208941579|\n",
      "|[0.0,1.0,2.0,2003...|8875|  296.6212208941579|\n",
      "|[0.0,1.0,2.0,2003...|2750| 1330.4581012413837|\n",
      "+--------------------+----+-------------------+\n",
      "only showing top 20 rows\n",
      "\n"
     ]
    }
   ],
   "source": [
    "# Fit the LinearRegression model to the training data\n",
    "lrModel = lr.fit(trainData)\n",
    "\n",
    "# Use the trained model to make predictions on the test data\n",
    "predictedDataLR = lrModel.transform(testData)\n",
    "\n",
    "# Show the predicted data\n",
    "predictedDataLR.show()"
   ]
  },
  {
   "cell_type": "markdown",
   "id": "339cf00a",
   "metadata": {},
   "source": [
    "### Gradient Boosted"
   ]
  },
  {
   "cell_type": "code",
   "execution_count": 256,
   "id": "3b592398",
   "metadata": {},
   "outputs": [],
   "source": [
    "gbt = GBTRegressor(labelCol=\"mmr\", featuresCol=\"features\", maxBins = 60)"
   ]
  },
  {
   "cell_type": "code",
   "execution_count": 257,
   "id": "ac3a8048",
   "metadata": {},
   "outputs": [
    {
     "name": "stderr",
     "output_type": "stream",
     "text": [
      "                                                                                \r"
     ]
    },
    {
     "name": "stdout",
     "output_type": "stream",
     "text": [
      "+--------------------+----+------------------+\n",
      "|            features| mmr|        prediction|\n",
      "+--------------------+----+------------------+\n",
      "|[0.0,0.0,1996.0,2.0]| 475|  732.991696439143|\n",
      "|[0.0,0.0,1997.0,1.7]| 575|  732.991696439143|\n",
      "|[0.0,0.0,1997.0,2.0]| 600|  732.991696439143|\n",
      "|[0.0,0.0,1997.0,2.8]| 375| 1067.655733620657|\n",
      "|[0.0,0.0,1998.0,2.8]| 650| 1067.655733620657|\n",
      "|[0.0,0.0,1999.0,1.9]| 450| 956.5840226142152|\n",
      "|[0.0,0.0,1999.0,3.1]| 775|1470.4757644780334|\n",
      "|[0.0,0.0,2000.0,1.9]|1050|1078.7264770768213|\n",
      "|[0.0,0.0,2000.0,2.0]| 650|1078.7264770768213|\n",
      "|[0.0,0.0,2000.0,2.0]|1100|1078.7264770768213|\n",
      "|[0.0,0.0,2000.0,2.0]|1500|1078.7264770768213|\n",
      "|[0.0,0.0,2000.0,2.5]| 375|1126.3941036340664|\n",
      "|[0.0,0.0,2000.0,3.8]|1175|1899.0523753395898|\n",
      "|[0.0,0.0,2001.0,1.9]| 800| 1252.107958904391|\n",
      "|[0.0,0.0,2001.0,2.0]| 800| 1252.107958904391|\n",
      "|[0.0,0.0,2002.0,1.0]| 725|1559.4482241833864|\n",
      "|[0.0,0.0,2002.0,1.9]|6275|1559.4482241833864|\n",
      "|[0.0,0.0,2002.0,2.1]| 725|1607.1158507406312|\n",
      "|[0.0,0.0,2002.0,2.1]|1025|1607.1158507406312|\n",
      "|[0.0,0.0,2002.0,2.5]|1450|1607.1158507406312|\n",
      "+--------------------+----+------------------+\n",
      "only showing top 20 rows\n",
      "\n"
     ]
    }
   ],
   "source": [
    "# Fit the LinearRegression model to the training data\n",
    "gbtModel = gbt.fit(trainData)\n",
    "\n",
    "# Use the trained model to make predictions on the test data\n",
    "predictedDataGBT = gbtModel.transform(testData)\n",
    "\n",
    "# Show the predicted data\n",
    "predictedDataGBT.show()"
   ]
  },
  {
   "cell_type": "markdown",
   "id": "aad102e7",
   "metadata": {},
   "source": [
    "## Model Evaluation"
   ]
  },
  {
   "cell_type": "code",
   "execution_count": 198,
   "id": "9eaa3828",
   "metadata": {},
   "outputs": [],
   "source": [
    "# Import evaluation models\n",
    "\n",
    "from pyspark.ml.evaluation import RegressionEvaluator\n",
    "from pyspark.mllib.evaluation import MulticlassMetrics\n"
   ]
  },
  {
   "cell_type": "markdown",
   "id": "2fb55b96",
   "metadata": {},
   "source": [
    "### Random Forest"
   ]
  },
  {
   "cell_type": "code",
   "execution_count": 258,
   "id": "d6fd1b08",
   "metadata": {},
   "outputs": [
    {
     "name": "stderr",
     "output_type": "stream",
     "text": [
      "\r",
      "[Stage 2219:==============>                                         (1 + 3) / 4]\r",
      "\r",
      "                                                                                \r"
     ]
    },
    {
     "name": "stdout",
     "output_type": "stream",
     "text": [
      "Root Mean Squared Error (RMSE) 5058.197210360737\n",
      "Mean Squared Error (MSE) 25585359.01890114\n",
      "R-squared (R²) 0.711080482132586\n"
     ]
    }
   ],
   "source": [
    "evaluator1 = RegressionEvaluator(\n",
    "    labelCol=\"mmr\", predictionCol=\"prediction\", metricName=\"rmse\")\n",
    "evaluator2 = RegressionEvaluator(\n",
    "    labelCol=\"mmr\", predictionCol=\"prediction\", metricName=\"mse\")\n",
    "evaluator3 = RegressionEvaluator(\n",
    "    labelCol=\"mmr\", predictionCol=\"prediction\", metricName=\"r2\")\n",
    "rmse = evaluator1.evaluate(predictedDataRF)\n",
    "mse = evaluator2.evaluate(predictedDataRF)\n",
    "r2 = evaluator3.evaluate(predictedDataRF)\n",
    "print(\"Root Mean Squared Error (RMSE)\", rmse)\n",
    "print(\"Mean Squared Error (MSE)\", mse)\n",
    "print(\"R-squared (R²)\", r2)"
   ]
  },
  {
   "cell_type": "code",
   "execution_count": 259,
   "id": "f5c1d448",
   "metadata": {},
   "outputs": [
    {
     "name": "stdout",
     "output_type": "stream",
     "text": [
      "Mean Absolute Percentage Error (MAPE) on test data = 38.90868814537291%\n"
     ]
    }
   ],
   "source": [
    "predictions = predictedDataRF.withColumn(\"ape\", abs((col(\"mmr\") - col(\"prediction\")) / col(\"mmr\")))\n",
    "mape = predictions.select(mean(col(\"ape\"))).collect()[0][0] * 100\n",
    "\n",
    "print(f\"Mean Absolute Percentage Error (MAPE) on test data = {mape}%\")"
   ]
  },
  {
   "cell_type": "markdown",
   "id": "d253dbc6",
   "metadata": {},
   "source": [
    "### Linear Regression"
   ]
  },
  {
   "cell_type": "code",
   "execution_count": 240,
   "id": "eb4afbca",
   "metadata": {},
   "outputs": [
    {
     "name": "stderr",
     "output_type": "stream",
     "text": [
      "\r",
      "[Stage 1834:>                                                       (0 + 4) / 4]\r",
      "\r",
      "                                                                                \r"
     ]
    },
    {
     "name": "stdout",
     "output_type": "stream",
     "text": [
      "Root Mean Squared Error (RMSE) 7032.623407311401\n",
      "Mean Squared Error (MSE) 49457791.98906422\n",
      "R-squared (R²) 0.4353174422038686\n"
     ]
    }
   ],
   "source": [
    "evaluator1 = RegressionEvaluator(\n",
    "    labelCol=\"mmr\", predictionCol=\"prediction\", metricName=\"rmse\")\n",
    "evaluator2 = RegressionEvaluator(\n",
    "    labelCol=\"mmr\", predictionCol=\"prediction\", metricName=\"mse\")\n",
    "evaluator3 = RegressionEvaluator(\n",
    "    labelCol=\"mmr\", predictionCol=\"prediction\", metricName=\"r2\")\n",
    "rmse = evaluator1.evaluate(predictedDataLR)\n",
    "mse = evaluator2.evaluate(predictedDataLR)\n",
    "r2 = evaluator3.evaluate(predictedDataLR)\n",
    "print(\"Root Mean Squared Error (RMSE)\", rmse)\n",
    "print(\"Mean Squared Error (MSE)\", mse)\n",
    "print(\"R-squared (R²)\", r2)"
   ]
  },
  {
   "cell_type": "code",
   "execution_count": 241,
   "id": "2b80fdef",
   "metadata": {},
   "outputs": [
    {
     "name": "stderr",
     "output_type": "stream",
     "text": [
      "\r",
      "[Stage 1841:===================================>                    (5 + 3) / 8]\r"
     ]
    },
    {
     "name": "stdout",
     "output_type": "stream",
     "text": [
      "Mean Absolute Percentage Error (MAPE) on test data = 66.41334733512191%\n"
     ]
    },
    {
     "name": "stderr",
     "output_type": "stream",
     "text": [
      "\r",
      "                                                                                \r"
     ]
    }
   ],
   "source": [
    "predictions = predictedDataLR.withColumn(\"ape\", abs((col(\"mmr\") - col(\"prediction\")) / col(\"mmr\")))\n",
    "mape = predictions.select(mean(col(\"ape\"))).collect()[0][0] * 100\n",
    "\n",
    "print(f\"Mean Absolute Percentage Error (MAPE) on test data = {mape}%\")"
   ]
  },
  {
   "cell_type": "markdown",
   "id": "0f87095b",
   "metadata": {},
   "source": [
    "### Gradient Boosted"
   ]
  },
  {
   "cell_type": "code",
   "execution_count": 260,
   "id": "b8f74e44",
   "metadata": {},
   "outputs": [
    {
     "name": "stdout",
     "output_type": "stream",
     "text": [
      "Root Mean Squared Error (RMSE) 4487.275016381302\n",
      "Mean Squared Error (MSE) 20135637.07263981\n",
      "R-squared (R²) 0.7726207964999593\n"
     ]
    }
   ],
   "source": [
    "evaluator1 = RegressionEvaluator(\n",
    "    labelCol=\"mmr\", predictionCol=\"prediction\", metricName=\"rmse\")\n",
    "evaluator2 = RegressionEvaluator(\n",
    "    labelCol=\"mmr\", predictionCol=\"prediction\", metricName=\"mse\")\n",
    "evaluator3 = RegressionEvaluator(\n",
    "    labelCol=\"mmr\", predictionCol=\"prediction\", metricName=\"r2\")\n",
    "rmse = evaluator1.evaluate(predictedDataGBT)\n",
    "mse = evaluator2.evaluate(predictedDataGBT)\n",
    "r2 = evaluator3.evaluate(predictedDataGBT)\n",
    "print(\"Root Mean Squared Error (RMSE)\", rmse)\n",
    "print(\"Mean Squared Error (MSE)\", mse)\n",
    "print(\"R-squared (R²)\", r2)"
   ]
  },
  {
   "cell_type": "code",
   "execution_count": 261,
   "id": "beedde3e",
   "metadata": {},
   "outputs": [
    {
     "name": "stdout",
     "output_type": "stream",
     "text": [
      "Mean Absolute Percentage Error (MAPE) on test data = 28.664560693914527%\n"
     ]
    }
   ],
   "source": [
    "predictions = predictedDataGBT.withColumn(\"ape\", abs((col(\"mmr\") - col(\"prediction\")) / col(\"mmr\")))\n",
    "mape = predictions.select(mean(col(\"ape\"))).collect()[0][0] * 100\n",
    "\n",
    "print(f\"Mean Absolute Percentage Error (MAPE) on test data = {mape}%\")"
   ]
  },
  {
   "cell_type": "markdown",
   "id": "ba6959c5",
   "metadata": {},
   "source": [
    "# Final Model (GBT Regressor)"
   ]
  },
  {
   "cell_type": "code",
   "execution_count": 20,
   "id": "0bb63c06",
   "metadata": {},
   "outputs": [],
   "source": [
    "from pyspark.sql.types import *\n",
    "from pyspark.ml.feature import StringIndexer\n",
    "from pyspark.ml.feature import VectorAssembler\n",
    "from pyspark.ml.feature import VectorIndexer\n",
    "from pyspark.ml import Pipeline\n",
    "\n",
    "# Import classification models\n",
    "from pyspark.ml.regression import RandomForestRegressor, GBTRegressor, LinearRegression\n",
    "from pyspark.ml.tuning import CrossValidator, ParamGridBuilder\n",
    "from pyspark.ml.evaluation import RegressionEvaluator"
   ]
  },
  {
   "cell_type": "code",
   "execution_count": 21,
   "id": "b1fd6c36",
   "metadata": {},
   "outputs": [
    {
     "name": "stdout",
     "output_type": "stream",
     "text": [
      "+----+---------+---------+-------------+-----------+-----------------+-----+---------+--------+--------+--------+--------------------+----+------------+--------------------+------------+-----------+-------------------+-----------+\n",
      "|year|     make|    model|         trim|       body|              vin|state|condition|odometer|   color|interior|              seller| mmr|sellingprice|            saledate|transmission|  body_type|     saledate_clean|vehicle_age|\n",
      "+----+---------+---------+-------------+-----------+-----------------+-----+---------+--------+--------+--------+--------------------+----+------------+--------------------+------------+-----------+-------------------+-----------+\n",
      "|1990|   jaguar|xj-series|XJ6 Sovereign|      sedan|sajhy174xlc607411|   ga|      2.0|  135657|    blue|     tan|capital auto auction| 775|         550|Thu May 28 2015 0...|   automatic|      sedan|2015-05-28 05:30:00|         25|\n",
      "|1991|chevrolet| corvette|         Base|  hatchback|1g1yy2384m5104212|   fl|      2.0|  138310|     red|     red|autonation toyota...|4625|        2700|Tue May 26 2015 1...|   automatic|  hatchback|2015-05-26 10:30:00|         24|\n",
      "|1991|chevrolet| corvette|         Base|  hatchback|1g1yy238xm5116736|   fl|      2.0|   91569|    blue|    gray|germain toyota of...|4900|        2400|Wed Jan 14 2015 0...|   automatic|  hatchback|2015-01-14 08:00:00|         24|\n",
      "|1991|   toyota|    camry|       Deluxe|      sedan|jt2sv21e3m3460184|   ca|      2.0|  252591|    gray|    gray| honda of serramonte| 300|         150|Wed Jan 21 2015 0...|   automatic|      sedan|2015-01-21 07:10:00|         24|\n",
      "|1991|   toyota|    camry|       Deluxe|      sedan|4t1sv21e8mu304686|   fl|      3.0|  244226|   white|    blue|autonation toyota...| 300|         500|Tue Jan 13 2015 1...|   automatic|      sedan|2015-01-13 18:00:00|         24|\n",
      "|1991|   toyota|    camry|       Deluxe|      sedan|4t1sv21e7mu434409|   sc|      1.0|  189563|burgundy|    gray|purple heart serv...| 425|         300|Thu Jan 15 2015 0...|      manual|      sedan|2015-01-15 04:00:00|         24|\n",
      "|1991|   toyota|    camry|       Deluxe|      sedan|4t1sv21e2mu374524|   nc|      2.0|  175381|burgundy|    gray|        dt inventory| 425|         300|Tue Feb 17 2015 0...|   automatic|      sedan|2015-02-17 01:30:00|         24|\n",
      "|1991|   toyota|    camry|       Deluxe|      sedan|4t1sv21e5mu324474|   nc|      2.0|  264816|   white|    blue|        dt inventory| 275|         200|Tue Mar 03 2015 0...|   automatic|      sedan|2015-03-03 00:30:00|         24|\n",
      "|1991|   toyota|    camry|       Deluxe|      sedan|4t1sv21e1mu378712|   md|      1.0|  209809|   beige|   beige|        liberty ford| 475|         250|Tue Jun 02 2015 0...|   automatic|      sedan|2015-06-02 06:00:00|         24|\n",
      "|1991|   toyota|    camry|       Deluxe|      sedan|4t1sv21e5mu453282|   md|      2.0|   91780|   white|   beige|purple heart serv...| 550|         550|Tue Jan 06 2015 0...|   automatic|      sedan|2015-01-06 04:00:00|         24|\n",
      "|1991|   toyota|    camry|       Deluxe|      sedan|4t1sv21e6mu303147|   va|      2.0|  232476|   white|    blue|     check into cash| 325|         300|Thu Feb 05 2015 0...|   automatic|      sedan|2015-02-05 03:50:00|         24|\n",
      "|1991|   toyota|    camry|       Deluxe|      sedan|4t1sv21e5mu352579|   fl|      2.0|  210619|    blue|    blue|autonation chevro...| 375|         400|Tue Mar 03 2015 1...|   automatic|      sedan|2015-03-03 10:00:00|         24|\n",
      "|1991|   toyota|  corolla|       Deluxe|      wagon|jt2ae94k6m3447855|   tx|      2.0|  199195|   white|    gray|     manheim houston| 450|         200|Tue Jun 02 2015 0...|   automatic|      wagon|2015-06-02 02:15:00|         24|\n",
      "|1992|chevrolet| corvette|         Base|convertible|1g1yy33p7n5112321|   nc|      3.0|   14372|     red|   black| flow gm auto center|9025|       13700|Tue Jan 20 2015 0...|   automatic|convertible|2015-01-20 01:15:00|         23|\n",
      "|1992|    honda|   accord|           EX|      sedan|1hgcb7675na198596|   ga|      1.0|  162000|    gray|burgundy|by the book auto ...| 500|         900|Tue Jan 27 2015 0...|   automatic|      sedan|2015-01-27 04:50:00|         23|\n",
      "|1992|    honda|   accord|           EX|      sedan|1hgcb7574na201277|   va|      1.0|  160933|     red|    gray|browns arlington ...| 650|         850|Thu Feb 05 2015 0...|      manual|      sedan|2015-02-05 01:05:00|         23|\n",
      "|1992|    honda|   accord|           EX|      sedan|1hgcb7676na099981|   va|      1.0|  238417|    gray|    gray|        dt inventory| 675|         250|Thu Feb 12 2015 0...|   automatic|      sedan|2015-02-12 03:50:00|         23|\n",
      "|1992|    honda|   accord|           EX|      sedan|1hgcb767xna011644|   ca|      3.0|  109999|   white|    blue|      stadium nissan| 525|         400|Wed Dec 31 2014 1...|   automatic|      sedan|2014-12-31 12:30:00|         22|\n",
      "|1992|    honda|   accord|           EX|      sedan|1hgcb7674na053565|   oh|      1.0|  206841|   black|    gray|purple heart serv...| 675|         475|Tue Mar 03 2015 0...|   automatic|      sedan|2015-03-03 05:00:00|         23|\n",
      "|1992|    honda|   accord|           EX|      sedan|1hgcb7674na053565|   oh|      1.0|  206841|   black|    gray|purple heart serv...| 675|         475|Tue Mar 03 2015 0...|      manual|      sedan|2015-03-03 05:00:00|         23|\n",
      "+----+---------+---------+-------------+-----------+-----------------+-----+---------+--------+--------+--------+--------------------+----+------------+--------------------+------------+-----------+-------------------+-----------+\n",
      "only showing top 20 rows\n",
      "\n"
     ]
    }
   ],
   "source": [
    "from pyspark.sql.functions import abs, col, mean, stddev\n",
    "\n",
    "# Calculate the absolute difference between sellingprice and mmr\n",
    "df = df.withColumn(\"price_mmr_diff\", abs(col(\"sellingprice\") - col(\"mmr\")))\n",
    "\n",
    "# Calculate mean and standard deviation of the differences\n",
    "mean_diff = df.select(mean(col(\"price_mmr_diff\"))).collect()[0][0]\n",
    "stddev_diff = df.select(stddev(col(\"price_mmr_diff\"))).collect()[0][0]\n",
    "\n",
    "# Define a threshold for the z-score to identify outliers (e.g., z > 3)\n",
    "threshold = 3\n",
    "\n",
    "# Calculate the z-score for each difference and filter out outliers\n",
    "df = df.withColumn(\"z_score\", (col(\"price_mmr_diff\") - mean_diff) / stddev_diff)\n",
    "df_filtered = df.filter(col(\"z_score\") <= threshold)\n",
    "\n",
    "# Drop the intermediate columns used for calculations\n",
    "df_filtered = df_filtered.drop(\"price_mmr_diff\", \"z_score\")\n",
    "\n",
    "# Show the filtered DataFrame\n",
    "df_filtered.show()"
   ]
  },
  {
   "cell_type": "code",
   "execution_count": 74,
   "id": "f2e0763f",
   "metadata": {},
   "outputs": [
    {
     "name": "stderr",
     "output_type": "stream",
     "text": [
      "24/06/15 21:24:23 WARN RowBasedKeyValueBatch: Calling spill() on RowBasedKeyValueBatch. Will not spill but return 0.\n",
      "24/06/15 21:24:23 WARN RowBasedKeyValueBatch: Calling spill() on RowBasedKeyValueBatch. Will not spill but return 0.\n",
      "24/06/15 21:24:24 WARN RowBasedKeyValueBatch: Calling spill() on RowBasedKeyValueBatch. Will not spill but return 0.\n",
      "24/06/15 21:24:24 WARN RowBasedKeyValueBatch: Calling spill() on RowBasedKeyValueBatch. Will not spill but return 0.\n",
      "24/06/15 21:24:25 WARN RowBasedKeyValueBatch: Calling spill() on RowBasedKeyValueBatch. Will not spill but return 0.\n",
      "24/06/15 21:24:25 WARN RowBasedKeyValueBatch: Calling spill() on RowBasedKeyValueBatch. Will not spill but return 0.\n",
      "24/06/15 21:24:27 WARN RowBasedKeyValueBatch: Calling spill() on RowBasedKeyValueBatch. Will not spill but return 0.\n",
      "24/06/15 21:24:27 WARN RowBasedKeyValueBatch: Calling spill() on RowBasedKeyValueBatch. Will not spill but return 0.\n",
      "24/06/15 21:24:30 WARN RowBasedKeyValueBatch: Calling spill() on RowBasedKeyValueBatch. Will not spill but return 0.\n",
      "24/06/15 21:24:30 WARN RowBasedKeyValueBatch: Calling spill() on RowBasedKeyValueBatch. Will not spill but return 0.\n",
      "24/06/15 21:24:34 WARN RowBasedKeyValueBatch: Calling spill() on RowBasedKeyValueBatch. Will not spill but return 0.\n",
      "24/06/15 21:24:34 WARN RowBasedKeyValueBatch: Calling spill() on RowBasedKeyValueBatch. Will not spill but return 0.\n",
      "24/06/15 21:24:38 WARN RowBasedKeyValueBatch: Calling spill() on RowBasedKeyValueBatch. Will not spill but return 0.\n",
      "24/06/15 21:24:38 WARN RowBasedKeyValueBatch: Calling spill() on RowBasedKeyValueBatch. Will not spill but return 0.\n",
      "24/06/15 21:25:34 WARN RowBasedKeyValueBatch: Calling spill() on RowBasedKeyValueBatch. Will not spill but return 0.\n",
      "24/06/15 21:25:34 WARN RowBasedKeyValueBatch: Calling spill() on RowBasedKeyValueBatch. Will not spill but return 0.\n",
      "24/06/15 21:25:34 WARN RowBasedKeyValueBatch: Calling spill() on RowBasedKeyValueBatch. Will not spill but return 0.\n",
      "24/06/15 21:25:34 WARN RowBasedKeyValueBatch: Calling spill() on RowBasedKeyValueBatch. Will not spill but return 0.\n",
      "24/06/15 21:25:36 WARN RowBasedKeyValueBatch: Calling spill() on RowBasedKeyValueBatch. Will not spill but return 0.\n",
      "24/06/15 21:25:36 WARN RowBasedKeyValueBatch: Calling spill() on RowBasedKeyValueBatch. Will not spill but return 0.\n",
      "24/06/15 21:25:36 WARN RowBasedKeyValueBatch: Calling spill() on RowBasedKeyValueBatch. Will not spill but return 0.\n",
      "24/06/15 21:25:36 WARN RowBasedKeyValueBatch: Calling spill() on RowBasedKeyValueBatch. Will not spill but return 0.\n",
      "24/06/15 21:25:36 WARN RowBasedKeyValueBatch: Calling spill() on RowBasedKeyValueBatch. Will not spill but return 0.\n",
      "24/06/15 21:25:36 WARN RowBasedKeyValueBatch: Calling spill() on RowBasedKeyValueBatch. Will not spill but return 0.\n",
      "24/06/15 21:25:37 WARN RowBasedKeyValueBatch: Calling spill() on RowBasedKeyValueBatch. Will not spill but return 0.\n",
      "24/06/15 21:25:37 WARN RowBasedKeyValueBatch: Calling spill() on RowBasedKeyValueBatch. Will not spill but return 0.\n",
      "24/06/15 21:25:39 WARN RowBasedKeyValueBatch: Calling spill() on RowBasedKeyValueBatch. Will not spill but return 0.\n",
      "24/06/15 21:25:39 WARN RowBasedKeyValueBatch: Calling spill() on RowBasedKeyValueBatch. Will not spill but return 0.\n",
      "                                                                                \r"
     ]
    },
    {
     "data": {
      "text/plain": [
       "506616"
      ]
     },
     "execution_count": 74,
     "metadata": {},
     "output_type": "execute_result"
    }
   ],
   "source": [
    "df_filtered.count()"
   ]
  },
  {
   "cell_type": "code",
   "execution_count": 25,
   "id": "f8531044",
   "metadata": {},
   "outputs": [
    {
     "name": "stdout",
     "output_type": "stream",
     "text": [
      "+---------+--------+----+----+------------+\n",
      "|condition|odometer| mmr|year|sellingprice|\n",
      "+---------+--------+----+----+------------+\n",
      "|      2.0|  135657| 775|1990|         550|\n",
      "|      2.0|  138310|4625|1991|        2700|\n",
      "|      2.0|   91569|4900|1991|        2400|\n",
      "|      2.0|  252591| 300|1991|         150|\n",
      "|      3.0|  244226| 300|1991|         500|\n",
      "|      1.0|  189563| 425|1991|         300|\n",
      "|      2.0|  175381| 425|1991|         300|\n",
      "|      2.0|  264816| 275|1991|         200|\n",
      "|      1.0|  209809| 475|1991|         250|\n",
      "|      2.0|   91780| 550|1991|         550|\n",
      "|      2.0|  232476| 325|1991|         300|\n",
      "|      2.0|  210619| 375|1991|         400|\n",
      "|      2.0|  199195| 450|1991|         200|\n",
      "|      3.0|   14372|9025|1992|       13700|\n",
      "|      1.0|  162000| 500|1992|         900|\n",
      "|      1.0|  160933| 650|1992|         850|\n",
      "|      1.0|  238417| 675|1992|         250|\n",
      "|      3.0|  109999| 525|1992|         400|\n",
      "|      1.0|  206841| 675|1992|         475|\n",
      "|      1.0|  206841| 675|1992|         475|\n",
      "+---------+--------+----+----+------------+\n",
      "only showing top 20 rows\n",
      "\n",
      "Setting up Gradient-Boosted Trees model...\n",
      "Setting up the pipeline...\n",
      "Creating parameter grid for CrossValidator...\n",
      "Setting up CrossValidator...\n",
      "Fitting the model using cross-validation...\n",
      "Model fitting complete.\n"
     ]
    }
   ],
   "source": [
    "features_df = df_filtered.select([\"condition\", \"odometer\", \"mmr\", \"year\", \"sellingprice\"])\n",
    "features_df.show()\n",
    "\n",
    "# Define weights for each feature\n",
    "weights = {\n",
    "    \"condition\": 0.7,\n",
    "    \"odometer\": 0.5,\n",
    "    \"mmr\": 1.5,\n",
    "    \"year\": 0.7\n",
    "}\n",
    "\n",
    "# Apply weights to the relevant features\n",
    "for feature, weight in weights.items():\n",
    "    features_df = features_df.withColumn(feature, col(feature) * weight)\n",
    "\n",
    "# Assemble the weighted features into a single feature vector\n",
    "assembler = VectorAssembler(\n",
    "    inputCols=[\"condition\", \"odometer\", \"mmr\", \"year\"],\n",
    "    outputCol=\"features\"\n",
    ")\n",
    "\n",
    "# Split the data into training and test sets\n",
    "(trainData, testData) = features_df.randomSplit([0.83, 0.17], seed=42)\n",
    "\n",
    "# # Cache the training data if it is not already cached\n",
    "# def cache_if_not_cached(df):\n",
    "#     if df.storageLevel == StorageLevel.NONE:\n",
    "#         df.cache()\n",
    "#     return df\n",
    "\n",
    "# trainData = cache_if_not_cached(trainData)\n",
    "\n",
    "# Set up the Gradient-Boosted Trees model\n",
    "print(\"Setting up Gradient-Boosted Trees model...\")\n",
    "gbt = GBTRegressor(\n",
    "    featuresCol=\"features\",\n",
    "    labelCol=\"sellingprice\",\n",
    "    seed=42\n",
    ")\n",
    "\n",
    "# Set up a pipeline with the assembler and GBTRegressor\n",
    "print(\"Setting up the pipeline...\")\n",
    "pipeline = Pipeline(stages=[assembler, gbt])\n",
    "\n",
    "# Create parameter grid for CrossValidator\n",
    "print(\"Creating parameter grid for CrossValidator...\")\n",
    "paramGrid = ParamGridBuilder() \\\n",
    "    .addGrid(gbt.maxIter, [10, 20]) \\\n",
    "    .build()\n",
    "\n",
    "# Set up CrossValidator\n",
    "print(\"Setting up CrossValidator...\")\n",
    "crossval = CrossValidator(\n",
    "    estimator=pipeline,\n",
    "    estimatorParamMaps=paramGrid,\n",
    "    evaluator=RegressionEvaluator(labelCol=\"sellingprice\"),\n",
    "    numFolds=5\n",
    ")\n",
    "\n",
    "# Fit the model using cross-validation\n",
    "print(\"Fitting the model using cross-validation...\")\n",
    "cvModel = crossval.fit(trainData)\n",
    "\n",
    "print(\"Model fitting complete.\")"
   ]
  },
  {
   "cell_type": "code",
   "execution_count": 26,
   "id": "f4206dff",
   "metadata": {},
   "outputs": [],
   "source": [
    "# Extract the best model\n",
    "bestModel = cvModel.bestModel\n",
    "\n",
    "# Make predictions\n",
    "predictions = bestModel.transform(testData)"
   ]
  },
  {
   "cell_type": "code",
   "execution_count": 27,
   "id": "9a2f0f56",
   "metadata": {},
   "outputs": [
    {
     "name": "stdout",
     "output_type": "stream",
     "text": [
      "+---------+--------+-------+------------------+------------+--------------------+------------------+\n",
      "|condition|odometer|    mmr|              year|sellingprice|            features|        prediction|\n",
      "+---------+--------+-------+------------------+------------+--------------------+------------------+\n",
      "|      0.7|     0.5| 2812.5|            1399.3|         400|[0.7,0.5,2812.5,1...| 98.23634904666346|\n",
      "|      0.7|     0.5| 3337.5|1400.6999999999998|         600|[0.7,0.5,3337.5,1...| 613.0534794788528|\n",
      "|      0.7|     0.5| 4312.5|1401.3999999999999|         600|[0.7,0.5,4312.5,1...| 613.0534794788528|\n",
      "|      0.7|     0.5| 7912.5|            1403.5|        2200|[0.7,0.5,7912.5,1...|2367.3899047674668|\n",
      "|      0.7|  2303.5|23775.0|            1410.5|       11000|[0.7,2303.5,23775...|12298.047385255653|\n",
      "|      0.7|  4721.5|38550.0|            1410.5|       20750|[0.7,4721.5,38550...|21441.501845788003|\n",
      "|      0.7|  8804.5|22200.0|            1409.8|       12100|[0.7,8804.5,22200...| 12452.51998116292|\n",
      "|      0.7| 13033.5|17925.0|            1409.8|        8500|[0.7,13033.5,1792...| 8919.189334340292|\n",
      "|      0.7| 13184.5|28500.0|            1409.1|       18200|[0.7,13184.5,2850...|15273.025930089387|\n",
      "|      0.7| 13511.0|18300.0|            1409.8|        9700|[0.7,13511.0,1830...| 8919.189334340292|\n",
      "|      0.7| 13859.0|18300.0|            1409.8|       10600|[0.7,13859.0,1830...| 8919.189334340292|\n",
      "|      0.7| 14252.0|20175.0|            1409.1|       12400|[0.7,14252.0,2017...|10868.776666929449|\n",
      "|      0.7| 15518.0|17925.0|            1409.8|       10800|[0.7,15518.0,1792...| 9078.006203259352|\n",
      "|      0.7| 17656.5|19650.0|            1409.1|       12000|[0.7,17656.5,1965...|10710.666675312272|\n",
      "|      0.7| 19075.5|17025.0|            1409.8|        7700|[0.7,19075.5,1702...|  8776.53138274262|\n",
      "|      0.7| 25030.0|14587.5|1408.3999999999999|        8600|[0.7,25030.0,1458...| 7983.751879898677|\n",
      "|      0.7| 30611.5|12637.5|            1406.3|        5000|[0.7,30611.5,1263...| 6616.041716395741|\n",
      "|      0.7| 32343.0|14437.5|1404.1999999999998|        6000|[0.7,32343.0,1443...| 8131.033918727637|\n",
      "|      0.7| 32544.0|22275.0|1407.6999999999998|       10000|[0.7,32544.0,2227...|13438.780711879146|\n",
      "|      0.7| 36120.0| 7575.0|            1403.5|        3200|[0.7,36120.0,7575...| 3364.824420589857|\n",
      "+---------+--------+-------+------------------+------------+--------------------+------------------+\n",
      "only showing top 20 rows\n",
      "\n"
     ]
    }
   ],
   "source": [
    "predictions.show()"
   ]
  },
  {
   "cell_type": "code",
   "execution_count": 28,
   "id": "0dc8640a",
   "metadata": {},
   "outputs": [
    {
     "name": "stdout",
     "output_type": "stream",
     "text": [
      "Feature Importances: (4,[0,1,2,3],[0.02481664370089551,0.008206963102948824,0.9601428610647107,0.006833532131444977])\n"
     ]
    }
   ],
   "source": [
    "# Inspect feature importances\n",
    "gbtModel = cvModel.bestModel.stages[-1]  # Assuming GBT is the last stage in the pipeline\n",
    "importances = gbtModel.featureImportances\n",
    "print(\"Feature Importances:\", importances)"
   ]
  },
  {
   "cell_type": "code",
   "execution_count": null,
   "id": "d1f05564-1270-4336-aec3-0e29dc0e1c62",
   "metadata": {},
   "outputs": [
    {
     "name": "stdout",
     "output_type": "stream",
     "text": [
      "+---------+--------+----+-----------+------------+\n",
      "|condition|odometer| mmr|vehicle_age|sellingprice|\n",
      "+---------+--------+----+-----------+------------+\n",
      "|      2.0|  135657| 775|         25|         550|\n",
      "|      2.0|  138310|4625|         24|        2700|\n",
      "|      2.0|   91569|4900|         24|        2400|\n",
      "|      2.0|  252591| 300|         24|         150|\n",
      "|      3.0|  244226| 300|         24|         500|\n",
      "|      1.0|  189563| 425|         24|         300|\n",
      "|      2.0|  175381| 425|         24|         300|\n",
      "|      2.0|  264816| 275|         24|         200|\n",
      "|      1.0|  209809| 475|         24|         250|\n",
      "|      2.0|   91780| 550|         24|         550|\n",
      "|      2.0|  232476| 325|         24|         300|\n",
      "|      2.0|  210619| 375|         24|         400|\n",
      "|      2.0|  199195| 450|         24|         200|\n",
      "|      3.0|   14372|9025|         23|       13700|\n",
      "|      1.0|  162000| 500|         23|         900|\n",
      "|      1.0|  160933| 650|         23|         850|\n",
      "|      1.0|  238417| 675|         23|         250|\n",
      "|      3.0|  109999| 525|         22|         400|\n",
      "|      1.0|  206841| 675|         23|         475|\n",
      "|      1.0|  206841| 675|         23|         475|\n",
      "+---------+--------+----+-----------+------------+\n",
      "only showing top 20 rows\n",
      "\n",
      "Original Data:\n",
      "+---------+--------+----+-----------+------------+\n",
      "|condition|odometer| mmr|vehicle_age|sellingprice|\n",
      "+---------+--------+----+-----------+------------+\n",
      "|      2.0|  135657| 775|         25|         550|\n",
      "|      2.0|  138310|4625|         24|        2700|\n",
      "|      2.0|   91569|4900|         24|        2400|\n",
      "|      2.0|  252591| 300|         24|         150|\n",
      "|      3.0|  244226| 300|         24|         500|\n",
      "|      1.0|  189563| 425|         24|         300|\n",
      "|      2.0|  175381| 425|         24|         300|\n",
      "|      2.0|  264816| 275|         24|         200|\n",
      "|      1.0|  209809| 475|         24|         250|\n",
      "|      2.0|   91780| 550|         24|         550|\n",
      "|      2.0|  232476| 325|         24|         300|\n",
      "|      2.0|  210619| 375|         24|         400|\n",
      "|      2.0|  199195| 450|         24|         200|\n",
      "|      3.0|   14372|9025|         23|       13700|\n",
      "|      1.0|  162000| 500|         23|         900|\n",
      "|      1.0|  160933| 650|         23|         850|\n",
      "|      1.0|  238417| 675|         23|         250|\n",
      "|      3.0|  109999| 525|         22|         400|\n",
      "|      1.0|  206841| 675|         23|         475|\n",
      "|      1.0|  206841| 675|         23|         475|\n",
      "+---------+--------+----+-----------+------------+\n",
      "only showing top 20 rows\n",
      "\n",
      "Data after applying weights:\n",
      "+---------+--------+-------+-----------+------------+\n",
      "|condition|odometer|    mmr|vehicle_age|sellingprice|\n",
      "+---------+--------+-------+-----------+------------+\n",
      "|      1.0| 67828.5| 1162.5|       12.5|         550|\n",
      "|      1.0| 69155.0| 6937.5|       12.0|        2700|\n",
      "|      1.0| 45784.5| 7350.0|       12.0|        2400|\n",
      "|      1.0|126295.5|  450.0|       12.0|         150|\n",
      "|      1.5|122113.0|  450.0|       12.0|         500|\n",
      "|      0.5| 94781.5|  637.5|       12.0|         300|\n",
      "|      1.0| 87690.5|  637.5|       12.0|         300|\n",
      "|      1.0|132408.0|  412.5|       12.0|         200|\n",
      "|      0.5|104904.5|  712.5|       12.0|         250|\n",
      "|      1.0| 45890.0|  825.0|       12.0|         550|\n",
      "|      1.0|116238.0|  487.5|       12.0|         300|\n",
      "|      1.0|105309.5|  562.5|       12.0|         400|\n",
      "|      1.0| 99597.5|  675.0|       12.0|         200|\n",
      "|      1.5|  7186.0|13537.5|       11.5|       13700|\n",
      "|      0.5| 81000.0|  750.0|       11.5|         900|\n",
      "|      0.5| 80466.5|  975.0|       11.5|         850|\n",
      "|      0.5|119208.5| 1012.5|       11.5|         250|\n",
      "|      1.5| 54999.5|  787.5|       11.0|         400|\n",
      "|      0.5|103420.5| 1012.5|       11.5|         475|\n",
      "|      0.5|103420.5| 1012.5|       11.5|         475|\n",
      "+---------+--------+-------+-----------+------------+\n",
      "only showing top 20 rows\n",
      "\n",
      "Setting up Gradient-Boosted Trees model...\n",
      "Setting up the pipeline...\n",
      "Creating parameter grid for CrossValidator...\n",
      "Setting up CrossValidator...\n",
      "Fitting the model using cross-validation...\n"
     ]
    }
   ],
   "source": [
    "features_df_2 = df_filtered.select([\"condition\", \"odometer\", \"mmr\", \"vehicle_age\", \"sellingprice\"])\n",
    "features_df_2.show()\n",
    "\n",
    "# Define weights for each feature\n",
    "weights = {\n",
    "    \"condition\": 0.5,\n",
    "    \"odometer\": 0.5,\n",
    "    \"mmr\": 1.5,\n",
    "    \"vehicle_age\": 0.5\n",
    "}\n",
    "\n",
    "# Original Data\n",
    "print(\"Original Data:\")\n",
    "features_df_2.show()\n",
    "\n",
    "# Apply weights to the relevant features\n",
    "for feature, weight in weights.items():\n",
    "    features_df_2 = features_df_2.withColumn(feature, col(feature) * weight)\n",
    "\n",
    "# Transformed Data\n",
    "print(\"Data after applying weights:\")\n",
    "features_df_2.show()\n",
    "\n",
    "# Assemble the weighted features into a single feature vector\n",
    "assembler = VectorAssembler(\n",
    "    inputCols=[\"condition\", \"odometer\", \"mmr\", \"vehicle_age\"],\n",
    "    outputCol=\"features\"\n",
    ")\n",
    "\n",
    "# Split the data into training and test sets\n",
    "(trainData, testData) = features_df_2.randomSplit([0.8, 0.2], seed=42)\n",
    "\n",
    "# # Cache the training data if it is not already cached\n",
    "# def cache_if_not_cached(df):\n",
    "#     if df.storageLevel == StorageLevel.NONE:\n",
    "#         df.cache()\n",
    "#     return df\n",
    "\n",
    "# trainData = cache_if_not_cached(trainData)\n",
    "\n",
    "# Set up the Gradient-Boosted Trees model\n",
    "print(\"Setting up Gradient-Boosted Trees model...\")\n",
    "gbt2 = GBTRegressor(\n",
    "    featuresCol=\"features\",\n",
    "    labelCol=\"sellingprice\",\n",
    "    seed=42\n",
    ")\n",
    "\n",
    "# Set up a pipeline with the assembler and GBTRegressor\n",
    "print(\"Setting up the pipeline...\")\n",
    "pipeline = Pipeline(stages=[assembler, gbt2])\n",
    "\n",
    "# Create parameter grid for CrossValidator\n",
    "print(\"Creating parameter grid for CrossValidator...\")\n",
    "paramGrid = ParamGridBuilder() \\\n",
    "    .addGrid(gbt.maxIter, [10, 20]) \\\n",
    "    .build()\n",
    "\n",
    "# Set up CrossValidator\n",
    "print(\"Setting up CrossValidator...\")\n",
    "crossval = CrossValidator(\n",
    "    estimator=pipeline,\n",
    "    estimatorParamMaps=paramGrid,\n",
    "    evaluator=RegressionEvaluator(labelCol=\"sellingprice\"),\n",
    "    numFolds=5\n",
    ")\n",
    "\n",
    "# Fit the model using cross-validation\n",
    "print(\"Fitting the model using cross-validation...\")\n",
    "cvModel = crossval.fit(trainData)\n",
    "\n",
    "print(\"Model fitting complete.\")"
   ]
  },
  {
   "cell_type": "code",
   "execution_count": 30,
   "id": "65d0038c",
   "metadata": {},
   "outputs": [],
   "source": [
    "# Import evaluation models\n",
    "\n",
    "from pyspark.ml.evaluation import RegressionEvaluator\n",
    "from pyspark.mllib.evaluation import MulticlassMetrics"
   ]
  },
  {
   "cell_type": "code",
   "execution_count": 31,
   "id": "d6c3cb4b",
   "metadata": {},
   "outputs": [
    {
     "name": "stdout",
     "output_type": "stream",
     "text": [
      "Root Mean Squared Error (RMSE) 2268.003241138923\n",
      "Mean Squared Error (MSE) 5143838.70181666\n",
      "R-squared (R²) 0.9392751246718903\n"
     ]
    }
   ],
   "source": [
    "evaluator1 = RegressionEvaluator(\n",
    "    labelCol=\"sellingprice\", predictionCol=\"prediction\", metricName=\"rmse\")\n",
    "evaluator2 = RegressionEvaluator(\n",
    "    labelCol=\"sellingprice\", predictionCol=\"prediction\", metricName=\"mse\")\n",
    "evaluator3 = RegressionEvaluator(\n",
    "    labelCol=\"sellingprice\", predictionCol=\"prediction\", metricName=\"r2\")\n",
    "rmse = evaluator1.evaluate(predictions)\n",
    "mse = evaluator2.evaluate(predictions)\n",
    "r2 = evaluator3.evaluate(predictions)\n",
    "print(\"Root Mean Squared Error (RMSE)\", rmse)\n",
    "print(\"Mean Squared Error (MSE)\", mse)\n",
    "print(\"R-squared (R²)\", r2)"
   ]
  },
  {
   "cell_type": "code",
   "execution_count": 32,
   "id": "5e4d844b",
   "metadata": {},
   "outputs": [
    {
     "name": "stdout",
     "output_type": "stream",
     "text": [
      "Mean Absolute Percentage Error (MAPE) on test data = 13.677699467700247%\n"
     ]
    }
   ],
   "source": [
    "predictions2 = predictions.withColumn(\"ape\", abs((col(\"sellingprice\") - col(\"prediction\")) / col(\"sellingprice\")))\n",
    "mape = predictions2.select(mean(col(\"ape\"))).collect()[0][0] * 100\n",
    "\n",
    "print(f\"Mean Absolute Percentage Error (MAPE) on test data = {mape}%\")"
   ]
  },
  {
   "cell_type": "code",
   "execution_count": 47,
   "id": "d1104513",
   "metadata": {},
   "outputs": [],
   "source": [
    "import seaborn as sns\n",
    "import matplotlib.pyplot as plt\n",
    "import matplotlib.patches as mpatches"
   ]
  },
  {
   "cell_type": "code",
   "execution_count": 48,
   "id": "3e0263da",
   "metadata": {},
   "outputs": [
    {
     "name": "stderr",
     "output_type": "stream",
     "text": [
      "24/06/15 20:20:29 WARN RowBasedKeyValueBatch: Calling spill() on RowBasedKeyValueBatch. Will not spill but return 0.\n",
      "24/06/15 20:20:29 WARN RowBasedKeyValueBatch: Calling spill() on RowBasedKeyValueBatch. Will not spill but return 0.\n",
      "24/06/15 20:20:31 WARN RowBasedKeyValueBatch: Calling spill() on RowBasedKeyValueBatch. Will not spill but return 0.\n",
      "24/06/15 20:20:31 WARN RowBasedKeyValueBatch: Calling spill() on RowBasedKeyValueBatch. Will not spill but return 0.\n",
      "24/06/15 20:20:31 WARN RowBasedKeyValueBatch: Calling spill() on RowBasedKeyValueBatch. Will not spill but return 0.\n",
      "24/06/15 20:20:31 WARN RowBasedKeyValueBatch: Calling spill() on RowBasedKeyValueBatch. Will not spill but return 0.\n",
      "24/06/15 20:20:32 WARN RowBasedKeyValueBatch: Calling spill() on RowBasedKeyValueBatch. Will not spill but return 0.\n",
      "24/06/15 20:20:32 WARN RowBasedKeyValueBatch: Calling spill() on RowBasedKeyValueBatch. Will not spill but return 0.\n",
      "24/06/15 20:20:33 WARN RowBasedKeyValueBatch: Calling spill() on RowBasedKeyValueBatch. Will not spill but return 0.\n",
      "24/06/15 20:20:33 WARN RowBasedKeyValueBatch: Calling spill() on RowBasedKeyValueBatch. Will not spill but return 0.\n",
      "24/06/15 20:20:35 WARN RowBasedKeyValueBatch: Calling spill() on RowBasedKeyValueBatch. Will not spill but return 0.\n",
      "24/06/15 20:20:35 WARN RowBasedKeyValueBatch: Calling spill() on RowBasedKeyValueBatch. Will not spill but return 0.\n",
      "24/06/15 20:20:37 WARN RowBasedKeyValueBatch: Calling spill() on RowBasedKeyValueBatch. Will not spill but return 0.\n",
      "24/06/15 20:20:37 WARN RowBasedKeyValueBatch: Calling spill() on RowBasedKeyValueBatch. Will not spill but return 0.\n",
      "                                                                                \r"
     ]
    },
    {
     "data": {
      "image/png": "[encoded data removed]",
      "text/plain": [
       "<Figure size 1000x600 with 1 Axes>"
      ]
     },
     "metadata": {},
     "output_type": "display_data"
    }
   ],
   "source": [
    "predictions_pd = predictions.select(\"sellingprice\", \"prediction\").toPandas()\n",
    "\n",
    "# Create scatter plot\n",
    "plt.figure(figsize=(10, 6))\n",
    "plt.scatter(predictions_pd['sellingprice'], predictions_pd['prediction'], alpha=0.5)\n",
    "plt.plot([predictions_pd['sellingprice'].min(), predictions_pd['sellingprice'].max()],\n",
    "         [predictions_pd['sellingprice'].min(), predictions_pd['sellingprice'].max()],\n",
    "         color='red', linestyle='--')\n",
    "plt.xlabel('Actual Selling Price')\n",
    "plt.ylabel('Predicted Selling Price')\n",
    "plt.title('Actual vs Predicted Selling Prices')\n",
    "plt.show()"
   ]
  },
  {
   "cell_type": "code",
   "execution_count": null,
   "id": "768641ab",
   "metadata": {},
   "outputs": [],
   "source": [
    "# Random Forest"
   ]
  },
  {
   "cell_type": "code",
   "execution_count": null,
   "id": "1f0cfe13-caa5-4160-979f-b87760a70533",
   "metadata": {},
   "outputs": [],
   "source": [
    "# Linear Regression"
   ]
  },
  {
   "cell_type": "code",
   "execution_count": 100,
   "id": "cdd9a741",
   "metadata": {},
   "outputs": [],
   "source": [
    "spark.stop()"
   ]
  }
 ],
 "metadata": {
  "kernelspec": {
   "display_name": "Python 3 (ipykernel)",
   "language": "python",
   "name": "python3"
  },
  "language_info": {
   "codemirror_mode": {
    "name": "ipython",
    "version": 3
   },
   "file_extension": ".py",
   "mimetype": "text/x-python",
   "name": "python",
   "nbconvert_exporter": "python",
   "pygments_lexer": "ipython3",
   "version": "3.11.7"
  }
 },
 "nbformat": 4,
 "nbformat_minor": 5
}
