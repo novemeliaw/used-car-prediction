{
 "cells": [
  {
   "cell_type": "markdown",
   "id": "032f48b2",
   "metadata": {},
   "source": [
    "## Used Car Prediction\n",
    "\n",
    "Main Objective : Predict selling price for car sellers\n",
    "\n",
    "<img src=\"https://img.etimg.com/thumb/msid-106586397,width-300,height-225,imgsize-39324,resizemode-75/car-sales.jpg\" />"
   ]
  },
  {
   "cell_type": "code",
   "execution_count": 43,
   "id": "7ce98173",
   "metadata": {},
   "outputs": [],
   "source": [
    "from pyspark.sql import SparkSession\n",
    "\n",
    "spark = (SparkSession.builder\n",
    "         .appName('Used Car Prediction')\n",
    "         .master('local[*]')\n",
    "         .getOrCreate()\n",
    "        )"
   ]
  },
  {
   "cell_type": "code",
   "execution_count": 44,
   "id": "da0a34d0",
   "metadata": {},
   "outputs": [],
   "source": [
    "# Set the legacy time parser policy on the existing Spark session\n",
    "spark.conf.set(\"spark.sql.legacy.timeParserPolicy\", \"LEGACY\")"
   ]
  },
  {
   "cell_type": "code",
   "execution_count": 45,
   "id": "e116e95f",
   "metadata": {},
   "outputs": [
    {
     "name": "stderr",
     "output_type": "stream",
     "text": [
      "[Stage 3890:>                                                       (0 + 8) / 8]\r"
     ]
    },
    {
     "name": "stdout",
     "output_type": "stream",
     "text": [
      "+----+-------------+----------------+--------------------+-----------+------------+-----------------+-----+---------+--------+--------+--------+---------------------------------------------+-----+------------+---------------------------------------+\n",
      "|year|         make|           model|                trim|       body|transmission|              vin|state|condition|odometer|   color|interior|                                       seller|  mmr|sellingprice|                               saledate|\n",
      "+----+-------------+----------------+--------------------+-----------+------------+-----------------+-----+---------+--------+--------+--------+---------------------------------------------+-----+------------+---------------------------------------+\n",
      "|2009|     Chrysler|Town and Country|             Touring|    Minivan|   automatic|2a8hr54179r570758|   wi|      1.6| 90655.0|    gold|     tan|                        dt credit corporation| 8425|        7900|Wed Jan 21 2015 02:00:00 GMT-0800 (PST)|\n",
      "|2007|    Chevrolet|  Silverado 1500|          Work Truck|   Crew Cab|   automatic|2gcec13c971578282|   ca|     NULL|106732.0|    blue|   black|                                   auto plaza|13350|       14500|Thu Dec 18 2014 13:00:00 GMT-0800 (PST)|\n",
      "|2011|       Nissan|            Leaf|                  SL|  Hatchback|   automatic|jn1az0cp8bt007673|   wa|      4.1| 21852.0|     red|   beige|                           nissan-infiniti lt|10450|       10900|Wed Jan 21 2015 06:40:00 GMT-0800 (PST)|\n",
      "|2006|          GMC|        Envoy XL|              Denali|        SUV|   automatic|1gket66m066153160|   nv|        2|121829.0|   black|       —|                    titlemax/fort apache-nv16| 7275|        5900|Wed Dec 31 2014 11:00:00 GMT-0800 (PST)|\n",
      "|2011|         Ford|           F-150|                 XLT|  SuperCrew|        NULL|1ftfw1et2bke11814|   mi|      4.8| 31961.0|    gray|    gray|                       automobiles paille inc|25500|       24500|Thu Dec 18 2014 09:30:00 GMT-0800 (PST)|\n",
      "|2007|       HUMMER|              H3|                Base|        SUV|   automatic|5gtdn13ex78160245|   fl|      3.9|107497.0|burgundy|   black|                       mercedes benz of tampa|11400|       12700|Thu Dec 18 2014 16:20:00 GMT-0800 (PST)|\n",
      "|2004|   Volkswagen|           Jetta|            GLI 1.8T|      Sedan|        NULL|3vwse69m54m021929|   il|     NULL|106381.0|    blue|       —|                      grossinger autoplex inc| 2700|        2500|Thu Dec 18 2014 14:00:00 GMT-0800 (PST)|\n",
      "|2012|      Hyundai|   Sonata Hybrid|                Base|      Sedan|   automatic|kmhec4a49ca060519|   fl|      4.1| 50306.0|     red|     tan|                                      gte fcu|13250|       13100|Tue Dec 23 2014 14:00:00 GMT-0800 (PST)|\n",
      "|2014|    Chevrolet|          Impala|                 LTZ|      Sedan|   automatic|2g1155s3xe9133901|   fl|        4| 14037.0|   black|   black|                               gm remarketing|24300|       24700|Mon Feb 09 2015 05:00:00 GMT-0800 (PST)|\n",
      "|2014|          Kia|           Forte|                  LX|      Sedan|   automatic|knafx4a60e5210850|   wi|      3.8| 12835.0|     red|    gray|                      kia motors america, inc|12550|       11900|Wed Feb 18 2015 02:00:00 GMT-0800 (PST)|\n",
      "|2007|         Jeep|        Wrangler|                   X|        SUV|      manual|1j4fa24167l160554|   pa|     NULL| 60967.0|   green|       —|                               randy ford inc|13150|       13900|Fri Dec 19 2014 09:15:00 GMT-0800 (PST)|\n",
      "|2006|          Kia|             Rio|                Base|      Sedan|   automatic|knade123066035429|   ga|     NULL|182744.0|  silver|   black|                                cars & trucks| 1400|        2150|Thu Dec 18 2014 10:00:00 GMT-0800 (PST)|\n",
      "|2011|   Volkswagen|          Tiguan|                  SE|        SUV|   automatic|wvgav7axxbw524469|   tx|      2.5| 69830.0|   white|    gray|                                    vw credit|10550|       10200|Thu Dec 18 2014 11:00:00 GMT-0800 (PST)|\n",
      "|2010|        Honda|         Odyssey|                  LX|    Minivan|   automatic|5fnrl3h27ab080213|   ca|      2.7| 79116.0|   white|     tan|                      high bid trading co inc| 9825|       12500|Wed Dec 17 2014 12:15:00 GMT-0800 (PST)|\n",
      "|2011|         Ford|         Mustang|                  V6|      Coupe|   automatic|1zvbp8am6b5130291|   sc|      2.8| 74223.0|    blue|   black|                            pnc national bank|11350|       12000|Tue Dec 23 2014 09:15:00 GMT-0800 (PST)|\n",
      "|2011|        Buick|         Enclave|                CXL2|        SUV|   automatic|5gakvced6bj367698|   oh|      2.9| 33442.0|    gray|    gray|fiserv/usb dealer services northstar exchange|24100|       23100|Tue Jan 13 2015 09:30:00 GMT-0800 (PST)|\n",
      "|2007|       Saturn|            Aura|                  XE|      Sedan|   automatic|1g8zs57n27f208351|   ca|      3.8|118943.0|   white|   beige|                                   valley kia| 3800|        3800|Thu Dec 18 2014 12:00:00 GMT-0800 (PST)|\n",
      "|2004|      Pontiac|      Grand Prix|                 GT1|      Sedan|   automatic|2g2wp522941339050|   nc|      1.7|117538.0|  silver|   black|                                 dt inventory| 2500|        1300|Tue Dec 30 2014 09:30:00 GMT-0800 (PST)|\n",
      "|2014|         Ford|  E-Series Wagon|E-350 Super Duty XLT|        Van|        NULL|1fbne3blxedb01678|   mn|      3.5| 15939.0|       —|    gray|                            avis budget group|20100|       19900|Tue Dec 23 2014 14:00:00 GMT-0800 (PST)|\n",
      "|2008|     Chrysler|         Sebring|             Limited|Convertible|   automatic|1c3lc65m98n573663|   tx|        2|131199.0|   white|     tan|                     caprock auto remarketing| 3175|        1300|Thu Dec 18 2014 14:00:00 GMT-0800 (PST)|\n",
      "|2011|    Chevrolet|        Traverse|                 LT2|        SUV|   automatic|1gnkrjed2bj415308|   ca|      2.6| 25305.0|  silver|    gray|fiserv/usb dealer services northstar exchange|19150|       18500|Tue Dec 16 2014 12:30:00 GMT-0800 (PST)|\n",
      "|2009|       Nissan|           Rogue|                  SL|        SUV|   automatic|jn8as58v49w436294|   ma|      3.5| 51698.0|  silver|   black|                     capital one auto finance|11000|       12600|Tue Jan 06 2015 01:30:00 GMT-0800 (PST)|\n",
      "|2006|         jeep|        wrangler|            6c sport|       NULL|        NULL|1j4fa49s36p702035|   fl|      2.2| 76807.0|   black|   black|                 remarketing by ge/penair fcu|12900|        9500|Tue Dec 30 2014 11:15:00 GMT-0800 (PST)|\n",
      "|2011|     Infiniti|         G Sedan|                G25x|    G Sedan|        NULL|jn1dv6arxbm451146|   pa|      2.8| 34154.0|   black|   black|                           nissan infiniti lt|17200|       16000|Tue Dec 23 2014 09:00:00 GMT-0800 (PST)|\n",
      "|2012|        Scion|              iQ|                Base|  Hatchback|   automatic|jtnjjxb01cj012739|   ga|      4.3| 14821.0|    gray|   black|                    toyota financial services| 9375|        9200|Thu Dec 18 2014 10:00:00 GMT-0800 (PST)|\n",
      "|2008|         Audi|              S6|             quattro|      Sedan|        NULL|waudn74f78n015312|   va|      2.6|119236.0|  silver|    gray|                    brown's volkswagen suzuki|16700|       14200|Thu Dec 18 2014 09:05:00 GMT-0800 (PST)|\n",
      "|2013|       Nissan|           Rogue|                  SV|        SUV|        NULL|jn8as5mt1dw014710|   ca|      4.3| 22338.0|  silver|   black|                    nissan north america inc.|15050|       18000|Tue Dec 16 2014 12:30:00 GMT-0800 (PST)|\n",
      "|2014|          GMC|     Sierra 1500|                 SLT|   Crew Cab|   automatic|3gtu2vec4eg141863|   tx|      4.4| 31048.0|    blue|   brown|                     winter motor company inc|34500|       35300|Wed Dec 31 2014 10:20:00 GMT-0800 (PST)|\n",
      "|2013|Mercedes-Benz|         C-Class|                C250|      Coupe|   automatic|wddgj4hb6df984949|   nv|      4.5| 21632.0|   white|   black|             mercedes-benz financial services|24600|       24250|Thu Jan 22 2015 06:00:00 GMT-0800 (PST)|\n",
      "|2014|     Infiniti|             Q50|             Premium|      Sedan|   automatic|jn1bv7apxem671757|   ca|      3.8| 12397.0|   black|   black|                    nissan north america inc.|29900|       30000|Thu Dec 18 2014 12:30:00 GMT-0800 (PST)|\n",
      "+----+-------------+----------------+--------------------+-----------+------------+-----------------+-----+---------+--------+--------+--------+---------------------------------------------+-----+------------+---------------------------------------+\n",
      "only showing top 30 rows\n",
      "\n"
     ]
    },
    {
     "name": "stderr",
     "output_type": "stream",
     "text": [
      "                                                                                \r"
     ]
    }
   ],
   "source": [
    "df = spark.read.format('csv').options(header=True, inferSchema=True).load('dataset/car_prices.csv').repartition(4)\n",
    "df.show(30, truncate=50)"
   ]
  },
  {
   "cell_type": "markdown",
   "id": "a55193ee",
   "metadata": {
    "jp-MarkdownHeadingCollapsed": true
   },
   "source": [
    "# Preprocessing & Cleaning"
   ]
  },
  {
   "cell_type": "code",
   "execution_count": 46,
   "id": "dfe6c8c5",
   "metadata": {},
   "outputs": [],
   "source": [
    "from pyspark.sql.types import *\n",
    "from pyspark.sql.functions import *"
   ]
  },
  {
   "cell_type": "code",
   "execution_count": 47,
   "id": "bba2b49c",
   "metadata": {},
   "outputs": [
    {
     "data": {
      "text/plain": [
       "558837"
      ]
     },
     "execution_count": 47,
     "metadata": {},
     "output_type": "execute_result"
    }
   ],
   "source": [
    "# Count raw data\n",
    "df.count()"
   ]
  },
  {
   "cell_type": "code",
   "execution_count": 48,
   "id": "ec7e528e-d799-44ae-a53a-7bfa337b3f72",
   "metadata": {},
   "outputs": [
    {
     "name": "stdout",
     "output_type": "stream",
     "text": [
      "+----+----------+----------------+--------------------+-----------+------------+-----------------+-----+---------+--------+--------+--------+--------------------+-----+------------+--------------------+\n",
      "|year|      make|           model|                trim|       body|transmission|              vin|state|condition|odometer|   color|interior|              seller|  mmr|sellingprice|            saledate|\n",
      "+----+----------+----------------+--------------------+-----------+------------+-----------------+-----+---------+--------+--------+--------+--------------------+-----+------------+--------------------+\n",
      "|2009|  Chrysler|Town and Country|             Touring|    Minivan|   automatic|2a8hr54179r570758|   wi|      1.6| 90655.0|    gold|     tan|dt credit corpora...| 8425|        7900|Wed Jan 21 2015 0...|\n",
      "|2007| Chevrolet|  Silverado 1500|          Work Truck|   Crew Cab|   automatic|2gcec13c971578282|   ca|     NULL|106732.0|    blue|   black|          auto plaza|13350|       14500|Thu Dec 18 2014 1...|\n",
      "|2011|    Nissan|            Leaf|                  SL|  Hatchback|   automatic|jn1az0cp8bt007673|   wa|      4.1| 21852.0|     red|   beige|  nissan-infiniti lt|10450|       10900|Wed Jan 21 2015 0...|\n",
      "|2006|       GMC|        Envoy XL|              Denali|        SUV|   automatic|1gket66m066153160|   nv|        2|121829.0|   black|       —|titlemax/fort apa...| 7275|        5900|Wed Dec 31 2014 1...|\n",
      "|2011|      Ford|           F-150|                 XLT|  SuperCrew|        NULL|1ftfw1et2bke11814|   mi|      4.8| 31961.0|    gray|    gray|automobiles paill...|25500|       24500|Thu Dec 18 2014 0...|\n",
      "|2007|    HUMMER|              H3|                Base|        SUV|   automatic|5gtdn13ex78160245|   fl|      3.9|107497.0|burgundy|   black|mercedes benz of ...|11400|       12700|Thu Dec 18 2014 1...|\n",
      "|2004|Volkswagen|           Jetta|            GLI 1.8T|      Sedan|        NULL|3vwse69m54m021929|   il|     NULL|106381.0|    blue|       —|grossinger autopl...| 2700|        2500|Thu Dec 18 2014 1...|\n",
      "|2012|   Hyundai|   Sonata Hybrid|                Base|      Sedan|   automatic|kmhec4a49ca060519|   fl|      4.1| 50306.0|     red|     tan|             gte fcu|13250|       13100|Tue Dec 23 2014 1...|\n",
      "|2014| Chevrolet|          Impala|                 LTZ|      Sedan|   automatic|2g1155s3xe9133901|   fl|        4| 14037.0|   black|   black|      gm remarketing|24300|       24700|Mon Feb 09 2015 0...|\n",
      "|2014|       Kia|           Forte|                  LX|      Sedan|   automatic|knafx4a60e5210850|   wi|      3.8| 12835.0|     red|    gray|kia motors americ...|12550|       11900|Wed Feb 18 2015 0...|\n",
      "|2007|      Jeep|        Wrangler|                   X|        SUV|      manual|1j4fa24167l160554|   pa|     NULL| 60967.0|   green|       —|      randy ford inc|13150|       13900|Fri Dec 19 2014 0...|\n",
      "|2006|       Kia|             Rio|                Base|      Sedan|   automatic|knade123066035429|   ga|     NULL|182744.0|  silver|   black|       cars & trucks| 1400|        2150|Thu Dec 18 2014 1...|\n",
      "|2011|Volkswagen|          Tiguan|                  SE|        SUV|   automatic|wvgav7axxbw524469|   tx|      2.5| 69830.0|   white|    gray|           vw credit|10550|       10200|Thu Dec 18 2014 1...|\n",
      "|2010|     Honda|         Odyssey|                  LX|    Minivan|   automatic|5fnrl3h27ab080213|   ca|      2.7| 79116.0|   white|     tan|high bid trading ...| 9825|       12500|Wed Dec 17 2014 1...|\n",
      "|2011|      Ford|         Mustang|                  V6|      Coupe|   automatic|1zvbp8am6b5130291|   sc|      2.8| 74223.0|    blue|   black|   pnc national bank|11350|       12000|Tue Dec 23 2014 0...|\n",
      "|2011|     Buick|         Enclave|                CXL2|        SUV|   automatic|5gakvced6bj367698|   oh|      2.9| 33442.0|    gray|    gray|fiserv/usb dealer...|24100|       23100|Tue Jan 13 2015 0...|\n",
      "|2007|    Saturn|            Aura|                  XE|      Sedan|   automatic|1g8zs57n27f208351|   ca|      3.8|118943.0|   white|   beige|          valley kia| 3800|        3800|Thu Dec 18 2014 1...|\n",
      "|2004|   Pontiac|      Grand Prix|                 GT1|      Sedan|   automatic|2g2wp522941339050|   nc|      1.7|117538.0|  silver|   black|        dt inventory| 2500|        1300|Tue Dec 30 2014 0...|\n",
      "|2014|      Ford|  E-Series Wagon|E-350 Super Duty XLT|        Van|        NULL|1fbne3blxedb01678|   mn|      3.5| 15939.0|       —|    gray|   avis budget group|20100|       19900|Tue Dec 23 2014 1...|\n",
      "|2008|  Chrysler|         Sebring|             Limited|Convertible|   automatic|1c3lc65m98n573663|   tx|        2|131199.0|   white|     tan|caprock auto rema...| 3175|        1300|Thu Dec 18 2014 1...|\n",
      "+----+----------+----------------+--------------------+-----------+------------+-----------------+-----+---------+--------+--------+--------+--------------------+-----+------------+--------------------+\n",
      "only showing top 20 rows\n",
      "\n"
     ]
    }
   ],
   "source": [
    "# Show all data\n",
    "df.show()"
   ]
  },
  {
   "cell_type": "code",
   "execution_count": 49,
   "id": "3f78d544",
   "metadata": {},
   "outputs": [
    {
     "name": "stderr",
     "output_type": "stream",
     "text": [
      "[Stage 3904:>                                                       (0 + 4) / 4]\r"
     ]
    },
    {
     "name": "stdout",
     "output_type": "stream",
     "text": [
      "+----+-----+-----+-----+-----+------------+---+-----+---------+--------+-----+--------+------+---+------------+--------+\n",
      "|year| make|model| trim| body|transmission|vin|state|condition|odometer|color|interior|seller|mmr|sellingprice|saledate|\n",
      "+----+-----+-----+-----+-----+------------+---+-----+---------+--------+-----+--------+------+---+------------+--------+\n",
      "|   0|10301|10399|10651|13195|       65353|  4|    0|    11794|      94|  749|     749|     0|  0|           0|       0|\n",
      "+----+-----+-----+-----+-----+------------+---+-----+---------+--------+-----+--------+------+---+------------+--------+\n",
      "\n"
     ]
    },
    {
     "name": "stderr",
     "output_type": "stream",
     "text": [
      "                                                                                \r"
     ]
    }
   ],
   "source": [
    "# Count for missing values\n",
    "df.select([count(when(isnan(c) | isnull(c),1)).alias(c) for c in df.columns]).show()"
   ]
  },
  {
   "cell_type": "markdown",
   "id": "cc2f5863",
   "metadata": {},
   "source": [
    "### Filling NULL Transmission"
   ]
  },
  {
   "cell_type": "markdown",
   "id": "9bb151ff-0b7f-47d8-a3e6-d8fae8ef6740",
   "metadata": {
    "jp-MarkdownHeadingCollapsed": true
   },
   "source": [
    "#### Case Casting (All to Lower)"
   ]
  },
  {
   "cell_type": "code",
   "execution_count": 50,
   "id": "3be61b22",
   "metadata": {},
   "outputs": [
    {
     "name": "stderr",
     "output_type": "stream",
     "text": [
      "[Stage 3908:>                                                       (0 + 8) / 8]\r"
     ]
    },
    {
     "name": "stdout",
     "output_type": "stream",
     "text": [
      "+-------+----------+-------------+\n",
      "|   body|      make|        model|\n",
      "+-------+----------+-------------+\n",
      "|    suv|   mercury|  mountaineer|\n",
      "|    suv|   mercury|  mountaineer|\n",
      "|    suv|   mercury|  mountaineer|\n",
      "|    suv|   mercury|  mountaineer|\n",
      "|    suv|   mercury|  mountaineer|\n",
      "|    suv|   mercury|  mountaineer|\n",
      "|    suv|   mercury|  mountaineer|\n",
      "|    suv|   mercury|  mountaineer|\n",
      "|    suv|   mercury|  mountaineer|\n",
      "|    suv|   mercury|  mountaineer|\n",
      "|    suv|   mercury|  mountaineer|\n",
      "|    suv|   mercury|  mountaineer|\n",
      "|    suv|   mercury|  mountaineer|\n",
      "|    suv|   mercury|  mountaineer|\n",
      "|    suv|   mercury|  mountaineer|\n",
      "|    suv|   mercury|  mountaineer|\n",
      "|    suv|   mercury|  mountaineer|\n",
      "|   NULL|oldsmobile|        ciera|\n",
      "|  sedan|      ford|fusion energi|\n",
      "|minivan|       ram|c/v cargo van|\n",
      "+-------+----------+-------------+\n",
      "only showing top 20 rows\n",
      "\n"
     ]
    },
    {
     "name": "stderr",
     "output_type": "stream",
     "text": [
      "                                                                                \r"
     ]
    }
   ],
   "source": [
    "df = df.withColumn(\"body\", lower(df[\"body\"]))\n",
    "df = df.withColumn(\"make\", lower(df[\"make\"]))\n",
    "df = df.withColumn(\"model\", lower(df[\"model\"]))\n",
    "df.select(['body', 'make', 'model']).show()"
   ]
  },
  {
   "cell_type": "markdown",
   "id": "fb56610f-b490-4a08-b2e8-9d5bb0e5759b",
   "metadata": {
    "jp-MarkdownHeadingCollapsed": true
   },
   "source": [
    "#### Self-joining to fill transmission"
   ]
  },
  {
   "cell_type": "code",
   "execution_count": 51,
   "id": "588c99c7",
   "metadata": {},
   "outputs": [
    {
     "name": "stdout",
     "output_type": "stream",
     "text": [
      "+----+----+-----+----+----+------------+---+-----+---------+--------+-----+--------+------+---+------------+--------+\n",
      "|year|make|model|trim|body|transmission|vin|state|condition|odometer|color|interior|seller|mmr|sellingprice|saledate|\n",
      "+----+----+-----+----+----+------------+---+-----+---------+--------+-----+--------+------+---+------------+--------+\n",
      "+----+----+-----+----+----+------------+---+-----+---------+--------+-----+--------+------+---+------------+--------+\n",
      "\n"
     ]
    }
   ],
   "source": [
    "# New df for joining\n",
    "filled_df = df.dropna(subset=[\"transmission\"])\n",
    "filled_df.where(col('transmission').isNull()).show()"
   ]
  },
  {
   "cell_type": "code",
   "execution_count": 52,
   "id": "41b4cd7d",
   "metadata": {},
   "outputs": [],
   "source": [
    "# Inner join to fill missing transmission values\n",
    "df = df.alias(\"df\").join(\n",
    "    filled_df.alias(\"filled_df\"),\n",
    "    on=[\"year\", \"make\", \"model\", \"trim\", \"body\"],\n",
    "    how=\"inner\"\n",
    ").select(\n",
    "    col(\"df.year\"),\n",
    "    col(\"df.make\"),\n",
    "    col(\"df.model\"),\n",
    "    col(\"df.trim\"),\n",
    "    col(\"df.body\"),\n",
    "    col(\"df.vin\"),\n",
    "    col(\"df.state\"),\n",
    "    col(\"df.condition\"),\n",
    "    col(\"df.odometer\"),\n",
    "    col(\"df.color\"),\n",
    "    col(\"df.interior\"),\n",
    "    col(\"df.seller\"),\n",
    "    col(\"df.mmr\"),\n",
    "    col(\"df.sellingprice\"),\n",
    "    col(\"df.saledate\"),\n",
    "    col(\"df.transmission\").alias(\"original_transmission\"),\n",
    "    col(\"filled_df.transmission\").alias(\"filled_transmission\")\n",
    ").distinct()"
   ]
  },
  {
   "cell_type": "code",
   "execution_count": 53,
   "id": "9d9de78e",
   "metadata": {},
   "outputs": [
    {
     "name": "stderr",
     "output_type": "stream",
     "text": [
      "[Stage 3922:>                                                       (0 + 1) / 1]\r"
     ]
    },
    {
     "name": "stdout",
     "output_type": "stream",
     "text": [
      "+----+-------------+---------------+-----------+------------+---------------------+-------------------+-----+\n",
      "|year|         make|          model|       trim|        body|original_transmission|filled_transmission|count|\n",
      "+----+-------------+---------------+-----------+------------+---------------------+-------------------+-----+\n",
      "|1992|        honda|         accord|         EX|       sedan|                 NULL|          automatic|    1|\n",
      "|1992|        honda|         accord|         EX|       sedan|                 NULL|             manual|    1|\n",
      "|1993|         ford|         escort|         LX|       wagon|                 NULL|          automatic|    1|\n",
      "|1993|       toyota|          camry|         LE|       sedan|                 NULL|          automatic|    6|\n",
      "|1994|         ford|         ranger|        XLT| regular cab|                 NULL|             manual|    1|\n",
      "|1994|         ford|         ranger|        XLT| regular cab|                 NULL|          automatic|    1|\n",
      "|1994|         jeep| grand cherokee|     Laredo|         suv|                 NULL|          automatic|    3|\n",
      "|1994|        lexus|         es 300|       Base|       sedan|                 NULL|          automatic|    2|\n",
      "|1994|       nissan|         altima|        GLE|       sedan|                 NULL|          automatic|    1|\n",
      "|1994|       nissan|         maxima|        GXE|       sedan|                 NULL|          automatic|    1|\n",
      "|1995|        honda|         accord|         LX|       sedan|                 NULL|          automatic|    2|\n",
      "|1995|        honda|         accord|         LX|       sedan|                 NULL|             manual|    2|\n",
      "|1995|       toyota|          camry|         LE|       sedan|                 NULL|          automatic|    7|\n",
      "|1996|    chevrolet|         lumina|       Base|       sedan|                 NULL|          automatic|    2|\n",
      "|1996|        dodge|ram pickup 1500|         ST|extended cab|                 NULL|          automatic|    2|\n",
      "|1996|         ford|       explorer|        XLT|         suv|                 NULL|          automatic|    4|\n",
      "|1996|         ford|         taurus|         LX|       sedan|                 NULL|          automatic|    1|\n",
      "|1996|          geo|          prizm|       Base|       sedan|                 NULL|          automatic|    1|\n",
      "|1996|          geo|          prizm|       Base|       sedan|                 NULL|             manual|    1|\n",
      "|1996|       jaguar|      xj-series|Vanden Plas|       sedan|                 NULL|          automatic|    1|\n",
      "|1996|        mazda|b-series pickup|      B2300| regular cab|                 NULL|          automatic|    1|\n",
      "|1996|       nissan|         altima|         XE|       sedan|                 NULL|          automatic|    1|\n",
      "|1996|       toyota|         avalon|        XLS|       sedan|                 NULL|          automatic|    3|\n",
      "|1996|       toyota|          camry|     XLE V6|       sedan|                 NULL|          automatic|    4|\n",
      "|1997|        acura|             cl|3.0 Premium|       coupe|                 NULL|          automatic|    1|\n",
      "|1997|    chevrolet|         lumina|       Base|       sedan|                 NULL|          automatic|    1|\n",
      "|1997|         ford|     expedition|        XLT|         suv|                 NULL|          automatic|    2|\n",
      "|1997|         ford|        mustang|         GT| convertible|                 NULL|             manual|    1|\n",
      "|1997|         ford|        mustang|         GT| convertible|                 NULL|          automatic|    1|\n",
      "|1997|        honda|         accord|         EX|       sedan|                 NULL|          automatic|    1|\n",
      "|1997|        honda|         accord|         EX|       sedan|                 NULL|             manual|    1|\n",
      "|1997|     infiniti|            qx4|       Base|         suv|                 NULL|          automatic|    1|\n",
      "|1997|      mercury|  grand marquis|         LS|       sedan|                 NULL|          automatic|    2|\n",
      "|1997|   mitsubishi|         galant|         ES|       sedan|                 NULL|          automatic|    1|\n",
      "|1997|       nissan|         sentra|       Base|       sedan|                 NULL|          automatic|    2|\n",
      "|1997|   oldsmobile|cutlass supreme|         SL|       sedan|                 NULL|          automatic|    1|\n",
      "|1997|       toyota|          camry|         CE|       sedan|                 NULL|          automatic|    2|\n",
      "|1998|          bmw|       5 series|       540i|       sedan|                 NULL|          automatic|    1|\n",
      "|1998|          bmw|             z3|        2.8| convertible|                 NULL|             manual|    1|\n",
      "|1998|        buick|        century|     Custom|       sedan|                 NULL|          automatic|    1|\n",
      "|1998|         ford|     expedition|        XLT|         suv|                 NULL|          automatic|    4|\n",
      "|1998|         ford|         ranger|        XLT|extended cab|                 NULL|             manual|    2|\n",
      "|1998|         ford|         ranger|        XLT|extended cab|                 NULL|          automatic|    2|\n",
      "|1998|         ford|         taurus|         LX|       sedan|                 NULL|          automatic|    2|\n",
      "|1998|        honda|          civic|         EX|       coupe|                 NULL|             manual|    3|\n",
      "|1998|        honda|          civic|         EX|       coupe|                 NULL|          automatic|    3|\n",
      "|1998|        isuzu|          rodeo|         LS|         suv|                 NULL|          automatic|    1|\n",
      "|1998|mercedes-benz|        e-class|       E320|       sedan|                 NULL|          automatic|    1|\n",
      "|1998|   mitsubishi|  montero sport|         LS|         suv|                 NULL|          automatic|    3|\n",
      "|1998|       nissan|         altima|        GLE|       sedan|                 NULL|          automatic|    2|\n",
      "+----+-------------+---------------+-----------+------------+---------------------+-------------------+-----+\n",
      "only showing top 50 rows\n",
      "\n"
     ]
    },
    {
     "name": "stderr",
     "output_type": "stream",
     "text": [
      "                                                                                \r"
     ]
    }
   ],
   "source": [
    "# Validating the filled transmission corresponds correctly\n",
    "df.select(['year','make', 'model', 'trim', 'body', 'original_transmission', 'filled_transmission']).where(col('original_transmission').isNull()).groupBy(['year','make', 'model', 'trim', 'body', 'original_transmission', 'filled_transmission']).count().show(50)"
   ]
  },
  {
   "cell_type": "code",
   "execution_count": 54,
   "id": "63d86ac3",
   "metadata": {},
   "outputs": [],
   "source": [
    "# Merging into one \"transmission\" column\n",
    "\n",
    "df = df.withColumn(\n",
    "    \"transmission\",\n",
    "    when(col(\"original_transmission\").isNotNull(), col(\"original_transmission\")).otherwise(col(\"filled_transmission\"))\n",
    ").drop(\"original_transmission\", \"filled_transmission\")"
   ]
  },
  {
   "cell_type": "code",
   "execution_count": 55,
   "id": "03b359a1",
   "metadata": {},
   "outputs": [
    {
     "name": "stderr",
     "output_type": "stream",
     "text": [
      "[Stage 3933:>                                                       (0 + 1) / 1]\r"
     ]
    },
    {
     "name": "stdout",
     "output_type": "stream",
     "text": [
      "+----+---------+---------+-------------+---------+-----------------+-----+---------+--------+--------+--------+--------------------+----+------------+--------------------+------------+\n",
      "|year|     make|    model|         trim|     body|              vin|state|condition|odometer|   color|interior|              seller| mmr|sellingprice|            saledate|transmission|\n",
      "+----+---------+---------+-------------+---------+-----------------+-----+---------+--------+--------+--------+--------------------+----+------------+--------------------+------------+\n",
      "|1990|   jaguar|xj-series|XJ6 Sovereign|    sedan|sajhy174xlc607411|   ga|        2|135657.0|    blue|     tan|capital auto auction| 775|         550|Thu May 28 2015 0...|   automatic|\n",
      "|1991|chevrolet| corvette|         Base|hatchback|1g1yy238xm5116736|   fl|        2| 91569.0|    blue|    gray|germain toyota of...|4900|        2400|Wed Jan 14 2015 0...|   automatic|\n",
      "|1991|chevrolet| corvette|         Base|hatchback|1g1yy2384m5104212|   fl|        2|138310.0|     red|     red|autonation toyota...|4625|        2700|Tue May 26 2015 1...|   automatic|\n",
      "|1991|   toyota|    camry|       Deluxe|    sedan|jt2sv21e3m3460184|   ca|        2|252591.0|    gray|    gray| honda of serramonte| 300|         150|Wed Jan 21 2015 0...|   automatic|\n",
      "|1991|   toyota|    camry|       Deluxe|    sedan|jt2sv21e3m3460184|   ca|        2|252591.0|    gray|    gray| honda of serramonte| 300|         150|Wed Jan 21 2015 0...|   automatic|\n",
      "|1991|   toyota|    camry|       Deluxe|    sedan|4t1sv21e7mu434409|   sc|        1|189563.0|burgundy|    gray|purple heart serv...| 425|         300|Thu Jan 15 2015 0...|      manual|\n",
      "|1991|   toyota|    camry|       Deluxe|    sedan|4t1sv21e7mu434409|   sc|        1|189563.0|burgundy|    gray|purple heart serv...| 425|         300|Thu Jan 15 2015 0...|      manual|\n",
      "|1991|   toyota|    camry|       Deluxe|    sedan|4t1sv21e5mu324474|   nc|        2|264816.0|   white|    blue|        dt inventory| 275|         200|Tue Mar 03 2015 0...|   automatic|\n",
      "|1991|   toyota|    camry|       Deluxe|    sedan|4t1sv21e5mu324474|   nc|        2|264816.0|   white|    blue|        dt inventory| 275|         200|Tue Mar 03 2015 0...|   automatic|\n",
      "|1991|   toyota|    camry|       Deluxe|    sedan|4t1sv21e2mu374524|   nc|        2|175381.0|burgundy|    gray|        dt inventory| 425|         300|Tue Feb 17 2015 0...|   automatic|\n",
      "|1991|   toyota|    camry|       Deluxe|    sedan|4t1sv21e2mu374524|   nc|        2|175381.0|burgundy|    gray|        dt inventory| 425|         300|Tue Feb 17 2015 0...|   automatic|\n",
      "|1991|   toyota|    camry|       Deluxe|    sedan|4t1sv21e8mu304686|   fl|        3|244226.0|   white|    blue|autonation toyota...| 300|         500|Tue Jan 13 2015 1...|   automatic|\n",
      "|1991|   toyota|    camry|       Deluxe|    sedan|4t1sv21e8mu304686|   fl|        3|244226.0|   white|    blue|autonation toyota...| 300|         500|Tue Jan 13 2015 1...|   automatic|\n",
      "|1991|   toyota|    camry|       Deluxe|    sedan|4t1sv21e5mu453282|   md|        2| 91780.0|   white|   beige|purple heart serv...| 550|         550|Tue Jan 06 2015 0...|   automatic|\n",
      "|1991|   toyota|    camry|       Deluxe|    sedan|4t1sv21e5mu453282|   md|        2| 91780.0|   white|   beige|purple heart serv...| 550|         550|Tue Jan 06 2015 0...|   automatic|\n",
      "|1991|   toyota|    camry|       Deluxe|    sedan|4t1sv21e5mu352579|   fl|        2|210619.0|    blue|    blue|autonation chevro...| 375|         400|Tue Mar 03 2015 1...|   automatic|\n",
      "|1991|   toyota|    camry|       Deluxe|    sedan|4t1sv21e5mu352579|   fl|        2|210619.0|    blue|    blue|autonation chevro...| 375|         400|Tue Mar 03 2015 1...|   automatic|\n",
      "|1991|   toyota|    camry|       Deluxe|    sedan|4t1sv21e1mu378712|   md|        1|209809.0|   beige|   beige|        liberty ford| 475|         250|Tue Jun 02 2015 0...|   automatic|\n",
      "|1991|   toyota|    camry|       Deluxe|    sedan|4t1sv21e1mu378712|   md|        1|209809.0|   beige|   beige|        liberty ford| 475|         250|Tue Jun 02 2015 0...|   automatic|\n",
      "|1991|   toyota|    camry|       Deluxe|    sedan|4t1sv21e6mu303147|   va|        2|232476.0|   white|    blue|     check into cash| 325|         300|Thu Feb 05 2015 0...|   automatic|\n",
      "+----+---------+---------+-------------+---------+-----------------+-----+---------+--------+--------+--------+--------------------+----+------------+--------------------+------------+\n",
      "only showing top 20 rows\n",
      "\n"
     ]
    },
    {
     "name": "stderr",
     "output_type": "stream",
     "text": [
      "                                                                                \r"
     ]
    }
   ],
   "source": [
    "df.show()"
   ]
  },
  {
   "cell_type": "markdown",
   "id": "90c8cdc2-1f27-4227-a949-8ed29118745a",
   "metadata": {
    "jp-MarkdownHeadingCollapsed": true
   },
   "source": [
    "#### More cleaning for the rest of the null columns "
   ]
  },
  {
   "cell_type": "code",
   "execution_count": 56,
   "id": "6f4729f7",
   "metadata": {},
   "outputs": [
    {
     "name": "stderr",
     "output_type": "stream",
     "text": [
      "[Stage 3944:>                                                       (0 + 1) / 1]\r"
     ]
    },
    {
     "name": "stdout",
     "output_type": "stream",
     "text": [
      "+------------+--------+--------+\n",
      "|transmission|   color|interior|\n",
      "+------------+--------+--------+\n",
      "|   automatic|    blue|     tan|\n",
      "|   automatic|    blue|    gray|\n",
      "|   automatic|     red|     red|\n",
      "|   automatic|   white|   beige|\n",
      "|   automatic|   white|   beige|\n",
      "|   automatic|   white|    blue|\n",
      "|   automatic|   white|    blue|\n",
      "|   automatic|   beige|   beige|\n",
      "|   automatic|   beige|   beige|\n",
      "|   automatic|   white|    blue|\n",
      "|   automatic|   white|    blue|\n",
      "|   automatic|   white|    blue|\n",
      "|   automatic|   white|    blue|\n",
      "|   automatic|    gray|    gray|\n",
      "|   automatic|    gray|    gray|\n",
      "|   automatic|burgundy|    gray|\n",
      "|   automatic|burgundy|    gray|\n",
      "|      manual|burgundy|    gray|\n",
      "|      manual|burgundy|    gray|\n",
      "|   automatic|    blue|    blue|\n",
      "+------------+--------+--------+\n",
      "only showing top 20 rows\n",
      "\n"
     ]
    },
    {
     "name": "stderr",
     "output_type": "stream",
     "text": [
      "                                                                                \r"
     ]
    }
   ],
   "source": [
    "df = df.where((df[\"transmission\"] == \"automatic\") | (df[\"transmission\"] == \"manual\"))\n",
    "df = df.where((df[\"color\"] != '—'))\n",
    "df = df.where((df[\"interior\"] != '—'))\n",
    "df.select(['transmission', 'color', 'interior']).show()"
   ]
  },
  {
   "cell_type": "code",
   "execution_count": 57,
   "id": "4682b1bc",
   "metadata": {},
   "outputs": [],
   "source": [
    "# Drop rows with missing values\n",
    "df = df.dropna(subset=[\"year\", \"make\", \"model\", \"body\", \"condition\", \"transmission\", \"odometer\", \"color\", \"mmr\"])\n",
    "df = df.distinct()"
   ]
  },
  {
   "cell_type": "markdown",
   "id": "86d2d8b1-1ff2-4e2e-bf26-d45351b4b23f",
   "metadata": {
    "jp-MarkdownHeadingCollapsed": true
   },
   "source": [
    "#### Casting to its respective data types"
   ]
  },
  {
   "cell_type": "code",
   "execution_count": 75,
   "id": "852d6495",
   "metadata": {},
   "outputs": [],
   "source": [
    "# Cast to respective data types\n",
    "df = df.withColumn('sellingprice', col('sellingprice').cast('double'))\n",
    "df = df.withColumn('mmr', col('mmr').cast('double'))\n",
    "df = df.withColumn('condition', col('condition').cast('double'))\n",
    "df = df.withColumn('odometer', col('odometer').cast('integer'))"
   ]
  },
  {
   "cell_type": "markdown",
   "id": "78e093e6-a1e6-463f-86f7-a7f4d31c48b9",
   "metadata": {
    "jp-MarkdownHeadingCollapsed": true
   },
   "source": [
    "#### Count Each Categorical Value"
   ]
  },
  {
   "cell_type": "code",
   "execution_count": 59,
   "id": "dcfe8fa0",
   "metadata": {},
   "outputs": [
    {
     "name": "stderr",
     "output_type": "stream",
     "text": [
      "24/06/21 21:08:34 WARN RowBasedKeyValueBatch: Calling spill() on RowBasedKeyValueBatch. Will not spill but return 0.\n",
      "24/06/21 21:08:34 WARN RowBasedKeyValueBatch: Calling spill() on RowBasedKeyValueBatch. Will not spill but return 0.\n",
      "24/06/21 21:08:34 WARN RowBasedKeyValueBatch: Calling spill() on RowBasedKeyValueBatch. Will not spill but return 0.\n",
      "24/06/21 21:08:35 WARN RowBasedKeyValueBatch: Calling spill() on RowBasedKeyValueBatch. Will not spill but return 0.\n",
      "24/06/21 21:08:35 WARN RowBasedKeyValueBatch: Calling spill() on RowBasedKeyValueBatch. Will not spill but return 0.\n",
      "24/06/21 21:08:35 WARN RowBasedKeyValueBatch: Calling spill() on RowBasedKeyValueBatch. Will not spill but return 0.\n",
      "24/06/21 21:08:35 WARN RowBasedKeyValueBatch: Calling spill() on RowBasedKeyValueBatch. Will not spill but return 0.\n",
      "24/06/21 21:08:35 WARN RowBasedKeyValueBatch: Calling spill() on RowBasedKeyValueBatch. Will not spill but return 0.\n",
      "24/06/21 21:08:35 WARN RowBasedKeyValueBatch: Calling spill() on RowBasedKeyValueBatch. Will not spill but return 0.\n",
      "24/06/21 21:08:36 WARN RowBasedKeyValueBatch: Calling spill() on RowBasedKeyValueBatch. Will not spill but return 0.\n",
      "24/06/21 21:08:36 WARN RowBasedKeyValueBatch: Calling spill() on RowBasedKeyValueBatch. Will not spill but return 0.\n",
      "24/06/21 21:08:36 WARN RowBasedKeyValueBatch: Calling spill() on RowBasedKeyValueBatch. Will not spill but return 0.\n",
      "24/06/21 21:08:36 WARN RowBasedKeyValueBatch: Calling spill() on RowBasedKeyValueBatch. Will not spill but return 0.\n",
      "24/06/21 21:08:36 WARN RowBasedKeyValueBatch: Calling spill() on RowBasedKeyValueBatch. Will not spill but return 0.\n",
      "24/06/21 21:08:36 WARN RowBasedKeyValueBatch: Calling spill() on RowBasedKeyValueBatch. Will not spill but return 0.\n",
      "24/06/21 21:08:37 WARN RowBasedKeyValueBatch: Calling spill() on RowBasedKeyValueBatch. Will not spill but return 0.\n",
      "24/06/21 21:08:37 WARN RowBasedKeyValueBatch: Calling spill() on RowBasedKeyValueBatch. Will not spill but return 0.\n",
      "24/06/21 21:08:37 WARN RowBasedKeyValueBatch: Calling spill() on RowBasedKeyValueBatch. Will not spill but return 0.\n",
      "24/06/21 21:08:38 WARN RowBasedKeyValueBatch: Calling spill() on RowBasedKeyValueBatch. Will not spill but return 0.\n",
      "24/06/21 21:08:38 WARN RowBasedKeyValueBatch: Calling spill() on RowBasedKeyValueBatch. Will not spill but return 0.\n",
      "24/06/21 21:08:38 WARN RowBasedKeyValueBatch: Calling spill() on RowBasedKeyValueBatch. Will not spill but return 0.\n",
      "                                                                                \r"
     ]
    },
    {
     "name": "stdout",
     "output_type": "stream",
     "text": [
      "+------------+-----+\n",
      "|        make|count|\n",
      "+------------+-----+\n",
      "|       lotus|    1|\n",
      "|      daewoo|    2|\n",
      "| lamborghini|    3|\n",
      "|      fisker|    9|\n",
      "|    plymouth|   15|\n",
      "| rolls-royce|   15|\n",
      "|     ferrari|   16|\n",
      "|         geo|   20|\n",
      "|       tesla|   22|\n",
      "|aston martin|   24|\n",
      "|     bentley|  109|\n",
      "|    maserati|  123|\n",
      "|       isuzu|  173|\n",
      "|  oldsmobile|  314|\n",
      "|       smart|  375|\n",
      "|        saab|  457|\n",
      "|      hummer|  768|\n",
      "|        fiat|  892|\n",
      "|      suzuki|  999|\n",
      "|      jaguar| 1313|\n",
      "+------------+-----+\n",
      "only showing top 20 rows\n",
      "\n"
     ]
    },
    {
     "name": "stderr",
     "output_type": "stream",
     "text": [
      "24/06/21 21:09:14 WARN RowBasedKeyValueBatch: Calling spill() on RowBasedKeyValueBatch. Will not spill but return 0.\n",
      "24/06/21 21:09:14 WARN RowBasedKeyValueBatch: Calling spill() on RowBasedKeyValueBatch. Will not spill but return 0.\n",
      "24/06/21 21:09:14 WARN RowBasedKeyValueBatch: Calling spill() on RowBasedKeyValueBatch. Will not spill but return 0.\n",
      "24/06/21 21:09:16 WARN RowBasedKeyValueBatch: Calling spill() on RowBasedKeyValueBatch. Will not spill but return 0.\n",
      "24/06/21 21:09:16 WARN RowBasedKeyValueBatch: Calling spill() on RowBasedKeyValueBatch. Will not spill but return 0.\n",
      "24/06/21 21:09:16 WARN RowBasedKeyValueBatch: Calling spill() on RowBasedKeyValueBatch. Will not spill but return 0.\n",
      "24/06/21 21:09:16 WARN RowBasedKeyValueBatch: Calling spill() on RowBasedKeyValueBatch. Will not spill but return 0.\n",
      "24/06/21 21:09:16 WARN RowBasedKeyValueBatch: Calling spill() on RowBasedKeyValueBatch. Will not spill but return 0.\n",
      "24/06/21 21:09:16 WARN RowBasedKeyValueBatch: Calling spill() on RowBasedKeyValueBatch. Will not spill but return 0.\n",
      "24/06/21 21:09:16 WARN RowBasedKeyValueBatch: Calling spill() on RowBasedKeyValueBatch. Will not spill but return 0.\n",
      "24/06/21 21:09:16 WARN RowBasedKeyValueBatch: Calling spill() on RowBasedKeyValueBatch. Will not spill but return 0.\n",
      "24/06/21 21:09:16 WARN RowBasedKeyValueBatch: Calling spill() on RowBasedKeyValueBatch. Will not spill but return 0.\n",
      "24/06/21 21:09:16 WARN RowBasedKeyValueBatch: Calling spill() on RowBasedKeyValueBatch. Will not spill but return 0.\n",
      "24/06/21 21:09:16 WARN RowBasedKeyValueBatch: Calling spill() on RowBasedKeyValueBatch. Will not spill but return 0.\n",
      "24/06/21 21:09:16 WARN RowBasedKeyValueBatch: Calling spill() on RowBasedKeyValueBatch. Will not spill but return 0.\n",
      "24/06/21 21:09:17 WARN RowBasedKeyValueBatch: Calling spill() on RowBasedKeyValueBatch. Will not spill but return 0.\n",
      "24/06/21 21:09:17 WARN RowBasedKeyValueBatch: Calling spill() on RowBasedKeyValueBatch. Will not spill but return 0.\n",
      "24/06/21 21:09:17 WARN RowBasedKeyValueBatch: Calling spill() on RowBasedKeyValueBatch. Will not spill but return 0.\n",
      "24/06/21 21:09:18 WARN RowBasedKeyValueBatch: Calling spill() on RowBasedKeyValueBatch. Will not spill but return 0.\n",
      "24/06/21 21:09:18 WARN RowBasedKeyValueBatch: Calling spill() on RowBasedKeyValueBatch. Will not spill but return 0.\n",
      "24/06/21 21:09:18 WARN RowBasedKeyValueBatch: Calling spill() on RowBasedKeyValueBatch. Will not spill but return 0.\n",
      "                                                                                \r"
     ]
    },
    {
     "name": "stdout",
     "output_type": "stream",
     "text": [
      "+----------------+-----+\n",
      "|           model|count|\n",
      "+----------------+-----+\n",
      "|          altima|18817|\n",
      "|           f-150|13077|\n",
      "|           camry|12022|\n",
      "|          fusion|11194|\n",
      "|          escape|10295|\n",
      "|           focus| 9425|\n",
      "|          accord| 8774|\n",
      "|        3 series| 8015|\n",
      "|          impala| 7521|\n",
      "|   grand caravan| 7418|\n",
      "|         corolla| 7339|\n",
      "|         g sedan| 7118|\n",
      "|           civic| 7111|\n",
      "|           cruze| 6846|\n",
      "|          sonata| 6802|\n",
      "|         elantra| 6749|\n",
      "|          malibu| 6685|\n",
      "|          maxima| 6495|\n",
      "|        explorer| 6439|\n",
      "|  silverado 1500| 5969|\n",
      "|town and country| 5687|\n",
      "|          sentra| 5275|\n",
      "|            edge| 5257|\n",
      "|           rogue| 5217|\n",
      "|         mustang| 4600|\n",
      "|         equinox| 4568|\n",
      "|          optima| 4455|\n",
      "|           jetta| 4381|\n",
      "|  grand cherokee| 4361|\n",
      "|         c-class| 4341|\n",
      "+----------------+-----+\n",
      "only showing top 30 rows\n",
      "\n"
     ]
    },
    {
     "name": "stderr",
     "output_type": "stream",
     "text": [
      "24/06/21 21:09:55 WARN RowBasedKeyValueBatch: Calling spill() on RowBasedKeyValueBatch. Will not spill but return 0.\n",
      "24/06/21 21:09:55 WARN RowBasedKeyValueBatch: Calling spill() on RowBasedKeyValueBatch. Will not spill but return 0.\n",
      "24/06/21 21:09:55 WARN RowBasedKeyValueBatch: Calling spill() on RowBasedKeyValueBatch. Will not spill but return 0.\n",
      "24/06/21 21:09:57 WARN RowBasedKeyValueBatch: Calling spill() on RowBasedKeyValueBatch. Will not spill but return 0.\n",
      "24/06/21 21:09:57 WARN RowBasedKeyValueBatch: Calling spill() on RowBasedKeyValueBatch. Will not spill but return 0.\n",
      "24/06/21 21:09:57 WARN RowBasedKeyValueBatch: Calling spill() on RowBasedKeyValueBatch. Will not spill but return 0.\n",
      "24/06/21 21:09:57 WARN RowBasedKeyValueBatch: Calling spill() on RowBasedKeyValueBatch. Will not spill but return 0.\n",
      "24/06/21 21:09:57 WARN RowBasedKeyValueBatch: Calling spill() on RowBasedKeyValueBatch. Will not spill but return 0.\n",
      "24/06/21 21:09:57 WARN RowBasedKeyValueBatch: Calling spill() on RowBasedKeyValueBatch. Will not spill but return 0.\n",
      "24/06/21 21:09:57 WARN RowBasedKeyValueBatch: Calling spill() on RowBasedKeyValueBatch. Will not spill but return 0.\n",
      "24/06/21 21:09:57 WARN RowBasedKeyValueBatch: Calling spill() on RowBasedKeyValueBatch. Will not spill but return 0.\n",
      "24/06/21 21:09:57 WARN RowBasedKeyValueBatch: Calling spill() on RowBasedKeyValueBatch. Will not spill but return 0.\n",
      "24/06/21 21:09:57 WARN RowBasedKeyValueBatch: Calling spill() on RowBasedKeyValueBatch. Will not spill but return 0.\n",
      "24/06/21 21:09:57 WARN RowBasedKeyValueBatch: Calling spill() on RowBasedKeyValueBatch. Will not spill but return 0.\n",
      "24/06/21 21:09:57 WARN RowBasedKeyValueBatch: Calling spill() on RowBasedKeyValueBatch. Will not spill but return 0.\n",
      "24/06/21 21:09:58 WARN RowBasedKeyValueBatch: Calling spill() on RowBasedKeyValueBatch. Will not spill but return 0.\n",
      "24/06/21 21:09:58 WARN RowBasedKeyValueBatch: Calling spill() on RowBasedKeyValueBatch. Will not spill but return 0.\n",
      "24/06/21 21:09:58 WARN RowBasedKeyValueBatch: Calling spill() on RowBasedKeyValueBatch. Will not spill but return 0.\n",
      "24/06/21 21:09:59 WARN RowBasedKeyValueBatch: Calling spill() on RowBasedKeyValueBatch. Will not spill but return 0.\n",
      "24/06/21 21:09:59 WARN RowBasedKeyValueBatch: Calling spill() on RowBasedKeyValueBatch. Will not spill but return 0.\n",
      "24/06/21 21:09:59 WARN RowBasedKeyValueBatch: Calling spill() on RowBasedKeyValueBatch. Will not spill but return 0.\n",
      "                                                                                \r"
     ]
    },
    {
     "name": "stdout",
     "output_type": "stream",
     "text": [
      "+------------+------+\n",
      "|        body| count|\n",
      "+------------+------+\n",
      "|       sedan|229512|\n",
      "|         suv|134152|\n",
      "|   hatchback| 24652|\n",
      "|     minivan| 23739|\n",
      "|       coupe| 16705|\n",
      "|    crew cab| 15476|\n",
      "|       wagon| 15292|\n",
      "| convertible|  9729|\n",
      "|   supercrew|  7985|\n",
      "|     g sedan|  7118|\n",
      "|    supercab|  5094|\n",
      "| regular cab|  4784|\n",
      "|         van|  4202|\n",
      "|extended cab|  4195|\n",
      "|    quad cab|  3996|\n",
      "|e-series van|  1748|\n",
      "|  double cab|  1532|\n",
      "|     g coupe|  1483|\n",
      "| crewmax cab|   526|\n",
      "|    king cab|   495|\n",
      "+------------+------+\n",
      "only showing top 20 rows\n",
      "\n"
     ]
    },
    {
     "name": "stderr",
     "output_type": "stream",
     "text": [
      "24/06/21 21:10:37 WARN RowBasedKeyValueBatch: Calling spill() on RowBasedKeyValueBatch. Will not spill but return 0.\n",
      "24/06/21 21:10:37 WARN RowBasedKeyValueBatch: Calling spill() on RowBasedKeyValueBatch. Will not spill but return 0.\n",
      "24/06/21 21:10:37 WARN RowBasedKeyValueBatch: Calling spill() on RowBasedKeyValueBatch. Will not spill but return 0.\n",
      "24/06/21 21:10:38 WARN RowBasedKeyValueBatch: Calling spill() on RowBasedKeyValueBatch. Will not spill but return 0.\n",
      "24/06/21 21:10:38 WARN RowBasedKeyValueBatch: Calling spill() on RowBasedKeyValueBatch. Will not spill but return 0.\n",
      "24/06/21 21:10:38 WARN RowBasedKeyValueBatch: Calling spill() on RowBasedKeyValueBatch. Will not spill but return 0.\n",
      "24/06/21 21:10:39 WARN RowBasedKeyValueBatch: Calling spill() on RowBasedKeyValueBatch. Will not spill but return 0.\n",
      "24/06/21 21:10:39 WARN RowBasedKeyValueBatch: Calling spill() on RowBasedKeyValueBatch. Will not spill but return 0.\n",
      "24/06/21 21:10:39 WARN RowBasedKeyValueBatch: Calling spill() on RowBasedKeyValueBatch. Will not spill but return 0.\n",
      "24/06/21 21:10:39 WARN RowBasedKeyValueBatch: Calling spill() on RowBasedKeyValueBatch. Will not spill but return 0.\n",
      "24/06/21 21:10:39 WARN RowBasedKeyValueBatch: Calling spill() on RowBasedKeyValueBatch. Will not spill but return 0.\n",
      "24/06/21 21:10:39 WARN RowBasedKeyValueBatch: Calling spill() on RowBasedKeyValueBatch. Will not spill but return 0.\n",
      "24/06/21 21:10:39 WARN RowBasedKeyValueBatch: Calling spill() on RowBasedKeyValueBatch. Will not spill but return 0.\n",
      "24/06/21 21:10:39 WARN RowBasedKeyValueBatch: Calling spill() on RowBasedKeyValueBatch. Will not spill but return 0.\n",
      "24/06/21 21:10:39 WARN RowBasedKeyValueBatch: Calling spill() on RowBasedKeyValueBatch. Will not spill but return 0.\n",
      "24/06/21 21:10:40 WARN RowBasedKeyValueBatch: Calling spill() on RowBasedKeyValueBatch. Will not spill but return 0.\n",
      "24/06/21 21:10:40 WARN RowBasedKeyValueBatch: Calling spill() on RowBasedKeyValueBatch. Will not spill but return 0.\n",
      "24/06/21 21:10:40 WARN RowBasedKeyValueBatch: Calling spill() on RowBasedKeyValueBatch. Will not spill but return 0.\n",
      "24/06/21 21:10:42 WARN RowBasedKeyValueBatch: Calling spill() on RowBasedKeyValueBatch. Will not spill but return 0.\n",
      "24/06/21 21:10:42 WARN RowBasedKeyValueBatch: Calling spill() on RowBasedKeyValueBatch. Will not spill but return 0.\n",
      "24/06/21 21:10:42 WARN RowBasedKeyValueBatch: Calling spill() on RowBasedKeyValueBatch. Will not spill but return 0.\n",
      "                                                                                \r"
     ]
    },
    {
     "name": "stdout",
     "output_type": "stream",
     "text": [
      "+---------+------+\n",
      "|    color| count|\n",
      "+---------+------+\n",
      "|     lime|    15|\n",
      "|     pink|    38|\n",
      "|turquoise|   220|\n",
      "| charcoal|   469|\n",
      "|   yellow|  1250|\n",
      "|off-white|  1405|\n",
      "|   purple|  1506|\n",
      "|   orange|  1970|\n",
      "|    brown|  6496|\n",
      "| burgundy|  8572|\n",
      "|    beige|  8655|\n",
      "|     gold| 10355|\n",
      "|    green| 10438|\n",
      "|      red| 42154|\n",
      "|     blue| 49203|\n",
      "|   silver| 80342|\n",
      "|     gray| 81164|\n",
      "|    white|102325|\n",
      "|    black|107845|\n",
      "+---------+------+\n",
      "\n"
     ]
    },
    {
     "name": "stderr",
     "output_type": "stream",
     "text": [
      "24/06/21 21:11:18 WARN RowBasedKeyValueBatch: Calling spill() on RowBasedKeyValueBatch. Will not spill but return 0.\n",
      "24/06/21 21:11:18 WARN RowBasedKeyValueBatch: Calling spill() on RowBasedKeyValueBatch. Will not spill but return 0.\n",
      "24/06/21 21:11:18 WARN RowBasedKeyValueBatch: Calling spill() on RowBasedKeyValueBatch. Will not spill but return 0.\n",
      "24/06/21 21:11:19 WARN RowBasedKeyValueBatch: Calling spill() on RowBasedKeyValueBatch. Will not spill but return 0.\n",
      "24/06/21 21:11:19 WARN RowBasedKeyValueBatch: Calling spill() on RowBasedKeyValueBatch. Will not spill but return 0.\n",
      "24/06/21 21:11:19 WARN RowBasedKeyValueBatch: Calling spill() on RowBasedKeyValueBatch. Will not spill but return 0.\n",
      "24/06/21 21:11:19 WARN RowBasedKeyValueBatch: Calling spill() on RowBasedKeyValueBatch. Will not spill but return 0.\n",
      "24/06/21 21:11:19 WARN RowBasedKeyValueBatch: Calling spill() on RowBasedKeyValueBatch. Will not spill but return 0.\n",
      "24/06/21 21:11:19 WARN RowBasedKeyValueBatch: Calling spill() on RowBasedKeyValueBatch. Will not spill but return 0.\n",
      "24/06/21 21:11:20 WARN RowBasedKeyValueBatch: Calling spill() on RowBasedKeyValueBatch. Will not spill but return 0.\n",
      "24/06/21 21:11:20 WARN RowBasedKeyValueBatch: Calling spill() on RowBasedKeyValueBatch. Will not spill but return 0.\n",
      "24/06/21 21:11:20 WARN RowBasedKeyValueBatch: Calling spill() on RowBasedKeyValueBatch. Will not spill but return 0.\n",
      "24/06/21 21:11:20 WARN RowBasedKeyValueBatch: Calling spill() on RowBasedKeyValueBatch. Will not spill but return 0.\n",
      "24/06/21 21:11:20 WARN RowBasedKeyValueBatch: Calling spill() on RowBasedKeyValueBatch. Will not spill but return 0.\n",
      "24/06/21 21:11:20 WARN RowBasedKeyValueBatch: Calling spill() on RowBasedKeyValueBatch. Will not spill but return 0.\n",
      "24/06/21 21:11:21 WARN RowBasedKeyValueBatch: Calling spill() on RowBasedKeyValueBatch. Will not spill but return 0.\n",
      "24/06/21 21:11:21 WARN RowBasedKeyValueBatch: Calling spill() on RowBasedKeyValueBatch. Will not spill but return 0.\n",
      "24/06/21 21:11:21 WARN RowBasedKeyValueBatch: Calling spill() on RowBasedKeyValueBatch. Will not spill but return 0.\n",
      "24/06/21 21:11:22 WARN RowBasedKeyValueBatch: Calling spill() on RowBasedKeyValueBatch. Will not spill but return 0.\n",
      "24/06/21 21:11:22 WARN RowBasedKeyValueBatch: Calling spill() on RowBasedKeyValueBatch. Will not spill but return 0.\n",
      "24/06/21 21:11:22 WARN RowBasedKeyValueBatch: Calling spill() on RowBasedKeyValueBatch. Will not spill but return 0.\n",
      "                                                                                \r"
     ]
    },
    {
     "name": "stdout",
     "output_type": "stream",
     "text": [
      "+---------+------+\n",
      "| interior| count|\n",
      "+---------+------+\n",
      "|   yellow|    19|\n",
      "|   orange|   135|\n",
      "| burgundy|   171|\n",
      "|    green|   220|\n",
      "|    white|   230|\n",
      "|     gold|   298|\n",
      "|   purple|   317|\n",
      "|off-white|   342|\n",
      "|     blue|  1010|\n",
      "|   silver|  1035|\n",
      "|      red|  1293|\n",
      "|    brown|  7986|\n",
      "|      tan| 40373|\n",
      "|    beige| 56824|\n",
      "|     gray|169008|\n",
      "|    black|235161|\n",
      "+---------+------+\n",
      "\n"
     ]
    },
    {
     "name": "stderr",
     "output_type": "stream",
     "text": [
      "24/06/21 21:11:59 WARN RowBasedKeyValueBatch: Calling spill() on RowBasedKeyValueBatch. Will not spill but return 0.\n",
      "24/06/21 21:11:59 WARN RowBasedKeyValueBatch: Calling spill() on RowBasedKeyValueBatch. Will not spill but return 0.\n",
      "24/06/21 21:11:59 WARN RowBasedKeyValueBatch: Calling spill() on RowBasedKeyValueBatch. Will not spill but return 0.\n",
      "24/06/21 21:12:01 WARN RowBasedKeyValueBatch: Calling spill() on RowBasedKeyValueBatch. Will not spill but return 0.\n",
      "24/06/21 21:12:01 WARN RowBasedKeyValueBatch: Calling spill() on RowBasedKeyValueBatch. Will not spill but return 0.\n",
      "24/06/21 21:12:01 WARN RowBasedKeyValueBatch: Calling spill() on RowBasedKeyValueBatch. Will not spill but return 0.\n",
      "24/06/21 21:12:01 WARN RowBasedKeyValueBatch: Calling spill() on RowBasedKeyValueBatch. Will not spill but return 0.\n",
      "24/06/21 21:12:01 WARN RowBasedKeyValueBatch: Calling spill() on RowBasedKeyValueBatch. Will not spill but return 0.\n",
      "24/06/21 21:12:01 WARN RowBasedKeyValueBatch: Calling spill() on RowBasedKeyValueBatch. Will not spill but return 0.\n",
      "24/06/21 21:12:01 WARN RowBasedKeyValueBatch: Calling spill() on RowBasedKeyValueBatch. Will not spill but return 0.\n",
      "24/06/21 21:12:01 WARN RowBasedKeyValueBatch: Calling spill() on RowBasedKeyValueBatch. Will not spill but return 0.\n",
      "24/06/21 21:12:01 WARN RowBasedKeyValueBatch: Calling spill() on RowBasedKeyValueBatch. Will not spill but return 0.\n",
      "24/06/21 21:12:02 WARN RowBasedKeyValueBatch: Calling spill() on RowBasedKeyValueBatch. Will not spill but return 0.\n",
      "24/06/21 21:12:02 WARN RowBasedKeyValueBatch: Calling spill() on RowBasedKeyValueBatch. Will not spill but return 0.\n",
      "24/06/21 21:12:02 WARN RowBasedKeyValueBatch: Calling spill() on RowBasedKeyValueBatch. Will not spill but return 0.\n",
      "24/06/21 21:12:03 WARN RowBasedKeyValueBatch: Calling spill() on RowBasedKeyValueBatch. Will not spill but return 0.\n",
      "24/06/21 21:12:03 WARN RowBasedKeyValueBatch: Calling spill() on RowBasedKeyValueBatch. Will not spill but return 0.\n",
      "24/06/21 21:12:03 WARN RowBasedKeyValueBatch: Calling spill() on RowBasedKeyValueBatch. Will not spill but return 0.\n",
      "24/06/21 21:12:04 WARN RowBasedKeyValueBatch: Calling spill() on RowBasedKeyValueBatch. Will not spill but return 0.\n",
      "24/06/21 21:12:04 WARN RowBasedKeyValueBatch: Calling spill() on RowBasedKeyValueBatch. Will not spill but return 0.\n",
      "24/06/21 21:12:04 WARN RowBasedKeyValueBatch: Calling spill() on RowBasedKeyValueBatch. Will not spill but return 0.\n",
      "[Stage 4040:=================================================>      (8 + 1) / 9]\r"
     ]
    },
    {
     "name": "stdout",
     "output_type": "stream",
     "text": [
      "+------------+------+\n",
      "|transmission| count|\n",
      "+------------+------+\n",
      "|      manual| 32273|\n",
      "|   automatic|482149|\n",
      "+------------+------+\n",
      "\n"
     ]
    },
    {
     "name": "stderr",
     "output_type": "stream",
     "text": [
      "                                                                                \r"
     ]
    }
   ],
   "source": [
    "# Count each categorical value\n",
    "df.groupBy(\"make\").count().sort(\"count\").show()\n",
    "df.groupBy(\"model\").count().sort(desc(\"count\")).show(30)\n",
    "df.groupBy(\"body\").count().sort(desc(\"count\")).show()\n",
    "df.groupBy(\"color\").count().sort(\"count\").show()\n",
    "df.groupBy(\"interior\").count().sort(\"count\").show()\n",
    "df.groupBy(\"transmission\").count().sort(\"count\").show()"
   ]
  },
  {
   "cell_type": "markdown",
   "id": "fea837a7-0d9b-4848-a15e-9beff084e975",
   "metadata": {
    "jp-MarkdownHeadingCollapsed": true
   },
   "source": [
    "#### Body Type Categorization"
   ]
  },
  {
   "cell_type": "code",
   "execution_count": 13,
   "id": "7c27408a",
   "metadata": {},
   "outputs": [
    {
     "name": "stderr",
     "output_type": "stream",
     "text": [
      "24/06/20 23:59:17 WARN RowBasedKeyValueBatch: Calling spill() on RowBasedKeyValueBatch. Will not spill but return 0.\n",
      "24/06/20 23:59:17 WARN RowBasedKeyValueBatch: Calling spill() on RowBasedKeyValueBatch. Will not spill but return 0.\n",
      "24/06/20 23:59:17 WARN RowBasedKeyValueBatch: Calling spill() on RowBasedKeyValueBatch. Will not spill but return 0.\n",
      "24/06/20 23:59:19 WARN RowBasedKeyValueBatch: Calling spill() on RowBasedKeyValueBatch. Will not spill but return 0.\n",
      "24/06/20 23:59:19 WARN RowBasedKeyValueBatch: Calling spill() on RowBasedKeyValueBatch. Will not spill but return 0.\n",
      "24/06/20 23:59:19 WARN RowBasedKeyValueBatch: Calling spill() on RowBasedKeyValueBatch. Will not spill but return 0.\n",
      "24/06/20 23:59:20 WARN RowBasedKeyValueBatch: Calling spill() on RowBasedKeyValueBatch. Will not spill but return 0.\n",
      "24/06/20 23:59:20 WARN RowBasedKeyValueBatch: Calling spill() on RowBasedKeyValueBatch. Will not spill but return 0.\n",
      "24/06/20 23:59:20 WARN RowBasedKeyValueBatch: Calling spill() on RowBasedKeyValueBatch. Will not spill but return 0.\n",
      "24/06/20 23:59:20 WARN RowBasedKeyValueBatch: Calling spill() on RowBasedKeyValueBatch. Will not spill but return 0.\n",
      "24/06/20 23:59:20 WARN RowBasedKeyValueBatch: Calling spill() on RowBasedKeyValueBatch. Will not spill but return 0.\n",
      "24/06/20 23:59:20 WARN RowBasedKeyValueBatch: Calling spill() on RowBasedKeyValueBatch. Will not spill but return 0.\n",
      "24/06/20 23:59:21 WARN RowBasedKeyValueBatch: Calling spill() on RowBasedKeyValueBatch. Will not spill but return 0.\n",
      "24/06/20 23:59:21 WARN RowBasedKeyValueBatch: Calling spill() on RowBasedKeyValueBatch. Will not spill but return 0.\n",
      "24/06/20 23:59:21 WARN RowBasedKeyValueBatch: Calling spill() on RowBasedKeyValueBatch. Will not spill but return 0.\n",
      "24/06/20 23:59:24 WARN RowBasedKeyValueBatch: Calling spill() on RowBasedKeyValueBatch. Will not spill but return 0.\n",
      "24/06/20 23:59:24 WARN RowBasedKeyValueBatch: Calling spill() on RowBasedKeyValueBatch. Will not spill but return 0.\n",
      "24/06/20 23:59:24 WARN RowBasedKeyValueBatch: Calling spill() on RowBasedKeyValueBatch. Will not spill but return 0.\n",
      "24/06/20 23:59:25 WARN RowBasedKeyValueBatch: Calling spill() on RowBasedKeyValueBatch. Will not spill but return 0.\n",
      "24/06/20 23:59:25 WARN RowBasedKeyValueBatch: Calling spill() on RowBasedKeyValueBatch. Will not spill but return 0.\n",
      "24/06/20 23:59:25 WARN RowBasedKeyValueBatch: Calling spill() on RowBasedKeyValueBatch. Will not spill but return 0.\n",
      "[Stage 41:===================================================>      (8 + 1) / 9]\r"
     ]
    },
    {
     "name": "stdout",
     "output_type": "stream",
     "text": [
      "+-----------+------+\n",
      "|  body_type| count|\n",
      "+-----------+------+\n",
      "|      sedan|236630|\n",
      "|        suv|134152|\n",
      "|        cab| 44714|\n",
      "|  hatchback| 24652|\n",
      "|    minivan| 23739|\n",
      "|      coupe| 18866|\n",
      "|      wagon| 15340|\n",
      "|convertible| 10113|\n",
      "|        van|  6025|\n",
      "|       koup|   191|\n",
      "+-----------+------+\n",
      "\n"
     ]
    },
    {
     "name": "stderr",
     "output_type": "stream",
     "text": [
      "                                                                                \r"
     ]
    }
   ],
   "source": [
    "# Body Type Categorization\n",
    "df = df.withColumn(\n",
    "    \"body_type\",\n",
    "     when(col(\"body\").like(\"%cab%\"), \"cab\")\n",
    "    .when(col(\"body\").like(\"%suv%\"), \"suv\")\n",
    "    .when(col(\"body\").like(\"%sedan%\"), \"sedan\")\n",
    "    .when(col(\"body\").like(\"%hatchback%\"), \"hatchback\")\n",
    "    .when(col(\"body\") == \"minivan\", \"minivan\")\n",
    "    .when(col(\"body\").like(\"%van%\"), \"van\")\n",
    "    .when(col(\"body\") == \"supercrew\", \"cab\")\n",
    "    .when(col(\"body\").like(\"%coupe%\"), \"coupe\")\n",
    "    .when(col(\"body\").like(\"%wagon%\"), \"wagon\")\n",
    "    .when(col(\"body\").like(\"%convertible%\"), \"convertible\")\n",
    "    .when(col(\"body\").like(\"%koup%\"), \"koup\")\n",
    ")\n",
    "df.groupBy(\"body_type\").count().sort(desc(\"count\")).show()"
   ]
  },
  {
   "cell_type": "code",
   "execution_count": 16,
   "id": "ad9ffa59",
   "metadata": {},
   "outputs": [
    {
     "name": "stderr",
     "output_type": "stream",
     "text": [
      "24/06/20 21:33:23 WARN RowBasedKeyValueBatch: Calling spill() on RowBasedKeyValueBatch. Will not spill but return 0.\n",
      "24/06/20 21:33:23 WARN RowBasedKeyValueBatch: Calling spill() on RowBasedKeyValueBatch. Will not spill but return 0.\n",
      "24/06/20 21:33:26 WARN RowBasedKeyValueBatch: Calling spill() on RowBasedKeyValueBatch. Will not spill but return 0.\n",
      "24/06/20 21:33:26 WARN RowBasedKeyValueBatch: Calling spill() on RowBasedKeyValueBatch. Will not spill but return 0.\n",
      "24/06/20 21:33:26 WARN RowBasedKeyValueBatch: Calling spill() on RowBasedKeyValueBatch. Will not spill but return 0.\n",
      "24/06/20 21:33:26 WARN RowBasedKeyValueBatch: Calling spill() on RowBasedKeyValueBatch. Will not spill but return 0.\n",
      "24/06/20 21:33:28 WARN RowBasedKeyValueBatch: Calling spill() on RowBasedKeyValueBatch. Will not spill but return 0.\n",
      "24/06/20 21:33:28 WARN RowBasedKeyValueBatch: Calling spill() on RowBasedKeyValueBatch. Will not spill but return 0.\n",
      "24/06/20 21:33:30 WARN RowBasedKeyValueBatch: Calling spill() on RowBasedKeyValueBatch. Will not spill but return 0.\n",
      "24/06/20 21:33:30 WARN RowBasedKeyValueBatch: Calling spill() on RowBasedKeyValueBatch. Will not spill but return 0.\n",
      "                                                                                \r"
     ]
    },
    {
     "data": {
      "text/plain": [
       "514422"
      ]
     },
     "execution_count": 16,
     "metadata": {},
     "output_type": "execute_result"
    }
   ],
   "source": [
    "# Count remaining data\n",
    "df.count()"
   ]
  },
  {
   "cell_type": "code",
   "execution_count": 13,
   "id": "b54a7d0d",
   "metadata": {},
   "outputs": [
    {
     "name": "stdout",
     "output_type": "stream",
     "text": [
      "root\n",
      " |-- year: integer (nullable = true)\n",
      " |-- make: string (nullable = true)\n",
      " |-- model: string (nullable = true)\n",
      " |-- trim: string (nullable = true)\n",
      " |-- body: string (nullable = true)\n",
      " |-- transmission: string (nullable = true)\n",
      " |-- vin: string (nullable = true)\n",
      " |-- state: string (nullable = true)\n",
      " |-- condition: double (nullable = true)\n",
      " |-- odometer: integer (nullable = true)\n",
      " |-- color: string (nullable = true)\n",
      " |-- interior: string (nullable = true)\n",
      " |-- seller: string (nullable = true)\n",
      " |-- mmr: double (nullable = true)\n",
      " |-- sellingprice: double (nullable = true)\n",
      " |-- saledate: string (nullable = true)\n",
      "\n"
     ]
    }
   ],
   "source": [
    "df.printSchema()"
   ]
  },
  {
   "cell_type": "code",
   "execution_count": 80,
   "id": "0e11a874",
   "metadata": {},
   "outputs": [
    {
     "name": "stderr",
     "output_type": "stream",
     "text": [
      "24/06/21 09:11:34 WARN SparkStringUtils: Truncated the string representation of a plan since it was too large. This behavior can be adjusted by setting 'spark.sql.debug.maxToStringFields'.\n",
      "24/06/21 09:12:01 WARN RowBasedKeyValueBatch: Calling spill() on RowBasedKeyValueBatch. Will not spill but return 0.\n",
      "24/06/21 09:12:01 WARN RowBasedKeyValueBatch: Calling spill() on RowBasedKeyValueBatch. Will not spill but return 0.\n",
      "24/06/21 09:12:03 WARN RowBasedKeyValueBatch: Calling spill() on RowBasedKeyValueBatch. Will not spill but return 0.\n",
      "24/06/21 09:12:03 WARN RowBasedKeyValueBatch: Calling spill() on RowBasedKeyValueBatch. Will not spill but return 0.\n",
      "24/06/21 09:12:03 WARN RowBasedKeyValueBatch: Calling spill() on RowBasedKeyValueBatch. Will not spill but return 0.\n",
      "24/06/21 09:12:03 WARN RowBasedKeyValueBatch: Calling spill() on RowBasedKeyValueBatch. Will not spill but return 0.\n",
      "24/06/21 09:12:04 WARN RowBasedKeyValueBatch: Calling spill() on RowBasedKeyValueBatch. Will not spill but return 0.\n",
      "24/06/21 09:12:04 WARN RowBasedKeyValueBatch: Calling spill() on RowBasedKeyValueBatch. Will not spill but return 0.\n",
      "24/06/21 09:12:07 WARN RowBasedKeyValueBatch: Calling spill() on RowBasedKeyValueBatch. Will not spill but return 0.\n",
      "24/06/21 09:12:07 WARN RowBasedKeyValueBatch: Calling spill() on RowBasedKeyValueBatch. Will not spill but return 0.\n",
      "24/06/21 09:12:17 WARN RowBasedKeyValueBatch: Calling spill() on RowBasedKeyValueBatch. Will not spill but return 0.\n",
      "24/06/21 09:12:17 WARN RowBasedKeyValueBatch: Calling spill() on RowBasedKeyValueBatch. Will not spill but return 0.\n",
      "[Stage 40576:>                                                      (0 + 1) / 1]\r"
     ]
    },
    {
     "name": "stdout",
     "output_type": "stream",
     "text": [
      "+-------+------------------+------+-----------------+------------------+----------+-----------------+------+------------------+------------------+------+--------+--------------------+------------------+-----------------+--------------------+------------+---------+-------------------+------------------+-----------------+--------------------+\n",
      "|summary|              year|  make|            model|              trim|      body|              vin| state|         condition|          odometer| color|interior|              seller|               mmr|     sellingprice|            saledate|transmission|body_type|     saledate_clean|       vehicle_age|   price_mmr_diff|             z_score|\n",
      "+-------+------------------+------+-----------------+------------------+----------+-----------------+------+------------------+------------------+------+--------+--------------------+------------------+-----------------+--------------------+------------+---------+-------------------+------------------+-----------------+--------------------+\n",
      "|  count|            514256|514256|           514256|            514256|    514256|           514256|514256|            514256|            514256|514256|  514256|              514256|            514256|           514256|              514256|      514256|   514256|             514256|            514256|           514256|              514256|\n",
      "|   mean|2010.1671949379297|  NULL|799.5010134081697|357.72569231976206|      NULL|             NULL|  NULL| 3.423975218567966| 66995.28395196167|  NULL|    NULL|                NULL|13773.350481083351|13623.69378286301|                NULL|        NULL|     NULL|               NULL| 4.756710665505118|1073.543560016801|9.948173083975143...|\n",
      "| stddev|3.8310280528817873|  NULL| 808.123565696528| 837.5216958266622|      NULL|             NULL|  NULL|0.9417796176482492|52206.461931333804|  NULL|    NULL|                NULL|  9449.61080363217|9522.071775408725|                NULL|        NULL|     NULL|               NULL|3.8278759234354904|1351.772554528857|  1.0000000000000007|\n",
      "|    min|              1990| acura|         1 series|                 !|access cab|137za84341e193591|    ab|               1.0|                 1| beige|   beige|\"enterprise vehic...|                25|                1|Fri Apr 03 2015 0...|   automatic|      cab|2014-01-01 09:15:00|                 0|                0|  -0.794174697821832|\n",
      "|    25%|              2008|  NULL|            200.0|               2.5|      NULL|             NULL|  NULL|               2.7|             28337|  NULL|    NULL|                NULL|              7400|             7200|                NULL|        NULL|     NULL|               NULL|                 2|              300| -0.5722438715190586|\n",
      "|    50%|              2012|  NULL|            300.0|               2.5|      NULL|             NULL|  NULL|               3.6|             51267|  NULL|    NULL|                NULL|             12300|            12200|                NULL|        NULL|     NULL|               NULL|                 3|              700|-0.27633610311536083|\n",
      "|    75%|              2013|  NULL|           1500.0|               3.5|      NULL|             NULL|  NULL|               4.2|             96774|  NULL|    NULL|                NULL|             18200|            18100|                NULL|        NULL|     NULL|               NULL|                 7|             1400| 0.24150249159111037|\n",
      "|    max|              2015| volvo|           zephyr|         xDrive50i|   xtracab|zhwgu22t97la05738|    wi|               5.0|            999999|yellow|  yellow|      zygi auto corp|            182000|           230000|Wed May 27 2015 1...|      manual|    wagon|2015-07-21 02:30:00|                25|           207200|  152.48604933529364|\n",
      "+-------+------------------+------+-----------------+------------------+----------+-----------------+------+------------------+------------------+------+--------+--------------------+------------------+-----------------+--------------------+------------+---------+-------------------+------------------+-----------------+--------------------+\n",
      "\n"
     ]
    },
    {
     "name": "stderr",
     "output_type": "stream",
     "text": [
      "                                                                                \r"
     ]
    }
   ],
   "source": [
    "df.summary().show()"
   ]
  },
  {
   "cell_type": "code",
   "execution_count": 15,
   "id": "5d22f2aa-6cf8-4fb8-9314-54fa00fe0ede",
   "metadata": {},
   "outputs": [
    {
     "name": "stdout",
     "output_type": "stream",
     "text": [
      "+----+----+-----+----+----+------------+---+-----+---------+--------+-----+--------+------+---+------------+--------+\n",
      "|year|make|model|trim|body|transmission|vin|state|condition|odometer|color|interior|seller|mmr|sellingprice|saledate|\n",
      "+----+----+-----+----+----+------------+---+-----+---------+--------+-----+--------+------+---+------------+--------+\n",
      "+----+----+-----+----+----+------------+---+-----+---------+--------+-----+--------+------+---+------------+--------+\n",
      "\n"
     ]
    }
   ],
   "source": [
    "df = df.filter(df.sellingprice > 1)\n",
    "df.select('*').where(df.sellingprice <= 1).show()"
   ]
  },
  {
   "cell_type": "markdown",
   "id": "a4b0e655",
   "metadata": {},
   "source": [
    "# EDA"
   ]
  },
  {
   "cell_type": "code",
   "execution_count": 76,
   "id": "0bdee73f",
   "metadata": {},
   "outputs": [
    {
     "name": "stdout",
     "output_type": "stream",
     "text": [
      "root\n",
      " |-- year: integer (nullable = true)\n",
      " |-- make: string (nullable = true)\n",
      " |-- model: string (nullable = true)\n",
      " |-- trim: string (nullable = true)\n",
      " |-- body: string (nullable = true)\n",
      " |-- vin: string (nullable = true)\n",
      " |-- state: string (nullable = true)\n",
      " |-- condition: double (nullable = true)\n",
      " |-- odometer: integer (nullable = true)\n",
      " |-- color: string (nullable = true)\n",
      " |-- interior: string (nullable = true)\n",
      " |-- seller: string (nullable = true)\n",
      " |-- mmr: double (nullable = true)\n",
      " |-- sellingprice: double (nullable = true)\n",
      " |-- saledate: string (nullable = true)\n",
      " |-- transmission: string (nullable = true)\n",
      " |-- saledate_clean: string (nullable = true)\n",
      " |-- vehicle_age: integer (nullable = true)\n",
      " |-- price_mmr_diff: double (nullable = true)\n",
      " |-- z_score: double (nullable = true)\n",
      "\n"
     ]
    }
   ],
   "source": [
    "df.printSchema()"
   ]
  },
  {
   "cell_type": "markdown",
   "id": "5669408f-1072-4d18-9a0b-a228717a08d9",
   "metadata": {
    "jp-MarkdownHeadingCollapsed": true
   },
   "source": [
    "#### Average Car Price for each transmission"
   ]
  },
  {
   "cell_type": "code",
   "execution_count": 43,
   "id": "c0424af4",
   "metadata": {},
   "outputs": [
    {
     "name": "stdout",
     "output_type": "stream",
     "text": [
      "+------------+--------+\n",
      "|transmission| avg_mmr|\n",
      "+------------+--------+\n",
      "|   automatic|13918.45|\n",
      "|      manual|11679.29|\n",
      "+------------+--------+\n",
      "\n"
     ]
    }
   ],
   "source": [
    "# Harga rata-rata per transmission\n",
    "df.groupBy('transmission').agg(round(avg('mmr'), 2).alias('avg_mmr')).show()"
   ]
  },
  {
   "cell_type": "markdown",
   "id": "13274d38-5a6f-48b7-8a62-7a0d20dd18e8",
   "metadata": {
    "jp-MarkdownHeadingCollapsed": true
   },
   "source": [
    "#### Average Car Price for each body type"
   ]
  },
  {
   "cell_type": "code",
   "execution_count": 29,
   "id": "9b0822a5",
   "metadata": {},
   "outputs": [
    {
     "name": "stdout",
     "output_type": "stream",
     "text": [
      "+-----------+--------+\n",
      "|  body_type| avg_mmr|\n",
      "+-----------+--------+\n",
      "|        van|15230.75|\n",
      "|      wagon| 9993.74|\n",
      "|    minivan|11456.85|\n",
      "|      coupe|16239.33|\n",
      "|        suv|16103.16|\n",
      "|convertible|17669.69|\n",
      "|       koup| 9768.79|\n",
      "|      sedan|11859.07|\n",
      "|  hatchback| 10092.7|\n",
      "|        cab|18153.23|\n",
      "+-----------+--------+\n",
      "\n"
     ]
    }
   ],
   "source": [
    "# Harga rata-rata per body_type\n",
    "df.groupBy('body_type').agg(round(avg('mmr'), 2).alias('avg_mmr')).show()"
   ]
  },
  {
   "cell_type": "markdown",
   "id": "edbc1e45-7fbc-4ea2-9e3a-4f9fe95452aa",
   "metadata": {
    "jp-MarkdownHeadingCollapsed": true
   },
   "source": [
    "#### (MMR - Selling Price Average) Price per Transmission"
   ]
  },
  {
   "cell_type": "code",
   "execution_count": 42,
   "id": "db0aa33d",
   "metadata": {},
   "outputs": [
    {
     "name": "stdout",
     "output_type": "stream",
     "text": [
      "+------------+--------------------+\n",
      "|transmission|avg_price_difference|\n",
      "+------------+--------------------+\n",
      "|   automatic|              141.21|\n",
      "|      manual|              278.43|\n",
      "+------------+--------------------+\n",
      "\n"
     ]
    }
   ],
   "source": [
    "# Selisih harga mmr dan selling price per transmission\n",
    "df.groupBy('transmission').agg(round(avg(col('mmr') - col('sellingprice')),2).alias('avg_price_difference')).show()"
   ]
  },
  {
   "cell_type": "markdown",
   "id": "6af6815f-1586-415a-b277-e75e797e079c",
   "metadata": {
    "jp-MarkdownHeadingCollapsed": true
   },
   "source": [
    "#### Total Car Count Each Year & Distribution Chart"
   ]
  },
  {
   "cell_type": "code",
   "execution_count": 57,
   "id": "4facb9fa",
   "metadata": {},
   "outputs": [
    {
     "name": "stdout",
     "output_type": "stream",
     "text": [
      "+----+-----+\n",
      "|year|count|\n",
      "+----+-----+\n",
      "|1990|   30|\n",
      "|1991|   46|\n",
      "|1992|   87|\n",
      "|1993|  115|\n",
      "|1994|  257|\n",
      "|1995|  440|\n",
      "|1996|  530|\n",
      "|1997|  967|\n",
      "|1998| 1379|\n",
      "|1999| 2097|\n",
      "|2000| 3229|\n",
      "|2001| 4924|\n",
      "|2002| 7325|\n",
      "|2003| 9980|\n",
      "|2004|13063|\n",
      "|2005|16510|\n",
      "|2006|20823|\n",
      "|2007|24554|\n",
      "|2008|26091|\n",
      "|2009|17312|\n",
      "|2010|21655|\n",
      "|2011|38596|\n",
      "|2012|79779|\n",
      "|2013|80574|\n",
      "|2014|62626|\n",
      "|2015| 7414|\n",
      "+----+-----+\n",
      "\n"
     ]
    }
   ],
   "source": [
    "# Jumlah mobil berdasarkan tahun\n",
    "df.select('year').groupBy('year').count().sort('year').show(26)"
   ]
  },
  {
   "cell_type": "code",
   "execution_count": 43,
   "id": "3b206132",
   "metadata": {},
   "outputs": [],
   "source": [
    "import seaborn as sns\n",
    "import matplotlib.pyplot as plt\n",
    "import matplotlib.patches as mpatches"
   ]
  },
  {
   "cell_type": "code",
   "execution_count": 149,
   "id": "c4583068",
   "metadata": {},
   "outputs": [
    {
     "data": {
      "image/png": "[encoded data removed]",
      "text/plain": [
       "<Figure size 800x600 with 1 Axes>"
      ]
     },
     "metadata": {},
     "output_type": "display_data"
    }
   ],
   "source": [
    "df_pd = df.select('year').toPandas()\n",
    "plt.figure(figsize=(8, 6))\n",
    "sns.histplot(data=df_pd, x='year', bins=26)\n",
    "plt.title('Year Distribution')\n",
    "plt.xlabel('Year')\n",
    "plt.ylabel('Frequency')\n",
    "\n",
    "plt.show()"
   ]
  },
  {
   "cell_type": "markdown",
   "id": "de99735c-6c75-40b4-a5a6-261669715a78",
   "metadata": {
    "jp-MarkdownHeadingCollapsed": true
   },
   "source": [
    "#### Finding Vehicle Age"
   ]
  },
  {
   "cell_type": "code",
   "execution_count": 60,
   "id": "6ebe93c8",
   "metadata": {},
   "outputs": [],
   "source": [
    "df_2 = df.withColumn('saledate_clean', regexp_replace(col('saledate'), ' GMT.*', ''))"
   ]
  },
  {
   "cell_type": "code",
   "execution_count": 61,
   "id": "2c1a0864",
   "metadata": {},
   "outputs": [],
   "source": [
    "# Convert the cleaned date string to a timestamp and then to a date\n",
    "df_2 = df_2.withColumn('saledate_clean', from_unixtime(unix_timestamp(col('saledate_clean'), 'EEE MMM dd yyyy HH:mm:ss')))\n",
    "\n",
    "# Calculate vehicle_age\n",
    "df_2 = df_2.withColumn('vehicle_age', year(col('saledate_clean')) - col('year'))"
   ]
  },
  {
   "cell_type": "code",
   "execution_count": 62,
   "id": "be8d8019",
   "metadata": {},
   "outputs": [
    {
     "name": "stderr",
     "output_type": "stream",
     "text": [
      "                                                                                \r"
     ]
    },
    {
     "data": {
      "text/plain": [
       "166"
      ]
     },
     "execution_count": 62,
     "metadata": {},
     "output_type": "execute_result"
    }
   ],
   "source": [
    "df_2.select('year', 'saledate_clean').where(col('year') > year(col('saledate_clean'))).count()"
   ]
  },
  {
   "cell_type": "code",
   "execution_count": 63,
   "id": "ad23b2c5",
   "metadata": {},
   "outputs": [],
   "source": [
    "# Merging cleaned date in df_2 to original df\n",
    "df = df_2.filter(col('year') <= year(col('saledate_clean')))"
   ]
  },
  {
   "cell_type": "code",
   "execution_count": 64,
   "id": "858343d8",
   "metadata": {},
   "outputs": [
    {
     "name": "stderr",
     "output_type": "stream",
     "text": [
      "24/06/21 21:14:25 WARN RowBasedKeyValueBatch: Calling spill() on RowBasedKeyValueBatch. Will not spill but return 0.\n",
      "24/06/21 21:14:25 WARN RowBasedKeyValueBatch: Calling spill() on RowBasedKeyValueBatch. Will not spill but return 0.\n",
      "24/06/21 21:14:26 WARN RowBasedKeyValueBatch: Calling spill() on RowBasedKeyValueBatch. Will not spill but return 0.\n",
      "24/06/21 21:14:26 WARN RowBasedKeyValueBatch: Calling spill() on RowBasedKeyValueBatch. Will not spill but return 0.\n",
      "24/06/21 21:14:27 WARN RowBasedKeyValueBatch: Calling spill() on RowBasedKeyValueBatch. Will not spill but return 0.\n",
      "24/06/21 21:14:27 WARN RowBasedKeyValueBatch: Calling spill() on RowBasedKeyValueBatch. Will not spill but return 0.\n",
      "24/06/21 21:14:27 WARN RowBasedKeyValueBatch: Calling spill() on RowBasedKeyValueBatch. Will not spill but return 0.\n",
      "24/06/21 21:14:27 WARN RowBasedKeyValueBatch: Calling spill() on RowBasedKeyValueBatch. Will not spill but return 0.\n",
      "24/06/21 21:14:30 WARN RowBasedKeyValueBatch: Calling spill() on RowBasedKeyValueBatch. Will not spill but return 0.\n",
      "24/06/21 21:14:30 WARN RowBasedKeyValueBatch: Calling spill() on RowBasedKeyValueBatch. Will not spill but return 0.\n",
      "24/06/21 21:14:31 WARN RowBasedKeyValueBatch: Calling spill() on RowBasedKeyValueBatch. Will not spill but return 0.\n",
      "24/06/21 21:14:31 WARN RowBasedKeyValueBatch: Calling spill() on RowBasedKeyValueBatch. Will not spill but return 0.\n",
      "[Stage 4070:=================================================>      (8 + 1) / 9]\r"
     ]
    },
    {
     "name": "stdout",
     "output_type": "stream",
     "text": [
      "+----+--------------------+-----------+\n",
      "|year|year(saledate_clean)|vehicle_age|\n",
      "+----+--------------------+-----------+\n",
      "|1990|                2015|         25|\n",
      "|1990|                2015|         25|\n",
      "|1990|                2015|         25|\n",
      "|1990|                2015|         25|\n",
      "|1990|                2015|         25|\n",
      "|1990|                2015|         25|\n",
      "|1990|                2015|         25|\n",
      "|1990|                2015|         25|\n",
      "|1990|                2015|         25|\n",
      "|1990|                2015|         25|\n",
      "|1990|                2015|         25|\n",
      "|1990|                2015|         25|\n",
      "|1990|                2014|         24|\n",
      "|1990|                2015|         25|\n",
      "|1990|                2015|         25|\n",
      "|1990|                2015|         25|\n",
      "|1990|                2015|         25|\n",
      "|1990|                2014|         24|\n",
      "|1990|                2015|         25|\n",
      "|1990|                2015|         25|\n",
      "+----+--------------------+-----------+\n",
      "only showing top 20 rows\n",
      "\n"
     ]
    },
    {
     "name": "stderr",
     "output_type": "stream",
     "text": [
      "                                                                                \r"
     ]
    }
   ],
   "source": [
    "df.select(['year', year(col('saledate_clean')), 'vehicle_age']).sort('year').show()"
   ]
  },
  {
   "cell_type": "markdown",
   "id": "1c64eaff-31bb-4c41-bc59-f0ea43731c8a",
   "metadata": {
    "jp-MarkdownHeadingCollapsed": true
   },
   "source": [
    "#### Average Vehicle Age per Year"
   ]
  },
  {
   "cell_type": "code",
   "execution_count": 150,
   "id": "aeda3b76",
   "metadata": {},
   "outputs": [
    {
     "name": "stdout",
     "output_type": "stream",
     "text": [
      "+----+------------------+\n",
      "|year|   avg_vehicle_age|\n",
      "+----+------------------+\n",
      "|1990|              24.9|\n",
      "|1991|23.869565217391305|\n",
      "|1992|22.816091954022987|\n",
      "|1993|21.904347826086955|\n",
      "|1994|20.894941634241246|\n",
      "|1995| 19.87272727272727|\n",
      "|1996| 18.88867924528302|\n",
      "|1997|17.890382626680456|\n",
      "|1998|  16.9108049311095|\n",
      "|1999|15.901287553648068|\n",
      "|2000|14.906472592133788|\n",
      "|2001|13.908813972380178|\n",
      "|2002|12.900750853242322|\n",
      "|2003| 11.90941883767535|\n",
      "|2004|10.907218862435888|\n",
      "|2005| 9.910054512416718|\n",
      "|2006| 8.907602170676656|\n",
      "|2007| 7.909709212348294|\n",
      "|2008| 6.912421907937603|\n",
      "|2009| 5.907116451016636|\n",
      "+----+------------------+\n",
      "only showing top 20 rows\n",
      "\n"
     ]
    }
   ],
   "source": [
    "df.groupBy('year').agg(avg('vehicle_age').alias('avg_vehicle_age')).sort('year').show()"
   ]
  },
  {
   "cell_type": "markdown",
   "id": "72fdf41b",
   "metadata": {
    "jp-MarkdownHeadingCollapsed": true
   },
   "source": [
    "## Correlation Matrix"
   ]
  },
  {
   "cell_type": "code",
   "execution_count": 44,
   "id": "1230889d",
   "metadata": {},
   "outputs": [],
   "source": [
    "from pyspark.sql.types import *\n",
    "from pyspark.ml.feature import StringIndexer\n",
    "from pyspark.ml.feature import VectorAssembler\n",
    "from pyspark.ml.feature import VectorIndexer\n",
    "from pyspark.ml import Pipeline"
   ]
  },
  {
   "cell_type": "code",
   "execution_count": 161,
   "id": "e5eb79e2",
   "metadata": {},
   "outputs": [
    {
     "name": "stderr",
     "output_type": "stream",
     "text": [
      "[Stage 582:============================>                            (4 + 4) / 8]\r"
     ]
    },
    {
     "name": "stdout",
     "output_type": "stream",
     "text": [
      "+----+-------------+---------------+---------------+---------+------------+-----------------+-----+---------+--------+--------+--------+--------------------+-----+------------+--------------------+---------+-------------------+-----------+--------+---------+----------------+---------+-------------+\n",
      "|year|         make|          model|           trim|     body|transmission|              vin|state|condition|odometer|   color|interior|              seller|  mmr|sellingprice|            saledate|body_type|     saledate_clean|vehicle_age|make_idx|model_idx|transmission_idx|color_idx|body_type_idx|\n",
      "+----+-------------+---------------+---------------+---------+------------+-----------------+-----+---------+--------+--------+--------+--------------------+-----+------------+--------------------+---------+-------------------+-----------+--------+---------+----------------+---------+-------------+\n",
      "|2013|    chevrolet|          cruze|            1LT|    sedan|   automatic|1g1pc5sb9d7167061|   va|      2.8| 29322.0|     red|    gray|fiserv/citizens a...|11200|       10200|Mon Dec 22 2014 0...|    sedan|2014-12-22 09:30:00|          1|     1.0|     16.0|             0.0|      5.0|          0.0|\n",
      "|2008|          gmc|         acadia|          SLT-2|      suv|   automatic|1gker33768j202809|   tx|      2.9| 97458.0|    gray|   black|ford motor credit...|12250|       11000|Tue Dec 23 2014 1...|      suv|2014-12-23 14:00:00|          6|    15.0|     68.0|             0.0|      3.0|          1.0|\n",
      "|2005|       nissan|         maxima|         3.5 SL|    sedan|   automatic|1n4ba41e25c827484|   va|      2.5|118589.0|    blue|   black|dt credit corpora...| 3700|        3800|Thu Jan 22 2015 0...|    sedan|2015-01-22 01:05:00|         10|     2.0|     19.0|             0.0|      4.0|          0.0|\n",
      "|2007|       hummer|             h3|           Base|      suv|   automatic|5gtdn13ex78160245|   fl|      3.9|107497.0|burgundy|   black|mercedes benz of ...|11400|       12700|Thu Dec 18 2014 1...|      suv|2014-12-18 16:20:00|          7|    35.0|    200.0|             0.0|      8.0|          1.0|\n",
      "|2004|      hyundai|         accent|             GL|    sedan|   automatic|kmhcg45c74u517860|   ca|      2.1| 85336.0|   green|   beige| aaero sweet company| 1225|        1800|Wed Dec 31 2014 1...|    sedan|2014-12-31 11:30:00|         10|     6.0|     64.0|             0.0|      7.0|          0.0|\n",
      "|2009|       toyota|         sienna|XLE 7-Passenger|  minivan|   automatic|5tdzk22c39s233823|   fl|      2.4| 79873.0|    gray|    gray|         palm toyota|12750|       10500|Wed Jan 07 2015 1...|  minivan|2015-01-07 16:15:00|          6|     3.0|     47.0|             0.0|      3.0|          4.0|\n",
      "|2013|        honda|        insight|             EX|hatchback|   automatic|jhmze2h78ds000083|   ca|      2.4| 31019.0|   white|    gray|ahfc/honda lease ...|13450|       11200|Thu Dec 18 2014 1...|hatchback|2014-12-18 12:00:00|          1|     5.0|    286.0|             0.0|      1.0|          3.0|\n",
      "|2012|          ram|           1500|            SLT| quad cab|   automatic|1c6rd7gp3cs292718|   md|      3.2| 26199.0|   black|   black|    chrysler capital|21600|       22600|Tue Dec 30 2014 0...|      cab|2014-12-30 09:30:00|          2|    23.0|     40.0|             0.0|      0.0|          2.0|\n",
      "|2010|        honda|        odyssey|             LX|  minivan|   automatic|5fnrl3h27ab080213|   ca|      2.7| 79116.0|   white|     tan|high bid trading ...| 9825|       12500|Wed Dec 17 2014 1...|  minivan|2014-12-17 12:15:00|          4|     5.0|     37.0|             0.0|      1.0|          4.0|\n",
      "|2014|         ford|          focus|             SE|hatchback|   automatic|1fadp3k27el150647|   ga|        2| 24432.0|  silver|   black|enterprise vehicl...|12500|        8700|Thu Jan 08 2015 1...|hatchback|2015-01-08 12:30:00|          1|     0.0|      6.0|             0.0|      2.0|          3.0|\n",
      "|2007|       saturn|           aura|             XE|    sedan|   automatic|1g8zs57n27f208351|   ca|      3.8|118943.0|   white|   beige|          valley kia| 3800|        3800|Thu Dec 18 2014 1...|    sedan|2014-12-18 12:00:00|          7|    27.0|    193.0|             0.0|      1.0|          0.0|\n",
      "|2011|mercedes-benz|        e-class|           E550|    sedan|   automatic|wddhf7cb8ba296721|   fl|      3.5| 43514.0|   white|   brown|mercedes-benz fin...|25600|       27600|Thu Dec 18 2014 0...|    sedan|2014-12-18 09:30:00|          3|    12.0|     41.0|             0.0|      1.0|          0.0|\n",
      "|2012|mercedes-benz|        m-class|  ML350 BlueTEC|      suv|   automatic|4jgda2eb1ca074994|   ca|      4.3| 45365.0|    gray|    gray| land rover san jose|35100|       35000|Tue Jan 06 2015 1...|      suv|2015-01-06 12:30:00|          3|    12.0|     82.0|             0.0|      3.0|          1.0|\n",
      "|2013|         ford|transit connect|  Cargo Van XLT|  minivan|   automatic|nm0ls7dn8dt148923|   tx|      4.7|  4551.0|   white|    gray|enterprise fleet ...|17200|       17000|Wed Dec 31 2014 1...|  minivan|2014-12-31 10:00:00|          1|     0.0|    167.0|             0.0|      1.0|          4.0|\n",
      "|2008|          gmc|       yukon xl|         Denali|      suv|   automatic|1gkfk66808j174939|   co|      2.5|103200.0|   black|   black|  dtg operations inc|16850|       17500|Wed Dec 31 2014 1...|      suv|2014-12-31 11:45:00|          6|    15.0|    100.0|             0.0|      0.0|          1.0|\n",
      "|2014|          ram|           1500|            SLT| quad cab|   automatic|1c6rr6gt8es416221|   ca|        2|  3658.0|    gray|    gray|enterprise vehicl...|22500|       15900|Tue Dec 30 2014 1...|      cab|2014-12-30 13:00:00|          0|    23.0|     40.0|             0.0|      3.0|          2.0|\n",
      "|2014|    chevrolet| impala limited|      LTZ Fleet|    sedan|   automatic|2g1wc5e38e1147124|   fl|        4| 14080.0|    gray|   beige|      gm remarketing|15000|       15000|Mon Jan 26 2015 0...|    sedan|2015-01-26 05:00:00|          1|     1.0|    105.0|             0.0|      3.0|          0.0|\n",
      "|2008|          bmw|       1 series|           135i|    coupe|      manual|wbauc73578vf23541|   fl|      3.7| 80489.0|    blue|    gray|summer enterprise...|11700|       13500|Tue Dec 30 2014 0...|    coupe|2014-12-30 09:30:00|          6|     7.0|    223.0|             1.0|      4.0|          5.0|\n",
      "|2014|        dodge|        avenger|             SE|    sedan|   automatic|1c3cdzab6en110572|   co|      4.3| 27444.0|     red|   beige|        gm financial|11100|       11900|Tue Dec 23 2014 1...|    sedan|2014-12-23 11:45:00|          0|     4.0|     27.0|             0.0|      5.0|          0.0|\n",
      "|2012|   volkswagen|             cc|          Sport|    sedan|   automatic|wvwmn7an1ce540261|   fl|      4.1| 22991.0|    blue|   beige|expert auto group...|14050|       14700|Thu Dec 18 2014 1...|    sedan|2014-12-18 10:25:00|          2|    14.0|    169.0|             0.0|      4.0|          0.0|\n",
      "+----+-------------+---------------+---------------+---------+------------+-----------------+-----+---------+--------+--------+--------+--------------------+-----+------------+--------------------+---------+-------------------+-----------+--------+---------+----------------+---------+-------------+\n",
      "only showing top 20 rows\n",
      "\n"
     ]
    },
    {
     "name": "stderr",
     "output_type": "stream",
     "text": [
      "\r",
      "                                                                                \r"
     ]
    }
   ],
   "source": [
    "indexers_cor = [StringIndexer(inputCol=col, outputCol=col+'_idx').fit(df) for col in [\"make\", \"model\", \"transmission\", \"color\", \"body_type\"]]\n",
    "pipeline = Pipeline(stages=indexers_cor)\n",
    "cor_df = pipeline.fit(df).transform(df)\n",
    "cor_df.show()"
   ]
  },
  {
   "cell_type": "code",
   "execution_count": 173,
   "id": "59085620",
   "metadata": {},
   "outputs": [
    {
     "name": "stderr",
     "output_type": "stream",
     "text": [
      "                                                                                \r"
     ]
    },
    {
     "data": {
      "image/png": "[encoded data removed]",
      "text/plain": [
       "<Figure size 1200x1000 with 2 Axes>"
      ]
     },
     "metadata": {},
     "output_type": "display_data"
    }
   ],
   "source": [
    "# Select relevant columns for correlation analysis\n",
    "cols = [ \"sellingprice\", \"mmr\", \"make_idx\", \"model_idx\", \"transmission_idx\", \"color_idx\", \"body_type_idx\", \"year\", \"condition\", \"odometer\", \"vehicle_age\"]\n",
    "\n",
    "# Generate the correlation matrix\n",
    "plt.figure(figsize=(12, 10))\n",
    "sns.set(font_scale=1.2)\n",
    "corr_matrix = cor_df.select(cols).toPandas().corr()\n",
    "heatmap = sns.heatmap(data=corr_matrix, cmap='coolwarm', annot=True, fmt=\".2f\", linewidths=.5)\n",
    "plt.title('Correlation Matrix')\n",
    "plt.show()"
   ]
  },
  {
   "cell_type": "markdown",
   "id": "417a77f6",
   "metadata": {
    "jp-MarkdownHeadingCollapsed": true
   },
   "source": [
    "# First Few Model-Making"
   ]
  },
  {
   "cell_type": "code",
   "execution_count": 24,
   "id": "df52933d",
   "metadata": {},
   "outputs": [
    {
     "name": "stderr",
     "output_type": "stream",
     "text": [
      "[Stage 122:>                                                        (0 + 1) / 1]\r"
     ]
    },
    {
     "name": "stdout",
     "output_type": "stream",
     "text": [
      "+---------+---------+----+-----------+------------+---------+--------+--------+--------+----+\n",
      "|     make|    model|year|  body_type|transmission|condition|odometer|   color|interior| mmr|\n",
      "+---------+---------+----+-----------+------------+---------+--------+--------+--------+----+\n",
      "|   jaguar|xj-series|1990|      sedan|   automatic|      2.0|  135657|    blue|     tan| 775|\n",
      "|chevrolet| corvette|1991|  hatchback|   automatic|      2.0|   91569|    blue|    gray|4900|\n",
      "|chevrolet| corvette|1991|  hatchback|   automatic|      2.0|  138310|     red|     red|4625|\n",
      "|   toyota|    camry|1991|      sedan|   automatic|      2.0|   91780|   white|   beige| 550|\n",
      "|   toyota|    camry|1991|      sedan|   automatic|      2.0|  232476|   white|    blue| 325|\n",
      "|   toyota|    camry|1991|      sedan|   automatic|      1.0|  209809|   beige|   beige| 475|\n",
      "|   toyota|    camry|1991|      sedan|   automatic|      3.0|  244226|   white|    blue| 300|\n",
      "|   toyota|    camry|1991|      sedan|   automatic|      2.0|  264816|   white|    blue| 275|\n",
      "|   toyota|    camry|1991|      sedan|   automatic|      2.0|  252591|    gray|    gray| 300|\n",
      "|   toyota|    camry|1991|      sedan|   automatic|      2.0|  175381|burgundy|    gray| 425|\n",
      "|   toyota|    camry|1991|      sedan|   automatic|      2.0|  210619|    blue|    blue| 375|\n",
      "|   toyota|    camry|1991|      sedan|      manual|      1.0|  189563|burgundy|    gray| 425|\n",
      "|   toyota|  corolla|1991|      wagon|   automatic|      2.0|  199195|   white|    gray| 450|\n",
      "|chevrolet| corvette|1992|convertible|   automatic|      3.0|   14372|     red|   black|9025|\n",
      "|    honda|   accord|1992|      sedan|   automatic|      3.0|  109999|   white|    blue| 525|\n",
      "|    honda|   accord|1992|      sedan|   automatic|      1.0|  238417|    gray|    gray| 675|\n",
      "|    honda|   accord|1992|      sedan|   automatic|      1.0|  162000|    gray|burgundy| 500|\n",
      "|    honda|   accord|1992|      sedan|   automatic|      1.0|  206841|   black|    gray| 675|\n",
      "|    honda|   accord|1992|      sedan|      manual|      1.0|  206841|   black|    gray| 675|\n",
      "|    honda|   accord|1992|      sedan|      manual|      1.0|  160933|     red|    gray| 650|\n",
      "+---------+---------+----+-----------+------------+---------+--------+--------+--------+----+\n",
      "only showing top 20 rows\n",
      "\n"
     ]
    },
    {
     "name": "stderr",
     "output_type": "stream",
     "text": [
      "                                                                                \r"
     ]
    }
   ],
   "source": [
    "# Feature Selection\n",
    "features_df = df.select([\"make\", \"model\", \"year\", \"body_type\", \"transmission\", \"condition\", \"odometer\", \"color\", \"interior\",\"mmr\"])\n",
    "features_df.show()"
   ]
  },
  {
   "cell_type": "code",
   "execution_count": 227,
   "id": "38481934",
   "metadata": {},
   "outputs": [],
   "source": [
    "from pyspark.sql.types import *\n",
    "from pyspark.ml.feature import StringIndexer\n",
    "from pyspark.ml.feature import VectorAssembler\n",
    "from pyspark.ml.feature import VectorIndexer\n",
    "from pyspark.ml import Pipeline"
   ]
  },
  {
   "cell_type": "code",
   "execution_count": 244,
   "id": "2b5da2db",
   "metadata": {},
   "outputs": [
    {
     "name": "stdout",
     "output_type": "stream",
     "text": [
      "+----------+----------------+----+---------+------------+---------+--------+------+--------+-----+--------+-------------+\n",
      "|      make|           model|year|body_type|transmission|condition|odometer| color|interior|  mmr|make_idx|body_type_idx|\n",
      "+----------+----------------+----+---------+------------+---------+--------+------+--------+-----+--------+-------------+\n",
      "|      ford|          fusion|2012|    sedan|   automatic|      3.1|   86927|   red|   black| 8150|     0.0|          0.0|\n",
      "|    toyota|          sienna|2014|  minivan|   automatic|      4.4|   24913|  gray|    gray|21300|     3.0|          4.0|\n",
      "| chevrolet|             hhr|2008|    wagon|   automatic|      4.2|   66269|  gold|   black| 5800|     1.0|          6.0|\n",
      "|     honda|           civic|2012|    sedan|   automatic|      3.4|   35852|  blue|    gray|11050|     5.0|          0.0|\n",
      "|      ford|          fiesta|2011|    sedan|   automatic|      4.7|   52164|silver|   black| 7300|     0.0|          0.0|\n",
      "|    subaru|         outback|2006|    wagon|   automatic|      3.7|   31414| black|   black| 9575|    21.0|          6.0|\n",
      "|    nissan|           rogue|2012|      suv|   automatic|      4.1|   61656|  gray|   black|12350|     2.0|          1.0|\n",
      "|    nissan|          altima|2012|    sedan|   automatic|      2.9|   67416|silver|   black|10200|     2.0|          0.0|\n",
      "|       bmw|              x5|2004|      suv|   automatic|      3.7|  144154| black|   black| 4525|     7.0|          1.0|\n",
      "| chevrolet|  silverado 1500|2014|      cab|   automatic|      4.3|   14893| black|    gray|18950|     1.0|          2.0|\n",
      "|       bmw|        3 series|2005|    sedan|   automatic|      1.9|   99615| green|   black| 4975|     7.0|          0.0|\n",
      "|      ford|          fusion|2012|    sedan|   automatic|      3.1|   53677|silver|   black|11200|     0.0|          0.0|\n",
      "|  infiniti|         g coupe|2012|    coupe|   automatic|      4.8|   31667|  gray|   black|23100|    10.0|          5.0|\n",
      "|     dodge|         journey|2012|      suv|   automatic|      3.6|   62286| white|   black|11150|     4.0|          1.0|\n",
      "| chevrolet|silverado 2500hd|2014|      cab|   automatic|      3.0|   22859| white|    gray|35900|     1.0|          2.0|\n",
      "|mitsubishi|          galant|2001|    sedan|   automatic|      1.9|  166873| black|    gray|  475|    25.0|          0.0|\n",
      "|   hyundai|          sonata|2013|    sedan|   automatic|      2.1|   73667|  gray|    gray|10150|     6.0|          0.0|\n",
      "| chevrolet|           cruze|2014|    sedan|      manual|      4.2|    8150| black|   black|13150|     1.0|          0.0|\n",
      "|    jaguar|              xj|2012|    sedan|   automatic|      3.6|   40558|  gray|   brown|42200|    32.0|          0.0|\n",
      "|     honda|            cr-v|2000|      suv|   automatic|      2.5|  109453|  gold|   black| 2975|     5.0|          1.0|\n",
      "+----------+----------------+----+---------+------------+---------+--------+------+--------+-----+--------+-------------+\n",
      "only showing top 20 rows\n",
      "\n"
     ]
    },
    {
     "name": "stderr",
     "output_type": "stream",
     "text": [
      "\r",
      "[Stage 1862:=====================>                                  (3 + 5) / 8]\r",
      "\r",
      "                                                                                \r"
     ]
    }
   ],
   "source": [
    "indexers = [StringIndexer(inputCol=col, outputCol=col+'_idx').fit(features_df) for col in [\"make\", \"body_type\", \"model\"]]\n",
    "pipeline = Pipeline(stages=indexers)\n",
    "features_df = pipeline.fit(features_df).transform(features_df)\n",
    "features_df.show()"
   ]
  },
  {
   "cell_type": "code",
   "execution_count": 245,
   "id": "9ee7aefc",
   "metadata": {},
   "outputs": [
    {
     "name": "stdout",
     "output_type": "stream",
     "text": [
      "+----------+----------------+----+---------+------------+---------+--------+------+--------+-----+--------+-------------+---------------------+\n",
      "|make      |model           |year|body_type|transmission|condition|odometer|color |interior|mmr  |make_idx|body_type_idx|features             |\n",
      "+----------+----------------+----+---------+------------+---------+--------+------+--------+-----+--------+-------------+---------------------+\n",
      "|ford      |fusion          |2012|sedan    |automatic   |3.1      |86927   |red   |black   |8150 |0.0     |0.0          |[0.0,0.0,2012.0,3.1] |\n",
      "|toyota    |sienna          |2014|minivan  |automatic   |4.4      |24913   |gray  |gray    |21300|3.0     |4.0          |[3.0,4.0,2014.0,4.4] |\n",
      "|chevrolet |hhr             |2008|wagon    |automatic   |4.2      |66269   |gold  |black   |5800 |1.0     |6.0          |[1.0,6.0,2008.0,4.2] |\n",
      "|honda     |civic           |2012|sedan    |automatic   |3.4      |35852   |blue  |gray    |11050|5.0     |0.0          |[5.0,0.0,2012.0,3.4] |\n",
      "|ford      |fiesta          |2011|sedan    |automatic   |4.7      |52164   |silver|black   |7300 |0.0     |0.0          |[0.0,0.0,2011.0,4.7] |\n",
      "|subaru    |outback         |2006|wagon    |automatic   |3.7      |31414   |black |black   |9575 |21.0    |6.0          |[21.0,6.0,2006.0,3.7]|\n",
      "|nissan    |rogue           |2012|suv      |automatic   |4.1      |61656   |gray  |black   |12350|2.0     |1.0          |[2.0,1.0,2012.0,4.1] |\n",
      "|nissan    |altima          |2012|sedan    |automatic   |2.9      |67416   |silver|black   |10200|2.0     |0.0          |[2.0,0.0,2012.0,2.9] |\n",
      "|bmw       |x5              |2004|suv      |automatic   |3.7      |144154  |black |black   |4525 |7.0     |1.0          |[7.0,1.0,2004.0,3.7] |\n",
      "|chevrolet |silverado 1500  |2014|cab      |automatic   |4.3      |14893   |black |gray    |18950|1.0     |2.0          |[1.0,2.0,2014.0,4.3] |\n",
      "|bmw       |3 series        |2005|sedan    |automatic   |1.9      |99615   |green |black   |4975 |7.0     |0.0          |[7.0,0.0,2005.0,1.9] |\n",
      "|ford      |fusion          |2012|sedan    |automatic   |3.1      |53677   |silver|black   |11200|0.0     |0.0          |[0.0,0.0,2012.0,3.1] |\n",
      "|infiniti  |g coupe         |2012|coupe    |automatic   |4.8      |31667   |gray  |black   |23100|10.0    |5.0          |[10.0,5.0,2012.0,4.8]|\n",
      "|dodge     |journey         |2012|suv      |automatic   |3.6      |62286   |white |black   |11150|4.0     |1.0          |[4.0,1.0,2012.0,3.6] |\n",
      "|chevrolet |silverado 2500hd|2014|cab      |automatic   |3.0      |22859   |white |gray    |35900|1.0     |2.0          |[1.0,2.0,2014.0,3.0] |\n",
      "|mitsubishi|galant          |2001|sedan    |automatic   |1.9      |166873  |black |gray    |475  |25.0    |0.0          |[25.0,0.0,2001.0,1.9]|\n",
      "|hyundai   |sonata          |2013|sedan    |automatic   |2.1      |73667   |gray  |gray    |10150|6.0     |0.0          |[6.0,0.0,2013.0,2.1] |\n",
      "|chevrolet |cruze           |2014|sedan    |manual      |4.2      |8150    |black |black   |13150|1.0     |0.0          |[1.0,0.0,2014.0,4.2] |\n",
      "|jaguar    |xj              |2012|sedan    |automatic   |3.6      |40558   |gray  |brown   |42200|32.0    |0.0          |[32.0,0.0,2012.0,3.6]|\n",
      "|honda     |cr-v            |2000|suv      |automatic   |2.5      |109453  |gold  |black   |2975 |5.0     |1.0          |[5.0,1.0,2000.0,2.5] |\n",
      "+----------+----------------+----+---------+------------+---------+--------+------+--------+-----+--------+-------------+---------------------+\n",
      "only showing top 20 rows\n",
      "\n"
     ]
    }
   ],
   "source": [
    "assembler = VectorAssembler(\n",
    "    inputCols=[\"make_idx\", \"body_type_idx\", \"year\", \"condition\", \"model_idx\"],\n",
    "    outputCol=\"features\"\n",
    ")\n",
    "features_df = assembler.transform(features_df)\n",
    "features_df.show(truncate=False)\n",
    "#\"sellingprice_idx\", \"transmission_idx\", \"color_idx\""
   ]
  },
  {
   "cell_type": "code",
   "execution_count": 246,
   "id": "29a8d72e",
   "metadata": {},
   "outputs": [
    {
     "name": "stdout",
     "output_type": "stream",
     "text": [
      "+---------------------+-----+\n",
      "|features             |mmr  |\n",
      "+---------------------+-----+\n",
      "|[7.0,7.0,2012.0,4.2] |24200|\n",
      "|[5.0,1.0,2011.0,3.5] |20300|\n",
      "|[1.0,1.0,2008.0,2.8] |4275 |\n",
      "|[19.0,1.0,2012.0,3.8]|25700|\n",
      "|[1.0,0.0,2009.0,4.3] |6625 |\n",
      "|[10.0,0.0,2012.0,4.7]|21000|\n",
      "|[13.0,0.0,2008.0,3.4]|22400|\n",
      "|[3.0,0.0,2013.0,4.4] |11350|\n",
      "|[3.0,0.0,2010.0,2.1] |7150 |\n",
      "|[14.0,0.0,2006.0,2.8]|3800 |\n",
      "|[4.0,4.0,2014.0,3.0] |17250|\n",
      "|[4.0,1.0,2005.0,3.0] |4075 |\n",
      "|[5.0,4.0,2005.0,2.8] |4975 |\n",
      "|[2.0,0.0,2011.0,2.0] |9525 |\n",
      "|[2.0,0.0,2009.0,3.1] |4800 |\n",
      "|[15.0,1.0,2008.0,2.9]|14050|\n",
      "|[4.0,1.0,2004.0,1.9] |2125 |\n",
      "|[0.0,1.0,2013.0,4.8] |19500|\n",
      "|[10.0,0.0,2012.0,4.1]|28200|\n",
      "|[0.0,0.0,2007.0,2.4] |3625 |\n",
      "+---------------------+-----+\n",
      "only showing top 20 rows\n",
      "\n"
     ]
    },
    {
     "name": "stderr",
     "output_type": "stream",
     "text": [
      "\r",
      "[Stage 1868:==============>                                         (2 + 6) / 8]\r",
      "\r",
      "                                                                                \r"
     ]
    }
   ],
   "source": [
    "features_vector_df = features_df.select(['features','mmr'])\n",
    "features_vector_df = features_vector_df.withColumn('mmr', features_vector_df['mmr'].cast(IntegerType()))\n",
    "features_vector_df.show(truncate=False)"
   ]
  },
  {
   "cell_type": "code",
   "execution_count": 247,
   "id": "ad271a9e",
   "metadata": {},
   "outputs": [],
   "source": [
    "(trainData, testData) = features_vector_df.randomSplit([0.83, 0.17], seed=42)"
   ]
  },
  {
   "cell_type": "code",
   "execution_count": 248,
   "id": "20c93438",
   "metadata": {},
   "outputs": [
    {
     "name": "stdout",
     "output_type": "stream",
     "text": [
      "+--------------------+---+\n",
      "|            features|mmr|\n",
      "+--------------------+---+\n",
      "|[0.0,0.0,1996.0,1.0]|500|\n",
      "|[0.0,0.0,1996.0,1.0]|650|\n",
      "|[0.0,0.0,1996.0,2.0]|575|\n",
      "|[0.0,0.0,1996.0,2.0]|600|\n",
      "|[0.0,0.0,1997.0,1.0]|350|\n",
      "|[0.0,0.0,1997.0,1.9]|850|\n",
      "|[0.0,0.0,1997.0,2.0]|675|\n",
      "|[0.0,0.0,1997.0,2.4]|800|\n",
      "|[0.0,0.0,1997.0,2.6]|650|\n",
      "|[0.0,0.0,1997.0,2.7]|400|\n",
      "|[0.0,0.0,1998.0,1.9]|375|\n",
      "|[0.0,0.0,1998.0,1.9]|400|\n",
      "|[0.0,0.0,1998.0,1.9]|400|\n",
      "|[0.0,0.0,1998.0,2.0]|775|\n",
      "|[0.0,0.0,1998.0,2.7]|850|\n",
      "|[0.0,0.0,1999.0,1.0]|700|\n",
      "|[0.0,0.0,1999.0,1.0]|700|\n",
      "|[0.0,0.0,1999.0,1.0]|750|\n",
      "|[0.0,0.0,1999.0,1.9]|575|\n",
      "|[0.0,0.0,1999.0,1.9]|600|\n",
      "+--------------------+---+\n",
      "only showing top 20 rows\n",
      "\n"
     ]
    }
   ],
   "source": [
    "trainData.show()"
   ]
  },
  {
   "cell_type": "markdown",
   "id": "55ddded8",
   "metadata": {},
   "source": [
    "### Random Forest"
   ]
  },
  {
   "cell_type": "code",
   "execution_count": 20,
   "id": "5a9d5548",
   "metadata": {},
   "outputs": [],
   "source": [
    "# Import classification models\n",
    "from pyspark.ml.regression import RandomForestRegressor, GBTRegressor, LinearRegression"
   ]
  },
  {
   "cell_type": "code",
   "execution_count": 254,
   "id": "407624cb",
   "metadata": {},
   "outputs": [
    {
     "name": "stderr",
     "output_type": "stream",
     "text": [
      "                                                                                \r"
     ]
    }
   ],
   "source": [
    "rf = RandomForestRegressor(labelCol=\"mmr\", featuresCol=\"features\", maxBins=761).fit(trainData)"
   ]
  },
  {
   "cell_type": "code",
   "execution_count": 255,
   "id": "026f53ad",
   "metadata": {},
   "outputs": [
    {
     "name": "stderr",
     "output_type": "stream",
     "text": [
      "[Stage 1904:>                                                       (0 + 1) / 1]\r"
     ]
    },
    {
     "name": "stdout",
     "output_type": "stream",
     "text": [
      "+--------------------+----+------------------+\n",
      "|            features| mmr|        prediction|\n",
      "+--------------------+----+------------------+\n",
      "|[0.0,0.0,1996.0,2.0]| 475|2452.7270896570267|\n",
      "|[0.0,0.0,1997.0,1.7]| 575|2452.7270896570267|\n",
      "|[0.0,0.0,1997.0,2.0]| 600|2452.7270896570267|\n",
      "|[0.0,0.0,1997.0,2.8]| 375| 2956.218436159469|\n",
      "|[0.0,0.0,1998.0,2.8]| 650| 2956.218436159469|\n",
      "|[0.0,0.0,1999.0,1.9]| 450|2452.7270896570267|\n",
      "|[0.0,0.0,1999.0,3.1]| 775|3401.1134240433844|\n",
      "|[0.0,0.0,2000.0,1.9]|1050|2452.7270896570267|\n",
      "|[0.0,0.0,2000.0,2.0]| 650|2452.7270896570267|\n",
      "|[0.0,0.0,2000.0,2.0]|1100|2452.7270896570267|\n",
      "|[0.0,0.0,2000.0,2.0]|1500|2452.7270896570267|\n",
      "|[0.0,0.0,2000.0,2.5]| 375|2452.7270896570267|\n",
      "|[0.0,0.0,2000.0,3.8]|1175| 4253.009498145293|\n",
      "|[0.0,0.0,2001.0,1.9]| 800|2452.7270896570267|\n",
      "|[0.0,0.0,2001.0,2.0]| 800|2452.7270896570267|\n",
      "|[0.0,0.0,2002.0,1.0]| 725|2585.5071572717084|\n",
      "|[0.0,0.0,2002.0,1.9]|6275|2585.5071572717084|\n",
      "|[0.0,0.0,2002.0,2.1]| 725|2585.5071572717084|\n",
      "|[0.0,0.0,2002.0,2.1]|1025|2585.5071572717084|\n",
      "|[0.0,0.0,2002.0,2.5]|1450|2585.5071572717084|\n",
      "+--------------------+----+------------------+\n",
      "only showing top 20 rows\n",
      "\n"
     ]
    },
    {
     "name": "stderr",
     "output_type": "stream",
     "text": [
      "\r",
      "                                                                                \r"
     ]
    }
   ],
   "source": [
    "predictedDataRF = rf.transform(testData)\n",
    "predictedDataRF.show()"
   ]
  },
  {
   "cell_type": "markdown",
   "id": "720e0eb9",
   "metadata": {},
   "source": [
    "### Linear Regression"
   ]
  },
  {
   "cell_type": "code",
   "execution_count": 78,
   "id": "2c08f27b",
   "metadata": {},
   "outputs": [],
   "source": [
    "lr = LinearRegression(labelCol=\"mmr\", featuresCol=\"features\").setMaxIter(100)"
   ]
  },
  {
   "cell_type": "code",
   "execution_count": 239,
   "id": "1c03e7cd",
   "metadata": {},
   "outputs": [
    {
     "name": "stderr",
     "output_type": "stream",
     "text": [
      "24/05/23 23:35:47 WARN Instrumentation: [f4161af3] regParam is zero, which might cause numerical instability and overfitting.\n",
      "                                                                                \r"
     ]
    },
    {
     "name": "stdout",
     "output_type": "stream",
     "text": [
      "+--------------------+----+-------------------+\n",
      "|            features| mmr|         prediction|\n",
      "+--------------------+----+-------------------+\n",
      "|[0.0,1.0,2.0,1997...|1050|  -8388.49006060278|\n",
      "|[0.0,1.0,2.0,1997...|2400|  -8388.49006060278|\n",
      "|[0.0,1.0,2.0,1997...|1475| -8181.722684533335|\n",
      "|[0.0,1.0,2.0,1998...|1150| -8939.722815691493|\n",
      "|[0.0,1.0,2.0,1998...|1875| -7078.816431066487|\n",
      "|[0.0,1.0,2.0,1999...|2075| -5769.142801529728|\n",
      "|[0.0,1.0,2.0,2000...|1850| -2598.562787368428|\n",
      "|[0.0,1.0,2.0,2001...|4000|-3149.7955424566753|\n",
      "|[0.0,1.0,2.0,2001...|4100|-3149.7955424566753|\n",
      "|[0.0,1.0,2.0,2001...|2875|  -2943.02816638723|\n",
      "|[0.0,1.0,2.0,2001...|4275|  -2943.02816638723|\n",
      "|[0.0,1.0,2.0,2001...|3475|-1702.4239099705592|\n",
      "|[0.0,1.0,2.0,2002...|2300|-3701.0282975453883|\n",
      "|[0.0,1.0,2.0,2002...|2525|-1840.1219129203819|\n",
      "|[0.0,1.0,2.0,2002...|2650|-1633.3545368509367|\n",
      "|[0.0,1.0,2.0,2003...|3450| -530.4482833836228|\n",
      "|[0.0,1.0,2.0,2003...|4200|  89.85384482471272|\n",
      "|[0.0,1.0,2.0,2003...|7775|  296.6212208941579|\n",
      "|[0.0,1.0,2.0,2003...|8875|  296.6212208941579|\n",
      "|[0.0,1.0,2.0,2003...|2750| 1330.4581012413837|\n",
      "+--------------------+----+-------------------+\n",
      "only showing top 20 rows\n",
      "\n"
     ]
    }
   ],
   "source": [
    "# Fit the LinearRegression model to the training data\n",
    "lrModel = lr.fit(trainData)\n",
    "\n",
    "# Use the trained model to make predictions on the test data\n",
    "predictedDataLR = lrModel.transform(testData)\n",
    "\n",
    "# Show the predicted data\n",
    "predictedDataLR.show()"
   ]
  },
  {
   "cell_type": "markdown",
   "id": "339cf00a",
   "metadata": {},
   "source": [
    "### Gradient Boosted"
   ]
  },
  {
   "cell_type": "code",
   "execution_count": 256,
   "id": "3b592398",
   "metadata": {},
   "outputs": [],
   "source": [
    "gbt = GBTRegressor(labelCol=\"mmr\", featuresCol=\"features\", maxBins = 60)"
   ]
  },
  {
   "cell_type": "code",
   "execution_count": 257,
   "id": "ac3a8048",
   "metadata": {},
   "outputs": [
    {
     "name": "stderr",
     "output_type": "stream",
     "text": [
      "                                                                                \r"
     ]
    },
    {
     "name": "stdout",
     "output_type": "stream",
     "text": [
      "+--------------------+----+------------------+\n",
      "|            features| mmr|        prediction|\n",
      "+--------------------+----+------------------+\n",
      "|[0.0,0.0,1996.0,2.0]| 475|  732.991696439143|\n",
      "|[0.0,0.0,1997.0,1.7]| 575|  732.991696439143|\n",
      "|[0.0,0.0,1997.0,2.0]| 600|  732.991696439143|\n",
      "|[0.0,0.0,1997.0,2.8]| 375| 1067.655733620657|\n",
      "|[0.0,0.0,1998.0,2.8]| 650| 1067.655733620657|\n",
      "|[0.0,0.0,1999.0,1.9]| 450| 956.5840226142152|\n",
      "|[0.0,0.0,1999.0,3.1]| 775|1470.4757644780334|\n",
      "|[0.0,0.0,2000.0,1.9]|1050|1078.7264770768213|\n",
      "|[0.0,0.0,2000.0,2.0]| 650|1078.7264770768213|\n",
      "|[0.0,0.0,2000.0,2.0]|1100|1078.7264770768213|\n",
      "|[0.0,0.0,2000.0,2.0]|1500|1078.7264770768213|\n",
      "|[0.0,0.0,2000.0,2.5]| 375|1126.3941036340664|\n",
      "|[0.0,0.0,2000.0,3.8]|1175|1899.0523753395898|\n",
      "|[0.0,0.0,2001.0,1.9]| 800| 1252.107958904391|\n",
      "|[0.0,0.0,2001.0,2.0]| 800| 1252.107958904391|\n",
      "|[0.0,0.0,2002.0,1.0]| 725|1559.4482241833864|\n",
      "|[0.0,0.0,2002.0,1.9]|6275|1559.4482241833864|\n",
      "|[0.0,0.0,2002.0,2.1]| 725|1607.1158507406312|\n",
      "|[0.0,0.0,2002.0,2.1]|1025|1607.1158507406312|\n",
      "|[0.0,0.0,2002.0,2.5]|1450|1607.1158507406312|\n",
      "+--------------------+----+------------------+\n",
      "only showing top 20 rows\n",
      "\n"
     ]
    }
   ],
   "source": [
    "# Fit the LinearRegression model to the training data\n",
    "gbtModel = gbt.fit(trainData)\n",
    "\n",
    "# Use the trained model to make predictions on the test data\n",
    "predictedDataGBT = gbtModel.transform(testData)\n",
    "\n",
    "# Show the predicted data\n",
    "predictedDataGBT.show()"
   ]
  },
  {
   "cell_type": "markdown",
   "id": "aad102e7",
   "metadata": {
    "jp-MarkdownHeadingCollapsed": true
   },
   "source": [
    "# Model Evaluation"
   ]
  },
  {
   "cell_type": "code",
   "execution_count": 198,
   "id": "9eaa3828",
   "metadata": {},
   "outputs": [],
   "source": [
    "# Import evaluation models\n",
    "\n",
    "from pyspark.ml.evaluation import RegressionEvaluator\n",
    "from pyspark.mllib.evaluation import MulticlassMetrics\n"
   ]
  },
  {
   "cell_type": "markdown",
   "id": "2fb55b96",
   "metadata": {},
   "source": [
    "### Random Forest"
   ]
  },
  {
   "cell_type": "code",
   "execution_count": 258,
   "id": "d6fd1b08",
   "metadata": {},
   "outputs": [
    {
     "name": "stderr",
     "output_type": "stream",
     "text": [
      "\r",
      "[Stage 2219:==============>                                         (1 + 3) / 4]\r",
      "\r",
      "                                                                                \r"
     ]
    },
    {
     "name": "stdout",
     "output_type": "stream",
     "text": [
      "Root Mean Squared Error (RMSE) 5058.197210360737\n",
      "Mean Squared Error (MSE) 25585359.01890114\n",
      "R-squared (R²) 0.711080482132586\n"
     ]
    }
   ],
   "source": [
    "evaluator1 = RegressionEvaluator(\n",
    "    labelCol=\"mmr\", predictionCol=\"prediction\", metricName=\"rmse\")\n",
    "evaluator2 = RegressionEvaluator(\n",
    "    labelCol=\"mmr\", predictionCol=\"prediction\", metricName=\"mse\")\n",
    "evaluator3 = RegressionEvaluator(\n",
    "    labelCol=\"mmr\", predictionCol=\"prediction\", metricName=\"r2\")\n",
    "rmse = evaluator1.evaluate(predictedDataRF)\n",
    "mse = evaluator2.evaluate(predictedDataRF)\n",
    "r2 = evaluator3.evaluate(predictedDataRF)\n",
    "print(\"Root Mean Squared Error (RMSE)\", rmse)\n",
    "print(\"Mean Squared Error (MSE)\", mse)\n",
    "print(\"R-squared (R²)\", r2)"
   ]
  },
  {
   "cell_type": "code",
   "execution_count": 259,
   "id": "f5c1d448",
   "metadata": {},
   "outputs": [
    {
     "name": "stdout",
     "output_type": "stream",
     "text": [
      "Mean Absolute Percentage Error (MAPE) on test data = 38.90868814537291%\n"
     ]
    }
   ],
   "source": [
    "predictions = predictedDataRF.withColumn(\"ape\", abs((col(\"mmr\") - col(\"prediction\")) / col(\"mmr\")))\n",
    "mape = predictions.select(mean(col(\"ape\"))).collect()[0][0] * 100\n",
    "\n",
    "print(f\"Mean Absolute Percentage Error (MAPE) on test data = {mape}%\")"
   ]
  },
  {
   "cell_type": "markdown",
   "id": "d253dbc6",
   "metadata": {},
   "source": [
    "### Linear Regression"
   ]
  },
  {
   "cell_type": "code",
   "execution_count": 240,
   "id": "eb4afbca",
   "metadata": {},
   "outputs": [
    {
     "name": "stderr",
     "output_type": "stream",
     "text": [
      "\r",
      "[Stage 1834:>                                                       (0 + 4) / 4]\r",
      "\r",
      "                                                                                \r"
     ]
    },
    {
     "name": "stdout",
     "output_type": "stream",
     "text": [
      "Root Mean Squared Error (RMSE) 7032.623407311401\n",
      "Mean Squared Error (MSE) 49457791.98906422\n",
      "R-squared (R²) 0.4353174422038686\n"
     ]
    }
   ],
   "source": [
    "evaluator1 = RegressionEvaluator(\n",
    "    labelCol=\"mmr\", predictionCol=\"prediction\", metricName=\"rmse\")\n",
    "evaluator2 = RegressionEvaluator(\n",
    "    labelCol=\"mmr\", predictionCol=\"prediction\", metricName=\"mse\")\n",
    "evaluator3 = RegressionEvaluator(\n",
    "    labelCol=\"mmr\", predictionCol=\"prediction\", metricName=\"r2\")\n",
    "rmse = evaluator1.evaluate(predictedDataLR)\n",
    "mse = evaluator2.evaluate(predictedDataLR)\n",
    "r2 = evaluator3.evaluate(predictedDataLR)\n",
    "print(\"Root Mean Squared Error (RMSE)\", rmse)\n",
    "print(\"Mean Squared Error (MSE)\", mse)\n",
    "print(\"R-squared (R²)\", r2)"
   ]
  },
  {
   "cell_type": "code",
   "execution_count": 241,
   "id": "2b80fdef",
   "metadata": {},
   "outputs": [
    {
     "name": "stderr",
     "output_type": "stream",
     "text": [
      "\r",
      "[Stage 1841:===================================>                    (5 + 3) / 8]\r"
     ]
    },
    {
     "name": "stdout",
     "output_type": "stream",
     "text": [
      "Mean Absolute Percentage Error (MAPE) on test data = 66.41334733512191%\n"
     ]
    },
    {
     "name": "stderr",
     "output_type": "stream",
     "text": [
      "\r",
      "                                                                                \r"
     ]
    }
   ],
   "source": [
    "predictions = predictedDataLR.withColumn(\"ape\", abs((col(\"mmr\") - col(\"prediction\")) / col(\"mmr\")))\n",
    "mape = predictions.select(mean(col(\"ape\"))).collect()[0][0] * 100\n",
    "\n",
    "print(f\"Mean Absolute Percentage Error (MAPE) on test data = {mape}%\")"
   ]
  },
  {
   "cell_type": "markdown",
   "id": "0f87095b",
   "metadata": {},
   "source": [
    "### Gradient Boosted"
   ]
  },
  {
   "cell_type": "code",
   "execution_count": 260,
   "id": "b8f74e44",
   "metadata": {},
   "outputs": [
    {
     "name": "stdout",
     "output_type": "stream",
     "text": [
      "Root Mean Squared Error (RMSE) 4487.275016381302\n",
      "Mean Squared Error (MSE) 20135637.07263981\n",
      "R-squared (R²) 0.7726207964999593\n"
     ]
    }
   ],
   "source": [
    "evaluator1 = RegressionEvaluator(\n",
    "    labelCol=\"mmr\", predictionCol=\"prediction\", metricName=\"rmse\")\n",
    "evaluator2 = RegressionEvaluator(\n",
    "    labelCol=\"mmr\", predictionCol=\"prediction\", metricName=\"mse\")\n",
    "evaluator3 = RegressionEvaluator(\n",
    "    labelCol=\"mmr\", predictionCol=\"prediction\", metricName=\"r2\")\n",
    "rmse = evaluator1.evaluate(predictedDataGBT)\n",
    "mse = evaluator2.evaluate(predictedDataGBT)\n",
    "r2 = evaluator3.evaluate(predictedDataGBT)\n",
    "print(\"Root Mean Squared Error (RMSE)\", rmse)\n",
    "print(\"Mean Squared Error (MSE)\", mse)\n",
    "print(\"R-squared (R²)\", r2)"
   ]
  },
  {
   "cell_type": "code",
   "execution_count": 261,
   "id": "beedde3e",
   "metadata": {},
   "outputs": [
    {
     "name": "stdout",
     "output_type": "stream",
     "text": [
      "Mean Absolute Percentage Error (MAPE) on test data = 28.664560693914527%\n"
     ]
    }
   ],
   "source": [
    "predictions = predictedDataGBT.withColumn(\"ape\", abs((col(\"mmr\") - col(\"prediction\")) / col(\"mmr\")))\n",
    "mape = predictions.select(mean(col(\"ape\"))).collect()[0][0] * 100\n",
    "\n",
    "print(f\"Mean Absolute Percentage Error (MAPE) on test data = {mape}%\")"
   ]
  },
  {
   "cell_type": "markdown",
   "id": "ba6959c5",
   "metadata": {},
   "source": [
    "# Final Model (GBT Regressor)"
   ]
  },
  {
   "cell_type": "code",
   "execution_count": 65,
   "id": "0bb63c06",
   "metadata": {},
   "outputs": [],
   "source": [
    "from pyspark.sql.types import *\n",
    "from pyspark.ml.feature import StringIndexer\n",
    "from pyspark.ml.feature import VectorAssembler, StandardScaler\n",
    "from pyspark.ml.feature import VectorIndexer\n",
    "from pyspark.ml import Pipeline\n",
    "\n",
    "# Import classification models\n",
    "from pyspark.ml.regression import RandomForestRegressor, GBTRegressor, LinearRegression\n",
    "from pyspark.ml.tuning import CrossValidator, ParamGridBuilder\n",
    "from pyspark.ml.evaluation import RegressionEvaluator"
   ]
  },
  {
   "cell_type": "markdown",
   "id": "8a6635be-3813-4251-b8cc-6697fa9d6f8b",
   "metadata": {
    "jp-MarkdownHeadingCollapsed": true
   },
   "source": [
    "### Filtering Outliers (using z-score)"
   ]
  },
  {
   "cell_type": "code",
   "execution_count": 66,
   "id": "b1fd6c36",
   "metadata": {},
   "outputs": [
    {
     "name": "stderr",
     "output_type": "stream",
     "text": [
      "24/06/21 21:16:39 WARN RowBasedKeyValueBatch: Calling spill() on RowBasedKeyValueBatch. Will not spill but return 0.\n",
      "24/06/21 21:16:39 WARN RowBasedKeyValueBatch: Calling spill() on RowBasedKeyValueBatch. Will not spill but return 0.\n",
      "24/06/21 21:16:40 WARN RowBasedKeyValueBatch: Calling spill() on RowBasedKeyValueBatch. Will not spill but return 0.\n",
      "24/06/21 21:16:40 WARN RowBasedKeyValueBatch: Calling spill() on RowBasedKeyValueBatch. Will not spill but return 0.\n",
      "24/06/21 21:16:40 WARN RowBasedKeyValueBatch: Calling spill() on RowBasedKeyValueBatch. Will not spill but return 0.\n",
      "24/06/21 21:16:40 WARN RowBasedKeyValueBatch: Calling spill() on RowBasedKeyValueBatch. Will not spill but return 0.\n",
      "24/06/21 21:16:41 WARN RowBasedKeyValueBatch: Calling spill() on RowBasedKeyValueBatch. Will not spill but return 0.\n",
      "24/06/21 21:16:41 WARN RowBasedKeyValueBatch: Calling spill() on RowBasedKeyValueBatch. Will not spill but return 0.\n",
      "24/06/21 21:16:44 WARN RowBasedKeyValueBatch: Calling spill() on RowBasedKeyValueBatch. Will not spill but return 0.\n",
      "24/06/21 21:16:44 WARN RowBasedKeyValueBatch: Calling spill() on RowBasedKeyValueBatch. Will not spill but return 0.\n",
      "24/06/21 21:16:44 WARN RowBasedKeyValueBatch: Calling spill() on RowBasedKeyValueBatch. Will not spill but return 0.\n",
      "24/06/21 21:16:44 WARN RowBasedKeyValueBatch: Calling spill() on RowBasedKeyValueBatch. Will not spill but return 0.\n",
      "24/06/21 21:17:29 WARN RowBasedKeyValueBatch: Calling spill() on RowBasedKeyValueBatch. Will not spill but return 0.\n",
      "24/06/21 21:17:29 WARN RowBasedKeyValueBatch: Calling spill() on RowBasedKeyValueBatch. Will not spill but return 0.\n",
      "24/06/21 21:17:31 WARN RowBasedKeyValueBatch: Calling spill() on RowBasedKeyValueBatch. Will not spill but return 0.\n",
      "24/06/21 21:17:31 WARN RowBasedKeyValueBatch: Calling spill() on RowBasedKeyValueBatch. Will not spill but return 0.\n",
      "24/06/21 21:17:31 WARN RowBasedKeyValueBatch: Calling spill() on RowBasedKeyValueBatch. Will not spill but return 0.\n",
      "24/06/21 21:17:31 WARN RowBasedKeyValueBatch: Calling spill() on RowBasedKeyValueBatch. Will not spill but return 0.\n",
      "24/06/21 21:17:32 WARN RowBasedKeyValueBatch: Calling spill() on RowBasedKeyValueBatch. Will not spill but return 0.\n",
      "24/06/21 21:17:32 WARN RowBasedKeyValueBatch: Calling spill() on RowBasedKeyValueBatch. Will not spill but return 0.\n",
      "24/06/21 21:17:35 WARN RowBasedKeyValueBatch: Calling spill() on RowBasedKeyValueBatch. Will not spill but return 0.\n",
      "24/06/21 21:17:35 WARN RowBasedKeyValueBatch: Calling spill() on RowBasedKeyValueBatch. Will not spill but return 0.\n",
      "[Stage 4115:>                                                       (0 + 1) / 1]\r"
     ]
    },
    {
     "name": "stdout",
     "output_type": "stream",
     "text": [
      "+----+---------+---------+-------------+---------+-----------------+-----+---------+--------+--------+--------+--------------------+------+------------+--------------------+------------+-------------------+-----------+\n",
      "|year|     make|    model|         trim|     body|              vin|state|condition|odometer|   color|interior|              seller|   mmr|sellingprice|            saledate|transmission|     saledate_clean|vehicle_age|\n",
      "+----+---------+---------+-------------+---------+-----------------+-----+---------+--------+--------+--------+--------------------+------+------------+--------------------+------------+-------------------+-----------+\n",
      "|1990|   jaguar|xj-series|XJ6 Sovereign|    sedan|sajhy174xlc607411|   ga|      2.0|  135657|    blue|     tan|capital auto auction| 775.0|       550.0|Thu May 28 2015 0...|   automatic|2015-05-28 05:30:00|         25|\n",
      "|1991|chevrolet| corvette|         Base|hatchback|1g1yy2384m5104212|   fl|      2.0|  138310|     red|     red|autonation toyota...|4625.0|      2700.0|Tue May 26 2015 1...|   automatic|2015-05-26 10:30:00|         24|\n",
      "|1991|chevrolet| corvette|         Base|hatchback|1g1yy238xm5116736|   fl|      2.0|   91569|    blue|    gray|germain toyota of...|4900.0|      2400.0|Wed Jan 14 2015 0...|   automatic|2015-01-14 08:00:00|         24|\n",
      "|1991|   toyota|    camry|       Deluxe|    sedan|4t1sv21e1mu378712|   md|      1.0|  209809|   beige|   beige|        liberty ford| 475.0|       250.0|Tue Jun 02 2015 0...|   automatic|2015-06-02 06:00:00|         24|\n",
      "|1991|   toyota|    camry|       Deluxe|    sedan|4t1sv21e5mu453282|   md|      2.0|   91780|   white|   beige|purple heart serv...| 550.0|       550.0|Tue Jan 06 2015 0...|   automatic|2015-01-06 04:00:00|         24|\n",
      "|1991|   toyota|    camry|       Deluxe|    sedan|4t1sv21e8mu304686|   fl|      3.0|  244226|   white|    blue|autonation toyota...| 300.0|       500.0|Tue Jan 13 2015 1...|   automatic|2015-01-13 18:00:00|         24|\n",
      "|1991|   toyota|    camry|       Deluxe|    sedan|4t1sv21e5mu324474|   nc|      2.0|  264816|   white|    blue|        dt inventory| 275.0|       200.0|Tue Mar 03 2015 0...|   automatic|2015-03-03 00:30:00|         24|\n",
      "|1991|   toyota|    camry|       Deluxe|    sedan|4t1sv21e2mu374524|   nc|      2.0|  175381|burgundy|    gray|        dt inventory| 425.0|       300.0|Tue Feb 17 2015 0...|   automatic|2015-02-17 01:30:00|         24|\n",
      "|1991|   toyota|    camry|       Deluxe|    sedan|jt2sv21e3m3460184|   ca|      2.0|  252591|    gray|    gray| honda of serramonte| 300.0|       150.0|Wed Jan 21 2015 0...|   automatic|2015-01-21 07:10:00|         24|\n",
      "|1991|   toyota|    camry|       Deluxe|    sedan|4t1sv21e7mu434409|   sc|      1.0|  189563|burgundy|    gray|purple heart serv...| 425.0|       300.0|Thu Jan 15 2015 0...|      manual|2015-01-15 04:00:00|         24|\n",
      "|1991|   toyota|    camry|       Deluxe|    sedan|4t1sv21e6mu303147|   va|      2.0|  232476|   white|    blue|     check into cash| 325.0|       300.0|Thu Feb 05 2015 0...|   automatic|2015-02-05 03:50:00|         24|\n",
      "|1991|   toyota|    camry|       Deluxe|    sedan|4t1sv21e5mu352579|   fl|      2.0|  210619|    blue|    blue|autonation chevro...| 375.0|       400.0|Tue Mar 03 2015 1...|   automatic|2015-03-03 10:00:00|         24|\n",
      "|1991|   toyota|  corolla|       Deluxe|    wagon|jt2ae94k6m3447855|   tx|      2.0|  199195|   white|    gray|     manheim houston| 450.0|       200.0|Tue Jun 02 2015 0...|   automatic|2015-06-02 02:15:00|         24|\n",
      "|1992|    honda|   accord|           EX|    sedan|1hgcb7574na201277|   va|      1.0|  160933|     red|    gray|browns arlington ...| 650.0|       850.0|Thu Feb 05 2015 0...|      manual|2015-02-05 01:05:00|         23|\n",
      "|1992|    honda|   accord|           EX|    sedan|1hgcb767xna011644|   ca|      3.0|  109999|   white|    blue|      stadium nissan| 525.0|       400.0|Wed Dec 31 2014 1...|   automatic|2014-12-31 12:30:00|         22|\n",
      "|1992|    honda|   accord|           EX|    sedan|1hgcb7675na198596|   ga|      1.0|  162000|    gray|burgundy|by the book auto ...| 500.0|       900.0|Tue Jan 27 2015 0...|   automatic|2015-01-27 04:50:00|         23|\n",
      "|1992|    honda|   accord|           EX|    sedan|1hgcb7676na099981|   va|      1.0|  238417|    gray|    gray|        dt inventory| 675.0|       250.0|Thu Feb 12 2015 0...|   automatic|2015-02-12 03:50:00|         23|\n",
      "|1992|    honda|   accord|           EX|    sedan|1hgcb7674na053565|   oh|      1.0|  206841|   black|    gray|purple heart serv...| 675.0|       475.0|Tue Mar 03 2015 0...|   automatic|2015-03-03 05:00:00|         23|\n",
      "|1992|    honda|   accord|           EX|    sedan|1hgcb7674na053565|   oh|      1.0|  206841|   black|    gray|purple heart serv...| 675.0|       475.0|Tue Mar 03 2015 0...|      manual|2015-03-03 05:00:00|         23|\n",
      "|1992|     jeep| cherokee|       Laredo|      suv|1j4fj58s1nl188859|   ne|      2.0|  139483|  silver|  purple|charitable adult ...| 700.0|       350.0|Wed Jan 28 2015 0...|   automatic|2015-01-28 02:00:00|         23|\n",
      "+----+---------+---------+-------------+---------+-----------------+-----+---------+--------+--------+--------+--------------------+------+------------+--------------------+------------+-------------------+-----------+\n",
      "only showing top 20 rows\n",
      "\n"
     ]
    },
    {
     "name": "stderr",
     "output_type": "stream",
     "text": [
      "                                                                                \r"
     ]
    }
   ],
   "source": [
    "from pyspark.sql.functions import abs, col, mean, stddev\n",
    "\n",
    "df = df.withColumn(\"price_mmr_diff\", abs(col(\"sellingprice\") - col(\"mmr\")))\n",
    "\n",
    "mean_diff = df.select(mean(col(\"price_mmr_diff\"))).collect()[0][0]\n",
    "stddev_diff = df.select(stddev(col(\"price_mmr_diff\"))).collect()[0][0]\n",
    "\n",
    "threshold = 2\n",
    "\n",
    "df = df.withColumn(\"z_score\", (col(\"price_mmr_diff\") - mean_diff) / stddev_diff)\n",
    "df_filtered = df.filter(col(\"z_score\") <= threshold)\n",
    "\n",
    "df_filtered = df_filtered.drop(\"price_mmr_diff\", \"z_score\")\n",
    "\n",
    "df_filtered.show()"
   ]
  },
  {
   "cell_type": "markdown",
   "id": "9ccd6e98-cb4c-469d-85bf-811f7be52744",
   "metadata": {
    "jp-MarkdownHeadingCollapsed": true
   },
   "source": [
    "### Cutting Data Where Year < 2000"
   ]
  },
  {
   "cell_type": "code",
   "execution_count": 67,
   "id": "e69a8a51-5090-4ce8-a8d5-9ffcf8523cbe",
   "metadata": {},
   "outputs": [],
   "source": [
    "# Cutting Data Where Year < 2000\n",
    "df_filtered = df_filtered.filter(df_filtered.year > 1999)"
   ]
  },
  {
   "cell_type": "code",
   "execution_count": 68,
   "id": "49a8a5af-5f61-4f24-9e3c-936bf94ca57d",
   "metadata": {},
   "outputs": [
    {
     "name": "stdout",
     "output_type": "stream",
     "text": [
      "+----+----+-----+----+----+---+-----+---------+--------+-----+--------+------+---+------------+--------+------------+--------------+-----------+\n",
      "|year|make|model|trim|body|vin|state|condition|odometer|color|interior|seller|mmr|sellingprice|saledate|transmission|saledate_clean|vehicle_age|\n",
      "+----+----+-----+----+----+---+-----+---------+--------+-----+--------+------+---+------------+--------+------------+--------------+-----------+\n",
      "+----+----+-----+----+----+---+-----+---------+--------+-----+--------+------+---+------------+--------+------------+--------------+-----------+\n",
      "\n"
     ]
    }
   ],
   "source": [
    "# Checking\n",
    "df_filtered.select('*').where(df.year < 2000).show()"
   ]
  },
  {
   "cell_type": "code",
   "execution_count": 69,
   "id": "f2e0763f",
   "metadata": {},
   "outputs": [
    {
     "name": "stderr",
     "output_type": "stream",
     "text": [
      "24/06/21 21:18:51 WARN RowBasedKeyValueBatch: Calling spill() on RowBasedKeyValueBatch. Will not spill but return 0.\n",
      "24/06/21 21:18:51 WARN RowBasedKeyValueBatch: Calling spill() on RowBasedKeyValueBatch. Will not spill but return 0.\n",
      "24/06/21 21:18:52 WARN RowBasedKeyValueBatch: Calling spill() on RowBasedKeyValueBatch. Will not spill but return 0.\n",
      "24/06/21 21:18:52 WARN RowBasedKeyValueBatch: Calling spill() on RowBasedKeyValueBatch. Will not spill but return 0.\n",
      "24/06/21 21:18:53 WARN RowBasedKeyValueBatch: Calling spill() on RowBasedKeyValueBatch. Will not spill but return 0.\n",
      "24/06/21 21:18:53 WARN RowBasedKeyValueBatch: Calling spill() on RowBasedKeyValueBatch. Will not spill but return 0.\n",
      "                                                                                \r"
     ]
    },
    {
     "data": {
      "text/plain": [
       "490312"
      ]
     },
     "execution_count": 69,
     "metadata": {},
     "output_type": "execute_result"
    }
   ],
   "source": [
    "# Count after filtering outliers\n",
    "df_filtered.count()"
   ]
  },
  {
   "cell_type": "code",
   "execution_count": 70,
   "id": "d30c52e0-7940-4471-9b53-0748daf5eba9",
   "metadata": {},
   "outputs": [
    {
     "name": "stdout",
     "output_type": "stream",
     "text": [
      "root\n",
      " |-- year: integer (nullable = true)\n",
      " |-- make: string (nullable = true)\n",
      " |-- model: string (nullable = true)\n",
      " |-- trim: string (nullable = true)\n",
      " |-- body: string (nullable = true)\n",
      " |-- vin: string (nullable = true)\n",
      " |-- state: string (nullable = true)\n",
      " |-- condition: double (nullable = true)\n",
      " |-- odometer: integer (nullable = true)\n",
      " |-- color: string (nullable = true)\n",
      " |-- interior: string (nullable = true)\n",
      " |-- seller: string (nullable = true)\n",
      " |-- mmr: double (nullable = true)\n",
      " |-- sellingprice: double (nullable = true)\n",
      " |-- saledate: string (nullable = true)\n",
      " |-- transmission: string (nullable = true)\n",
      " |-- saledate_clean: string (nullable = true)\n",
      " |-- vehicle_age: integer (nullable = true)\n",
      "\n"
     ]
    }
   ],
   "source": [
    "df_filtered.printSchema()"
   ]
  },
  {
   "cell_type": "code",
   "execution_count": 71,
   "id": "d590e8fb-6ea5-4ad4-8acb-234123606c02",
   "metadata": {},
   "outputs": [
    {
     "name": "stderr",
     "output_type": "stream",
     "text": [
      "[Stage 4145:>                                                       (0 + 1) / 1]\r"
     ]
    },
    {
     "name": "stdout",
     "output_type": "stream",
     "text": [
      "+----+----+--------+-----------+-----+-----------------+-----+---------+--------+------+--------+--------------------+------+------------+--------------------+------------+-------------------+-----------+\n",
      "|year|make|   model|       trim| body|              vin|state|condition|odometer| color|interior|              seller|   mmr|sellingprice|            saledate|transmission|     saledate_clean|vehicle_age|\n",
      "+----+----+--------+-----------+-----+-----------------+-----+---------+--------+------+--------+--------------------+------+------------+--------------------+------------+-------------------+-----------+\n",
      "|2000|audi|      a4|2.8 quattro|sedan|waudh28d3ya188447|   ga|      1.9|  171217|silver|   beige|automobile accept...|1400.0|       900.0|Thu Feb 05 2015 0...|   automatic|2015-02-05 02:00:00|         15|\n",
      "|2000|audi|      a4|2.8 quattro|sedan|waudh28d2ya045151|   wa|      2.0|  144741| black|   beige|   lexus of bellevue|1525.0|      2000.0|Wed Jan 21 2015 0...|      manual|2015-01-21 05:20:00|         15|\n",
      "|2000|audi|      a4|2.8 quattro|sedan|waudh28dxya034060|   ca|      3.0|  117354|  blue|  purple|charitable auto r...|1475.0|      1300.0|Tue Dec 30 2014 1...|      manual|2014-12-30 12:00:00|         14|\n",
      "|2000|audi|      a4|2.8 quattro|sedan|waudh28d2ya098481|   wa|      3.1|  155111|silver|   black|         bmw seattle|1500.0|      2450.0|Wed Feb 18 2015 0...|      manual|2015-02-18 04:30:00|         15|\n",
      "|2000|audi|      a4|2.8 quattro|sedan|waudh28d5ya136415|   nc|      3.4|  147641|silver|    gray|primeritus remark...|1475.0|      1800.0|Mon May 25 2015 0...|      manual|2015-05-25 02:30:00|         15|\n",
      "|2000|audi|      a6|4.2 quattro|sedan|wauzl54b6yn105774|   fl|      1.9|  126664|silver|   black|  lexus of tampa bay|2400.0|      2400.0|Tue Jun 02 2015 0...|   automatic|2015-06-02 09:00:00|         15|\n",
      "|2000|audi|      a6|4.2 quattro|sedan|wauzl64b3yn120979|   az|      2.8|  128040|  blue|   beige|           earnhardt|2425.0|      2600.0|Thu May 21 2015 0...|   automatic|2015-05-21 05:00:00|         15|\n",
      "|2000| bmw|3 series|      323Ci|coupe|wbabm3343yjn61406|   fl|      3.0|  117490|silver|    gray|mercedes-benz of ...|2775.0|      2900.0|Tue May 26 2015 1...|      manual|2015-05-26 10:30:00|         15|\n",
      "|2000| bmw|3 series|      323Ci|coupe|wbabm3343yjn86466|   wi|      2.5|   75158|  gray|   black|napletons river o...|3275.0|      3200.0|Wed Jan 14 2015 0...|   automatic|2015-01-14 02:00:00|         15|\n",
      "|2000| bmw|3 series|      323Ci|coupe|wbabm3343yjn88279|   tx|      1.9|  158377| white|     tan|all american chev...|2150.0|      1100.0|Wed Jan 14 2015 0...|   automatic|2015-01-14 02:20:00|         15|\n",
      "|2000| bmw|3 series|      323Ci|coupe|wbabm3348yjn85281|   tx|      1.9|  232925| black|     tan|    nextgear capital| 875.0|      1100.0|Thu Mar 05 2015 0...|   automatic|2015-03-05 03:00:00|         15|\n",
      "|2000| bmw|3 series|      323Ci|coupe|wbabm3348yjn86382|   ca|      1.0|  131484|  blue|    gray|       800 loan mart|2350.0|      1200.0|Thu Feb 12 2015 0...|   automatic|2015-02-12 04:00:00|         15|\n",
      "|2000| bmw|3 series|      323Ci|coupe|wbabm3345yjn83472|   nj|      1.0|  159177| white|    gray|m m m auto sales llc|2175.0|      1100.0|Wed Mar 04 2015 0...|   automatic|2015-03-04 04:00:00|         15|\n",
      "|2000| bmw|3 series|      328Ci|coupe|wbabm5344yjn93034|   ca|      2.5|  257853|  gray|   black|lexus of stevens ...|1275.0|      2000.0|Tue Dec 23 2014 1...|   automatic|2014-12-23 12:30:00|         14|\n",
      "|2000| bmw|3 series|      328Ci|coupe|wbabm5343yjn90593|   ca|      3.4|  166224|silver|   black|        east bay bmw|2425.0|      2750.0|Wed Jan 14 2015 0...|   automatic|2015-01-14 04:30:00|         15|\n",
      "|2000| bmw|3 series|      328Ci|coupe|wbabm5348yjn90539|   ca|      2.7|  176070| black|   black|newport acceptanc...|2150.0|       500.0|Wed Feb 18 2015 0...|   automatic|2015-02-18 03:00:00|         15|\n",
      "|2000| bmw|3 series|      328Ci|coupe|wbabm5348yjn90539|   ca|      2.7|       1| black|   black|newport acceptanc...|3200.0|       800.0|Wed Feb 18 2015 0...|   automatic|2015-02-18 04:05:00|         15|\n",
      "|2000| bmw|3 series|      328Ci|coupe|wbabm5340yjp01424|   fl|      2.2|  151999|silver|    gray|autonation chevro...|2525.0|      2200.0|Tue Jan 13 2015 1...|      manual|2015-01-13 10:00:00|         15|\n",
      "|2000| bmw|3 series|      328Ci|coupe|wbabm5346yjn90751|   il|      1.9|  137771|silver|   black|   par north america|2825.0|      2300.0|Thu Dec 18 2014 1...|   automatic|2014-12-18 10:00:00|         14|\n",
      "|2000| bmw|3 series|      328Ci|coupe|wbabm5340yjp01410|   ca|      2.0|  167115|  gray|   black|       800 loan mart|2225.0|       500.0|Tue Feb 03 2015 0...|      manual|2015-02-03 05:00:00|         15|\n",
      "+----+----+--------+-----------+-----+-----------------+-----+---------+--------+------+--------+--------------------+------+------------+--------------------+------------+-------------------+-----------+\n",
      "only showing top 20 rows\n",
      "\n"
     ]
    },
    {
     "name": "stderr",
     "output_type": "stream",
     "text": [
      "                                                                                \r"
     ]
    }
   ],
   "source": [
    "df_filtered.show()"
   ]
  },
  {
   "cell_type": "markdown",
   "id": "772de89f-0923-417e-aa5e-c370e3e5f6dc",
   "metadata": {
    "jp-MarkdownHeadingCollapsed": true
   },
   "source": [
    "### 4 Features (w year)"
   ]
  },
  {
   "cell_type": "code",
   "execution_count": 25,
   "id": "f8531044",
   "metadata": {},
   "outputs": [
    {
     "name": "stdout",
     "output_type": "stream",
     "text": [
      "+---------+--------+----+----+------------+\n",
      "|condition|odometer| mmr|year|sellingprice|\n",
      "+---------+--------+----+----+------------+\n",
      "|      2.0|  135657| 775|1990|         550|\n",
      "|      2.0|  138310|4625|1991|        2700|\n",
      "|      2.0|   91569|4900|1991|        2400|\n",
      "|      2.0|  252591| 300|1991|         150|\n",
      "|      3.0|  244226| 300|1991|         500|\n",
      "|      1.0|  189563| 425|1991|         300|\n",
      "|      2.0|  175381| 425|1991|         300|\n",
      "|      2.0|  264816| 275|1991|         200|\n",
      "|      1.0|  209809| 475|1991|         250|\n",
      "|      2.0|   91780| 550|1991|         550|\n",
      "|      2.0|  232476| 325|1991|         300|\n",
      "|      2.0|  210619| 375|1991|         400|\n",
      "|      2.0|  199195| 450|1991|         200|\n",
      "|      3.0|   14372|9025|1992|       13700|\n",
      "|      1.0|  162000| 500|1992|         900|\n",
      "|      1.0|  160933| 650|1992|         850|\n",
      "|      1.0|  238417| 675|1992|         250|\n",
      "|      3.0|  109999| 525|1992|         400|\n",
      "|      1.0|  206841| 675|1992|         475|\n",
      "|      1.0|  206841| 675|1992|         475|\n",
      "+---------+--------+----+----+------------+\n",
      "only showing top 20 rows\n",
      "\n",
      "Setting up Gradient-Boosted Trees model...\n",
      "Setting up the pipeline...\n",
      "Creating parameter grid for CrossValidator...\n",
      "Setting up CrossValidator...\n",
      "Fitting the model using cross-validation...\n",
      "Model fitting complete.\n"
     ]
    }
   ],
   "source": [
    "features_df = df_filtered.select([\"condition\", \"odometer\", \"mmr\", \"year\", \"sellingprice\"])\n",
    "features_df.show()\n",
    "\n",
    "# Define weights for each feature\n",
    "weights = {\n",
    "    \"condition\": 0.7,\n",
    "    \"odometer\": 0.5,\n",
    "    \"mmr\": 1.5,\n",
    "    \"year\": 0.7\n",
    "}\n",
    "\n",
    "# Apply weights to the relevant features\n",
    "for feature, weight in weights.items():\n",
    "    features_df = features_df.withColumn(feature, col(feature) * weight)\n",
    "\n",
    "# Assemble the weighted features into a single feature vector\n",
    "assembler = VectorAssembler(\n",
    "    inputCols=[\"condition\", \"odometer\", \"mmr\", \"year\"],\n",
    "    outputCol=\"features\"\n",
    ")\n",
    "\n",
    "# Split the data into training and test sets\n",
    "(trainData, testData) = features_df.randomSplit([0.83, 0.17], seed=42)\n",
    "\n",
    "# # Cache the training data if it is not already cached\n",
    "# def cache_if_not_cached(df):\n",
    "#     if df.storageLevel == StorageLevel.NONE:\n",
    "#         df.cache()\n",
    "#     return df\n",
    "\n",
    "# trainData = cache_if_not_cached(trainData)\n",
    "\n",
    "# Set up the Gradient-Boosted Trees model\n",
    "print(\"Setting up Gradient-Boosted Trees model...\")\n",
    "gbt = GBTRegressor(\n",
    "    featuresCol=\"features\",\n",
    "    labelCol=\"sellingprice\",\n",
    "    seed=42\n",
    ")\n",
    "\n",
    "# Set up a pipeline with the assembler and GBTRegressor\n",
    "print(\"Setting up the pipeline...\")\n",
    "pipeline = Pipeline(stages=[assembler, gbt])\n",
    "\n",
    "# Create parameter grid for CrossValidator\n",
    "print(\"Creating parameter grid for CrossValidator...\")\n",
    "paramGrid = ParamGridBuilder() \\\n",
    "    .addGrid(gbt.maxIter, [10, 20]) \\\n",
    "    .build()\n",
    "\n",
    "# Set up CrossValidator\n",
    "print(\"Setting up CrossValidator...\")\n",
    "crossval = CrossValidator(\n",
    "    estimator=pipeline,\n",
    "    estimatorParamMaps=paramGrid,\n",
    "    evaluator=RegressionEvaluator(labelCol=\"sellingprice\"),\n",
    "    numFolds=5\n",
    ")\n",
    "\n",
    "# Fit the model using cross-validation\n",
    "print(\"Fitting the model using cross-validation...\")\n",
    "cvModel = crossval.fit(trainData)\n",
    "\n",
    "print(\"Model fitting complete.\")"
   ]
  },
  {
   "cell_type": "code",
   "execution_count": 72,
   "id": "f4206dff",
   "metadata": {},
   "outputs": [],
   "source": [
    "# Extract the best model\n",
    "bestModel = cvModel.bestModel\n",
    "\n",
    "# Make predictionsq\n",
    "predictions = bestModel.transform(testData)"
   ]
  },
  {
   "cell_type": "code",
   "execution_count": 73,
   "id": "9a2f0f56",
   "metadata": {},
   "outputs": [
    {
     "name": "stderr",
     "output_type": "stream",
     "text": [
      "[Stage 40473:>                                                      (0 + 1) / 1]\r"
     ]
    },
    {
     "name": "stdout",
     "output_type": "stream",
     "text": [
      "+---------+--------+-----+-----------+------------+--------------------+--------------------+------------------+\n",
      "|condition|odometer|  mmr|vehicle_age|sellingprice|            features|     scaled_features|        prediction|\n",
      "+---------+--------+-----+-----------+------------+--------------------+--------------------+------------------+\n",
      "|      1.0|       1| 2875|         13|         600|[1.0,1.0,2875.0,1...|[1.09179334051766...| 659.1198622611458|\n",
      "|      1.0|       1| 3900|         14|         500|[1.0,1.0,3900.0,1...|[1.09179334051766...| 1339.208856716215|\n",
      "|      1.0|   11007|11450|          1|        8400|[1.0,11007.0,1145...|[1.09179334051766...| 8841.785337613757|\n",
      "|      1.0|   15625|16300|          0|       13000|[1.0,15625.0,1630...|[1.09179334051766...|13923.304707904368|\n",
      "|      1.0|   17609|14800|          1|       12100|[1.0,17609.0,1480...|[1.09179334051766...|12724.894264081091|\n",
      "|      1.0|   27030|13700|          2|       10000|[1.0,27030.0,1370...|[1.09179334051766...|10973.208941697509|\n",
      "|      1.0|   27782|13750|          2|       11600|[1.0,27782.0,1375...|[1.09179334051766...|10973.208941697509|\n",
      "|      1.0|   30385|11900|          1|       10400|[1.0,30385.0,1190...|[1.09179334051766...| 9888.979028480097|\n",
      "|      1.0|   36421|11650|          1|       10700|[1.0,36421.0,1165...|[1.09179334051766...| 8981.235774159373|\n",
      "|      1.0|   49212|12550|          2|        9200|[1.0,49212.0,1255...|[1.09179334051766...|10171.756690152468|\n",
      "|      1.0|   50060| 9725|          2|        8600|[1.0,50060.0,9725...|[1.09179334051766...| 7802.181246836712|\n",
      "|      1.0|   59943| 5625|         10|        4100|[1.0,59943.0,5625...|[1.09179334051766...| 3562.008021972715|\n",
      "|      1.0|   65226| 8800|         11|        5400|[1.0,65226.0,8800...|[1.09179334051766...| 6571.298051682771|\n",
      "|      1.0|   72240| 5050|         10|        3200|[1.0,72240.0,5050...|[1.09179334051766...| 3562.008021972715|\n",
      "|      1.0|   77414| 4775|         12|        3600|[1.0,77414.0,4775...|[1.09179334051766...| 2692.987922251863|\n",
      "|      1.0|   82429| 1250|         13|         250|[1.0,82429.0,1250...|[1.09179334051766...| 674.7263671437556|\n",
      "|      1.0|   86617| 1175|         15|        1000|[1.0,86617.0,1175...|[1.09179334051766...| 674.7263671437556|\n",
      "|      1.0|   95195| 6925|          7|        5300|[1.0,95195.0,6925...|[1.09179334051766...|5251.6658175327675|\n",
      "|      1.0|   98579| 3075|         11|        2600|[1.0,98579.0,3075...|[1.09179334051766...|1556.6536527942483|\n",
      "|      1.0|   98596| 4250|          8|         700|[1.0,98596.0,4250...|[1.09179334051766...| 2692.987922251863|\n",
      "+---------+--------+-----+-----------+------------+--------------------+--------------------+------------------+\n",
      "only showing top 20 rows\n",
      "\n"
     ]
    },
    {
     "name": "stderr",
     "output_type": "stream",
     "text": [
      "                                                                                \r"
     ]
    }
   ],
   "source": [
    "predictions.show()"
   ]
  },
  {
   "cell_type": "code",
   "execution_count": 74,
   "id": "ec83166e-2404-4b4b-bf67-1e924f8cc7d0",
   "metadata": {},
   "outputs": [
    {
     "name": "stderr",
     "output_type": "stream",
     "text": [
      "24/06/21 09:01:36 WARN RowBasedKeyValueBatch: Calling spill() on RowBasedKeyValueBatch. Will not spill but return 0.\n",
      "24/06/21 09:01:36 WARN RowBasedKeyValueBatch: Calling spill() on RowBasedKeyValueBatch. Will not spill but return 0.\n",
      "24/06/21 09:01:37 WARN RowBasedKeyValueBatch: Calling spill() on RowBasedKeyValueBatch. Will not spill but return 0.\n",
      "24/06/21 09:01:37 WARN RowBasedKeyValueBatch: Calling spill() on RowBasedKeyValueBatch. Will not spill but return 0.\n",
      "[Stage 40484:================================================>      (8 + 1) / 9]\r"
     ]
    },
    {
     "name": "stdout",
     "output_type": "stream",
     "text": [
      "+---------+--------+------+-----------+------------+--------------------+--------------------+------------------+\n",
      "|condition|odometer|   mmr|vehicle_age|sellingprice|            features|     scaled_features|        prediction|\n",
      "+---------+--------+------+-----------+------------+--------------------+--------------------+------------------+\n",
      "|      4.6|   12116|182000|          4|      183000|[4.6,12116.0,1820...|[5.02224936638125...| 50526.16535510918|\n",
      "|      4.3|    5593|155000|          2|      158000|[4.3,5593.0,15500...|[4.69471136422596...| 47798.12652164501|\n",
      "|      3.4|    5907|141000|          2|      141500|[3.4,5907.0,14100...|[3.71209735776006...| 43629.07424101465|\n",
      "|      4.0|   15859|129000|          2|      131500|[4.0,15859.0,1290...|[4.36717336207066...|42849.696429070646|\n",
      "|      4.9|    6366|130000|          2|      131000|[4.9,6366.0,13000...|[5.34978736853656...|  47972.7227270474|\n",
      "|      4.6|    5194|128000|          1|      131000|[4.6,5194.0,12800...|[5.02224936638125...| 46413.81405030905|\n",
      "|      4.6|   11370|121000|          1|      124500|[4.6,11370.0,1210...|[5.02224936638125...|45665.912517119184|\n",
      "|      4.9|    7383|123000|          1|      121000|[4.9,7383.0,12300...|[5.34978736853656...| 45655.01014925195|\n",
      "|      4.2|   18170|118000|          3|      120000|[4.2,18170.0,1180...|[4.58553203017419...| 42707.66486610932|\n",
      "|      4.9|    7982|119000|          1|      119000|[4.9,7982.0,11900...|[5.34978736853656...| 45655.01014925195|\n",
      "|      4.6|   21689|115000|          2|      118000|[4.6,21689.0,1150...|[5.02224936638125...| 43329.84789196038|\n",
      "|      4.2|    8824|120000|          8|      117500|[4.2,8824.0,12000...|[4.58553203017419...| 67945.16896217606|\n",
      "|      4.9|     506|114000|          1|      117500|[4.9,506.0,114000...|[5.34978736853656...| 46725.84574406626|\n",
      "|      4.7|   21727|107000|          2|      110000|[4.7,21727.0,1070...|[5.13142870043302...| 43329.84789196038|\n",
      "|      4.9|     529|100000|          3|      101750|[4.9,529.0,100000...|[5.34978736853656...| 48215.62524976786|\n",
      "|      4.5|    6678|103000|          1|      101000|[4.5,6678.0,10300...|[4.91307003232949...| 46413.81405030905|\n",
      "|      4.1|   12897|102000|          4|       98800|[4.1,12897.0,1020...|[4.47635269612242...| 67748.29787732472|\n",
      "|      5.0|    3406| 98000|          1|       96500|[5.0,3406.0,98000...|[5.45896670258832...| 46725.84574406626|\n",
      "|      4.4|    6250| 94000|          3|       95500|[4.4,6250.0,94000...|[4.80389069827772...| 48041.02904436547|\n",
      "|      4.9|    7928| 91000|          2|       91000|[4.9,7928.0,91000...|[5.34978736853656...|  47730.8137329414|\n",
      "|      4.2|   13270| 89000|          3|       90800|[4.2,13270.0,8900...|[4.58553203017419...|44279.300498614844|\n",
      "|      4.8|    3735| 93000|          2|       90500|[4.8,3735.0,93000...|[5.24060803448479...|  47972.7227270474|\n",
      "|      4.7|   30961| 87000|          2|       90400|[4.7,30961.0,8700...|[5.13142870043302...| 40588.50314524093|\n",
      "|      4.9|    5696| 90000|          1|       90000|[4.9,5696.0,90000...|[5.34978736853656...| 46725.84574406626|\n",
      "|      4.9|    4877| 88000|          0|       89000|[4.9,4877.0,88000...|[5.34978736853656...| 46892.85578077549|\n",
      "|      4.8|    9552| 90000|          1|       88000|[4.8,9552.0,90000...|[5.24060803448479...| 46364.36660330473|\n",
      "|      4.4|    9408| 88000|          3|       87500|[4.4,9408.0,88000...|[4.80389069827772...| 47341.65509355496|\n",
      "|      4.5|    9127| 88000|          2|       86500|[4.5,9127.0,88000...|[4.91307003232949...| 47351.19150098764|\n",
      "|      5.0|    2301| 83000|          0|       85500|[5.0,2301.0,83000...|[5.45896670258832...| 46892.85578077549|\n",
      "|      4.8|   12017| 85000|          0|       85000|[4.8,12017.0,8500...|[5.24060803448479...|   43602.687540704|\n",
      "|      4.9|     104| 85000|          2|       84750|[4.9,104.0,85000....|[5.34978736853656...|  47972.7227270474|\n",
      "|      4.8|   14026| 82000|          2|       84250|[4.8,14026.0,8200...|[5.24060803448479...|45012.333255345795|\n",
      "|      5.0|    1172| 84000|          0|       84000|[5.0,1172.0,84000...|[5.45896670258832...| 46892.85578077549|\n",
      "|      3.4|   10134| 84000|          1|       84000|[3.4,10134.0,8400...|[3.71209735776006...| 43629.07424101465|\n",
      "|      4.3|   16049| 84000|          6|       83000|[4.3,16049.0,8400...|[4.69471136422596...| 56908.94342860179|\n",
      "|      4.0|    5256| 83000|          3|       83000|[4.0,5256.0,83000...|[4.36717336207066...| 44884.07603666422|\n",
      "|      4.9|   22291| 83000|          2|       83000|[4.9,22291.0,8300...|[5.34978736853656...| 43440.69762284027|\n",
      "|      4.8|   17408| 82000|          2|       82000|[4.8,17408.0,8200...|[5.24060803448479...| 43440.69762284027|\n",
      "|      4.1|   14009| 81000|          1|       82000|[4.1,14009.0,8100...|[4.47635269612242...|43400.105452974494|\n",
      "|      5.0|   20292| 84000|          2|       81500|[5.0,20292.0,8400...|[5.45896670258832...|42542.696028268016|\n",
      "|      4.9|   18734| 81000|          1|       81200|[4.9,18734.0,8100...|[5.34978736853656...| 41364.89403915082|\n",
      "|      3.9|   16309| 80000|         11|       81000|[3.9,16309.0,8000...|[4.25799402801889...| 48827.90653329826|\n",
      "|      5.0|    2613| 80000|          0|       81000|[5.0,2613.0,80000...|[5.45896670258832...| 46892.85578077549|\n",
      "|      4.5|   22005| 79000|          6|       80500|[4.5,22005.0,7900...|[4.91307003232949...| 56937.01724959471|\n",
      "|      4.2|    4037| 83000|          1|       80250|[4.2,4037.0,83000...|[4.58553203017419...| 46623.28075027929|\n",
      "|      4.2|   11689| 80000|          1|       80250|[4.2,11689.0,8000...|[4.58553203017419...| 45875.37921708942|\n",
      "|      4.3|   18734| 81000|          2|       80250|[4.3,18734.0,8100...|[4.69471136422596...| 43240.26824328925|\n",
      "|      4.3|   21477| 79000|          6|       80000|[4.3,21477.0,7900...|[4.69471136422596...| 56639.45870821947|\n",
      "|      4.9|   10057| 79000|          2|       80000|[4.9,10057.0,7900...|[5.34978736853656...|  47730.8137329414|\n",
      "|      4.6|    7542| 83000|          2|       80000|[4.6,7542.0,83000...|[5.02224936638125...| 47351.19150098764|\n",
      "+---------+--------+------+-----------+------------+--------------------+--------------------+------------------+\n",
      "only showing top 50 rows\n",
      "\n"
     ]
    },
    {
     "name": "stderr",
     "output_type": "stream",
     "text": [
      "                                                                                \r"
     ]
    }
   ],
   "source": [
    "predictions_sorted = predictions.orderBy(desc(\"sellingprice\"), desc(\"prediction\"))\n",
    "predictions_sorted.show(50)"
   ]
  },
  {
   "cell_type": "code",
   "execution_count": 75,
   "id": "0dc8640a",
   "metadata": {},
   "outputs": [
    {
     "name": "stdout",
     "output_type": "stream",
     "text": [
      "Feature Importances: (4,[0,1,2,3],[0.023622150920900045,0.00715504047340644,0.9631778967964121,0.006044911809281429])\n"
     ]
    }
   ],
   "source": [
    "# Inspect feature importances\n",
    "gbtModel = cvModel.bestModel.stages[-1]  # Assuming GBT is the last stage in the pipeline\n",
    "importances = gbtModel.featureImportances\n",
    "print(\"Feature Importances:\", importances)"
   ]
  },
  {
   "cell_type": "markdown",
   "id": "3f714306-b440-4c3d-8612-796c8a00172e",
   "metadata": {
    "jp-MarkdownHeadingCollapsed": true
   },
   "source": [
    "### vehicle_age as feature"
   ]
  },
  {
   "cell_type": "code",
   "execution_count": null,
   "id": "d1f05564-1270-4336-aec3-0e29dc0e1c62",
   "metadata": {
    "editable": true,
    "slideshow": {
     "slide_type": ""
    },
    "tags": []
   },
   "outputs": [
    {
     "name": "stdout",
     "output_type": "stream",
     "text": [
      "+---------+--------+------+-----------+------------+\n",
      "|condition|odometer|   mmr|vehicle_age|sellingprice|\n",
      "+---------+--------+------+-----------+------------+\n",
      "|      1.9|  171217|1400.0|         15|       900.0|\n",
      "|      2.0|  144741|1525.0|         15|      2000.0|\n",
      "|      3.0|  117354|1475.0|         14|      1300.0|\n",
      "|      3.1|  155111|1500.0|         15|      2450.0|\n",
      "|      3.4|  147641|1475.0|         15|      1800.0|\n",
      "|      1.9|  126664|2400.0|         15|      2400.0|\n",
      "|      2.8|  128040|2425.0|         15|      2600.0|\n",
      "|      3.0|  117490|2775.0|         15|      2900.0|\n",
      "|      2.5|   75158|3275.0|         15|      3200.0|\n",
      "|      1.9|  158377|2150.0|         15|      1100.0|\n",
      "|      1.9|  232925| 875.0|         15|      1100.0|\n",
      "|      1.0|  131484|2350.0|         15|      1200.0|\n",
      "|      1.0|  159177|2175.0|         15|      1100.0|\n",
      "|      2.5|  257853|1275.0|         14|      2000.0|\n",
      "|      3.4|  166224|2425.0|         15|      2750.0|\n",
      "|      2.7|  176070|2150.0|         15|       500.0|\n",
      "|      2.7|       1|3200.0|         15|       800.0|\n",
      "|      2.2|  151999|2525.0|         15|      2200.0|\n",
      "|      1.9|  137771|2825.0|         14|      2300.0|\n",
      "|      2.0|  167115|2225.0|         15|       500.0|\n",
      "+---------+--------+------+-----------+------------+\n",
      "only showing top 20 rows\n",
      "\n",
      "Setting up Gradient-Boosted Trees model...\n",
      "Setting up the pipeline...\n",
      "Creating parameter grid for CrossValidator...\n",
      "Setting up CrossValidator...\n",
      "Fitting the model using cross-validation...\n"
     ]
    }
   ],
   "source": [
    "features_df_2 = df_filtered.select([\"condition\", \"odometer\", \"mmr\", \"vehicle_age\", \"sellingprice\"])\n",
    "features_df_2.show()\n",
    "\n",
    "weights = {\n",
    "    \"condition\": 2,\n",
    "    \"odometer\": 1,\n",
    "    \"mmr\": 4,\n",
    "    \"vehicle_age\": 1\n",
    "}\n",
    "\n",
    "for feature, weight in weights.items():\n",
    "    features_df_2 = features_df_2.withColumn(feature, col(feature) * weight)\n",
    "\n",
    "\n",
    "assembler = VectorAssembler(\n",
    "    inputCols=[\"condition\", \"odometer\", \"mmr\", \"vehicle_age\"],\n",
    "    outputCol=\"features\"\n",
    ")\n",
    "\n",
    "(trainData, testData) = features_df_2.randomSplit([0.85, 0.15], seed=100)\n",
    "\n",
    "print(\"Setting up Gradient-Boosted Trees model...\")\n",
    "gbt2 = GBTRegressor(\n",
    "    featuresCol=\"features\",\n",
    "    labelCol=\"sellingprice\",\n",
    "    seed=42\n",
    ")\n",
    "\n",
    "print(\"Setting up the pipeline...\")\n",
    "pipeline = Pipeline(stages=[assembler, gbt2])\n",
    "\n",
    "print(\"Creating parameter grid for CrossValidator...\")\n",
    "paramGrid = ParamGridBuilder() \\\n",
    "    .addGrid(gbt2.maxIter, [10, 20]) \\\n",
    "    .build()\n",
    "\n",
    "print(\"Setting up CrossValidator...\")\n",
    "crossval = CrossValidator(\n",
    "    estimator=pipeline,\n",
    "    estimatorParamMaps=paramGrid,\n",
    "    evaluator=RegressionEvaluator(labelCol=\"sellingprice\"),\n",
    "    numFolds=5\n",
    ")\n",
    "\n",
    "print(\"Fitting the model using cross-validation...\")\n",
    "cvModel = crossval.fit(trainData)\n",
    "\n",
    "print(\"Model fitting complete.\")"
   ]
  },
  {
   "cell_type": "markdown",
   "id": "8f2aaecd-2bec-4402-85fd-ed20cae046b7",
   "metadata": {
    "jp-MarkdownHeadingCollapsed": true
   },
   "source": [
    "### Weight + Standard Scaler"
   ]
  },
  {
   "cell_type": "code",
   "execution_count": 51,
   "id": "9a3e0576-b674-4834-a1bf-c9807840af15",
   "metadata": {},
   "outputs": [
    {
     "name": "stderr",
     "output_type": "stream",
     "text": [
      "                                                                                \r"
     ]
    },
    {
     "name": "stdout",
     "output_type": "stream",
     "text": [
      "+---------+--------+----+-----------+------------+\n",
      "|condition|odometer| mmr|vehicle_age|sellingprice|\n",
      "+---------+--------+----+-----------+------------+\n",
      "|      1.9|  171217|1400|         15|         900|\n",
      "|      2.0|  144741|1525|         15|        2000|\n",
      "|      3.0|  117354|1475|         14|        1300|\n",
      "|      3.1|  155111|1500|         15|        2450|\n",
      "|      3.4|  147641|1475|         15|        1800|\n",
      "|      1.9|  126664|2400|         15|        2400|\n",
      "|      2.8|  128040|2425|         15|        2600|\n",
      "|      3.0|  117490|2775|         15|        2900|\n",
      "|      2.5|   75158|3275|         15|        3200|\n",
      "|      1.9|  158377|2150|         15|        1100|\n",
      "|      1.9|  232925| 875|         15|        1100|\n",
      "|      1.0|  131484|2350|         15|        1200|\n",
      "|      1.0|  159177|2175|         15|        1100|\n",
      "|      2.5|  257853|1275|         14|        2000|\n",
      "|      3.4|  166224|2425|         15|        2750|\n",
      "|      2.7|  176070|2150|         15|         500|\n",
      "|      2.7|       1|3200|         15|         800|\n",
      "|      2.2|  151999|2525|         15|        2200|\n",
      "|      1.9|  137771|2825|         14|        2300|\n",
      "|      2.0|  167115|2225|         15|         500|\n",
      "+---------+--------+----+-----------+------------+\n",
      "only showing top 20 rows\n",
      "\n",
      "Setting up Gradient-Boosted Trees model...\n",
      "Setting up the pipeline...\n",
      "Creating parameter grid for CrossValidator...\n",
      "Setting up CrossValidator...\n",
      "Fitting the model using cross-validation...\n"
     ]
    },
    {
     "name": "stderr",
     "output_type": "stream",
     "text": [
      "24/06/21 01:58:29 WARN RowBasedKeyValueBatch: Calling spill() on RowBasedKeyValueBatch. Will not spill but return 0.\n",
      "24/06/21 01:58:29 WARN RowBasedKeyValueBatch: Calling spill() on RowBasedKeyValueBatch. Will not spill but return 0.\n",
      "24/06/21 01:58:31 WARN RowBasedKeyValueBatch: Calling spill() on RowBasedKeyValueBatch. Will not spill but return 0.\n",
      "24/06/21 01:58:31 WARN RowBasedKeyValueBatch: Calling spill() on RowBasedKeyValueBatch. Will not spill but return 0.\n",
      "24/06/21 01:59:40 WARN RowBasedKeyValueBatch: Calling spill() on RowBasedKeyValueBatch. Will not spill but return 0.\n",
      "24/06/21 01:59:40 WARN RowBasedKeyValueBatch: Calling spill() on RowBasedKeyValueBatch. Will not spill but return 0.\n",
      "24/06/21 01:59:41 WARN RowBasedKeyValueBatch: Calling spill() on RowBasedKeyValueBatch. Will not spill but return 0.\n",
      "24/06/21 01:59:41 WARN RowBasedKeyValueBatch: Calling spill() on RowBasedKeyValueBatch. Will not spill but return 0.\n",
      "24/06/21 02:00:35 WARN RowBasedKeyValueBatch: Calling spill() on RowBasedKeyValueBatch. Will not spill but return 0.\n",
      "24/06/21 02:00:35 WARN RowBasedKeyValueBatch: Calling spill() on RowBasedKeyValueBatch. Will not spill but return 0.\n",
      "24/06/21 02:00:36 WARN RowBasedKeyValueBatch: Calling spill() on RowBasedKeyValueBatch. Will not spill but return 0.\n",
      "24/06/21 02:00:36 WARN RowBasedKeyValueBatch: Calling spill() on RowBasedKeyValueBatch. Will not spill but return 0.\n",
      "24/06/21 02:01:31 WARN RowBasedKeyValueBatch: Calling spill() on RowBasedKeyValueBatch. Will not spill but return 0.\n",
      "24/06/21 02:01:31 WARN RowBasedKeyValueBatch: Calling spill() on RowBasedKeyValueBatch. Will not spill but return 0.\n",
      "24/06/21 02:01:33 WARN RowBasedKeyValueBatch: Calling spill() on RowBasedKeyValueBatch. Will not spill but return 0.\n",
      "24/06/21 02:01:33 WARN RowBasedKeyValueBatch: Calling spill() on RowBasedKeyValueBatch. Will not spill but return 0.\n",
      "                                                                                \r"
     ]
    },
    {
     "name": "stdout",
     "output_type": "stream",
     "text": [
      "Model fitting complete.\n"
     ]
    }
   ],
   "source": [
    "features_df_2 = df_filtered.select([\"condition\", \"odometer\", \"mmr\", \"vehicle_age\", \"sellingprice\"])\n",
    "features_df_2.show()\n",
    "\n",
    "weights = {\n",
    "    \"condition\": 2,\n",
    "    \"odometer\": 1,\n",
    "    \"mmr\": 4,\n",
    "    \"vehicle_age\": 1\n",
    "}\n",
    "\n",
    "for feature, weight in weights.items():\n",
    "    features_df_2 = features_df_2.withColumn(feature, col(feature) * weight)\n",
    "\n",
    "assembler = VectorAssembler(\n",
    "    inputCols=[\"condition\", \"odometer\", \"mmr\", \"vehicle_age\"],\n",
    "    outputCol=\"features\"\n",
    ")\n",
    "\n",
    "scaler = StandardScaler(inputCol=\"features\", outputCol=\"scaled_features\")\n",
    "\n",
    "(trainData, testData) = features_df_2.randomSplit([0.85, 0.15], seed=100)\n",
    "\n",
    "print(\"Setting up Gradient-Boosted Trees model...\")\n",
    "gbt2 = GBTRegressor(\n",
    "    featuresCol=\"scaled_\",\n",
    "    labelCol=\"sellingprice\",\n",
    "    seed=42\n",
    ")\n",
    "\n",
    "print(\"Setting up the pipeline...\")\n",
    "pipeline = Pipeline(stages=[assembler, gbt2])\n",
    "\n",
    "print(\"Creating parameter grid for CrossValidator...\")\n",
    "paramGrid = ParamGridBuilder() \\\n",
    "    .addGrid(gbt2.maxIter, [10, 20]) \\\n",
    "    .build()\n",
    "\n",
    "print(\"Setting up CrossValidator...\")\n",
    "crossval = CrossValidator(\n",
    "    estimator=pipeline,\n",
    "    estimatorParamMaps=paramGrid,\n",
    "    evaluator=RegressionEvaluator(labelCol=\"sellingprice\"),\n",
    "    numFolds=5\n",
    ")\n",
    "\n",
    "print(\"Fitting the model using cross-validation...\")\n",
    "cvModel = crossval.fit(trainData)\n",
    "\n",
    "print(\"Model fitting complete.\")"
   ]
  },
  {
   "cell_type": "markdown",
   "id": "1f1885ac-a27f-4d49-857d-b62c308ca5b7",
   "metadata": {
    "jp-MarkdownHeadingCollapsed": true
   },
   "source": [
    "## Standar Scaler + Double Type"
   ]
  },
  {
   "cell_type": "code",
   "execution_count": 82,
   "id": "4dd3cdb7-f591-4dfe-bb02-95a808852736",
   "metadata": {},
   "outputs": [
    {
     "name": "stderr",
     "output_type": "stream",
     "text": [
      "24/06/21 21:48:28 WARN CacheManager: Asked to cache already cached data.        \n",
      "24/06/21 21:48:28 WARN CacheManager: Asked to cache already cached data.\n"
     ]
    },
    {
     "name": "stdout",
     "output_type": "stream",
     "text": [
      "+---------+--------+------+-----------+------------+\n",
      "|condition|odometer|   mmr|vehicle_age|sellingprice|\n",
      "+---------+--------+------+-----------+------------+\n",
      "|      1.9|  171217|1400.0|         15|       900.0|\n",
      "|      2.0|  144741|1525.0|         15|      2000.0|\n",
      "|      3.0|  117354|1475.0|         14|      1300.0|\n",
      "|      3.1|  155111|1500.0|         15|      2450.0|\n",
      "|      3.4|  147641|1475.0|         15|      1800.0|\n",
      "|      1.9|  126664|2400.0|         15|      2400.0|\n",
      "|      2.8|  128040|2425.0|         15|      2600.0|\n",
      "|      3.0|  117490|2775.0|         15|      2900.0|\n",
      "|      2.5|   75158|3275.0|         15|      3200.0|\n",
      "|      1.9|  158377|2150.0|         15|      1100.0|\n",
      "|      1.9|  232925| 875.0|         15|      1100.0|\n",
      "|      1.0|  131484|2350.0|         15|      1200.0|\n",
      "|      1.0|  159177|2175.0|         15|      1100.0|\n",
      "|      2.5|  257853|1275.0|         14|      2000.0|\n",
      "|      3.4|  166224|2425.0|         15|      2750.0|\n",
      "|      2.7|  176070|2150.0|         15|       500.0|\n",
      "|      2.7|       1|3200.0|         15|       800.0|\n",
      "|      2.2|  151999|2525.0|         15|      2200.0|\n",
      "|      1.9|  137771|2825.0|         14|      2300.0|\n",
      "|      2.0|  167115|2225.0|         15|       500.0|\n",
      "+---------+--------+------+-----------+------------+\n",
      "only showing top 20 rows\n",
      "\n",
      "Setting up Gradient-Boosted Trees model...\n",
      "Setting up the pipeline...\n",
      "Creating parameter grid for CrossValidator...\n",
      "Setting up CrossValidator...\n",
      "Fitting the model using cross-validation...\n"
     ]
    },
    {
     "name": "stderr",
     "output_type": "stream",
     "text": [
      "24/06/21 21:58:37 WARN RowBasedKeyValueBatch: Calling spill() on RowBasedKeyValueBatch. Will not spill but return 0.\n",
      "24/06/21 21:58:37 WARN RowBasedKeyValueBatch: Calling spill() on RowBasedKeyValueBatch. Will not spill but return 0.\n",
      "24/06/21 21:58:38 WARN RowBasedKeyValueBatch: Calling spill() on RowBasedKeyValueBatch. Will not spill but return 0.\n",
      "24/06/21 21:58:38 WARN RowBasedKeyValueBatch: Calling spill() on RowBasedKeyValueBatch. Will not spill but return 0.\n",
      "24/06/21 21:58:39 WARN RowBasedKeyValueBatch: Calling spill() on RowBasedKeyValueBatch. Will not spill but return 0.\n",
      "24/06/21 21:58:39 WARN RowBasedKeyValueBatch: Calling spill() on RowBasedKeyValueBatch. Will not spill but return 0.\n",
      "24/06/21 21:59:17 WARN RowBasedKeyValueBatch: Calling spill() on RowBasedKeyValueBatch. Will not spill but return 0.\n",
      "24/06/21 21:59:17 WARN RowBasedKeyValueBatch: Calling spill() on RowBasedKeyValueBatch. Will not spill but return 0.\n",
      "24/06/21 21:59:18 WARN RowBasedKeyValueBatch: Calling spill() on RowBasedKeyValueBatch. Will not spill but return 0.\n",
      "24/06/21 21:59:18 WARN RowBasedKeyValueBatch: Calling spill() on RowBasedKeyValueBatch. Will not spill but return 0.\n",
      "24/06/21 21:59:19 WARN RowBasedKeyValueBatch: Calling spill() on RowBasedKeyValueBatch. Will not spill but return 0.\n",
      "24/06/21 21:59:19 WARN RowBasedKeyValueBatch: Calling spill() on RowBasedKeyValueBatch. Will not spill but return 0.\n",
      "24/06/21 21:59:57 WARN RowBasedKeyValueBatch: Calling spill() on RowBasedKeyValueBatch. Will not spill but return 0.\n",
      "24/06/21 21:59:57 WARN RowBasedKeyValueBatch: Calling spill() on RowBasedKeyValueBatch. Will not spill but return 0.\n",
      "24/06/21 21:59:58 WARN RowBasedKeyValueBatch: Calling spill() on RowBasedKeyValueBatch. Will not spill but return 0.\n",
      "24/06/21 21:59:58 WARN RowBasedKeyValueBatch: Calling spill() on RowBasedKeyValueBatch. Will not spill but return 0.\n",
      "24/06/21 21:59:59 WARN RowBasedKeyValueBatch: Calling spill() on RowBasedKeyValueBatch. Will not spill but return 0.\n",
      "24/06/21 21:59:59 WARN RowBasedKeyValueBatch: Calling spill() on RowBasedKeyValueBatch. Will not spill but return 0.\n",
      "                                                                                \r"
     ]
    },
    {
     "name": "stdout",
     "output_type": "stream",
     "text": [
      "Model fitting complete.\n"
     ]
    }
   ],
   "source": [
    "features_df_2 = df_filtered.select([\"condition\", \"odometer\", \"mmr\", \"vehicle_age\", \"sellingprice\"])\n",
    "features_df_2.show()\n",
    "\n",
    "assembler = VectorAssembler(\n",
    "    inputCols=[\"condition\", \"odometer\", \"mmr\", \"vehicle_age\"],\n",
    "    outputCol=\"features\"\n",
    ")\n",
    "\n",
    "scaler = StandardScaler(inputCol=\"features\", outputCol=\"scaled_features\")\n",
    "\n",
    "(trainData, testData) = features_df_2.randomSplit([0.85, 0.15], seed=100)\n",
    "\n",
    "print(\"Setting up Gradient-Boosted Trees model...\")\n",
    "gbt2 = GBTRegressor(\n",
    "    featuresCol=\"features\",\n",
    "    labelCol=\"sellingprice\",\n",
    "    seed=42\n",
    ")\n",
    "\n",
    "print(\"Setting up the pipeline...\")\n",
    "pipeline = Pipeline(stages=[assembler, gbt2])\n",
    "\n",
    "print(\"Creating parameter grid for CrossValidator...\")\n",
    "paramGrid = ParamGridBuilder() \\\n",
    "    .addGrid(gbt2.maxIter, [10, 20]) \\\n",
    "    .build()\n",
    "\n",
    "print(\"Setting up CrossValidator...\")\n",
    "crossval = CrossValidator(\n",
    "    estimator=pipeline,\n",
    "    estimatorParamMaps=paramGrid,\n",
    "    evaluator=RegressionEvaluator(labelCol=\"sellingprice\"),\n",
    "    numFolds=5\n",
    ")\n",
    "\n",
    "print(\"Fitting the model using cross-validation...\")\n",
    "cvModel = crossval.fit(trainData)\n",
    "\n",
    "print(\"Model fitting complete.\")"
   ]
  },
  {
   "cell_type": "code",
   "execution_count": 83,
   "id": "ec6a9e15-858c-47c5-8496-18e94b66142e",
   "metadata": {},
   "outputs": [],
   "source": [
    "# Extract the best model\n",
    "bestModel = cvModel.bestModel\n",
    "\n",
    "# Make predictionsq\n",
    "predictions = bestModel.transform(testData)"
   ]
  },
  {
   "cell_type": "markdown",
   "id": "eeb1d20d-56aa-4008-a58e-bd4a56dc24e9",
   "metadata": {
    "jp-MarkdownHeadingCollapsed": true
   },
   "source": [
    "### Weight + Standard Scaler (Different Test Split + Seed)"
   ]
  },
  {
   "cell_type": "code",
   "execution_count": 71,
   "id": "2837b212-8b5a-4ec6-b3ac-ac2381f7de00",
   "metadata": {},
   "outputs": [
    {
     "name": "stderr",
     "output_type": "stream",
     "text": [
      "                                                                                \r"
     ]
    },
    {
     "name": "stdout",
     "output_type": "stream",
     "text": [
      "+---------+--------+----+-----------+------------+\n",
      "|condition|odometer| mmr|vehicle_age|sellingprice|\n",
      "+---------+--------+----+-----------+------------+\n",
      "|      1.9|  171217|1400|         15|         900|\n",
      "|      2.0|  144741|1525|         15|        2000|\n",
      "|      3.0|  117354|1475|         14|        1300|\n",
      "|      3.1|  155111|1500|         15|        2450|\n",
      "|      3.4|  147641|1475|         15|        1800|\n",
      "|      1.9|  126664|2400|         15|        2400|\n",
      "|      2.8|  128040|2425|         15|        2600|\n",
      "|      3.0|  117490|2775|         15|        2900|\n",
      "|      2.5|   75158|3275|         15|        3200|\n",
      "|      1.9|  158377|2150|         15|        1100|\n",
      "|      1.9|  232925| 875|         15|        1100|\n",
      "|      1.0|  131484|2350|         15|        1200|\n",
      "|      1.0|  159177|2175|         15|        1100|\n",
      "|      2.5|  257853|1275|         14|        2000|\n",
      "|      3.4|  166224|2425|         15|        2750|\n",
      "|      2.7|  176070|2150|         15|         500|\n",
      "|      2.7|       1|3200|         15|         800|\n",
      "|      2.2|  151999|2525|         15|        2200|\n",
      "|      1.9|  137771|2825|         14|        2300|\n",
      "|      2.0|  167115|2225|         15|         500|\n",
      "+---------+--------+----+-----------+------------+\n",
      "only showing top 20 rows\n",
      "\n",
      "Creating parameter grid for CrossValidator...\n",
      "Setting up CrossValidator...\n",
      "Fitting the model using cross-validation...\n"
     ]
    },
    {
     "name": "stderr",
     "output_type": "stream",
     "text": [
      "24/06/21 08:57:09 WARN RowBasedKeyValueBatch: Calling spill() on RowBasedKeyValueBatch. Will not spill but return 0.\n",
      "24/06/21 08:57:09 WARN RowBasedKeyValueBatch: Calling spill() on RowBasedKeyValueBatch. Will not spill but return 0.\n",
      "24/06/21 08:57:10 WARN RowBasedKeyValueBatch: Calling spill() on RowBasedKeyValueBatch. Will not spill but return 0.\n",
      "24/06/21 08:57:10 WARN RowBasedKeyValueBatch: Calling spill() on RowBasedKeyValueBatch. Will not spill but return 0.\n",
      "24/06/21 08:58:20 WARN RowBasedKeyValueBatch: Calling spill() on RowBasedKeyValueBatch. Will not spill but return 0.\n",
      "24/06/21 08:58:20 WARN RowBasedKeyValueBatch: Calling spill() on RowBasedKeyValueBatch. Will not spill but return 0.\n",
      "24/06/21 08:58:21 WARN RowBasedKeyValueBatch: Calling spill() on RowBasedKeyValueBatch. Will not spill but return 0.\n",
      "24/06/21 08:58:21 WARN RowBasedKeyValueBatch: Calling spill() on RowBasedKeyValueBatch. Will not spill but return 0.\n",
      "24/06/21 08:59:17 WARN RowBasedKeyValueBatch: Calling spill() on RowBasedKeyValueBatch. Will not spill but return 0.\n",
      "24/06/21 08:59:17 WARN RowBasedKeyValueBatch: Calling spill() on RowBasedKeyValueBatch. Will not spill but return 0.\n",
      "24/06/21 08:59:18 WARN RowBasedKeyValueBatch: Calling spill() on RowBasedKeyValueBatch. Will not spill but return 0.\n",
      "24/06/21 08:59:18 WARN RowBasedKeyValueBatch: Calling spill() on RowBasedKeyValueBatch. Will not spill but return 0.\n",
      "24/06/21 09:00:12 WARN RowBasedKeyValueBatch: Calling spill() on RowBasedKeyValueBatch. Will not spill but return 0.\n",
      "24/06/21 09:00:12 WARN RowBasedKeyValueBatch: Calling spill() on RowBasedKeyValueBatch. Will not spill but return 0.\n",
      "24/06/21 09:00:14 WARN RowBasedKeyValueBatch: Calling spill() on RowBasedKeyValueBatch. Will not spill but return 0.\n",
      "24/06/21 09:00:14 WARN RowBasedKeyValueBatch: Calling spill() on RowBasedKeyValueBatch. Will not spill but return 0.\n",
      "                                                                                \r"
     ]
    },
    {
     "name": "stdout",
     "output_type": "stream",
     "text": [
      "Model fitting complete.\n"
     ]
    }
   ],
   "source": [
    "import pandas as pd\n",
    "\n",
    "features_df_2 = df_filtered.select([\"condition\", \"odometer\", \"mmr\", \"vehicle_age\", \"sellingprice\"])\n",
    "features_df_2.show()\n",
    "\n",
    "weights = {\n",
    "    \"condition\": 2,\n",
    "    \"odometer\": 1,\n",
    "    \"mmr\": 4,\n",
    "    \"vehicle_age\": 1\n",
    "}\n",
    "\n",
    "assembler = VectorAssembler(\n",
    "    inputCols=[\"condition\", \"odometer\", \"mmr\", \"vehicle_age\"],\n",
    "    outputCol=\"features\"\n",
    ")\n",
    "\n",
    "scaler = StandardScaler(inputCol=\"features\", outputCol=\"scaled_features\")\n",
    "\n",
    "gbt2 = GBTRegressor(featuresCol=\"scaled_features\", labelCol=\"sellingprice\", seed=42)\n",
    "\n",
    "pipeline = Pipeline(stages=[assembler, scaler, gbt2])\n",
    "\n",
    "(trainData, testData) = features_df_2.randomSplit([0.82, 0.18], seed=128)\n",
    "\n",
    "print(\"Creating parameter grid for CrossValidator...\")\n",
    "paramGrid = ParamGridBuilder() \\\n",
    "    .addGrid(gbt2.maxIter, [10, 20]) \\\n",
    "    .build()\n",
    "\n",
    "print(\"Setting up CrossValidator...\")\n",
    "crossval = CrossValidator(\n",
    "    estimator=pipeline,\n",
    "    estimatorParamMaps=paramGrid,\n",
    "    evaluator=RegressionEvaluator(labelCol=\"sellingprice\"),\n",
    "    numFolds=5\n",
    ")\n",
    "\n",
    "print(\"Fitting the model using cross-validation...\")\n",
    "cvModel = crossval.fit(trainData)\n",
    "\n",
    "print(\"Model fitting complete.\")"
   ]
  },
  {
   "cell_type": "markdown",
   "id": "25b0b74a-8c65-4f72-8562-b70dddf7c1d0",
   "metadata": {
    "jp-MarkdownHeadingCollapsed": true
   },
   "source": [
    "### Removing condition from features"
   ]
  },
  {
   "cell_type": "code",
   "execution_count": 66,
   "id": "90496856-e4f5-4c7d-b850-7dee6d1d68ad",
   "metadata": {},
   "outputs": [
    {
     "name": "stderr",
     "output_type": "stream",
     "text": [
      "                                                                                \r"
     ]
    },
    {
     "name": "stdout",
     "output_type": "stream",
     "text": [
      "+--------+----+-----------+------------+\n",
      "|odometer| mmr|vehicle_age|sellingprice|\n",
      "+--------+----+-----------+------------+\n",
      "|  171217|1400|         15|         900|\n",
      "|  144741|1525|         15|        2000|\n",
      "|  117354|1475|         14|        1300|\n",
      "|  155111|1500|         15|        2450|\n",
      "|  147641|1475|         15|        1800|\n",
      "|  126664|2400|         15|        2400|\n",
      "|  128040|2425|         15|        2600|\n",
      "|  117490|2775|         15|        2900|\n",
      "|   75158|3275|         15|        3200|\n",
      "|  158377|2150|         15|        1100|\n",
      "|  232925| 875|         15|        1100|\n",
      "|  131484|2350|         15|        1200|\n",
      "|  159177|2175|         15|        1100|\n",
      "|  257853|1275|         14|        2000|\n",
      "|  166224|2425|         15|        2750|\n",
      "|  176070|2150|         15|         500|\n",
      "|       1|3200|         15|         800|\n",
      "|  151999|2525|         15|        2200|\n",
      "|  137771|2825|         14|        2300|\n",
      "|  167115|2225|         15|         500|\n",
      "+--------+----+-----------+------------+\n",
      "only showing top 20 rows\n",
      "\n",
      "Setting up Gradient-Boosted Trees model...\n",
      "Setting up the pipeline...\n",
      "Creating parameter grid for CrossValidator...\n",
      "Setting up CrossValidator...\n",
      "Fitting the model using cross-validation...\n"
     ]
    },
    {
     "name": "stderr",
     "output_type": "stream",
     "text": [
      "24/06/21 08:17:40 WARN RowBasedKeyValueBatch: Calling spill() on RowBasedKeyValueBatch. Will not spill but return 0.\n",
      "24/06/21 08:17:40 WARN RowBasedKeyValueBatch: Calling spill() on RowBasedKeyValueBatch. Will not spill but return 0.\n",
      "24/06/21 08:17:41 WARN RowBasedKeyValueBatch: Calling spill() on RowBasedKeyValueBatch. Will not spill but return 0.\n",
      "24/06/21 08:17:41 WARN RowBasedKeyValueBatch: Calling spill() on RowBasedKeyValueBatch. Will not spill but return 0.\n",
      "24/06/21 08:18:52 WARN RowBasedKeyValueBatch: Calling spill() on RowBasedKeyValueBatch. Will not spill but return 0.\n",
      "24/06/21 08:18:52 WARN RowBasedKeyValueBatch: Calling spill() on RowBasedKeyValueBatch. Will not spill but return 0.\n",
      "24/06/21 08:18:53 WARN RowBasedKeyValueBatch: Calling spill() on RowBasedKeyValueBatch. Will not spill but return 0.\n",
      "24/06/21 08:18:53 WARN RowBasedKeyValueBatch: Calling spill() on RowBasedKeyValueBatch. Will not spill but return 0.\n",
      "24/06/21 08:19:48 WARN RowBasedKeyValueBatch: Calling spill() on RowBasedKeyValueBatch. Will not spill but return 0.\n",
      "24/06/21 08:19:48 WARN RowBasedKeyValueBatch: Calling spill() on RowBasedKeyValueBatch. Will not spill but return 0.\n",
      "24/06/21 08:19:50 WARN RowBasedKeyValueBatch: Calling spill() on RowBasedKeyValueBatch. Will not spill but return 0.\n",
      "24/06/21 08:19:50 WARN RowBasedKeyValueBatch: Calling spill() on RowBasedKeyValueBatch. Will not spill but return 0.\n",
      "24/06/21 08:20:43 WARN RowBasedKeyValueBatch: Calling spill() on RowBasedKeyValueBatch. Will not spill but return 0.\n",
      "24/06/21 08:20:43 WARN RowBasedKeyValueBatch: Calling spill() on RowBasedKeyValueBatch. Will not spill but return 0.\n",
      "24/06/21 08:20:44 WARN RowBasedKeyValueBatch: Calling spill() on RowBasedKeyValueBatch. Will not spill but return 0.\n",
      "24/06/21 08:20:44 WARN RowBasedKeyValueBatch: Calling spill() on RowBasedKeyValueBatch. Will not spill but return 0.\n",
      "                                                                                \r"
     ]
    },
    {
     "name": "stdout",
     "output_type": "stream",
     "text": [
      "Model fitting complete.\n"
     ]
    }
   ],
   "source": [
    "features_df_2 = df_filtered.select([\"odometer\", \"mmr\", \"vehicle_age\", \"sellingprice\"])\n",
    "features_df_2.show()\n",
    "\n",
    "weights = {\n",
    "    \"odometer\": 1,\n",
    "    \"mmr\": 3,\n",
    "    \"vehicle_age\": 1\n",
    "}\n",
    "\n",
    "for feature, weight in weights.items():\n",
    "    features_df_2 = features_df_2.withColumn(feature, col(feature) * weight)\n",
    "\n",
    "\n",
    "assembler = VectorAssembler(\n",
    "    inputCols=[\"odometer\", \"mmr\", \"vehicle_age\"],\n",
    "    outputCol=\"features\"\n",
    ")\n",
    "\n",
    "scaler = StandardScaler(inputCol=\"features\", outputCol=\"scaled_features\")\n",
    "\n",
    "(trainData, testData) = features_df_2.randomSplit([0.82, 0.18], seed=169)\n",
    "\n",
    "print(\"Setting up Gradient-Boosted Trees model...\")\n",
    "gbt2 = GBTRegressor(\n",
    "    featuresCol=\"scaled_features\",\n",
    "    labelCol=\"sellingprice\",\n",
    "    seed=42\n",
    ")\n",
    "\n",
    "print(\"Setting up the pipeline...\")\n",
    "pipeline = Pipeline(stages=[assembler, scaler, gbt2])\n",
    "\n",
    "print(\"Creating parameter grid for CrossValidator...\")\n",
    "paramGrid = ParamGridBuilder() \\\n",
    "    .addGrid(gbt2.maxIter, [10, 20]) \\\n",
    "    .build()\n",
    "\n",
    "print(\"Setting up CrossValidator...\")\n",
    "crossval = CrossValidator(\n",
    "    estimator=pipeline,\n",
    "    estimatorParamMaps=paramGrid,\n",
    "    evaluator=RegressionEvaluator(labelCol=\"sellingprice\"),\n",
    "    numFolds=5\n",
    ")\n",
    "\n",
    "print(\"Fitting the model using cross-validation...\")\n",
    "cvModel = crossval.fit(trainData)\n",
    "\n",
    "print(\"Model fitting complete.\")"
   ]
  },
  {
   "cell_type": "code",
   "execution_count": 102,
   "id": "7c9eb414-54ee-48a4-99e4-c6a38f9a8735",
   "metadata": {},
   "outputs": [
    {
     "name": "stdout",
     "output_type": "stream",
     "text": [
      "Feature Importances: (3,[0,1,2],[0.0077769308273828806,0.9880291565710188,0.004193912601598361])\n"
     ]
    }
   ],
   "source": [
    "# Inspect feature importances\n",
    "gbtModel = cvModel.bestModel.stages[-1]  # Assuming GBT is the last stage in the pipeline\n",
    "importances = gbtModel.featureImportances\n",
    "print(\"Feature Importances:\", importances)"
   ]
  },
  {
   "cell_type": "markdown",
   "id": "25a0481e-2478-4cac-ac52-75fde42173d1",
   "metadata": {
    "jp-MarkdownHeadingCollapsed": true
   },
   "source": [
    "## Log + Double Casting"
   ]
  },
  {
   "cell_type": "code",
   "execution_count": 46,
   "id": "a0f193fe-cffd-4cec-a751-e459c5b621ff",
   "metadata": {},
   "outputs": [
    {
     "name": "stdout",
     "output_type": "stream",
     "text": [
      "+----+----+--------+-----------+-----+-----------------+-----+---------+--------+------+--------+--------------------+------+------------+--------------------+------------+-------------------+-----------+------------------+------------------+\n",
      "|year|make|   model|       trim| body|              vin|state|condition|odometer| color|interior|              seller|   mmr|sellingprice|            saledate|transmission|     saledate_clean|vehicle_age|          mmr_log2| sellingprice_log2|\n",
      "+----+----+--------+-----------+-----+-----------------+-----+---------+--------+------+--------+--------------------+------+------------+--------------------+------------+-------------------+-----------+------------------+------------------+\n",
      "|2000|audi|      a4|2.8 quattro|sedan|waudh28d3ya188447|   ga|      1.9|  171217|silver|   beige|automobile accept...|1400.0|       900.0|Thu Feb 05 2015 0...|   automatic|2015-02-05 02:00:00|         15|10.452241240430817| 9.815383295813538|\n",
      "|2000|audi|      a4|2.8 quattro|sedan|waudh28d2ya045151|   wa|      2.0|  144741| black|   beige|   lexus of bellevue|1525.0|      2000.0|Wed Jan 21 2015 0...|      manual|2015-01-21 05:20:00|         15| 10.57553924683453|10.966505451905741|\n",
      "|2000|audi|      a4|2.8 quattro|sedan|waudh28dxya034060|   ca|      3.0|  117354|  blue|  purple|charitable auto r...|1475.0|      1300.0|Tue Dec 30 2014 1...|      manual|2014-12-30 12:00:00|         14|10.527477006060396|10.345405246717796|\n",
      "|2000|audi|      a4|2.8 quattro|sedan|waudh28d2ya098481|   wa|      3.1|  155111|silver|   black|         bmw seattle|1500.0|      2450.0|Wed Feb 18 2015 0...|      manual|2015-02-18 04:30:00|         15| 10.55170826162069| 11.25915476886684|\n",
      "|2000|audi|      a4|2.8 quattro|sedan|waudh28d5ya136415|   nc|      3.4|  147641|silver|    gray|primeritus remark...|1475.0|      1800.0|Mon May 25 2015 0...|      manual|2015-05-25 02:30:00|         15|10.527477006060396|10.814582465906277|\n",
      "|2000|audi|      a6|4.2 quattro|sedan|wauzl54b6yn105774|   fl|      1.9|  126664|silver|   black|  lexus of tampa bay|2400.0|      2400.0|Tue Jun 02 2015 0...|   automatic|2015-06-02 09:00:00|         15|11.229419688230417|11.229419688230417|\n",
      "|2000|audi|      a6|4.2 quattro|sedan|wauzl64b3yn120979|   az|      2.8|  128040|  blue|   beige|           earnhardt|2425.0|      2600.0|Thu May 21 2015 0...|   automatic|2015-05-21 05:00:00|         15|11.244363835120511|11.344850683942992|\n",
      "|2000| bmw|3 series|      323Ci|coupe|wbabm3343yjn61406|   fl|      3.0|  117490|silver|    gray|mercedes-benz of ...|2775.0|      2900.0|Tue May 26 2015 1...|      manual|2015-05-26 10:30:00|         15|11.438791852578262|11.502334580197997|\n",
      "|2000| bmw|3 series|      323Ci|coupe|wbabm3343yjn86466|   wi|      2.5|   75158|  gray|   black|napletons river o...|3275.0|      3200.0|Wed Jan 14 2015 0...|   automatic|2015-01-14 02:00:00|         15| 11.67771964164101|11.644306961545581|\n",
      "|2000| bmw|3 series|      323Ci|coupe|wbabm3343yjn88279|   tx|      1.9|  158377| white|     tan|all american chev...|2150.0|      1100.0|Wed Jan 14 2015 0...|   automatic|2015-01-14 02:20:00|         15|11.070791809423062| 10.10459875356437|\n",
      "|2000| bmw|3 series|      323Ci|coupe|wbabm3348yjn85281|   tx|      1.9|  232925| black|     tan|    nextgear capital| 875.0|      1100.0|Thu Mar 05 2015 0...|   automatic|2015-03-05 03:00:00|         15| 9.774787059601174| 10.10459875356437|\n",
      "|2000| bmw|3 series|      323Ci|coupe|wbabm3348yjn86382|   ca|      1.0|  131484|  blue|    gray|       800 loan mart|2350.0|      1200.0|Thu Feb 12 2015 0...|   automatic|2015-02-12 04:00:00|         15| 11.19905882365302|10.230020435705635|\n",
      "|2000| bmw|3 series|      323Ci|coupe|wbabm3345yjn83472|   nj|      1.0|  159177| white|    gray|m m m auto sales llc|2175.0|      1100.0|Wed Mar 04 2015 0...|   automatic|2015-03-04 04:00:00|         15|11.087462841250339| 10.10459875356437|\n",
      "|2000| bmw|3 series|      328Ci|coupe|wbabm5344yjn93034|   ca|      2.5|  257853|  gray|   black|lexus of stevens ...|1275.0|      2000.0|Tue Dec 23 2014 1...|   automatic|2014-12-23 12:30:00|         14| 10.31741261376487|10.966505451905741|\n",
      "|2000| bmw|3 series|      328Ci|coupe|wbabm5343yjn90593|   ca|      3.4|  166224|silver|   black|        east bay bmw|2425.0|      2750.0|Wed Jan 14 2015 0...|   automatic|2015-01-14 04:30:00|         15|11.244363835120511|11.425740424316212|\n",
      "|2000| bmw|3 series|      328Ci|coupe|wbabm5348yjn90539|   ca|      2.7|  176070| black|   black|newport acceptanc...|2150.0|       500.0|Wed Feb 18 2015 0...|   automatic|2015-02-18 03:00:00|         15|11.070791809423062| 8.968666793195208|\n",
      "|2000| bmw|3 series|      328Ci|coupe|wbabm5348yjn90539|   ca|      2.7|       1| black|   black|newport acceptanc...|3200.0|       800.0|Wed Feb 18 2015 0...|   automatic|2015-02-18 04:05:00|         15|11.644306961545581|  9.64565843240871|\n",
      "|2000| bmw|3 series|      328Ci|coupe|wbabm5340yjp01424|   fl|      2.2|  151999|silver|    gray|autonation chevro...|2525.0|      2200.0|Tue Jan 13 2015 1...|      manual|2015-01-13 10:00:00|         15|11.302638923787553|11.103943429891558|\n",
      "|2000| bmw|3 series|      328Ci|coupe|wbabm5346yjn90751|   il|      1.9|  137771|silver|   black|   par north america|2825.0|      2300.0|Thu Dec 18 2014 1...|   automatic|2014-12-18 10:00:00|         14| 11.46454575033394| 11.16804526822409|\n",
      "|2000| bmw|3 series|      328Ci|coupe|wbabm5340yjp01410|   ca|      2.0|  167115|  gray|   black|       800 loan mart|2225.0|       500.0|Tue Feb 03 2015 0...|      manual|2015-02-03 05:00:00|         15| 11.12023787734196| 8.968666793195208|\n",
      "+----+----+--------+-----------+-----+-----------------+-----+---------+--------+------+--------+--------------------+------+------------+--------------------+------------+-------------------+-----------+------------------+------------------+\n",
      "only showing top 20 rows\n",
      "\n"
     ]
    }
   ],
   "source": [
    "from pyspark.sql.functions import log2, col\n",
    "\n",
    "df_log2_scaled = df_filtered.withColumn(\"mmr_log2\", log2(col(\"mmr\") + 1)) \\\n",
    "                             .withColumn(\"sellingprice_log2\", log2(col(\"sellingprice\") + 1))\n",
    "df_log2_scaled.show()"
   ]
  },
  {
   "cell_type": "code",
   "execution_count": 29,
   "id": "7a7b353f-4cd5-4f35-865a-76faa310c8b1",
   "metadata": {},
   "outputs": [
    {
     "name": "stdout",
     "output_type": "stream",
     "text": [
      "+--------+------------------+-----------+------------------+\n",
      "|odometer|          mmr_log2|vehicle_age| sellingprice_log2|\n",
      "+--------+------------------+-----------+------------------+\n",
      "|114670.0|10.948367231584678|          9|11.036860446673046|\n",
      "| 36284.0|14.044820990101837|          4|14.078567807778278|\n",
      "| 32226.0|13.213863652749348|          5|13.344434621923991|\n",
      "|157992.0| 10.10459875356437|         11| 8.647458426454921|\n",
      "| 36007.0|13.592340234042425|          1|13.586487982625991|\n",
      "| 35770.0|13.412172865823786|          2|13.425347051432821|\n",
      "| 94268.0|11.152284842306582|         10|11.644306961545581|\n",
      "|126068.0| 12.01924321660361|          8| 11.85369942030022|\n",
      "|104739.0|12.798876768133299|          9|12.644081593265676|\n",
      "|153982.0|11.699572453287269|          8|11.344850683942992|\n",
      "|  9408.0|14.044820990101837|          0|13.956829877743045|\n",
      "| 27310.0|13.952286238812045|          1| 13.88235646865422|\n",
      "| 11505.0| 13.62696380700029|          0|13.666334975076676|\n",
      "| 40644.0|13.330496777638688|          3|13.344434621923991|\n",
      "| 18814.0|14.115612680471171|          1|  14.3786335405722|\n",
      "| 55339.0|14.736666175698918|          4|14.848476238111692|\n",
      "|111445.0|13.269711121142782|         11|13.316422965503591|\n",
      "|160603.0|11.911017407796987|         11|11.551227603598289|\n",
      "|160293.0|10.710806433699352|         10|11.036860446673046|\n",
      "|126359.0|12.627077840517394|          7|12.598285174146605|\n",
      "+--------+------------------+-----------+------------------+\n",
      "only showing top 20 rows\n",
      "\n",
      "Setting up Gradient-Boosted Trees model...\n",
      "Setting up the pipeline...\n",
      "Creating parameter grid for CrossValidator...\n",
      "Setting up CrossValidator...\n",
      "Fitting the model using cross-validation...\n"
     ]
    },
    {
     "name": "stderr",
     "output_type": "stream",
     "text": [
      "                                                                                \r"
     ]
    },
    {
     "name": "stdout",
     "output_type": "stream",
     "text": [
      "Model fitting complete.\n"
     ]
    }
   ],
   "source": [
    "features_df_2 = df_log2_scaled.select([\"odometer\", \"mmr_log2\", \"vehicle_age\", \"sellingprice_log2\"])\n",
    "features_df_2.show()\n",
    "\n",
    "assembler = VectorAssembler(\n",
    "    inputCols=[\"odometer\", \"mmr_log2\", \"vehicle_age\"],\n",
    "    outputCol=\"features\"\n",
    ")\n",
    "\n",
    "scaler = StandardScaler(inputCol=\"features\", outputCol=\"scaled_features\")\n",
    "\n",
    "(trainData, testData) = features_df_2.randomSplit([0.8, 0.2], seed=169)\n",
    "\n",
    "print(\"Setting up Gradient-Boosted Trees model...\")\n",
    "gbt2 = GBTRegressor(\n",
    "    featuresCol=\"scaled_features\",\n",
    "    labelCol=\"sellingprice_log2\",\n",
    "    seed=42\n",
    ")\n",
    "\n",
    "print(\"Setting up the pipeline...\")\n",
    "pipeline = Pipeline(stages=[assembler, scaler, gbt2])\n",
    "\n",
    "\n",
    "print(\"Creating parameter grid for CrossValidator...\")\n",
    "paramGrid = ParamGridBuilder() \\\n",
    "    .addGrid(gbt2.maxIter, [10, 20]) \\\n",
    "    .build()\n",
    "\n",
    "print(\"Setting up CrossValidator...\")\n",
    "crossval = CrossValidator(\n",
    "    estimator=pipeline,\n",
    "    estimatorParamMaps=paramGrid,\n",
    "    evaluator=RegressionEvaluator(labelCol=\"sellingprice_log2\"),\n",
    "    numFolds=5\n",
    ")\n",
    "\n",
    "print(\"Fitting the model using cross-validation...\")\n",
    "cvModel = crossval.fit(trainData)\n",
    "\n",
    "print(\"Model fitting complete.\")"
   ]
  },
  {
   "cell_type": "code",
   "execution_count": 37,
   "id": "80eb4ed5-2fcc-4db9-b8ae-d0f2cbfcf9db",
   "metadata": {},
   "outputs": [],
   "source": [
    "# Extract the best model\n",
    "bestModel_final = cvModel.bestModel\n",
    "\n",
    "# Make predictionsq\n",
    "predictions_final = bestModel_final.transform(testData)"
   ]
  },
  {
   "cell_type": "code",
   "execution_count": 38,
   "id": "c39d3db2-1526-4a7d-aae6-6a842172bf00",
   "metadata": {},
   "outputs": [
    {
     "name": "stderr",
     "output_type": "stream",
     "text": [
      "[Stage 7585:==============>                                         (2 + 6) / 8]\r"
     ]
    },
    {
     "name": "stdout",
     "output_type": "stream",
     "text": [
      "+--------+------------------+-----------+------------------+--------------------+--------------------+------------------+\n",
      "|odometer|          mmr_log2|vehicle_age| sellingprice_log2|            features|     scaled_features|        prediction|\n",
      "+--------+------------------+-----------+------------------+--------------------+--------------------+------------------+\n",
      "|     1.0|10.199672344836365|         16|  8.73470962022584|[1.0,10.199672344...|[1.92611241011423...| 8.934954767808888|\n",
      "|     1.0|10.929998062609027|         19|10.732167425663386|[1.0,10.929998062...|[1.92611241011423...| 8.545061785553521|\n",
      "|     1.0| 11.38586240064146|         17|10.732167425663386|[1.0,11.385862400...|[1.92611241011423...| 9.126854943625059|\n",
      "|     1.0| 11.62159403901754|         12| 8.968666793195208|[1.0,11.621594039...|[1.92611241011423...| 9.558962461249838|\n",
      "|     1.0|11.901621158346114|         12| 8.968666793195208|[1.0,11.901621158...|[1.92611241011423...|10.195570284145813|\n",
      "|     1.0|11.966144913345603|         13| 9.967226258835993|[1.0,11.966144913...|[1.92611241011423...|10.195570284145813|\n",
      "|     1.0|12.183325224524612|          9|11.731743290707842|[1.0,12.183325224...|[1.92611241011423...|11.205496472322409|\n",
      "|     1.0|12.288000889707574|         11|11.103943429891558|[1.0,12.288000889...|[1.92611241011423...|11.183317614220554|\n",
      "|     1.0| 12.58660526060361|          8|11.502334580197997|[1.0,12.586605260...|[1.92611241011423...|11.634477279160848|\n",
      "|     5.0|14.715372183120408|          1|14.715372183120408|[5.0,14.715372183...|[9.63056205057119...|14.688888265212647|\n",
      "|    11.0|14.111543245749719|          1|14.175315631699174|[11.0,14.11154324...|[2.11872365112566...|14.093716921430131|\n",
      "|    19.0|15.284137283314422|          0| 15.25122349523062|[19.0,15.28413728...|[3.65961357921705...|15.439369033491237|\n",
      "|    53.0|14.398810481829221|          0|14.438337040924324|[53.0,14.39881048...|[0.00102083957736...|14.334938053400155|\n",
      "|    60.0|15.470436454139481|          1|15.520403831652349|[60.0,15.47043645...|[0.00115566744606...|15.434481010039194|\n",
      "|    97.0|14.933921128464375|          1|14.813831283925186|[97.0,14.93392112...|[0.00186832903781...|14.874384318209875|\n",
      "|   291.0|13.731425107642949|          1|13.747248917647243|[291.0,13.7314251...|[0.00560498711343...|13.669153967787453|\n",
      "|   326.0| 15.46406706986872|          0|15.535670265200507|[326.0,15.4640670...|[0.00627912645697...|15.439369033491237|\n",
      "|   362.0|13.938568827143877|          0|13.920073669146017|[362.0,13.9385688...|[0.00697252692461...|13.942919388135406|\n",
      "|   418.0|14.337412841003244|          0|14.371844694385857|[418.0,14.3374128...|[0.00805114987427...|14.334938053400155|\n",
      "|   547.0|14.532660310597253|          1|14.526560368987253|[547.0,14.5326603...|[0.01053583488332...| 14.52964878241854|\n",
      "+--------+------------------+-----------+------------------+--------------------+--------------------+------------------+\n",
      "only showing top 20 rows\n",
      "\n"
     ]
    },
    {
     "name": "stderr",
     "output_type": "stream",
     "text": [
      "                                                                                \r"
     ]
    }
   ],
   "source": [
    "predictions_final.show()"
   ]
  },
  {
   "cell_type": "code",
   "execution_count": 24,
   "id": "8dac6a33-5dbe-405e-b88f-98cc722a2082",
   "metadata": {},
   "outputs": [],
   "source": [
    "predictions_final_original = predictions_final.withColumn(\"prediction_pow10\", pow(10, col(\"prediction\"))) \\\n",
    "                               .withColumn(\"sellingprice_original\", pow(10, col(\"sellingprice_log10\")))"
   ]
  },
  {
   "cell_type": "code",
   "execution_count": 25,
   "id": "658d9491-4b3e-4524-9bc8-94e2f4150bf2",
   "metadata": {},
   "outputs": [
    {
     "name": "stdout",
     "output_type": "stream",
     "text": [
      "+--------+------------------+-----------+------------------+--------------------+--------------------+------------------+------------------+---------------------+\n",
      "|odometer|         mmr_log10|vehicle_age|sellingprice_log10|            features|     scaled_features|        prediction|  prediction_pow10|sellingprice_original|\n",
      "+--------+------------------+-----------+------------------+--------------------+--------------------+------------------+------------------+---------------------+\n",
      "|     1.0|3.0704073217401198|         16| 2.629409599102719|[1.0,3.0704073217...|[1.92611241011423...| 2.689689395011376| 489.4286575232816|   425.99999999999994|\n",
      "|     1.0|3.2902572693945182|         19| 3.230704313612569|[1.0,3.2902572693...|[1.92611241011423...|2.5723199122536267| 373.5252045534785|               1701.0|\n",
      "|     1.0|3.4274861090957853|         17| 3.230704313612569|[1.0,3.4274861090...|[1.92611241011423...|2.7474571041052362| 559.0583058451484|               1701.0|\n",
      "|     1.0|3.4984484031739997|         12| 2.699837725867246|[1.0,3.4984484031...|[1.92611241011423...| 2.877534428262197| 754.2831885255229|    501.0000000000002|\n",
      "|     1.0| 3.582744965691277|         12| 2.699837725867246|[1.0,3.5827449656...|[1.92611241011423...|3.0691724784282286|1172.6609910054376|    501.0000000000002|\n",
      "|     1.0|3.6021685513789974|         13| 3.000434077479319|[1.0,3.6021685513...|[1.92611241011423...|3.0691724784282286|1172.6609910054376|   1001.0000000000003|\n",
      "|     1.0|3.6675463395115164|          9| 3.531606631932722|[1.0,3.6675463395...|[1.92611241011423...|3.3731905544759706| 2361.514162497612|   3401.0000000000005|\n",
      "|     1.0| 3.699056854547668|         11| 3.342620042553348|[1.0,3.6990568545...|[1.92611241011423...| 3.366514052917737| 2325.487732878458|    2201.000000000001|\n",
      "|     1.0| 3.788945727023748|          8|3.4625477288026643|[1.0,3.7889457270...|[1.92611241011423...|3.5023266448984742| 3179.264384352755|    2901.000000000001|\n",
      "|     5.0| 4.429768424478605|          1| 4.429768424478605|[5.0,4.4297684244...|[9.63056205057119...| 4.421795970785648|26411.676594374763|   26900.999999999985|\n",
      "|    11.0|  4.24799780208012|          1| 4.267195203145967|[11.0,4.247997802...|[2.11872365112566...| 4.242631543747489|17483.627449933134|    18500.99999999998|\n",
      "|    19.0| 4.600983780123833|          0| 4.591075742639682|[19.0,4.600983780...|[3.65961357921705...|4.6477131932064815|  44433.7731228825|    39001.00000000004|\n",
      "|    53.0| 4.334473856911537|          0| 4.346372536824548|[53.0,4.334473856...|[0.00102083957736...| 4.315246340058487|20665.520108843702|              22201.0|\n",
      "|    60.0| 4.657065418709505|          1| 4.672107098145544|[60.0,4.657065418...|[0.00115566744606...| 4.646241751527908| 44283.48092970152|   47001.000000000044|\n",
      "|    97.0| 4.495558212547868|          1| 4.459407567166948|[97.0,4.495558212...|[0.00186832903781...| 4.477635846815118| 30035.56783049817|   28801.000000000007|\n",
      "|   291.0|4.1335708406140395|          1| 4.138334282071019|[291.0,4.13357084...|[0.00560498711343...| 4.114825359653359|13026.428488268744|   13751.000000000011|\n",
      "|   326.0|4.6551480429900955|          0|  4.67670275257035|[326.0,4.65514804...|[0.00627912645697...|4.6477131932064815|  44433.7731228825|    47501.00000000001|\n",
      "|   362.0| 4.195927313597225|          0| 4.190359716265324|[362.0,4.19592731...|[0.00697252692461...|  4.19723696295364|15748.419069257754|   15501.000000000007|\n",
      "|   418.0|4.3159913253599145|          0| 4.326356346034385|[418.0,4.31599132...|[0.00805114987427...| 4.315246340058487|20665.520108843702|   21200.999999999993|\n",
      "|   547.0| 4.374766670285203|          1| 4.372930404888794|[547.0,4.37476667...|[0.01053583488332...|4.3738601099706225|23651.577369000966|   23601.000000000022|\n",
      "+--------+------------------+-----------+------------------+--------------------+--------------------+------------------+------------------+---------------------+\n",
      "only showing top 20 rows\n",
      "\n"
     ]
    }
   ],
   "source": [
    "predictions_final_original.show()"
   ]
  },
  {
   "cell_type": "code",
   "execution_count": 26,
   "id": "f0e37d0c-1535-4a45-a3bf-654d9324e216",
   "metadata": {},
   "outputs": [
    {
     "name": "stderr",
     "output_type": "stream",
     "text": [
      "[Stage 3796:>                                                       (0 + 8) / 9]\r"
     ]
    },
    {
     "name": "stdout",
     "output_type": "stream",
     "text": [
      "+--------+------------------+-----------+------------------+--------------------+--------------------+------------------+\n",
      "|odometer|         mmr_log10|vehicle_age|sellingprice_log10|            features|     scaled_features|        prediction|\n",
      "+--------+------------------+-----------+------------------+--------------------+--------------------+------------------+\n",
      "|  5593.0|5.1903345000611365|          2|5.1986598356449765|[5593.0,5.1903345...|[0.10772746709768...| 4.646465218396836|\n",
      "|   170.0| 5.155339074478792|          0| 5.149222192747166|[170.0,5.15533907...|[0.00327439109719...|4.6477131932064815|\n",
      "|  5369.0| 5.133542101700256|          0|5.1303369854792535|[5369.0,5.1335421...|[0.10341297529903...|4.6477131932064815|\n",
      "|   980.0| 5.123854906326854|          0| 5.127108039356311|[980.0,5.12385490...|[0.01887590161911...|4.6477131932064815|\n",
      "|  8123.0| 5.123854906326854|          1| 5.113946693020772|[8123.0,5.1238549...|[0.15645811107357...| 4.645427205345637|\n",
      "| 14847.0| 5.082788959512213|          5| 5.089908642274492|[14847.0,5.082788...|[0.28596990952966...| 4.603808481538889|\n",
      "| 21689.0| 5.060701616810948|          2| 5.071885687752241|[21689.0,5.060701...|[0.41775452062967...| 4.603808481538889|\n",
      "|  8824.0| 5.079184865153228|          8| 5.070041562715277|[8824.0,5.0791848...|[0.16996015906848...|4.6789581424798214|\n",
      "|  2249.0| 5.033427776713536|          1| 5.033427776713536|[2249.0,5.0334277...|[0.04331826810346...| 4.646241751527908|\n",
      "| 14821.0| 5.029387836493177|          4| 5.017037515187184|[14821.0,5.029387...|[0.28546912030303...| 4.603808481538889|\n",
      "|   529.0| 5.000004342923105|          3|  5.00753868612672|[529.0,5.00000434...|[0.01018913464950...| 4.646465218396836|\n",
      "| 21128.0| 4.991230507246231|          5|4.9956395813883425|[21128.0,4.991230...|[0.40694903000893...| 4.603808481538889|\n",
      "| 14189.0| 5.000004342923105|          2| 4.991230507246231|[14189.0,5.000004...|[0.27329608987110...| 4.603808481538889|\n",
      "|  6848.0| 4.991230507246231|          1| 4.987223702536693|[6848.0,4.9912305...|[0.13190017784462...| 4.646241751527908|\n",
      "|  4088.0| 4.977728176785649|          1| 4.982275756916859|[4088.0,4.9777281...|[0.07873947532547...| 4.646241751527908|\n",
      "| 39651.0| 4.982275756916859|          8| 4.980007919146135|[39651.0,4.982275...|[0.76372283173439...| 4.634334278205169|\n",
      "| 27824.0| 4.963792547912095|          5| 4.977728176785649|[27824.0,4.963792...|[0.53592151699018...| 4.603066355412953|\n",
      "|  3887.0| 4.991230507246231|          0| 4.975436404193751|[3887.0,4.9912305...|[0.07486798938114...|4.6477131932064815|\n",
      "| 10934.0| 4.977728176785649|          1| 4.970816255708448|[10934.0,4.977728...|[0.21060113092189...| 4.645427205345637|\n",
      "| 29225.0| 4.977728176785649|          3| 4.963792547912095|[29225.0,4.977728...|[0.56290635185588...| 4.603066355412953|\n",
      "| 15367.0|  4.95424733490676|          2|4.9590461647617055|[15367.0,4.954247...|[0.29598569406225...| 4.603808481538889|\n",
      "| 17901.0| 4.973132473729186|          1|4.9590461647617055|[17901.0,4.973132...|[0.34479338253454...| 4.603182177337942|\n",
      "|  9411.0| 4.944487607286695|          2| 4.956653378012745|[9411.0,4.9444876...|[0.18126643891585...| 4.646053509546584|\n",
      "| 30961.0| 4.939524244480526|          2| 4.956173234591291|[30961.0,4.939524...|[0.59634366329546...| 4.603066355412953|\n",
      "|  5944.0| 4.944487607286695|          1|  4.95424733490676|[5944.0,4.9444876...|[0.11448812165719...| 4.646241751527908|\n",
      "|  9361.0|  4.95424733490676|          2|4.9530392961591305|[9361.0,4.9542473...|[0.18030338271079...| 4.646053509546584|\n",
      "| 13037.0|4.9345035011500435|          2|4.9469481779523825|[13037.0,4.934503...|[0.25110727490659...| 4.603808481538889|\n",
      "|  9552.0|  4.95424733490676|          1| 4.944487607286695|[9552.0,4.9542473...|[0.18398225741411...| 4.645427205345637|\n",
      "|  6860.0| 4.944487607286695|          0| 4.943252074334526|[6860.0,4.9444876...|[0.13213131133383...|4.6477131932064815|\n",
      "| 17025.0|  4.95424733490676|          1| 4.939524244480526|[17025.0,4.954247...|[0.32792063782194...| 4.603182177337942|\n",
      "| 11561.0|4.9345035011500435|          1|  4.93752290693622|[11561.0,4.934503...|[0.22267785573330...| 4.645427205345637|\n",
      "| 28156.0| 4.939524244480526|          2|4.9345035011500435|[28156.0,4.939524...|[0.54231621019176...| 4.603066355412953|\n",
      "| 13610.0| 4.929424035031084|          2| 4.929424035031084|[13610.0,4.929424...|[0.26214389901654...| 4.603808481538889|\n",
      "| 13957.0| 4.908490380505824|          2|4.9229900012836785|[13957.0,4.908490...|[0.26882750907964...| 4.603808481538889|\n",
      "|  4225.0| 4.939524244480526|          0| 4.921691676583977|[4225.0,4.9395242...|[0.08137824932732...|4.6477131932064815|\n",
      "| 23252.0|4.9345035011500435|          2| 4.921691676583977|[23252.0,4.934503...|[0.44785965759976...| 4.603066355412953|\n",
      "|  8049.0| 4.919083324808191|          1| 4.919083324808191|[8049.0,4.9190833...|[0.15503278789009...| 4.645427205345637|\n",
      "|  9071.0| 4.919083324808191|          2|  4.91777325068773|[9071.0,4.9190833...|[0.17471765672146...| 4.646053509546584|\n",
      "| 21502.0| 4.929424035031084|          2| 4.916459212693559|[21502.0,4.929424...|[0.41415269042276...| 4.603808481538889|\n",
      "| 33995.0| 4.913819148625592|          1| 4.915141186765986|[33995.0,4.913819...|[0.65478191381833...|4.6012264978792965|\n",
      "| 14565.0| 4.908490380505824|          2| 4.911162937473934|[14565.0,4.908490...|[0.28053827253313...| 4.603808481538889|\n",
      "| 19346.0| 4.929424035031084|          2| 4.911162937473934|[19346.0,4.929424...|[0.37262570686070...| 4.603808481538889|\n",
      "| 44373.0| 4.903095415639038|          1| 4.908490380505824|[44373.0,4.903095...|[0.85467385973999...|4.6012264978792965|\n",
      "| 12892.0| 4.919083324808191|          2| 4.905801275296868|[12892.0,4.919083...|[0.24831441191192...| 4.603808481538889|\n",
      "| 14953.0| 4.892100170532762|          2| 4.903095415639038|[14953.0,4.892100...|[0.28801158868438...| 4.603808481538889|\n",
      "|  9869.0| 4.903095415639038|          0| 4.901736137393909|[9869.0,4.9030954...|[0.19008803375417...|  4.64689864702421|\n",
      "|  8093.0| 4.897632588654153|          0|4.9009185236642265|[8093.0,4.8976325...|[0.15588027735054...|  4.64689864702421|\n",
      "|  2367.0| 4.892100170532762|          1| 4.899004750911769|[2367.0,4.8921001...|[0.04559108074740...| 4.646241751527908|\n",
      "| 29657.0| 4.892100170532762|          1| 4.899004750911769|[29657.0,4.892100...|[0.57122715746757...| 4.602440051212007|\n",
      "| 11597.0| 4.892100170532762|          0|4.8948751891237965|[11597.0,4.892100...|[0.22337125620094...|  4.64689864702421|\n",
      "+--------+------------------+-----------+------------------+--------------------+--------------------+------------------+\n",
      "only showing top 50 rows\n",
      "\n"
     ]
    },
    {
     "name": "stderr",
     "output_type": "stream",
     "text": [
      "                                                                                \r"
     ]
    }
   ],
   "source": [
    "predictions_sorted = predictions_final.orderBy(desc(\"sellingprice_log10\"), desc(\"prediction\"))\n",
    "predictions_sorted.show(50)"
   ]
  },
  {
   "cell_type": "markdown",
   "id": "c94b85b7-10e7-465f-a651-4b690019ce20",
   "metadata": {},
   "source": [
    "## Feature Tanpa MMR"
   ]
  },
  {
   "cell_type": "code",
   "execution_count": 73,
   "id": "e9995b70-df97-4e4e-bee9-1893969ec796",
   "metadata": {},
   "outputs": [
    {
     "name": "stderr",
     "output_type": "stream",
     "text": [
      "                                                                                \r"
     ]
    },
    {
     "name": "stdout",
     "output_type": "stream",
     "text": [
      "+---------+--------+-----------+------------+\n",
      "|condition|odometer|vehicle_age|sellingprice|\n",
      "+---------+--------+-----------+------------+\n",
      "|      1.9|  171217|         15|       900.0|\n",
      "|      2.0|  144741|         15|      2000.0|\n",
      "|      3.0|  117354|         14|      1300.0|\n",
      "|      3.1|  155111|         15|      2450.0|\n",
      "|      3.4|  147641|         15|      1800.0|\n",
      "|      1.9|  126664|         15|      2400.0|\n",
      "|      2.8|  128040|         15|      2600.0|\n",
      "|      3.0|  117490|         15|      2900.0|\n",
      "|      2.5|   75158|         15|      3200.0|\n",
      "|      1.9|  158377|         15|      1100.0|\n",
      "|      1.9|  232925|         15|      1100.0|\n",
      "|      1.0|  131484|         15|      1200.0|\n",
      "|      1.0|  159177|         15|      1100.0|\n",
      "|      2.5|  257853|         14|      2000.0|\n",
      "|      3.4|  166224|         15|      2750.0|\n",
      "|      2.7|  176070|         15|       500.0|\n",
      "|      2.7|       1|         15|       800.0|\n",
      "|      2.2|  151999|         15|      2200.0|\n",
      "|      1.9|  137771|         14|      2300.0|\n",
      "|      2.0|  167115|         15|       500.0|\n",
      "+---------+--------+-----------+------------+\n",
      "only showing top 20 rows\n",
      "\n",
      "Setting up Gradient-Boosted Trees model...\n",
      "Setting up the pipeline...\n",
      "Creating parameter grid for CrossValidator...\n",
      "Setting up CrossValidator...\n",
      "Fitting the model using cross-validation...\n"
     ]
    },
    {
     "name": "stderr",
     "output_type": "stream",
     "text": [
      "24/06/21 21:31:41 WARN RowBasedKeyValueBatch: Calling spill() on RowBasedKeyValueBatch. Will not spill but return 0.\n",
      "24/06/21 21:31:41 WARN RowBasedKeyValueBatch: Calling spill() on RowBasedKeyValueBatch. Will not spill but return 0.\n",
      "24/06/21 21:31:41 WARN RowBasedKeyValueBatch: Calling spill() on RowBasedKeyValueBatch. Will not spill but return 0.\n",
      "24/06/21 21:31:41 WARN RowBasedKeyValueBatch: Calling spill() on RowBasedKeyValueBatch. Will not spill but return 0.\n",
      "24/06/21 21:31:42 WARN RowBasedKeyValueBatch: Calling spill() on RowBasedKeyValueBatch. Will not spill but return 0.\n",
      "24/06/21 21:31:42 WARN RowBasedKeyValueBatch: Calling spill() on RowBasedKeyValueBatch. Will not spill but return 0.\n",
      "24/06/21 21:32:19 WARN RowBasedKeyValueBatch: Calling spill() on RowBasedKeyValueBatch. Will not spill but return 0.\n",
      "24/06/21 21:32:19 WARN RowBasedKeyValueBatch: Calling spill() on RowBasedKeyValueBatch. Will not spill but return 0.\n",
      "24/06/21 21:32:20 WARN RowBasedKeyValueBatch: Calling spill() on RowBasedKeyValueBatch. Will not spill but return 0.\n",
      "24/06/21 21:32:20 WARN RowBasedKeyValueBatch: Calling spill() on RowBasedKeyValueBatch. Will not spill but return 0.\n",
      "24/06/21 21:32:21 WARN RowBasedKeyValueBatch: Calling spill() on RowBasedKeyValueBatch. Will not spill but return 0.\n",
      "24/06/21 21:32:21 WARN RowBasedKeyValueBatch: Calling spill() on RowBasedKeyValueBatch. Will not spill but return 0.\n",
      "24/06/21 21:32:58 WARN RowBasedKeyValueBatch: Calling spill() on RowBasedKeyValueBatch. Will not spill but return 0.\n",
      "24/06/21 21:32:58 WARN RowBasedKeyValueBatch: Calling spill() on RowBasedKeyValueBatch. Will not spill but return 0.\n",
      "24/06/21 21:32:59 WARN RowBasedKeyValueBatch: Calling spill() on RowBasedKeyValueBatch. Will not spill but return 0.\n",
      "24/06/21 21:32:59 WARN RowBasedKeyValueBatch: Calling spill() on RowBasedKeyValueBatch. Will not spill but return 0.\n",
      "24/06/21 21:33:00 WARN RowBasedKeyValueBatch: Calling spill() on RowBasedKeyValueBatch. Will not spill but return 0.\n",
      "24/06/21 21:33:00 WARN RowBasedKeyValueBatch: Calling spill() on RowBasedKeyValueBatch. Will not spill but return 0.\n",
      "                                                                                \r"
     ]
    },
    {
     "name": "stdout",
     "output_type": "stream",
     "text": [
      "Model fitting complete.\n"
     ]
    }
   ],
   "source": [
    "features_df = df_filtered.select([\"condition\", \"odometer\", \"vehicle_age\", \"sellingprice\"])\n",
    "features_df.show()\n",
    "\n",
    "# Assemble the weighted features into a single feature vector\n",
    "assembler = VectorAssembler(\n",
    "    inputCols=[\"condition\", \"odometer\", \"vehicle_age\"],\n",
    "    outputCol=\"features\"\n",
    ")\n",
    "\n",
    "# Split the data into training and test sets\n",
    "(trainData, testData) = features_df.randomSplit([0.83, 0.17], seed=169)\n",
    "\n",
    "# # Cache the training data if it is not already cached\n",
    "# def cache_if_not_cached(df):\n",
    "#     if df.storageLevel == StorageLevel.NONE:\n",
    "#         df.cache()\n",
    "#     return df\n",
    "\n",
    "# trainData = cache_if_not_cached(trainData)\n",
    "\n",
    "# Set up the Gradient-Boosted Trees model\n",
    "print(\"Setting up Gradient-Boosted Trees model...\")\n",
    "gbt = GBTRegressor(\n",
    "    featuresCol=\"features\",\n",
    "    labelCol=\"sellingprice\",\n",
    "    seed=169\n",
    ")\n",
    "\n",
    "# Set up a pipeline with the assembler and GBTRegressor\n",
    "print(\"Setting up the pipeline...\")\n",
    "pipeline = Pipeline(stages=[assembler, gbt])\n",
    "\n",
    "# Create parameter grid for CrossValidator\n",
    "print(\"Creating parameter grid for CrossValidator...\")\n",
    "paramGrid = ParamGridBuilder() \\\n",
    "    .addGrid(gbt.maxIter, [10, 20]) \\\n",
    "    .build()\n",
    "\n",
    "# Set up CrossValidator\n",
    "print(\"Setting up CrossValidator...\")\n",
    "crossval = CrossValidator(\n",
    "    estimator=pipeline,\n",
    "    estimatorParamMaps=paramGrid,\n",
    "    evaluator=RegressionEvaluator(labelCol=\"sellingprice\"),\n",
    "    numFolds=5\n",
    ")\n",
    "\n",
    "# Fit the model using cross-validation\n",
    "print(\"Fitting the model using cross-validation...\")\n",
    "cvModel = crossval.fit(trainData)\n",
    "\n",
    "print(\"Model fitting complete.\")"
   ]
  },
  {
   "cell_type": "code",
   "execution_count": 78,
   "id": "94368984-cfb8-44ae-850b-e87ad81bcfa6",
   "metadata": {},
   "outputs": [],
   "source": [
    "# Extract the best model\n",
    "bestModel = cvModel.bestModel\n",
    "\n",
    "# Make predictionsq\n",
    "predictions = bestModel.transform(testData)"
   ]
  },
  {
   "cell_type": "markdown",
   "id": "b0397bbe-ed72-401b-88c8-dbcdb3ce8e3f",
   "metadata": {},
   "source": [
    "## MMR Only"
   ]
  },
  {
   "cell_type": "code",
   "execution_count": 89,
   "id": "09f83141-a287-4aa6-809e-c05bbd902a68",
   "metadata": {},
   "outputs": [
    {
     "name": "stderr",
     "output_type": "stream",
     "text": [
      "                                                                                \r"
     ]
    },
    {
     "name": "stdout",
     "output_type": "stream",
     "text": [
      "+------+------------+\n",
      "|   mmr|sellingprice|\n",
      "+------+------------+\n",
      "|1400.0|       900.0|\n",
      "|1525.0|      2000.0|\n",
      "|1475.0|      1300.0|\n",
      "|1500.0|      2450.0|\n",
      "|1475.0|      1800.0|\n",
      "|2400.0|      2400.0|\n",
      "|2425.0|      2600.0|\n",
      "|2775.0|      2900.0|\n",
      "|3275.0|      3200.0|\n",
      "|2150.0|      1100.0|\n",
      "| 875.0|      1100.0|\n",
      "|2350.0|      1200.0|\n",
      "|2175.0|      1100.0|\n",
      "|1275.0|      2000.0|\n",
      "|2425.0|      2750.0|\n",
      "|2150.0|       500.0|\n",
      "|3200.0|       800.0|\n",
      "|2525.0|      2200.0|\n",
      "|2825.0|      2300.0|\n",
      "|2225.0|       500.0|\n",
      "+------+------------+\n",
      "only showing top 20 rows\n",
      "\n",
      "Setting up Gradient-Boosted Trees model...\n",
      "Setting up the pipeline...\n",
      "Creating parameter grid for CrossValidator...\n",
      "Setting up CrossValidator...\n",
      "Fitting the model using cross-validation...\n"
     ]
    },
    {
     "name": "stderr",
     "output_type": "stream",
     "text": [
      "24/06/21 22:28:15 WARN RowBasedKeyValueBatch: Calling spill() on RowBasedKeyValueBatch. Will not spill but return 0.\n",
      "24/06/21 22:28:15 WARN RowBasedKeyValueBatch: Calling spill() on RowBasedKeyValueBatch. Will not spill but return 0.\n",
      "24/06/21 22:28:17 WARN RowBasedKeyValueBatch: Calling spill() on RowBasedKeyValueBatch. Will not spill but return 0.\n",
      "24/06/21 22:28:17 WARN RowBasedKeyValueBatch: Calling spill() on RowBasedKeyValueBatch. Will not spill but return 0.\n",
      "24/06/21 22:28:17 WARN RowBasedKeyValueBatch: Calling spill() on RowBasedKeyValueBatch. Will not spill but return 0.\n",
      "24/06/21 22:28:17 WARN RowBasedKeyValueBatch: Calling spill() on RowBasedKeyValueBatch. Will not spill but return 0.\n",
      "24/06/21 22:28:54 WARN RowBasedKeyValueBatch: Calling spill() on RowBasedKeyValueBatch. Will not spill but return 0.\n",
      "24/06/21 22:28:54 WARN RowBasedKeyValueBatch: Calling spill() on RowBasedKeyValueBatch. Will not spill but return 0.\n",
      "24/06/21 22:28:55 WARN RowBasedKeyValueBatch: Calling spill() on RowBasedKeyValueBatch. Will not spill but return 0.\n",
      "24/06/21 22:28:55 WARN RowBasedKeyValueBatch: Calling spill() on RowBasedKeyValueBatch. Will not spill but return 0.\n",
      "24/06/21 22:28:56 WARN RowBasedKeyValueBatch: Calling spill() on RowBasedKeyValueBatch. Will not spill but return 0.\n",
      "24/06/21 22:28:56 WARN RowBasedKeyValueBatch: Calling spill() on RowBasedKeyValueBatch. Will not spill but return 0.\n",
      "24/06/21 22:29:32 WARN RowBasedKeyValueBatch: Calling spill() on RowBasedKeyValueBatch. Will not spill but return 0.\n",
      "24/06/21 22:29:32 WARN RowBasedKeyValueBatch: Calling spill() on RowBasedKeyValueBatch. Will not spill but return 0.\n",
      "24/06/21 22:29:33 WARN RowBasedKeyValueBatch: Calling spill() on RowBasedKeyValueBatch. Will not spill but return 0.\n",
      "24/06/21 22:29:33 WARN RowBasedKeyValueBatch: Calling spill() on RowBasedKeyValueBatch. Will not spill but return 0.\n",
      "24/06/21 22:29:34 WARN RowBasedKeyValueBatch: Calling spill() on RowBasedKeyValueBatch. Will not spill but return 0.\n",
      "24/06/21 22:29:34 WARN RowBasedKeyValueBatch: Calling spill() on RowBasedKeyValueBatch. Will not spill but return 0.\n",
      "                                                                                \r"
     ]
    },
    {
     "name": "stdout",
     "output_type": "stream",
     "text": [
      "Model fitting complete.\n"
     ]
    }
   ],
   "source": [
    "features_df = df_filtered.select([\"mmr\", \"sellingprice\"])\n",
    "features_df.show()\n",
    "\n",
    "# Assemble the weighted features into a single feature vector\n",
    "assembler = VectorAssembler(\n",
    "    inputCols=[\"mmr\"],\n",
    "    outputCol=\"features\"\n",
    ")\n",
    "\n",
    "# Split the data into training and test sets\n",
    "(trainData, testData) = features_df.randomSplit([0.85, 0.15], seed=169)\n",
    "\n",
    "# # Cache the training data if it is not already cached\n",
    "# def cache_if_not_cached(df):\n",
    "#     if df.storageLevel == StorageLevel.NONE:\n",
    "#         df.cache()\n",
    "#     return df\n",
    "\n",
    "# trainData = cache_if_not_cached(trainData)\n",
    "\n",
    "# Set up the Gradient-Boosted Trees model\n",
    "print(\"Setting up Gradient-Boosted Trees model...\")\n",
    "gbt = GBTRegressor(\n",
    "    featuresCol=\"features\",\n",
    "    labelCol=\"sellingprice\",\n",
    "    seed=169\n",
    ")\n",
    "\n",
    "# Set up a pipeline with the assembler and GBTRegressor\n",
    "print(\"Setting up the pipeline...\")\n",
    "pipeline = Pipeline(stages=[assembler, gbt])\n",
    "\n",
    "# Create parameter grid for CrossValidator\n",
    "print(\"Creating parameter grid for CrossValidator...\")\n",
    "paramGrid = ParamGridBuilder() \\\n",
    "    .addGrid(gbt.maxIter, [10, 20]) \\\n",
    "    .build()\n",
    "\n",
    "# Set up CrossValidator\n",
    "print(\"Setting up CrossValidator...\")\n",
    "crossval = CrossValidator(\n",
    "    estimator=pipeline,\n",
    "    estimatorParamMaps=paramGrid,\n",
    "    evaluator=RegressionEvaluator(labelCol=\"sellingprice\"),\n",
    "    numFolds=5\n",
    ")\n",
    "\n",
    "# Fit the model using cross-validation\n",
    "print(\"Fitting the model using cross-validation...\")\n",
    "cvModel = crossval.fit(trainData)\n",
    "\n",
    "print(\"Model fitting complete.\")"
   ]
  },
  {
   "cell_type": "code",
   "execution_count": 90,
   "id": "b0914260-59fb-4e70-9102-397a0ee15d00",
   "metadata": {},
   "outputs": [],
   "source": [
    "# Extract the best model\n",
    "bestModel = cvModel.bestModel\n",
    "\n",
    "# Make predictionsq\n",
    "predictions = bestModel.transform(testData)"
   ]
  },
  {
   "cell_type": "markdown",
   "id": "81345433-fd6b-4042-94f1-ce5a135f10b4",
   "metadata": {},
   "source": [
    "# Final Evaluation"
   ]
  },
  {
   "cell_type": "code",
   "execution_count": 25,
   "id": "65d0038c",
   "metadata": {},
   "outputs": [],
   "source": [
    "# Import evaluation models\n",
    "\n",
    "from pyspark.ml.evaluation import RegressionEvaluator\n",
    "from pyspark.mllib.evaluation import MulticlassMetrics"
   ]
  },
  {
   "cell_type": "markdown",
   "id": "03eebd47-b764-466e-89b3-9e03c8fc6a71",
   "metadata": {},
   "source": [
    "## MMR Only Result"
   ]
  },
  {
   "cell_type": "code",
   "execution_count": 92,
   "id": "7f3a2fb5-9f58-4951-ab4d-40b049c82cbd",
   "metadata": {},
   "outputs": [
    {
     "name": "stderr",
     "output_type": "stream",
     "text": [
      "24/06/21 22:31:58 WARN RowBasedKeyValueBatch: Calling spill() on RowBasedKeyValueBatch. Will not spill but return 0.\n",
      "24/06/21 22:31:58 WARN RowBasedKeyValueBatch: Calling spill() on RowBasedKeyValueBatch. Will not spill but return 0.\n",
      "24/06/21 22:31:59 WARN RowBasedKeyValueBatch: Calling spill() on RowBasedKeyValueBatch. Will not spill but return 0.\n",
      "24/06/21 22:31:59 WARN RowBasedKeyValueBatch: Calling spill() on RowBasedKeyValueBatch. Will not spill but return 0.\n",
      "24/06/21 22:32:00 WARN RowBasedKeyValueBatch: Calling spill() on RowBasedKeyValueBatch. Will not spill but return 0.\n",
      "24/06/21 22:32:00 WARN RowBasedKeyValueBatch: Calling spill() on RowBasedKeyValueBatch. Will not spill but return 0.\n",
      "24/06/21 22:32:41 WARN RowBasedKeyValueBatch: Calling spill() on RowBasedKeyValueBatch. Will not spill but return 0.\n",
      "24/06/21 22:32:41 WARN RowBasedKeyValueBatch: Calling spill() on RowBasedKeyValueBatch. Will not spill but return 0.\n",
      "24/06/21 22:32:42 WARN RowBasedKeyValueBatch: Calling spill() on RowBasedKeyValueBatch. Will not spill but return 0.\n",
      "24/06/21 22:32:42 WARN RowBasedKeyValueBatch: Calling spill() on RowBasedKeyValueBatch. Will not spill but return 0.\n",
      "24/06/21 22:32:42 WARN RowBasedKeyValueBatch: Calling spill() on RowBasedKeyValueBatch. Will not spill but return 0.\n",
      "24/06/21 22:32:42 WARN RowBasedKeyValueBatch: Calling spill() on RowBasedKeyValueBatch. Will not spill but return 0.\n",
      "24/06/21 22:33:20 WARN RowBasedKeyValueBatch: Calling spill() on RowBasedKeyValueBatch. Will not spill but return 0.\n",
      "24/06/21 22:33:20 WARN RowBasedKeyValueBatch: Calling spill() on RowBasedKeyValueBatch. Will not spill but return 0.\n",
      "24/06/21 22:33:21 WARN RowBasedKeyValueBatch: Calling spill() on RowBasedKeyValueBatch. Will not spill but return 0.\n",
      "24/06/21 22:33:21 WARN RowBasedKeyValueBatch: Calling spill() on RowBasedKeyValueBatch. Will not spill but return 0.\n",
      "24/06/21 22:33:22 WARN RowBasedKeyValueBatch: Calling spill() on RowBasedKeyValueBatch. Will not spill but return 0.\n",
      "24/06/21 22:33:22 WARN RowBasedKeyValueBatch: Calling spill() on RowBasedKeyValueBatch. Will not spill but return 0.\n",
      "                                                                                \r"
     ]
    },
    {
     "name": "stdout",
     "output_type": "stream",
     "text": [
      "Root Mean Squared Error (RMSE) 2337.0907236588814\n",
      "Mean Squared Error (MSE) 5461993.050612394\n",
      "R-squared (R²) 0.9343556424233488\n"
     ]
    },
    {
     "name": "stderr",
     "output_type": "stream",
     "text": [
      "24/06/21 22:34:05 WARN RowBasedKeyValueBatch: Calling spill() on RowBasedKeyValueBatch. Will not spill but return 0.\n",
      "24/06/21 22:34:05 WARN RowBasedKeyValueBatch: Calling spill() on RowBasedKeyValueBatch. Will not spill but return 0.\n",
      "24/06/21 22:34:06 WARN RowBasedKeyValueBatch: Calling spill() on RowBasedKeyValueBatch. Will not spill but return 0.\n",
      "24/06/21 22:34:06 WARN RowBasedKeyValueBatch: Calling spill() on RowBasedKeyValueBatch. Will not spill but return 0.\n",
      "24/06/21 22:34:07 WARN RowBasedKeyValueBatch: Calling spill() on RowBasedKeyValueBatch. Will not spill but return 0.\n",
      "24/06/21 22:34:07 WARN RowBasedKeyValueBatch: Calling spill() on RowBasedKeyValueBatch. Will not spill but return 0.\n",
      "[Stage 20738:================================================>      (8 + 1) / 9]\r"
     ]
    },
    {
     "name": "stdout",
     "output_type": "stream",
     "text": [
      "Mean Absolute Percentage Error (MAPE) on test data = 14.585752940610092%\n"
     ]
    },
    {
     "name": "stderr",
     "output_type": "stream",
     "text": [
      "                                                                                \r"
     ]
    }
   ],
   "source": [
    "evaluator1 = RegressionEvaluator(\n",
    "    labelCol=\"sellingprice\", predictionCol=\"prediction\", metricName=\"rmse\")\n",
    "evaluator2 = RegressionEvaluator(\n",
    "    labelCol=\"sellingprice\", predictionCol=\"prediction\", metricName=\"mse\")\n",
    "evaluator3 = RegressionEvaluator(\n",
    "    labelCol=\"sellingprice\", predictionCol=\"prediction\", metricName=\"r2\")\n",
    "rmse = evaluator1.evaluate(predictions)\n",
    "mse = evaluator2.evaluate(predictions)\n",
    "r2 = evaluator3.evaluate(predictions)\n",
    "print(\"Root Mean Squared Error (RMSE)\", rmse)\n",
    "print(\"Mean Squared Error (MSE)\", mse)\n",
    "print(\"R-squared (R²)\", r2)\n",
    "\n",
    "predictions2 = predictions.withColumn(\"ape\", abs((col(\"sellingprice\") - col(\"prediction\")) / col(\"sellingprice\")))\n",
    "mape = predictions2.select(mean(col(\"ape\"))).collect()[0][0] * 100\n",
    "\n",
    "print(f\"Mean Absolute Percentage Error (MAPE) on test data = {mape}%\")"
   ]
  },
  {
   "cell_type": "markdown",
   "id": "05db6d49-70c6-446b-81d2-30abca03b9ac",
   "metadata": {},
   "source": [
    "## Feature Tanpa MMR"
   ]
  },
  {
   "cell_type": "code",
   "execution_count": 79,
   "id": "390e224d-e1cd-4cd8-94aa-f8cc39def3c1",
   "metadata": {},
   "outputs": [
    {
     "name": "stderr",
     "output_type": "stream",
     "text": [
      "24/06/21 21:37:55 WARN RowBasedKeyValueBatch: Calling spill() on RowBasedKeyValueBatch. Will not spill but return 0.\n",
      "24/06/21 21:37:55 WARN RowBasedKeyValueBatch: Calling spill() on RowBasedKeyValueBatch. Will not spill but return 0.\n",
      "24/06/21 21:37:56 WARN RowBasedKeyValueBatch: Calling spill() on RowBasedKeyValueBatch. Will not spill but return 0.\n",
      "24/06/21 21:37:56 WARN RowBasedKeyValueBatch: Calling spill() on RowBasedKeyValueBatch. Will not spill but return 0.\n",
      "24/06/21 21:37:56 WARN RowBasedKeyValueBatch: Calling spill() on RowBasedKeyValueBatch. Will not spill but return 0.\n",
      "24/06/21 21:37:56 WARN RowBasedKeyValueBatch: Calling spill() on RowBasedKeyValueBatch. Will not spill but return 0.\n",
      "24/06/21 21:38:37 WARN RowBasedKeyValueBatch: Calling spill() on RowBasedKeyValueBatch. Will not spill but return 0.\n",
      "24/06/21 21:38:37 WARN RowBasedKeyValueBatch: Calling spill() on RowBasedKeyValueBatch. Will not spill but return 0.\n",
      "24/06/21 21:38:38 WARN RowBasedKeyValueBatch: Calling spill() on RowBasedKeyValueBatch. Will not spill but return 0.\n",
      "24/06/21 21:38:38 WARN RowBasedKeyValueBatch: Calling spill() on RowBasedKeyValueBatch. Will not spill but return 0.\n",
      "24/06/21 21:38:38 WARN RowBasedKeyValueBatch: Calling spill() on RowBasedKeyValueBatch. Will not spill but return 0.\n",
      "24/06/21 21:38:38 WARN RowBasedKeyValueBatch: Calling spill() on RowBasedKeyValueBatch. Will not spill but return 0.\n",
      "24/06/21 21:39:16 WARN RowBasedKeyValueBatch: Calling spill() on RowBasedKeyValueBatch. Will not spill but return 0.\n",
      "24/06/21 21:39:16 WARN RowBasedKeyValueBatch: Calling spill() on RowBasedKeyValueBatch. Will not spill but return 0.\n",
      "24/06/21 21:39:16 WARN RowBasedKeyValueBatch: Calling spill() on RowBasedKeyValueBatch. Will not spill but return 0.\n",
      "24/06/21 21:39:16 WARN RowBasedKeyValueBatch: Calling spill() on RowBasedKeyValueBatch. Will not spill but return 0.\n",
      "24/06/21 21:39:17 WARN RowBasedKeyValueBatch: Calling spill() on RowBasedKeyValueBatch. Will not spill but return 0.\n",
      "24/06/21 21:39:17 WARN RowBasedKeyValueBatch: Calling spill() on RowBasedKeyValueBatch. Will not spill but return 0.\n",
      "                                                                                \r"
     ]
    },
    {
     "name": "stdout",
     "output_type": "stream",
     "text": [
      "Root Mean Squared Error (RMSE) 6692.551272472602\n",
      "Mean Squared Error (MSE) 44790242.53467465\n",
      "R-squared (R²) 0.4598661209178735\n"
     ]
    },
    {
     "name": "stderr",
     "output_type": "stream",
     "text": [
      "24/06/21 21:39:59 WARN RowBasedKeyValueBatch: Calling spill() on RowBasedKeyValueBatch. Will not spill but return 0.\n",
      "24/06/21 21:39:59 WARN RowBasedKeyValueBatch: Calling spill() on RowBasedKeyValueBatch. Will not spill but return 0.\n",
      "24/06/21 21:40:00 WARN RowBasedKeyValueBatch: Calling spill() on RowBasedKeyValueBatch. Will not spill but return 0.\n",
      "24/06/21 21:40:00 WARN RowBasedKeyValueBatch: Calling spill() on RowBasedKeyValueBatch. Will not spill but return 0.\n",
      "24/06/21 21:40:01 WARN RowBasedKeyValueBatch: Calling spill() on RowBasedKeyValueBatch. Will not spill but return 0.\n",
      "24/06/21 21:40:01 WARN RowBasedKeyValueBatch: Calling spill() on RowBasedKeyValueBatch. Will not spill but return 0.\n",
      "[Stage 9672:=================================================>      (8 + 1) / 9]\r"
     ]
    },
    {
     "name": "stdout",
     "output_type": "stream",
     "text": [
      "Mean Absolute Percentage Error (MAPE) on test data = 45.43302348531807%\n"
     ]
    },
    {
     "name": "stderr",
     "output_type": "stream",
     "text": [
      "                                                                                \r"
     ]
    }
   ],
   "source": [
    "evaluator1 = RegressionEvaluator(\n",
    "    labelCol=\"sellingprice\", predictionCol=\"prediction\", metricName=\"rmse\")\n",
    "evaluator2 = RegressionEvaluator(\n",
    "    labelCol=\"sellingprice\", predictionCol=\"prediction\", metricName=\"mse\")\n",
    "evaluator3 = RegressionEvaluator(\n",
    "    labelCol=\"sellingprice\", predictionCol=\"prediction\", metricName=\"r2\")\n",
    "rmse = evaluator1.evaluate(predictions)\n",
    "mse = evaluator2.evaluate(predictions)\n",
    "r2 = evaluator3.evaluate(predictions)\n",
    "print(\"Root Mean Squared Error (RMSE)\", rmse)\n",
    "print(\"Mean Squared Error (MSE)\", mse)\n",
    "print(\"R-squared (R²)\", r2)\n",
    "\n",
    "predictions2 = predictions.withColumn(\"ape\", abs((col(\"sellingprice\") - col(\"prediction\")) / col(\"sellingprice\")))\n",
    "mape = predictions2.select(mean(col(\"ape\"))).collect()[0][0] * 100\n",
    "\n",
    "print(f\"Mean Absolute Percentage Error (MAPE) on test data = {mape}%\")"
   ]
  },
  {
   "cell_type": "markdown",
   "id": "4e8b836a-4bb4-4f41-aa4d-4289afa7cbef",
   "metadata": {
    "jp-MarkdownHeadingCollapsed": true
   },
   "source": [
    "## Standard Scaler + Double Type"
   ]
  },
  {
   "cell_type": "code",
   "execution_count": 84,
   "id": "0e5e298a-ef11-46d0-a8e6-7548bea8ec57",
   "metadata": {},
   "outputs": [
    {
     "name": "stderr",
     "output_type": "stream",
     "text": [
      "24/06/21 22:02:57 WARN RowBasedKeyValueBatch: Calling spill() on RowBasedKeyValueBatch. Will not spill but return 0.\n",
      "24/06/21 22:02:57 WARN RowBasedKeyValueBatch: Calling spill() on RowBasedKeyValueBatch. Will not spill but return 0.\n",
      "24/06/21 22:02:58 WARN RowBasedKeyValueBatch: Calling spill() on RowBasedKeyValueBatch. Will not spill but return 0.\n",
      "24/06/21 22:02:58 WARN RowBasedKeyValueBatch: Calling spill() on RowBasedKeyValueBatch. Will not spill but return 0.\n",
      "24/06/21 22:02:58 WARN RowBasedKeyValueBatch: Calling spill() on RowBasedKeyValueBatch. Will not spill but return 0.\n",
      "24/06/21 22:02:58 WARN RowBasedKeyValueBatch: Calling spill() on RowBasedKeyValueBatch. Will not spill but return 0.\n",
      "24/06/21 22:03:39 WARN RowBasedKeyValueBatch: Calling spill() on RowBasedKeyValueBatch. Will not spill but return 0.\n",
      "24/06/21 22:03:39 WARN RowBasedKeyValueBatch: Calling spill() on RowBasedKeyValueBatch. Will not spill but return 0.\n",
      "24/06/21 22:03:40 WARN RowBasedKeyValueBatch: Calling spill() on RowBasedKeyValueBatch. Will not spill but return 0.\n",
      "24/06/21 22:03:40 WARN RowBasedKeyValueBatch: Calling spill() on RowBasedKeyValueBatch. Will not spill but return 0.\n",
      "24/06/21 22:03:41 WARN RowBasedKeyValueBatch: Calling spill() on RowBasedKeyValueBatch. Will not spill but return 0.\n",
      "24/06/21 22:03:41 WARN RowBasedKeyValueBatch: Calling spill() on RowBasedKeyValueBatch. Will not spill but return 0.\n",
      "24/06/21 22:04:18 WARN RowBasedKeyValueBatch: Calling spill() on RowBasedKeyValueBatch. Will not spill but return 0.\n",
      "24/06/21 22:04:18 WARN RowBasedKeyValueBatch: Calling spill() on RowBasedKeyValueBatch. Will not spill but return 0.\n",
      "24/06/21 22:04:19 WARN RowBasedKeyValueBatch: Calling spill() on RowBasedKeyValueBatch. Will not spill but return 0.\n",
      "24/06/21 22:04:19 WARN RowBasedKeyValueBatch: Calling spill() on RowBasedKeyValueBatch. Will not spill but return 0.\n",
      "24/06/21 22:04:19 WARN RowBasedKeyValueBatch: Calling spill() on RowBasedKeyValueBatch. Will not spill but return 0.\n",
      "24/06/21 22:04:19 WARN RowBasedKeyValueBatch: Calling spill() on RowBasedKeyValueBatch. Will not spill but return 0.\n",
      "                                                                                \r"
     ]
    },
    {
     "name": "stdout",
     "output_type": "stream",
     "text": [
      "Root Mean Squared Error (RMSE) 2299.5736645171896\n",
      "Mean Squared Error (MSE) 5288039.038541016\n",
      "R-squared (R²) 0.9363443325989027\n"
     ]
    },
    {
     "name": "stderr",
     "output_type": "stream",
     "text": [
      "24/06/21 22:05:01 WARN RowBasedKeyValueBatch: Calling spill() on RowBasedKeyValueBatch. Will not spill but return 0.\n",
      "24/06/21 22:05:01 WARN RowBasedKeyValueBatch: Calling spill() on RowBasedKeyValueBatch. Will not spill but return 0.\n",
      "24/06/21 22:05:02 WARN RowBasedKeyValueBatch: Calling spill() on RowBasedKeyValueBatch. Will not spill but return 0.\n",
      "24/06/21 22:05:02 WARN RowBasedKeyValueBatch: Calling spill() on RowBasedKeyValueBatch. Will not spill but return 0.\n",
      "24/06/21 22:05:03 WARN RowBasedKeyValueBatch: Calling spill() on RowBasedKeyValueBatch. Will not spill but return 0.\n",
      "24/06/21 22:05:03 WARN RowBasedKeyValueBatch: Calling spill() on RowBasedKeyValueBatch. Will not spill but return 0.\n",
      "[Stage 15205:================================================>      (8 + 1) / 9]\r"
     ]
    },
    {
     "name": "stdout",
     "output_type": "stream",
     "text": [
      "Mean Absolute Percentage Error (MAPE) on test data = 12.584078818054733%\n"
     ]
    },
    {
     "name": "stderr",
     "output_type": "stream",
     "text": [
      "                                                                                \r"
     ]
    }
   ],
   "source": [
    "evaluator1 = RegressionEvaluator(\n",
    "    labelCol=\"sellingprice\", predictionCol=\"prediction\", metricName=\"rmse\")\n",
    "evaluator2 = RegressionEvaluator(\n",
    "    labelCol=\"sellingprice\", predictionCol=\"prediction\", metricName=\"mse\")\n",
    "evaluator3 = RegressionEvaluator(\n",
    "    labelCol=\"sellingprice\", predictionCol=\"prediction\", metricName=\"r2\")\n",
    "rmse = evaluator1.evaluate(predictions)\n",
    "mse = evaluator2.evaluate(predictions)\n",
    "r2 = evaluator3.evaluate(predictions)\n",
    "print(\"Root Mean Squared Error (RMSE)\", rmse)\n",
    "print(\"Mean Squared Error (MSE)\", mse)\n",
    "print(\"R-squared (R²)\", r2)\n",
    "\n",
    "predictions2 = predictions.withColumn(\"ape\", abs((col(\"sellingprice\") - col(\"prediction\")) / col(\"sellingprice\")))\n",
    "mape = predictions2.select(mean(col(\"ape\"))).collect()[0][0] * 100\n",
    "\n",
    "print(f\"Mean Absolute Percentage Error (MAPE) on test data = {mape}%\")"
   ]
  },
  {
   "cell_type": "markdown",
   "id": "86566424-d4cc-4a89-803d-fc9a411ac384",
   "metadata": {
    "jp-MarkdownHeadingCollapsed": true
   },
   "source": [
    "## Log + Double Casting Result (Final With Log)"
   ]
  },
  {
   "cell_type": "code",
   "execution_count": 32,
   "id": "b6d8c0f5-bbc8-4067-bf9c-01c03d5d11fe",
   "metadata": {},
   "outputs": [
    {
     "name": "stderr",
     "output_type": "stream",
     "text": [
      "[Stage 7556:=================================================>      (7 + 1) / 8]\r"
     ]
    },
    {
     "name": "stdout",
     "output_type": "stream",
     "text": [
      "Root Mean Squared Error (RMSE) 0.313529383630447\n",
      "Mean Squared Error (MSE) 0.09830067439968802\n",
      "R-squared (R²) 0.9388540670818821\n"
     ]
    },
    {
     "name": "stderr",
     "output_type": "stream",
     "text": [
      "                                                                                \r"
     ]
    }
   ],
   "source": [
    "evaluator1 = RegressionEvaluator(\n",
    "    labelCol=\"sellingprice_log2\", predictionCol=\"prediction\", metricName=\"rmse\")\n",
    "evaluator2 = RegressionEvaluator(\n",
    "    labelCol=\"sellingprice_log2\", predictionCol=\"prediction\", metricName=\"mse\")\n",
    "evaluator3 = RegressionEvaluator(\n",
    "    labelCol=\"sellingprice_log2\", predictionCol=\"prediction\", metricName=\"r2\")\n",
    "rmse = evaluator1.evaluate(predictions_final)\n",
    "mse = evaluator2.evaluate(predictions_final)\n",
    "r2 = evaluator3.evaluate(predictions_final)\n",
    "print(\"Root Mean Squared Error (RMSE)\", rmse)\n",
    "print(\"Mean Squared Error (MSE)\", mse)\n",
    "print(\"R-squared (R²)\", r2)"
   ]
  },
  {
   "cell_type": "code",
   "execution_count": 33,
   "id": "8ea34a49-f565-4cef-98a4-fd7889f0fe74",
   "metadata": {},
   "outputs": [
    {
     "name": "stderr",
     "output_type": "stream",
     "text": [
      "[Stage 7563:=======>                                                (1 + 7) / 8]\r"
     ]
    },
    {
     "name": "stdout",
     "output_type": "stream",
     "text": [
      "Mean Absolute Percentage Error (MAPE) on test data = 1.5384597241089717%\n"
     ]
    },
    {
     "name": "stderr",
     "output_type": "stream",
     "text": [
      "                                                                                \r"
     ]
    }
   ],
   "source": [
    "predictions2 = predictions_final.withColumn(\"ape\", abs((col(\"sellingprice_log2\") - col(\"prediction\")) / col(\"sellingprice_log2\")))\n",
    "mape = predictions2.select(mean(col(\"ape\"))).collect()[0][0] * 100\n",
    "\n",
    "print(f\"Mean Absolute Percentage Error (MAPE) on test data = {mape}%\")"
   ]
  },
  {
   "cell_type": "markdown",
   "id": "5e6797c9-c7ed-47c5-8363-1b00e43ab617",
   "metadata": {
    "jp-MarkdownHeadingCollapsed": true
   },
   "source": [
    "## Tanpa Standard Scaler, Split 0.8 0.2, Seed = 42"
   ]
  },
  {
   "cell_type": "code",
   "execution_count": 48,
   "id": "4470b2e3-e4e7-49e0-85d3-ceeca0264a07",
   "metadata": {},
   "outputs": [
    {
     "name": "stderr",
     "output_type": "stream",
     "text": [
      "24/06/21 01:38:02 WARN RowBasedKeyValueBatch: Calling spill() on RowBasedKeyValueBatch. Will not spill but return 0.\n",
      "24/06/21 01:38:02 WARN RowBasedKeyValueBatch: Calling spill() on RowBasedKeyValueBatch. Will not spill but return 0.\n",
      "24/06/21 01:38:03 WARN RowBasedKeyValueBatch: Calling spill() on RowBasedKeyValueBatch. Will not spill but return 0.\n",
      "24/06/21 01:38:03 WARN RowBasedKeyValueBatch: Calling spill() on RowBasedKeyValueBatch. Will not spill but return 0.\n",
      "24/06/21 01:38:59 WARN RowBasedKeyValueBatch: Calling spill() on RowBasedKeyValueBatch. Will not spill but return 0.\n",
      "24/06/21 01:38:59 WARN RowBasedKeyValueBatch: Calling spill() on RowBasedKeyValueBatch. Will not spill but return 0.\n",
      "24/06/21 01:39:00 WARN RowBasedKeyValueBatch: Calling spill() on RowBasedKeyValueBatch. Will not spill but return 0.\n",
      "24/06/21 01:39:00 WARN RowBasedKeyValueBatch: Calling spill() on RowBasedKeyValueBatch. Will not spill but return 0.\n",
      "24/06/21 01:39:54 WARN RowBasedKeyValueBatch: Calling spill() on RowBasedKeyValueBatch. Will not spill but return 0.\n",
      "24/06/21 01:39:54 WARN RowBasedKeyValueBatch: Calling spill() on RowBasedKeyValueBatch. Will not spill but return 0.\n",
      "24/06/21 01:39:55 WARN RowBasedKeyValueBatch: Calling spill() on RowBasedKeyValueBatch. Will not spill but return 0.\n",
      "24/06/21 01:39:55 WARN RowBasedKeyValueBatch: Calling spill() on RowBasedKeyValueBatch. Will not spill but return 0.\n",
      "[Stage 16805:================================================>      (8 + 1) / 9]\r"
     ]
    },
    {
     "name": "stdout",
     "output_type": "stream",
     "text": [
      "Root Mean Squared Error (RMSE) 2299.5736645171896\n",
      "Mean Squared Error (MSE) 5288039.038541016\n",
      "R-squared (R²) 0.9363443325989027\n"
     ]
    },
    {
     "name": "stderr",
     "output_type": "stream",
     "text": [
      "                                                                                \r"
     ]
    }
   ],
   "source": [
    "evaluator1 = RegressionEvaluator(\n",
    "    labelCol=\"sellingprice\", predictionCol=\"prediction\", metricName=\"rmse\")\n",
    "evaluator2 = RegressionEvaluator(\n",
    "    labelCol=\"sellingprice\", predictionCol=\"prediction\", metricName=\"mse\")\n",
    "evaluator3 = RegressionEvaluator(\n",
    "    labelCol=\"sellingprice\", predictionCol=\"prediction\", metricName=\"r2\")\n",
    "rmse = evaluator1.evaluate(predictions)\n",
    "mse = evaluator2.evaluate(predictions)\n",
    "r2 = evaluator3.evaluate(predictions)\n",
    "print(\"Root Mean Squared Error (RMSE)\", rmse)\n",
    "print(\"Mean Squared Error (MSE)\", mse)\n",
    "print(\"R-squared (R²)\", r2)"
   ]
  },
  {
   "cell_type": "code",
   "execution_count": 49,
   "id": "cda4fed3-9232-4f91-bc35-fc43d9f0d54b",
   "metadata": {},
   "outputs": [
    {
     "name": "stderr",
     "output_type": "stream",
     "text": [
      "24/06/21 01:40:57 WARN RowBasedKeyValueBatch: Calling spill() on RowBasedKeyValueBatch. Will not spill but return 0.\n",
      "24/06/21 01:40:57 WARN RowBasedKeyValueBatch: Calling spill() on RowBasedKeyValueBatch. Will not spill but return 0.\n",
      "24/06/21 01:40:58 WARN RowBasedKeyValueBatch: Calling spill() on RowBasedKeyValueBatch. Will not spill but return 0.\n",
      "24/06/21 01:40:58 WARN RowBasedKeyValueBatch: Calling spill() on RowBasedKeyValueBatch. Will not spill but return 0.\n",
      "[Stage 16817:================================================>      (8 + 1) / 9]\r"
     ]
    },
    {
     "name": "stdout",
     "output_type": "stream",
     "text": [
      "Mean Absolute Percentage Error (MAPE) on test data = 12.584078818054733%\n"
     ]
    },
    {
     "name": "stderr",
     "output_type": "stream",
     "text": [
      "                                                                                \r"
     ]
    }
   ],
   "source": [
    "predictions2 = predictions.withColumn(\"ape\", abs((col(\"sellingprice\") - col(\"prediction\")) / col(\"sellingprice\")))\n",
    "mape = predictions2.select(mean(col(\"ape\"))).collect()[0][0] * 100\n",
    "\n",
    "print(f\"Mean Absolute Percentage Error (MAPE) on test data = {mape}%\")"
   ]
  },
  {
   "cell_type": "markdown",
   "id": "26dacbcc-bcf7-4082-a8f3-8bbc522ff47d",
   "metadata": {
    "jp-MarkdownHeadingCollapsed": true
   },
   "source": [
    "## Standard Scaler + Weight & Standar Scaler Only + No Condition (Final Without Log)"
   ]
  },
  {
   "cell_type": "code",
   "execution_count": 56,
   "id": "883cc4c6-e2fa-4e0d-940b-6e8e70f5adfc",
   "metadata": {},
   "outputs": [
    {
     "name": "stderr",
     "output_type": "stream",
     "text": [
      "24/06/21 02:03:47 WARN RowBasedKeyValueBatch: Calling spill() on RowBasedKeyValueBatch. Will not spill but return 0.\n",
      "24/06/21 02:03:47 WARN RowBasedKeyValueBatch: Calling spill() on RowBasedKeyValueBatch. Will not spill but return 0.\n",
      "24/06/21 02:03:49 WARN RowBasedKeyValueBatch: Calling spill() on RowBasedKeyValueBatch. Will not spill but return 0.\n",
      "24/06/21 02:03:49 WARN RowBasedKeyValueBatch: Calling spill() on RowBasedKeyValueBatch. Will not spill but return 0.\n",
      "24/06/21 02:04:45 WARN RowBasedKeyValueBatch: Calling spill() on RowBasedKeyValueBatch. Will not spill but return 0.\n",
      "24/06/21 02:04:45 WARN RowBasedKeyValueBatch: Calling spill() on RowBasedKeyValueBatch. Will not spill but return 0.\n",
      "24/06/21 02:04:46 WARN RowBasedKeyValueBatch: Calling spill() on RowBasedKeyValueBatch. Will not spill but return 0.\n",
      "24/06/21 02:04:46 WARN RowBasedKeyValueBatch: Calling spill() on RowBasedKeyValueBatch. Will not spill but return 0.\n",
      "24/06/21 02:05:43 WARN RowBasedKeyValueBatch: Calling spill() on RowBasedKeyValueBatch. Will not spill but return 0.\n",
      "24/06/21 02:05:43 WARN RowBasedKeyValueBatch: Calling spill() on RowBasedKeyValueBatch. Will not spill but return 0.\n",
      "24/06/21 02:05:45 WARN RowBasedKeyValueBatch: Calling spill() on RowBasedKeyValueBatch. Will not spill but return 0.\n",
      "24/06/21 02:05:45 WARN RowBasedKeyValueBatch: Calling spill() on RowBasedKeyValueBatch. Will not spill but return 0.\n",
      "                                                                                \r"
     ]
    },
    {
     "name": "stdout",
     "output_type": "stream",
     "text": [
      "Root Mean Squared Error (RMSE) 2272.5138019303927\n",
      "Mean Squared Error (MSE) 5164318.979964129\n",
      "R-squared (R²) 0.9379031228202885\n"
     ]
    },
    {
     "name": "stderr",
     "output_type": "stream",
     "text": [
      "24/06/21 02:06:45 WARN RowBasedKeyValueBatch: Calling spill() on RowBasedKeyValueBatch. Will not spill but return 0.\n",
      "24/06/21 02:06:45 WARN RowBasedKeyValueBatch: Calling spill() on RowBasedKeyValueBatch. Will not spill but return 0.\n",
      "24/06/21 02:06:46 WARN RowBasedKeyValueBatch: Calling spill() on RowBasedKeyValueBatch. Will not spill but return 0.\n",
      "24/06/21 02:06:46 WARN RowBasedKeyValueBatch: Calling spill() on RowBasedKeyValueBatch. Will not spill but return 0.\n",
      "[Stage 22488:================================================>      (8 + 1) / 9]\r"
     ]
    },
    {
     "name": "stdout",
     "output_type": "stream",
     "text": [
      "Mean Absolute Percentage Error (MAPE) on test data = 12.392764733575294%\n"
     ]
    },
    {
     "name": "stderr",
     "output_type": "stream",
     "text": [
      "                                                                                \r"
     ]
    }
   ],
   "source": [
    "#Percobaan 99999\n",
    "evaluator1 = RegressionEvaluator(\n",
    "    labelCol=\"sellingprice\", predictionCol=\"prediction\", metricName=\"rmse\")\n",
    "evaluator2 = RegressionEvaluator(\n",
    "    labelCol=\"sellingprice\", predictionCol=\"prediction\", metricName=\"mse\")\n",
    "evaluator3 = RegressionEvaluator(\n",
    "    labelCol=\"sellingprice\", predictionCol=\"prediction\", metricName=\"r2\")\n",
    "rmse = evaluator1.evaluate(predictions)\n",
    "mse = evaluator2.evaluate(predictions)\n",
    "r2 = evaluator3.evaluate(predictions)\n",
    "print(\"Root Mean Squared Error (RMSE)\", rmse)\n",
    "print(\"Mean Squared Error (MSE)\", mse)\n",
    "print(\"R-squared (R²)\", r2)\n",
    "\n",
    "predictions2 = predictions.withColumn(\"ape\", abs((col(\"sellingprice\") - col(\"prediction\")) / col(\"sellingprice\")))\n",
    "mape = predictions2.select(mean(col(\"ape\"))).collect()[0][0] * 100\n",
    "\n",
    "print(f\"Mean Absolute Percentage Error (MAPE) on test data = {mape}%\")"
   ]
  },
  {
   "cell_type": "markdown",
   "id": "b09d2da6-a3db-45c5-82db-bf3fe337c029",
   "metadata": {
    "jp-MarkdownHeadingCollapsed": true
   },
   "source": [
    "## Standard Scaler Tanpa Weight, Dengan Condition"
   ]
  },
  {
   "cell_type": "code",
   "execution_count": 76,
   "id": "adadc3be-2ccd-4332-9593-ef2c9dc1238d",
   "metadata": {},
   "outputs": [
    {
     "name": "stderr",
     "output_type": "stream",
     "text": [
      "24/06/21 09:02:36 WARN RowBasedKeyValueBatch: Calling spill() on RowBasedKeyValueBatch. Will not spill but return 0.\n",
      "24/06/21 09:02:36 WARN RowBasedKeyValueBatch: Calling spill() on RowBasedKeyValueBatch. Will not spill but return 0.\n",
      "24/06/21 09:02:36 WARN RowBasedKeyValueBatch: Calling spill() on RowBasedKeyValueBatch. Will not spill but return 0.\n",
      "24/06/21 09:02:36 WARN RowBasedKeyValueBatch: Calling spill() on RowBasedKeyValueBatch. Will not spill but return 0.\n",
      "24/06/21 09:03:34 WARN RowBasedKeyValueBatch: Calling spill() on RowBasedKeyValueBatch. Will not spill but return 0.\n",
      "24/06/21 09:03:34 WARN RowBasedKeyValueBatch: Calling spill() on RowBasedKeyValueBatch. Will not spill but return 0.\n",
      "24/06/21 09:03:34 WARN RowBasedKeyValueBatch: Calling spill() on RowBasedKeyValueBatch. Will not spill but return 0.\n",
      "24/06/21 09:03:34 WARN RowBasedKeyValueBatch: Calling spill() on RowBasedKeyValueBatch. Will not spill but return 0.\n",
      "24/06/21 09:04:32 WARN RowBasedKeyValueBatch: Calling spill() on RowBasedKeyValueBatch. Will not spill but return 0.\n",
      "24/06/21 09:04:32 WARN RowBasedKeyValueBatch: Calling spill() on RowBasedKeyValueBatch. Will not spill but return 0.\n",
      "24/06/21 09:04:33 WARN RowBasedKeyValueBatch: Calling spill() on RowBasedKeyValueBatch. Will not spill but return 0.\n",
      "24/06/21 09:04:33 WARN RowBasedKeyValueBatch: Calling spill() on RowBasedKeyValueBatch. Will not spill but return 0.\n",
      "                                                                                \r"
     ]
    },
    {
     "name": "stdout",
     "output_type": "stream",
     "text": [
      "Root Mean Squared Error (RMSE) 2272.5138019303927\n",
      "Mean Squared Error (MSE) 5164318.979964129\n",
      "R-squared (R²) 0.9379031228202885\n"
     ]
    },
    {
     "name": "stderr",
     "output_type": "stream",
     "text": [
      "24/06/21 09:05:33 WARN RowBasedKeyValueBatch: Calling spill() on RowBasedKeyValueBatch. Will not spill but return 0.\n",
      "24/06/21 09:05:33 WARN RowBasedKeyValueBatch: Calling spill() on RowBasedKeyValueBatch. Will not spill but return 0.\n",
      "24/06/21 09:05:34 WARN RowBasedKeyValueBatch: Calling spill() on RowBasedKeyValueBatch. Will not spill but return 0.\n",
      "24/06/21 09:05:34 WARN RowBasedKeyValueBatch: Calling spill() on RowBasedKeyValueBatch. Will not spill but return 0.\n",
      "[Stage 40531:================================================>      (8 + 1) / 9]\r"
     ]
    },
    {
     "name": "stdout",
     "output_type": "stream",
     "text": [
      "Mean Absolute Percentage Error (MAPE) on test data = 14.106730119443428%\n"
     ]
    },
    {
     "name": "stderr",
     "output_type": "stream",
     "text": [
      "                                                                                \r"
     ]
    }
   ],
   "source": [
    "#Percobaan 99999 2\n",
    "evaluatorFinal1 = RegressionEvaluator(\n",
    "    labelCol=\"sellingprice\", predictionCol=\"prediction\", metricName=\"rmse\")\n",
    "evaluatorFinal2 = RegressionEvaluator(\n",
    "    labelCol=\"sellingprice\", predictionCol=\"prediction\", metricName=\"mse\")\n",
    "evaluatorFinal3 = RegressionEvaluator(\n",
    "    labelCol=\"sellingprice\", predictionCol=\"prediction\", metricName=\"r2\")\n",
    "rmseFinal = evaluatorFinal1.evaluate(predictions)\n",
    "mseFinal = evaluatorFinal2.evaluate(predictions)\n",
    "r2Final = evaluatorFinal3.evaluate(predictions)\n",
    "print(\"Root Mean Squared Error (RMSE)\", rmseFinal)\n",
    "print(\"Mean Squared Error (MSE)\", mseFinal)\n",
    "print(\"R-squared (R²)\", r2Final)\n",
    "\n",
    "predictionsFinal2 = predictions.withColumn(\"ape\", abs((col(\"sellingprice\") - col(\"prediction\")) / col(\"sellingprice\")))\n",
    "mapeFinal = predictions2.select(mean(col(\"ape\"))).collect()[0][0] * 100\n",
    "\n",
    "print(f\"Mean Absolute Percentage Error (MAPE) on test data = {mapeFinal}%\")"
   ]
  },
  {
   "cell_type": "markdown",
   "id": "3ad6dd02-062c-400f-a763-c6f8ff8bda92",
   "metadata": {
    "jp-MarkdownHeadingCollapsed": true
   },
   "source": [
    "## Condition Tidak Dipakai + Tanpa Weight"
   ]
  },
  {
   "cell_type": "code",
   "execution_count": 69,
   "id": "a9e165ee-5ce6-4101-82bf-a4ed1d802808",
   "metadata": {},
   "outputs": [
    {
     "name": "stderr",
     "output_type": "stream",
     "text": [
      "24/06/21 08:22:02 WARN RowBasedKeyValueBatch: Calling spill() on RowBasedKeyValueBatch. Will not spill but return 0.\n",
      "24/06/21 08:22:02 WARN RowBasedKeyValueBatch: Calling spill() on RowBasedKeyValueBatch. Will not spill but return 0.\n",
      "24/06/21 08:22:03 WARN RowBasedKeyValueBatch: Calling spill() on RowBasedKeyValueBatch. Will not spill but return 0.\n",
      "24/06/21 08:22:03 WARN RowBasedKeyValueBatch: Calling spill() on RowBasedKeyValueBatch. Will not spill but return 0.\n",
      "24/06/21 08:22:57 WARN RowBasedKeyValueBatch: Calling spill() on RowBasedKeyValueBatch. Will not spill but return 0.\n",
      "24/06/21 08:22:57 WARN RowBasedKeyValueBatch: Calling spill() on RowBasedKeyValueBatch. Will not spill but return 0.\n",
      "24/06/21 08:22:58 WARN RowBasedKeyValueBatch: Calling spill() on RowBasedKeyValueBatch. Will not spill but return 0.\n",
      "24/06/21 08:22:58 WARN RowBasedKeyValueBatch: Calling spill() on RowBasedKeyValueBatch. Will not spill but return 0.\n",
      "24/06/21 08:23:51 WARN RowBasedKeyValueBatch: Calling spill() on RowBasedKeyValueBatch. Will not spill but return 0.\n",
      "24/06/21 08:23:51 WARN RowBasedKeyValueBatch: Calling spill() on RowBasedKeyValueBatch. Will not spill but return 0.\n",
      "24/06/21 08:23:52 WARN RowBasedKeyValueBatch: Calling spill() on RowBasedKeyValueBatch. Will not spill but return 0.\n",
      "24/06/21 08:23:52 WARN RowBasedKeyValueBatch: Calling spill() on RowBasedKeyValueBatch. Will not spill but return 0.\n",
      "                                                                                \r"
     ]
    },
    {
     "name": "stdout",
     "output_type": "stream",
     "text": [
      "Root Mean Squared Error (RMSE) 2246.0901772355764\n",
      "Mean Squared Error (MSE) 5044921.084274143\n",
      "R-squared (R²) 0.9388338851468784\n"
     ]
    },
    {
     "name": "stderr",
     "output_type": "stream",
     "text": [
      "24/06/21 08:24:50 WARN RowBasedKeyValueBatch: Calling spill() on RowBasedKeyValueBatch. Will not spill but return 0.\n",
      "24/06/21 08:24:50 WARN RowBasedKeyValueBatch: Calling spill() on RowBasedKeyValueBatch. Will not spill but return 0.\n",
      "24/06/21 08:24:51 WARN RowBasedKeyValueBatch: Calling spill() on RowBasedKeyValueBatch. Will not spill but return 0.\n",
      "24/06/21 08:24:51 WARN RowBasedKeyValueBatch: Calling spill() on RowBasedKeyValueBatch. Will not spill but return 0.\n",
      "[Stage 34849:================================================>      (8 + 1) / 9]\r"
     ]
    },
    {
     "name": "stdout",
     "output_type": "stream",
     "text": [
      "Mean Absolute Percentage Error (MAPE) on test data = 14.106730119443428%\n"
     ]
    },
    {
     "name": "stderr",
     "output_type": "stream",
     "text": [
      "                                                                                \r"
     ]
    }
   ],
   "source": [
    "#Percobaan 99999 3\n",
    "evaluator1 = RegressionEvaluator(\n",
    "    labelCol=\"sellingprice\", predictionCol=\"prediction\", metricName=\"rmse\")\n",
    "evaluator2 = RegressionEvaluator(\n",
    "    labelCol=\"sellingprice\", predictionCol=\"prediction\", metricName=\"mse\")\n",
    "evaluator3 = RegressionEvaluator(\n",
    "    labelCol=\"sellingprice\", predictionCol=\"prediction\", metricName=\"r2\")\n",
    "rmse = evaluator1.evaluate(predictions)\n",
    "mse = evaluator2.evaluate(predictions)\n",
    "r2 = evaluator3.evaluate(predictions)\n",
    "print(\"Root Mean Squared Error (RMSE)\", rmse)\n",
    "print(\"Mean Squared Error (MSE)\", mse)\n",
    "print(\"R-squared (R²)\", r2)\n",
    "\n",
    "predictions2 = predictions.withColumn(\"ape\", abs((col(\"sellingprice\") - col(\"prediction\")) / col(\"sellingprice\")))\n",
    "mape = predictions2.select(mean(col(\"ape\"))).collect()[0][0] * 100\n",
    "\n",
    "print(f\"Mean Absolute Percentage Error (MAPE) on test data = {mape}%\")"
   ]
  },
  {
   "cell_type": "markdown",
   "id": "f85935e9-e616-4001-ba36-1edf7a77a5c1",
   "metadata": {
    "jp-MarkdownHeadingCollapsed": true
   },
   "source": [
    "## Tanpa Standard Scaler dan Z Score 3, Weight Masih < 1"
   ]
  },
  {
   "cell_type": "code",
   "execution_count": 31,
   "id": "d6c3cb4b",
   "metadata": {},
   "outputs": [
    {
     "name": "stdout",
     "output_type": "stream",
     "text": [
      "Root Mean Squared Error (RMSE) 2268.003241138923\n",
      "Mean Squared Error (MSE) 5143838.70181666\n",
      "R-squared (R²) 0.9392751246718903\n"
     ]
    }
   ],
   "source": [
    "evaluator1 = RegressionEvaluator(\n",
    "    labelCol=\"sellingprice\", predictionCol=\"prediction\", metricName=\"rmse\")\n",
    "evaluator2 = RegressionEvaluator(\n",
    "    labelCol=\"sellingprice\", predictionCol=\"prediction\", metricName=\"mse\")\n",
    "evaluator3 = RegressionEvaluator(\n",
    "    labelCol=\"sellingprice\", predictionCol=\"prediction\", metricName=\"r2\")\n",
    "rmse = evaluator1.evaluate(predictions)\n",
    "mse = evaluator2.evaluate(predictions)\n",
    "r2 = evaluator3.evaluate(predictions)\n",
    "print(\"Root Mean Squared Error (RMSE)\", rmse)\n",
    "print(\"Mean Squared Error (MSE)\", mse)\n",
    "print(\"R-squared (R²)\", r2)"
   ]
  },
  {
   "cell_type": "code",
   "execution_count": 32,
   "id": "5e4d844b",
   "metadata": {},
   "outputs": [
    {
     "name": "stdout",
     "output_type": "stream",
     "text": [
      "Mean Absolute Percentage Error (MAPE) on test data = 13.677699467700247%\n"
     ]
    }
   ],
   "source": [
    "predictions2 = predictions.withColumn(\"ape\", abs((col(\"sellingprice\") - col(\"prediction\")) / col(\"sellingprice\")))\n",
    "mape = predictions2.select(mean(col(\"ape\"))).collect()[0][0] * 100\n",
    "\n",
    "print(f\"Mean Absolute Percentage Error (MAPE) on test data = {mape}%\")"
   ]
  },
  {
   "cell_type": "markdown",
   "id": "1184a915-102e-49ac-bd31-c48c9562a690",
   "metadata": {},
   "source": [
    "## Regression Plot Result"
   ]
  },
  {
   "cell_type": "code",
   "execution_count": 86,
   "id": "d1104513",
   "metadata": {},
   "outputs": [],
   "source": [
    "import seaborn as sns\n",
    "import matplotlib.pyplot as plt\n",
    "import matplotlib.patches as mpatches"
   ]
  },
  {
   "cell_type": "markdown",
   "id": "94804394-996a-40ad-9c0c-2ec38b24089a",
   "metadata": {
    "jp-MarkdownHeadingCollapsed": true
   },
   "source": [
    "#### Prediction using Full Standard Scaling"
   ]
  },
  {
   "cell_type": "code",
   "execution_count": 79,
   "id": "3e0263da",
   "metadata": {},
   "outputs": [
    {
     "name": "stderr",
     "output_type": "stream",
     "text": [
      "24/06/21 09:08:08 WARN RowBasedKeyValueBatch: Calling spill() on RowBasedKeyValueBatch. Will not spill but return 0.\n",
      "24/06/21 09:08:08 WARN RowBasedKeyValueBatch: Calling spill() on RowBasedKeyValueBatch. Will not spill but return 0.\n",
      "24/06/21 09:08:09 WARN RowBasedKeyValueBatch: Calling spill() on RowBasedKeyValueBatch. Will not spill but return 0.\n",
      "24/06/21 09:08:09 WARN RowBasedKeyValueBatch: Calling spill() on RowBasedKeyValueBatch. Will not spill but return 0.\n",
      "                                                                                \r"
     ]
    },
    {
     "data": {
      "image/png": "[encoded data removed]",
      "text/plain": [
       "<Figure size 1000x600 with 1 Axes>"
      ]
     },
     "metadata": {},
     "output_type": "display_data"
    }
   ],
   "source": [
    "predictions_pd = predictions.select(\"sellingprice\", \"prediction\").toPandas()\n",
    "\n",
    "# Create scatter plot\n",
    "plt.figure(figsize=(10, 6))\n",
    "plt.scatter(predictions_pd['sellingprice'], predictions_pd['prediction'], alpha=0.5)\n",
    "plt.plot([predictions_pd['sellingprice'].min(), predictions_pd['sellingprice'].max()],\n",
    "         [predictions_pd['sellingprice'].min(), predictions_pd['sellingprice'].max()],\n",
    "         color='red', linestyle='--')\n",
    "plt.xlabel('Actual Selling Price')\n",
    "plt.ylabel('Predicted Selling Price')\n",
    "plt.title('Actual vs Predicted Selling Prices')\n",
    "plt.show()"
   ]
  },
  {
   "cell_type": "markdown",
   "id": "aec88c02-6fef-44b7-8be3-16e0604cff99",
   "metadata": {
    "jp-MarkdownHeadingCollapsed": true
   },
   "source": [
    "#### Prediction using double + tanpa condition"
   ]
  },
  {
   "cell_type": "code",
   "execution_count": 88,
   "id": "487cec8c-c9ab-4dde-97c9-9c0810455989",
   "metadata": {},
   "outputs": [
    {
     "name": "stderr",
     "output_type": "stream",
     "text": [
      "24/06/21 22:10:08 WARN RowBasedKeyValueBatch: Calling spill() on RowBasedKeyValueBatch. Will not spill but return 0.\n",
      "24/06/21 22:10:08 WARN RowBasedKeyValueBatch: Calling spill() on RowBasedKeyValueBatch. Will not spill but return 0.\n",
      "24/06/21 22:10:08 WARN RowBasedKeyValueBatch: Calling spill() on RowBasedKeyValueBatch. Will not spill but return 0.\n",
      "24/06/21 22:10:08 WARN RowBasedKeyValueBatch: Calling spill() on RowBasedKeyValueBatch. Will not spill but return 0.\n",
      "24/06/21 22:10:09 WARN RowBasedKeyValueBatch: Calling spill() on RowBasedKeyValueBatch. Will not spill but return 0.\n",
      "24/06/21 22:10:09 WARN RowBasedKeyValueBatch: Calling spill() on RowBasedKeyValueBatch. Will not spill but return 0.\n",
      "                                                                                \r"
     ]
    },
    {
     "data": {
      "image/png": "[encoded data removed]",
      "text/plain": [
       "<Figure size 1000x600 with 1 Axes>"
      ]
     },
     "metadata": {},
     "output_type": "display_data"
    }
   ],
   "source": [
    "predictions_pd = predictions.select(\"sellingprice\", \"prediction\").toPandas()\n",
    "\n",
    "# Create scatter plot\n",
    "plt.figure(figsize=(10, 6))\n",
    "plt.scatter(predictions_pd['sellingprice'], predictions_pd['prediction'], alpha=0.5)\n",
    "plt.plot([predictions_pd['sellingprice'].min(), predictions_pd['sellingprice'].max()],\n",
    "         [predictions_pd['sellingprice'].min(), predictions_pd['sellingprice'].max()],\n",
    "         color='red', linestyle='--')\n",
    "plt.xlabel('Actual Selling Price')\n",
    "plt.ylabel('Predicted Selling Price')\n",
    "plt.title('Actual vs Predicted Selling Prices')\n",
    "plt.show()"
   ]
  },
  {
   "cell_type": "markdown",
   "id": "e15aae98-f944-43a5-95fa-128223d67992",
   "metadata": {
    "jp-MarkdownHeadingCollapsed": true
   },
   "source": [
    "#### Prediction using double scaling + normalisation log"
   ]
  },
  {
   "cell_type": "code",
   "execution_count": 36,
   "id": "1f0cfe13-caa5-4160-979f-b87760a70533",
   "metadata": {},
   "outputs": [
    {
     "name": "stderr",
     "output_type": "stream",
     "text": [
      "                                                                                \r"
     ]
    },
    {
     "data": {
      "image/png": "[encoded data removed]",
      "text/plain": [
       "<Figure size 1000x600 with 1 Axes>"
      ]
     },
     "metadata": {},
     "output_type": "display_data"
    }
   ],
   "source": [
    "predictions_pd = predictions_final.select(\"sellingprice_log2\", \"prediction\").toPandas()\n",
    "\n",
    "# Create scatter plot\n",
    "plt.figure(figsize=(10, 6))\n",
    "plt.scatter(predictions_pd['sellingprice_log2'], predictions_pd['prediction'], alpha=0.5)\n",
    "plt.plot([predictions_pd['sellingprice_log2'].min(), predictions_pd['sellingprice_log2'].max()],\n",
    "         [predictions_pd['sellingprice_log2'].min(), predictions_pd['sellingprice_log2'].max()],\n",
    "         color='red', linestyle='--')\n",
    "plt.xlabel('Actual Selling Price')\n",
    "plt.ylabel('Predicted Selling Price')\n",
    "plt.title('Actual vs Predicted Selling Prices')\n",
    "plt.show()"
   ]
  },
  {
   "cell_type": "code",
   "execution_count": 100,
   "id": "cdd9a741",
   "metadata": {},
   "outputs": [],
   "source": [
    "spark.stop()"
   ]
  }
 ],
 "metadata": {
  "kernelspec": {
   "display_name": "Python 3 (ipykernel)",
   "language": "python",
   "name": "python3"
  },
  "language_info": {
   "codemirror_mode": {
    "name": "ipython",
    "version": 3
   },
   "file_extension": ".py",
   "mimetype": "text/x-python",
   "name": "python",
   "nbconvert_exporter": "python",
   "pygments_lexer": "ipython3",
   "version": "3.10.11"
  }
 },
 "nbformat": 4,
 "nbformat_minor": 5
}
