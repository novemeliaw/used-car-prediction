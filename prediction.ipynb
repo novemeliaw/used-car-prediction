{
 "cells": [
  {
   "cell_type": "markdown",
   "id": "59d57502-8282-438b-9269-1f49eeaecca3",
   "metadata": {
    "jp-MarkdownHeadingCollapsed": true
   },
   "source": [
    "## Used Car Prediction\n",
    "\n",
    "Main Objective : Predict MMR (market price) for car sellers\n",
    "\n",
    "<img src=\"https://img.etimg.com/thumb/msid-106586397,width-300,height-225,imgsize-39324,resizemode-75/car-sales.jpg\" />"
   ]
  },
  {
   "cell_type": "code",
   "execution_count": 1,
   "id": "c38f2872-9d7f-4625-9781-58e899309def",
   "metadata": {},
   "outputs": [],
   "source": [
    "from pyspark.sql import SparkSession\n",
    "\n",
    "spark = (SparkSession.builder\n",
    "         .appName('Used Car Prediction')\n",
    "         .master('local[*]')\n",
    "         .getOrCreate()\n",
    "        )"
   ]
  },
  {
   "cell_type": "code",
   "execution_count": 2,
   "id": "d0351c4a-369d-4542-82eb-8b59e968abcd",
   "metadata": {},
   "outputs": [
    {
     "name": "stdout",
     "output_type": "stream",
     "text": [
      "+----+-------------+----------------+--------------------+-----------+------------+-----------------+-----+---------+--------+--------+--------+---------------------------------------------+-----+------------+---------------------------------------+\n",
      "|year|         make|           model|                trim|       body|transmission|              vin|state|condition|odometer|   color|interior|                                       seller|  mmr|sellingprice|                               saledate|\n",
      "+----+-------------+----------------+--------------------+-----------+------------+-----------------+-----+---------+--------+--------+--------+---------------------------------------------+-----+------------+---------------------------------------+\n",
      "|2009|     Chrysler|Town and Country|             Touring|    Minivan|   automatic|2a8hr54179r570758|   wi|      1.6| 90655.0|    gold|     tan|                        dt credit corporation| 8425|        7900|Wed Jan 21 2015 02:00:00 GMT-0800 (PST)|\n",
      "|2007|    Chevrolet|  Silverado 1500|          Work Truck|   Crew Cab|   automatic|2gcec13c971578282|   ca|     NULL|106732.0|    blue|   black|                                   auto plaza|13350|       14500|Thu Dec 18 2014 13:00:00 GMT-0800 (PST)|\n",
      "|2011|       Nissan|            Leaf|                  SL|  Hatchback|   automatic|jn1az0cp8bt007673|   wa|      4.1| 21852.0|     red|   beige|                           nissan-infiniti lt|10450|       10900|Wed Jan 21 2015 06:40:00 GMT-0800 (PST)|\n",
      "|2006|          GMC|        Envoy XL|              Denali|        SUV|   automatic|1gket66m066153160|   nv|        2|121829.0|   black|       —|                    titlemax/fort apache-nv16| 7275|        5900|Wed Dec 31 2014 11:00:00 GMT-0800 (PST)|\n",
      "|2011|         Ford|           F-150|                 XLT|  SuperCrew|        NULL|1ftfw1et2bke11814|   mi|      4.8| 31961.0|    gray|    gray|                       automobiles paille inc|25500|       24500|Thu Dec 18 2014 09:30:00 GMT-0800 (PST)|\n",
      "|2007|       HUMMER|              H3|                Base|        SUV|   automatic|5gtdn13ex78160245|   fl|      3.9|107497.0|burgundy|   black|                       mercedes benz of tampa|11400|       12700|Thu Dec 18 2014 16:20:00 GMT-0800 (PST)|\n",
      "|2004|   Volkswagen|           Jetta|            GLI 1.8T|      Sedan|        NULL|3vwse69m54m021929|   il|     NULL|106381.0|    blue|       —|                      grossinger autoplex inc| 2700|        2500|Thu Dec 18 2014 14:00:00 GMT-0800 (PST)|\n",
      "|2012|      Hyundai|   Sonata Hybrid|                Base|      Sedan|   automatic|kmhec4a49ca060519|   fl|      4.1| 50306.0|     red|     tan|                                      gte fcu|13250|       13100|Tue Dec 23 2014 14:00:00 GMT-0800 (PST)|\n",
      "|2014|    Chevrolet|          Impala|                 LTZ|      Sedan|   automatic|2g1155s3xe9133901|   fl|        4| 14037.0|   black|   black|                               gm remarketing|24300|       24700|Mon Feb 09 2015 05:00:00 GMT-0800 (PST)|\n",
      "|2014|          Kia|           Forte|                  LX|      Sedan|   automatic|knafx4a60e5210850|   wi|      3.8| 12835.0|     red|    gray|                      kia motors america, inc|12550|       11900|Wed Feb 18 2015 02:00:00 GMT-0800 (PST)|\n",
      "|2007|         Jeep|        Wrangler|                   X|        SUV|      manual|1j4fa24167l160554|   pa|     NULL| 60967.0|   green|       —|                               randy ford inc|13150|       13900|Fri Dec 19 2014 09:15:00 GMT-0800 (PST)|\n",
      "|2006|          Kia|             Rio|                Base|      Sedan|   automatic|knade123066035429|   ga|     NULL|182744.0|  silver|   black|                                cars & trucks| 1400|        2150|Thu Dec 18 2014 10:00:00 GMT-0800 (PST)|\n",
      "|2011|   Volkswagen|          Tiguan|                  SE|        SUV|   automatic|wvgav7axxbw524469|   tx|      2.5| 69830.0|   white|    gray|                                    vw credit|10550|       10200|Thu Dec 18 2014 11:00:00 GMT-0800 (PST)|\n",
      "|2010|        Honda|         Odyssey|                  LX|    Minivan|   automatic|5fnrl3h27ab080213|   ca|      2.7| 79116.0|   white|     tan|                      high bid trading co inc| 9825|       12500|Wed Dec 17 2014 12:15:00 GMT-0800 (PST)|\n",
      "|2011|         Ford|         Mustang|                  V6|      Coupe|   automatic|1zvbp8am6b5130291|   sc|      2.8| 74223.0|    blue|   black|                            pnc national bank|11350|       12000|Tue Dec 23 2014 09:15:00 GMT-0800 (PST)|\n",
      "|2011|        Buick|         Enclave|                CXL2|        SUV|   automatic|5gakvced6bj367698|   oh|      2.9| 33442.0|    gray|    gray|fiserv/usb dealer services northstar exchange|24100|       23100|Tue Jan 13 2015 09:30:00 GMT-0800 (PST)|\n",
      "|2007|       Saturn|            Aura|                  XE|      Sedan|   automatic|1g8zs57n27f208351|   ca|      3.8|118943.0|   white|   beige|                                   valley kia| 3800|        3800|Thu Dec 18 2014 12:00:00 GMT-0800 (PST)|\n",
      "|2004|      Pontiac|      Grand Prix|                 GT1|      Sedan|   automatic|2g2wp522941339050|   nc|      1.7|117538.0|  silver|   black|                                 dt inventory| 2500|        1300|Tue Dec 30 2014 09:30:00 GMT-0800 (PST)|\n",
      "|2014|         Ford|  E-Series Wagon|E-350 Super Duty XLT|        Van|        NULL|1fbne3blxedb01678|   mn|      3.5| 15939.0|       —|    gray|                            avis budget group|20100|       19900|Tue Dec 23 2014 14:00:00 GMT-0800 (PST)|\n",
      "|2008|     Chrysler|         Sebring|             Limited|Convertible|   automatic|1c3lc65m98n573663|   tx|        2|131199.0|   white|     tan|                     caprock auto remarketing| 3175|        1300|Thu Dec 18 2014 14:00:00 GMT-0800 (PST)|\n",
      "|2011|    Chevrolet|        Traverse|                 LT2|        SUV|   automatic|1gnkrjed2bj415308|   ca|      2.6| 25305.0|  silver|    gray|fiserv/usb dealer services northstar exchange|19150|       18500|Tue Dec 16 2014 12:30:00 GMT-0800 (PST)|\n",
      "|2009|       Nissan|           Rogue|                  SL|        SUV|   automatic|jn8as58v49w436294|   ma|      3.5| 51698.0|  silver|   black|                     capital one auto finance|11000|       12600|Tue Jan 06 2015 01:30:00 GMT-0800 (PST)|\n",
      "|2006|         jeep|        wrangler|            6c sport|       NULL|        NULL|1j4fa49s36p702035|   fl|      2.2| 76807.0|   black|   black|                 remarketing by ge/penair fcu|12900|        9500|Tue Dec 30 2014 11:15:00 GMT-0800 (PST)|\n",
      "|2011|     Infiniti|         G Sedan|                G25x|    G Sedan|        NULL|jn1dv6arxbm451146|   pa|      2.8| 34154.0|   black|   black|                           nissan infiniti lt|17200|       16000|Tue Dec 23 2014 09:00:00 GMT-0800 (PST)|\n",
      "|2012|        Scion|              iQ|                Base|  Hatchback|   automatic|jtnjjxb01cj012739|   ga|      4.3| 14821.0|    gray|   black|                    toyota financial services| 9375|        9200|Thu Dec 18 2014 10:00:00 GMT-0800 (PST)|\n",
      "|2008|         Audi|              S6|             quattro|      Sedan|        NULL|waudn74f78n015312|   va|      2.6|119236.0|  silver|    gray|                    brown's volkswagen suzuki|16700|       14200|Thu Dec 18 2014 09:05:00 GMT-0800 (PST)|\n",
      "|2013|       Nissan|           Rogue|                  SV|        SUV|        NULL|jn8as5mt1dw014710|   ca|      4.3| 22338.0|  silver|   black|                    nissan north america inc.|15050|       18000|Tue Dec 16 2014 12:30:00 GMT-0800 (PST)|\n",
      "|2014|          GMC|     Sierra 1500|                 SLT|   Crew Cab|   automatic|3gtu2vec4eg141863|   tx|      4.4| 31048.0|    blue|   brown|                     winter motor company inc|34500|       35300|Wed Dec 31 2014 10:20:00 GMT-0800 (PST)|\n",
      "|2013|Mercedes-Benz|         C-Class|                C250|      Coupe|   automatic|wddgj4hb6df984949|   nv|      4.5| 21632.0|   white|   black|             mercedes-benz financial services|24600|       24250|Thu Jan 22 2015 06:00:00 GMT-0800 (PST)|\n",
      "|2014|     Infiniti|             Q50|             Premium|      Sedan|   automatic|jn1bv7apxem671757|   ca|      3.8| 12397.0|   black|   black|                    nissan north america inc.|29900|       30000|Thu Dec 18 2014 12:30:00 GMT-0800 (PST)|\n",
      "+----+-------------+----------------+--------------------+-----------+------------+-----------------+-----+---------+--------+--------+--------+---------------------------------------------+-----+------------+---------------------------------------+\n",
      "only showing top 30 rows\n",
      "\n"
     ]
    }
   ],
   "source": [
    "df = spark.read.format('csv').options(header=True, inferSchema=True).load('dataset/car_prices.csv').repartition(4)\n",
    "df.show(30, truncate=50)"
   ]
  },
  {
   "cell_type": "markdown",
   "id": "9d0f19fb-c700-4e7f-b812-c3019fc12fbf",
   "metadata": {},
   "source": [
    "## Preprocessing & Cleaning"
   ]
  },
  {
   "cell_type": "code",
   "execution_count": 4,
   "id": "1dab6ddd-cc94-42a9-a824-b980045c9aaf",
   "metadata": {},
   "outputs": [],
   "source": [
    "from pyspark.sql.types import *\n",
    "from pyspark.sql.functions import *"
   ]
  },
  {
   "cell_type": "code",
   "execution_count": 48,
   "id": "6d198189-be72-4b15-9f0c-f4d760b7dbbc",
   "metadata": {},
   "outputs": [
    {
     "name": "stdout",
     "output_type": "stream",
     "text": [
      "+----+----+-----+----+----+------------+---+-----+---------+--------+-----+--------+------+---+------------+--------+\n",
      "|year|make|model|trim|body|transmission|vin|state|condition|odometer|color|interior|seller|mmr|sellingprice|saledate|\n",
      "+----+----+-----+----+----+------------+---+-----+---------+--------+-----+--------+------+---+------------+--------+\n",
      "|   0|   0|    0|   0|   0|           0|  0|    0|        0|       0|    0|       0|     0|  0|           0|       0|\n",
      "+----+----+-----+----+----+------------+---+-----+---------+--------+-----+--------+------+---+------------+--------+\n",
      "\n"
     ]
    }
   ],
   "source": [
    "# Count for missing numbers\n",
    "df.select([count(when(isnan(c) | isnull(c),1)).alias(c) for c in df.columns]).show()"
   ]
  },
  {
   "cell_type": "code",
   "execution_count": 6,
   "id": "82094cce-cb1e-456e-ae25-b121ffdea013",
   "metadata": {},
   "outputs": [
    {
     "name": "stdout",
     "output_type": "stream",
     "text": [
      "+----+-------------+--------+-------+-----------+------------+-----------------+-----+---------+--------+------+--------+--------------------+-----+------------+--------------------+\n",
      "|year|         make|   model|   trim|       body|transmission|              vin|state|condition|odometer| color|interior|              seller|  mmr|sellingprice|            saledate|\n",
      "+----+-------------+--------+-------+-----------+------------+-----------------+-----+---------+--------+------+--------+--------------------+-----+------------+--------------------+\n",
      "|2013|    Chevrolet|   Cruze|    1LT|      Sedan|   automatic|1g1pc5sb9d7167061|   va|      2.8| 29322.0|   red|    gray|fiserv/citizens a...|11200|       10200|Mon Dec 22 2014 0...|\n",
      "|2008|          GMC|  Acadia|  SLT-2|        SUV|   automatic|1gker33768j202809|   tx|      2.9| 97458.0|  gray|   black|ford motor credit...|12250|       11000|Tue Dec 23 2014 1...|\n",
      "|2005|       Nissan|  Maxima| 3.5 SL|      Sedan|   automatic|1n4ba41e25c827484|   va|      2.5|118589.0|  blue|   black|dt credit corpora...| 3700|        3800|Thu Jan 22 2015 0...|\n",
      "|2014|          Kia|     Rio|     LX|      Sedan|   automatic|knadm4a30e6373742|   ca|      4.9| 15106.0|silver|   black|kia motors americ...|11500|       12500|Tue Dec 16 2014 1...|\n",
      "|2004|        Mazda|  Mazda6|      s|      Sedan|      manual|1yvfp80d545n25596|   md|        2|173650.0|silver|   black|coastal credit ll...| 1800|        1100|Tue Jan 20 2015 0...|\n",
      "|2014|    Chevrolet|  Impala|    LTZ|      Sedan|   automatic|2g1155s3xe9133901|   fl|        4| 14037.0| black|   black|      gm remarketing|24300|       24700|Mon Feb 09 2015 0...|\n",
      "|2014|          BMW|2 Series|  M235i|      Coupe|   automatic|wba1j7c54evw84866|   nv|      4.2|  3001.0| black|   black|   bmw north america|39800|       33500|Thu Jan 22 2015 0...|\n",
      "|2004|        Lexus|  LS 430|   Base|      Sedan|   automatic|jthbn36f840157562|   az|      3.6|114503.0| black|   beige|dealer network gr...|11650|       10700|Thu Dec 18 2014 1...|\n",
      "|2011|   Volkswagen|  Tiguan|     SE|        SUV|   automatic|wvgav7axxbw524469|   tx|      2.5| 69830.0| white|    gray|           vw credit|10550|       10200|Thu Dec 18 2014 1...|\n",
      "|2007|     Chrysler|     300|Touring|      Sedan|   automatic|2c3ka53g27h792545|   nc|      2.3| 82371.0|  gray|   beige|        dt inventory| 7475|        8600|Tue Dec 30 2014 0...|\n",
      "|2012|      Hyundai|Veloster|   Base|  Hatchback|   automatic|kmhtc6ad4cu027591|   fl|      2.7| 33128.0|orange|   black|hyundai motor fin...|11950|       12600|Mon Dec 22 2014 0...|\n",
      "|1999|       Nissan|  Sentra|    GXE|      Sedan|   automatic|1n4ab41d0xc711641|   ca|      2.4|163472.0|  gray|   black| aaero sweet company|  675|        1200|Wed Dec 17 2014 1...|\n",
      "|2008|Mercedes-Benz|GL-Class|  GL450|        SUV|   automatic|4jgbf71e98a380127|   ca|      3.6| 55554.0|silver|   black|               ecars|21300|       23000|Tue Dec 30 2014 1...|\n",
      "|2008|     Chrysler| Sebring|Limited|Convertible|   automatic|1c3lc65m98n573663|   tx|        2|131199.0| white|     tan|caprock auto rema...| 3175|        1300|Thu Dec 18 2014 1...|\n",
      "|2011|    Chevrolet|Traverse|    LT2|        SUV|   automatic|1gnkrjed2bj415308|   ca|      2.6| 25305.0|silver|    gray|fiserv/usb dealer...|19150|       18500|Tue Dec 16 2014 1...|\n",
      "|2009|       Nissan|   Rogue|     SL|        SUV|   automatic|jn8as58v49w436294|   ma|      3.5| 51698.0|silver|   black|capital one auto ...|11000|       12600|Tue Jan 06 2015 0...|\n",
      "|2012|         Ford|   Focus|    SEL|  Hatchback|   automatic|1fahp3m23cl386692|   tx|      3.5| 38409.0|silver|   brown|remktgedge / cars...|10900|        9000|Wed Dec 31 2014 1...|\n",
      "|2013|         Ford|  Escape|      S|        SUV|   automatic|1fmcu0f72dua92776|   mi|      2.5| 17732.0| black|    gray|ford motor credit...|14400|       12700|Thu Dec 18 2014 0...|\n",
      "|2008|          GMC|  Acadia|  SLT-1|        SUV|   automatic|1gkev23728j197338|   nj|      3.5|128828.0| white|   black|  lester glenn buick| 8275|        7800|Wed Feb 04 2015 0...|\n",
      "|2006|      Porsche|Cayman S|   Base|      Coupe|      manual|wp0ab29856u780789|   ca|      4.7| 65696.0| white|     tan|sports trend auto...|22200|       24500|Thu Dec 18 2014 1...|\n",
      "+----+-------------+--------+-------+-----------+------------+-----------------+-----+---------+--------+------+--------+--------------------+-----+------------+--------------------+\n",
      "only showing top 20 rows\n",
      "\n"
     ]
    }
   ],
   "source": [
    "df = df.dropna(subset=[\"year\", \"make\", \"model\", \"body\", \"transmission\", \"condition\", \"odometer\", \"color\"])\n",
    "df.show()"
   ]
  },
  {
   "cell_type": "code",
   "execution_count": 47,
   "id": "4f7bc9d2-5aa0-4175-821b-42c507bc62e5",
   "metadata": {},
   "outputs": [
    {
     "data": {
      "text/plain": [
       "440403"
      ]
     },
     "execution_count": 47,
     "metadata": {},
     "output_type": "execute_result"
    }
   ],
   "source": [
    "df.count()"
   ]
  },
  {
   "cell_type": "code",
   "execution_count": 41,
   "id": "6bc0a2d6-cb30-49e9-b3c3-30c41629a898",
   "metadata": {},
   "outputs": [
    {
     "name": "stdout",
     "output_type": "stream",
     "text": [
      "root\n",
      " |-- year: integer (nullable = true)\n",
      " |-- make: string (nullable = true)\n",
      " |-- model: string (nullable = true)\n",
      " |-- trim: string (nullable = true)\n",
      " |-- body: string (nullable = true)\n",
      " |-- transmission: string (nullable = true)\n",
      " |-- vin: string (nullable = true)\n",
      " |-- state: string (nullable = true)\n",
      " |-- condition: double (nullable = true)\n",
      " |-- odometer: integer (nullable = true)\n",
      " |-- color: string (nullable = true)\n",
      " |-- interior: string (nullable = true)\n",
      " |-- seller: string (nullable = true)\n",
      " |-- mmr: integer (nullable = true)\n",
      " |-- sellingprice: integer (nullable = true)\n",
      " |-- saledate: string (nullable = true)\n",
      "\n"
     ]
    }
   ],
   "source": [
    "df.printSchema()"
   ]
  },
  {
   "cell_type": "code",
   "execution_count": 45,
   "id": "befc5a8e-6bf1-4637-9872-6835d75fc539",
   "metadata": {},
   "outputs": [
    {
     "name": "stdout",
     "output_type": "stream",
     "text": [
      "+----+-------------+---------------+---------------+---------+------------+-----------------+-----+---------+--------+--------+--------+--------------------+-----+------------+--------------------+\n",
      "|year|         make|          model|           trim|     body|transmission|              vin|state|condition|odometer|   color|interior|              seller|  mmr|sellingprice|            saledate|\n",
      "+----+-------------+---------------+---------------+---------+------------+-----------------+-----+---------+--------+--------+--------+--------------------+-----+------------+--------------------+\n",
      "|2013|    chevrolet|          cruze|            1LT|    sedan|   automatic|1g1pc5sb9d7167061|   va|      2.8|   29322|     red|    gray|fiserv/citizens a...|11200|       10200|Mon Dec 22 2014 0...|\n",
      "|2008|          gmc|         acadia|          SLT-2|      suv|   automatic|1gker33768j202809|   tx|      2.9|   97458|    gray|   black|ford motor credit...|12250|       11000|Tue Dec 23 2014 1...|\n",
      "|2005|       nissan|         maxima|         3.5 SL|    sedan|   automatic|1n4ba41e25c827484|   va|      2.5|  118589|    blue|   black|dt credit corpora...| 3700|        3800|Thu Jan 22 2015 0...|\n",
      "|2007|       hummer|             h3|           Base|      suv|   automatic|5gtdn13ex78160245|   fl|      3.9|  107497|burgundy|   black|mercedes benz of ...|11400|       12700|Thu Dec 18 2014 1...|\n",
      "|2004|      hyundai|         accent|             GL|    sedan|   automatic|kmhcg45c74u517860|   ca|      2.1|   85336|   green|   beige| aaero sweet company| 1225|        1800|Wed Dec 31 2014 1...|\n",
      "|2009|       toyota|         sienna|XLE 7-Passenger|  minivan|   automatic|5tdzk22c39s233823|   fl|      2.4|   79873|    gray|    gray|         palm toyota|12750|       10500|Wed Jan 07 2015 1...|\n",
      "|2013|        honda|        insight|             EX|hatchback|   automatic|jhmze2h78ds000083|   ca|      2.4|   31019|   white|    gray|ahfc/honda lease ...|13450|       11200|Thu Dec 18 2014 1...|\n",
      "|2012|          ram|           1500|            SLT| quad cab|   automatic|1c6rd7gp3cs292718|   md|      3.2|   26199|   black|   black|    chrysler capital|21600|       22600|Tue Dec 30 2014 0...|\n",
      "|2010|        honda|        odyssey|             LX|  minivan|   automatic|5fnrl3h27ab080213|   ca|      2.7|   79116|   white|     tan|high bid trading ...| 9825|       12500|Wed Dec 17 2014 1...|\n",
      "|2014|         ford|          focus|             SE|hatchback|   automatic|1fadp3k27el150647|   ga|      2.0|   24432|  silver|   black|enterprise vehicl...|12500|        8700|Thu Jan 08 2015 1...|\n",
      "|2007|       saturn|           aura|             XE|    sedan|   automatic|1g8zs57n27f208351|   ca|      3.8|  118943|   white|   beige|          valley kia| 3800|        3800|Thu Dec 18 2014 1...|\n",
      "|2011|mercedes-benz|        e-class|           E550|    sedan|   automatic|wddhf7cb8ba296721|   fl|      3.5|   43514|   white|   brown|mercedes-benz fin...|25600|       27600|Thu Dec 18 2014 0...|\n",
      "|2012|mercedes-benz|        m-class|  ML350 BlueTEC|      suv|   automatic|4jgda2eb1ca074994|   ca|      4.3|   45365|    gray|    gray| land rover san jose|35100|       35000|Tue Jan 06 2015 1...|\n",
      "|2013|         ford|transit connect|  Cargo Van XLT|  minivan|   automatic|nm0ls7dn8dt148923|   tx|      4.7|    4551|   white|    gray|enterprise fleet ...|17200|       17000|Wed Dec 31 2014 1...|\n",
      "|2008|          gmc|       yukon xl|         Denali|      suv|   automatic|1gkfk66808j174939|   co|      2.5|  103200|   black|   black|  dtg operations inc|16850|       17500|Wed Dec 31 2014 1...|\n",
      "|2014|          ram|           1500|            SLT| quad cab|   automatic|1c6rr6gt8es416221|   ca|      2.0|    3658|    gray|    gray|enterprise vehicl...|22500|       15900|Tue Dec 30 2014 1...|\n",
      "|2014|    chevrolet| impala limited|      LTZ Fleet|    sedan|   automatic|2g1wc5e38e1147124|   fl|      4.0|   14080|    gray|   beige|      gm remarketing|15000|       15000|Mon Jan 26 2015 0...|\n",
      "|2008|          bmw|       1 series|           135i|    coupe|      manual|wbauc73578vf23541|   fl|      3.7|   80489|    blue|    gray|summer enterprise...|11700|       13500|Tue Dec 30 2014 0...|\n",
      "|2014|        dodge|        avenger|             SE|    sedan|   automatic|1c3cdzab6en110572|   co|      4.3|   27444|     red|   beige|        gm financial|11100|       11900|Tue Dec 23 2014 1...|\n",
      "|2012|   volkswagen|             cc|          Sport|    sedan|   automatic|wvwmn7an1ce540261|   fl|      4.1|   22991|    blue|   beige|expert auto group...|14050|       14700|Thu Dec 18 2014 1...|\n",
      "+----+-------------+---------------+---------------+---------+------------+-----------------+-----+---------+--------+--------+--------+--------------------+-----+------------+--------------------+\n",
      "only showing top 20 rows\n",
      "\n"
     ]
    }
   ],
   "source": [
    "df = df.where((df[\"transmission\"] == \"automatic\") | (df[\"transmission\"] == \"manual\"))\n",
    "df = df.where((df[\"color\"] != '—'))\n",
    "df = df.where((df[\"interior\"] != '—'))\n",
    "df.show()"
   ]
  },
  {
   "cell_type": "code",
   "execution_count": 30,
   "id": "b75e74f1-c836-47f8-94da-5d0e5ff1406c",
   "metadata": {},
   "outputs": [
    {
     "name": "stdout",
     "output_type": "stream",
     "text": [
      "+----+-------------+--------+-------+-----------+------------+-----------------+-----+---------+--------+------+--------+--------------------+-----+------------+--------------------+\n",
      "|year|         make|   model|   trim|       body|transmission|              vin|state|condition|odometer| color|interior|              seller|  mmr|sellingprice|            saledate|\n",
      "+----+-------------+--------+-------+-----------+------------+-----------------+-----+---------+--------+------+--------+--------------------+-----+------------+--------------------+\n",
      "|2013|    chevrolet|   cruze|    1LT|      sedan|   automatic|1g1pc5sb9d7167061|   va|      2.8| 29322.0|   red|    gray|fiserv/citizens a...|11200|       10200|Mon Dec 22 2014 0...|\n",
      "|2008|          gmc|  acadia|  SLT-2|        suv|   automatic|1gker33768j202809|   tx|      2.9| 97458.0|  gray|   black|ford motor credit...|12250|       11000|Tue Dec 23 2014 1...|\n",
      "|2005|       nissan|  maxima| 3.5 SL|      sedan|   automatic|1n4ba41e25c827484|   va|      2.5|118589.0|  blue|   black|dt credit corpora...| 3700|        3800|Thu Jan 22 2015 0...|\n",
      "|2014|          kia|     rio|     LX|      sedan|   automatic|knadm4a30e6373742|   ca|      4.9| 15106.0|silver|   black|kia motors americ...|11500|       12500|Tue Dec 16 2014 1...|\n",
      "|2004|        mazda|  mazda6|      s|      sedan|      manual|1yvfp80d545n25596|   md|        2|173650.0|silver|   black|coastal credit ll...| 1800|        1100|Tue Jan 20 2015 0...|\n",
      "|2014|    chevrolet|  impala|    LTZ|      sedan|   automatic|2g1155s3xe9133901|   fl|        4| 14037.0| black|   black|      gm remarketing|24300|       24700|Mon Feb 09 2015 0...|\n",
      "|2014|          bmw|2 series|  M235i|      coupe|   automatic|wba1j7c54evw84866|   nv|      4.2|  3001.0| black|   black|   bmw north america|39800|       33500|Thu Jan 22 2015 0...|\n",
      "|2004|        lexus|  ls 430|   Base|      sedan|   automatic|jthbn36f840157562|   az|      3.6|114503.0| black|   beige|dealer network gr...|11650|       10700|Thu Dec 18 2014 1...|\n",
      "|2011|   volkswagen|  tiguan|     SE|        suv|   automatic|wvgav7axxbw524469|   tx|      2.5| 69830.0| white|    gray|           vw credit|10550|       10200|Thu Dec 18 2014 1...|\n",
      "|2007|     chrysler|     300|Touring|      sedan|   automatic|2c3ka53g27h792545|   nc|      2.3| 82371.0|  gray|   beige|        dt inventory| 7475|        8600|Tue Dec 30 2014 0...|\n",
      "|2012|      hyundai|veloster|   Base|  hatchback|   automatic|kmhtc6ad4cu027591|   fl|      2.7| 33128.0|orange|   black|hyundai motor fin...|11950|       12600|Mon Dec 22 2014 0...|\n",
      "|1999|       nissan|  sentra|    GXE|      sedan|   automatic|1n4ab41d0xc711641|   ca|      2.4|163472.0|  gray|   black| aaero sweet company|  675|        1200|Wed Dec 17 2014 1...|\n",
      "|2008|mercedes-benz|gl-class|  GL450|        suv|   automatic|4jgbf71e98a380127|   ca|      3.6| 55554.0|silver|   black|               ecars|21300|       23000|Tue Dec 30 2014 1...|\n",
      "|2008|     chrysler| sebring|Limited|convertible|   automatic|1c3lc65m98n573663|   tx|        2|131199.0| white|     tan|caprock auto rema...| 3175|        1300|Thu Dec 18 2014 1...|\n",
      "|2011|    chevrolet|traverse|    LT2|        suv|   automatic|1gnkrjed2bj415308|   ca|      2.6| 25305.0|silver|    gray|fiserv/usb dealer...|19150|       18500|Tue Dec 16 2014 1...|\n",
      "|2009|       nissan|   rogue|     SL|        suv|   automatic|jn8as58v49w436294|   ma|      3.5| 51698.0|silver|   black|capital one auto ...|11000|       12600|Tue Jan 06 2015 0...|\n",
      "|2012|         ford|   focus|    SEL|  hatchback|   automatic|1fahp3m23cl386692|   tx|      3.5| 38409.0|silver|   brown|remktgedge / cars...|10900|        9000|Wed Dec 31 2014 1...|\n",
      "|2013|         ford|  escape|      S|        suv|   automatic|1fmcu0f72dua92776|   mi|      2.5| 17732.0| black|    gray|ford motor credit...|14400|       12700|Thu Dec 18 2014 0...|\n",
      "|2008|          gmc|  acadia|  SLT-1|        suv|   automatic|1gkev23728j197338|   nj|      3.5|128828.0| white|   black|  lester glenn buick| 8275|        7800|Wed Feb 04 2015 0...|\n",
      "|2006|      porsche|cayman s|   Base|      coupe|      manual|wp0ab29856u780789|   ca|      4.7| 65696.0| white|     tan|sports trend auto...|22200|       24500|Thu Dec 18 2014 1...|\n",
      "+----+-------------+--------+-------+-----------+------------+-----------------+-----+---------+--------+------+--------+--------------------+-----+------------+--------------------+\n",
      "only showing top 20 rows\n",
      "\n"
     ]
    }
   ],
   "source": [
    "df = df.withColumn(\"body\", lower(df[\"body\"]))\n",
    "df = df.withColumn(\"make\", lower(df[\"make\"]))\n",
    "df = df.withColumn(\"model\", lower(df[\"model\"]))\n",
    "df.show()"
   ]
  },
  {
   "cell_type": "code",
   "execution_count": 68,
   "id": "47df5532-4353-4862-aeec-b7f65a13cacf",
   "metadata": {},
   "outputs": [
    {
     "name": "stdout",
     "output_type": "stream",
     "text": [
      "+------------+-----+\n",
      "|        make|count|\n",
      "+------------+-----+\n",
      "|       lotus|    1|\n",
      "|      daewoo|    2|\n",
      "| lamborghini|    3|\n",
      "|      fisker|    9|\n",
      "|    plymouth|   15|\n",
      "|     ferrari|   15|\n",
      "| rolls-royce|   15|\n",
      "|         geo|   16|\n",
      "|       tesla|   22|\n",
      "|aston martin|   22|\n",
      "|     bentley|  102|\n",
      "|    maserati|  105|\n",
      "|       isuzu|  167|\n",
      "|  oldsmobile|  307|\n",
      "|       smart|  332|\n",
      "|        saab|  404|\n",
      "|        fiat|  673|\n",
      "|      hummer|  738|\n",
      "|      suzuki|  945|\n",
      "|     porsche| 1136|\n",
      "+------------+-----+\n",
      "only showing top 20 rows\n",
      "\n",
      "+--------------+-----+\n",
      "|         model|count|\n",
      "+--------------+-----+\n",
      "|        altima|15094|\n",
      "|         f-150|10713|\n",
      "|         camry|10405|\n",
      "|        fusion|10079|\n",
      "|        escape| 9127|\n",
      "|        accord| 8327|\n",
      "|         focus| 8258|\n",
      "|        impala| 7275|\n",
      "|         civic| 6894|\n",
      "| grand caravan| 6586|\n",
      "|       corolla| 6533|\n",
      "|       g sedan| 6526|\n",
      "|      3 series| 6503|\n",
      "|        malibu| 6015|\n",
      "|        sonata| 5513|\n",
      "|silverado 1500| 5510|\n",
      "|         cruze| 5211|\n",
      "|       elantra| 5190|\n",
      "|      explorer| 5187|\n",
      "|        maxima| 5121|\n",
      "+--------------+-----+\n",
      "only showing top 20 rows\n",
      "\n",
      "+--------------------+-----+\n",
      "|                body|count|\n",
      "+--------------------+-----+\n",
      "|         cts-v wagon|    1|\n",
      "|            cab plus|    2|\n",
      "|          cab plus 4|    5|\n",
      "|granturismo conve...|   10|\n",
      "|           g37 coupe|   11|\n",
      "|           cts wagon|   11|\n",
      "|         regular-cab|   13|\n",
      "|         transit van|   16|\n",
      "|     g37 convertible|   19|\n",
      "|         cts-v coupe|   25|\n",
      "|     tsx sport wagon|   28|\n",
      "|     q60 convertible|   30|\n",
      "|           q60 coupe|   31|\n",
      "|             xtracab|   34|\n",
      "|  beetle convertible|   36|\n",
      "| promaster cargo van|   55|\n",
      "|       elantra coupe|   84|\n",
      "|            mega cab|   93|\n",
      "|           cts coupe|  118|\n",
      "|            club cab|  143|\n",
      "+--------------------+-----+\n",
      "only showing top 20 rows\n",
      "\n",
      "+---------+-----+\n",
      "|    color|count|\n",
      "+---------+-----+\n",
      "|     lime|   11|\n",
      "|     pink|   36|\n",
      "|turquoise|  189|\n",
      "| charcoal|  425|\n",
      "|   yellow| 1060|\n",
      "|off-white| 1231|\n",
      "|   purple| 1249|\n",
      "|   orange| 1709|\n",
      "|    brown| 5473|\n",
      "|    beige| 7292|\n",
      "| burgundy| 7459|\n",
      "|    green| 8983|\n",
      "|     gold| 9309|\n",
      "|      red|36494|\n",
      "|     blue|41991|\n",
      "|     gray|69257|\n",
      "|   silver|69780|\n",
      "|    white|87044|\n",
      "|    black|91411|\n",
      "+---------+-----+\n",
      "\n",
      "+---------+------+\n",
      "| interior| count|\n",
      "+---------+------+\n",
      "|   yellow|    19|\n",
      "|   orange|   120|\n",
      "| burgundy|   143|\n",
      "|    green|   191|\n",
      "|    white|   199|\n",
      "|off-white|   249|\n",
      "|     gold|   262|\n",
      "|   purple|   269|\n",
      "|     blue|   898|\n",
      "|   silver|   972|\n",
      "|      red|  1054|\n",
      "|    brown|  6675|\n",
      "|      tan| 35657|\n",
      "|    beige| 48076|\n",
      "|     gray|146599|\n",
      "|    black|199020|\n",
      "+---------+------+\n",
      "\n",
      "+------------+------+\n",
      "|transmission| count|\n",
      "+------------+------+\n",
      "|      manual| 15441|\n",
      "|   automatic|424962|\n",
      "+------------+------+\n",
      "\n"
     ]
    }
   ],
   "source": [
    "# \"year\", \"make\", \"model\", \"body\", \"transmission\", \"condition\", \"odometer\", \"color\"\n",
    "df.groupBy(\"make\").count().sort(\"count\").show()\n",
    "df.groupBy(\"model\").count().sort(desc(\"count\")).show()\n",
    "df.groupBy(\"body\").count().sort((\"count\")).show()\n",
    "df.groupBy(\"color\").count().sort(\"count\").show()\n",
    "df.groupBy(\"interior\").count().sort(\"count\").show()\n",
    "df.groupBy(\"transmission\").count().sort(\"count\").show()"
   ]
  },
  {
   "cell_type": "code",
   "execution_count": 40,
   "id": "276bd980-ba04-4442-b4de-d4f5998fe1cf",
   "metadata": {},
   "outputs": [],
   "source": [
    "# Cast to respective data types\n",
    "df = df.withColumn('mmr', col('mmr').cast('integer'))\n",
    "df = df.withColumn('condition', col('condition').cast('double'))\n",
    "df = df.withColumn('odometer', col('odometer').cast('integer'))"
   ]
  },
  {
   "cell_type": "code",
   "execution_count": 133,
   "id": "451bd9a6-7e07-4a77-9776-be1bcda42225",
   "metadata": {},
   "outputs": [
    {
     "name": "stdout",
     "output_type": "stream",
     "text": [
      "+--------------------+\n",
      "|count(DISTINCT year)|\n",
      "+--------------------+\n",
      "|                  26|\n",
      "+--------------------+\n",
      "\n",
      "+---------------------+\n",
      "|count(DISTINCT model)|\n",
      "+---------------------+\n",
      "|                  761|\n",
      "+---------------------+\n",
      "\n"
     ]
    }
   ],
   "source": [
    "df.select(countDistinct(\"year\")).show()\n",
    "df.select(countDistinct(\"model\")).show()\n"
   ]
  },
  {
   "cell_type": "code",
   "execution_count": 42,
   "id": "7f8c25b5-06d2-4220-a269-fa1036bc5bfe",
   "metadata": {},
   "outputs": [
    {
     "name": "stdout",
     "output_type": "stream",
     "text": [
      "+----+-------------+----------------+----------+---------+------------+-----------------+-----+---------+--------+--------+--------+--------------------+-----+------------+--------------------+\n",
      "|year|         make|           model|      trim|     body|transmission|              vin|state|condition|odometer|   color|interior|              seller|  mmr|sellingprice|            saledate|\n",
      "+----+-------------+----------------+----------+---------+------------+-----------------+-----+---------+--------+--------+--------+--------------------+-----+------------+--------------------+\n",
      "|2013|    chevrolet|           cruze|       1LT|    sedan|   automatic|1g1pc5sb9d7167061|   va|      2.8|   29322|     red|    gray|fiserv/citizens a...|11200|       10200|Mon Dec 22 2014 0...|\n",
      "|2008|          gmc|          acadia|     SLT-2|      suv|   automatic|1gker33768j202809|   tx|      2.9|   97458|    gray|   black|ford motor credit...|12250|       11000|Tue Dec 23 2014 1...|\n",
      "|2005|       nissan|          maxima|    3.5 SL|    sedan|   automatic|1n4ba41e25c827484|   va|      2.5|  118589|    blue|   black|dt credit corpora...| 3700|        3800|Thu Jan 22 2015 0...|\n",
      "|2014|          kia|             rio|        LX|    sedan|   automatic|knadm4a30e6373742|   ca|      4.9|   15106|  silver|   black|kia motors americ...|11500|       12500|Tue Dec 16 2014 1...|\n",
      "|2004|        mazda|          mazda6|         s|    sedan|      manual|1yvfp80d545n25596|   md|      2.0|  173650|  silver|   black|coastal credit ll...| 1800|        1100|Tue Jan 20 2015 0...|\n",
      "|2014|    chevrolet|          impala|       LTZ|    sedan|   automatic|2g1155s3xe9133901|   fl|      4.0|   14037|   black|   black|      gm remarketing|24300|       24700|Mon Feb 09 2015 0...|\n",
      "|2014|          bmw|        2 series|     M235i|    coupe|   automatic|wba1j7c54evw84866|   nv|      4.2|    3001|   black|   black|   bmw north america|39800|       33500|Thu Jan 22 2015 0...|\n",
      "|2012|      hyundai|          tucson|       GLS|      suv|   automatic|km8ju3ac2cu417275|   fl|      3.8|   70099|    blue|       —|hyundai motor fin...|12800|       12200|Tue Jan 06 2015 0...|\n",
      "|2013|         ford|            edge|       SEL|      suv|   automatic|2fmdk4jc9dbb04305|   ny|      4.6|   29157|burgundy|   black|ford motor credit...|23100|       24300|Wed Jan 07 2015 0...|\n",
      "|2011|         ford|         mustang|        V6|    coupe|   automatic|1zvbp8am6b5130291|   sc|      2.8|   74223|    blue|   black|   pnc national bank|11350|       12000|Tue Dec 23 2014 0...|\n",
      "|2011|        buick|         enclave|      CXL2|      suv|   automatic|5gakvced6bj367698|   oh|      2.9|   33442|    gray|    gray|fiserv/usb dealer...|24100|       23100|Tue Jan 13 2015 0...|\n",
      "|2003|         ford|           f-150|       XLT|supercrew|   automatic|1ftrw07663kd30766|   ca|      2.8|  137058|    gold|    gray|honda cars of corona| 4750|        4200|Wed Dec 31 2014 1...|\n",
      "|2013|        volvo|            xc60|       3.2|      suv|   automatic|yv4952dl6d2413654|   ca|      3.9|   39860|    blue|   black|    avis corporation|20400|       20600|Tue Dec 16 2014 1...|\n",
      "|2013|          kia|          optima|        LX|    sedan|   automatic|5xxgm4a75dg140328|   ga|      2.2|   53799|   black|   beige|     td auto finance|11700|       10500|Tue Dec 23 2014 1...|\n",
      "|2009|     chrysler|town and country|        LX|  minivan|   automatic|2a8hr44e09r527179|   ca|      2.1|  163365|     red|    gray|    guard auto sales| 4225|        3400|Wed Dec 17 2014 1...|\n",
      "|2013|mercedes-benz|         e-class|E350 Sport|    sedan|   automatic|wddhf5kb8da762334|   ca|      2.5|    4995|   black|   black|   mercedes-benz usa|35400|       31750|Thu Jan 15 2015 0...|\n",
      "|2011|       toyota|           prius|     Three|hatchback|   automatic|jtdkn3du6b1471527|   fl|      3.7|   71264|    blue|    gray|    tdaf remarketing|12300|       12300|Tue Jan 06 2015 0...|\n",
      "|2012|        scion|              iq|      Base|hatchback|   automatic|jtnjjxb01cj012739|   ga|      4.3|   14821|    gray|   black|toyota financial ...| 9375|        9200|Thu Dec 18 2014 1...|\n",
      "|2014|        dodge|         journey|       SXT|      suv|   automatic|3c4pdcbg7et177914|   fl|      4.0|   20552|    blue|   beige|hertz corporation...|16650|       16400|Mon Jan 05 2015 0...|\n",
      "|2013|    chevrolet|          malibu|        LT|    sedan|   automatic|1g11e5sa6df248841|   nc|      3.8|   50307|   white|   black|t & k enterprises...|12300|       12400|Tue Jan 06 2015 0...|\n",
      "+----+-------------+----------------+----------+---------+------------+-----------------+-----+---------+--------+--------+--------+--------------------+-----+------------+--------------------+\n",
      "only showing top 20 rows\n",
      "\n"
     ]
    }
   ],
   "source": [
    "df.show()"
   ]
  },
  {
   "cell_type": "code",
   "execution_count": 56,
   "id": "418acf31-19cb-4a0b-8034-7d16a9e2836d",
   "metadata": {},
   "outputs": [
    {
     "name": "stdout",
     "output_type": "stream",
     "text": [
      "+----+----+-----+----+----+------------+---+-----+---------+--------+-----+--------+------+---+------------+--------+\n",
      "|year|make|model|trim|body|transmission|vin|state|condition|odometer|color|interior|seller|mmr|sellingprice|saledate|\n",
      "+----+----+-----+----+----+------------+---+-----+---------+--------+-----+--------+------+---+------------+--------+\n",
      "+----+----+-----+----+----+------------+---+-----+---------+--------+-----+--------+------+---+------------+--------+\n",
      "\n"
     ]
    }
   ],
   "source": [
    "def is_numeric(value):\n",
    "    try:\n",
    "        float(value)\n",
    "        return True\n",
    "    except ValueError:\n",
    "        return False\n",
    "\n",
    "is_numeric_udf = udf(is_numeric, BooleanType())\n",
    "\n",
    "df.filter(~is_numeric_udf(col(\"mmr\"))).show()"
   ]
  },
  {
   "cell_type": "code",
   "execution_count": 89,
   "id": "8355540c-8bd5-4378-a996-8e90736321e2",
   "metadata": {},
   "outputs": [
    {
     "name": "stdout",
     "output_type": "stream",
     "text": [
      "+-------+------------------+------+-----------------+-----------------+----------+------------+-----------------+------+------------------+------------------+------+--------+--------------------+-----------------+------------------+--------------------+---------+\n",
      "|summary|              year|  make|            model|             trim|      body|transmission|              vin| state|         condition|          odometer| color|interior|              seller|              mmr|      sellingprice|            saledate|body_type|\n",
      "+-------+------------------+------+-----------------+-----------------+----------+------------+-----------------+------+------------------+------------------+------+--------+--------------------+-----------------+------------------+--------------------+---------+\n",
      "|  count|            440403|440403|           440403|           440403|    440403|      440403|           440403|440403|            440403|            440403|440403|  440403|              440403|           440403|            440403|              440403|   440403|\n",
      "|   mean| 2010.135546306451|  NULL|792.9732079488999|378.9737514945275|      NULL|        NULL|             NULL|  NULL|3.4105601006355393| 67673.32837878034|  NULL|    NULL|                NULL|13645.91856776634|13499.895541129375|                NULL|     NULL|\n",
      "| stddev|3.8343812960404224|  NULL|807.4243361140836|855.8373107132091|      NULL|        NULL|             NULL|  NULL|0.9418832997963358|52150.906014961205|  NULL|    NULL|                NULL|9435.569254344875|  9514.81231643145|                NULL|     NULL|\n",
      "|    min|              1990| acura|         1 series|                !|access cab|   automatic|137za84341e193591|    al|               1.0|                 1| beige|   beige|\"enterprise vehic...|               25|                 1|Fri Apr 03 2015 0...|      cab|\n",
      "|    25%|              2008|  NULL|            200.0|              2.5|      NULL|        NULL|             NULL|  NULL|               2.7|             28808|  NULL|    NULL|                NULL|             7250|              7000|                NULL|     NULL|\n",
      "|    50%|              2012|  NULL|            300.0|              2.5|      NULL|        NULL|             NULL|  NULL|               3.6|             52488|  NULL|    NULL|                NULL|            12150|             12000|                NULL|     NULL|\n",
      "|    75%|              2013|  NULL|           1500.0|              3.8|      NULL|        NULL|             NULL|  NULL|               4.2|             97884|  NULL|    NULL|                NULL|            18050|             18000|                NULL|     NULL|\n",
      "|    max|              2015| volvo|           zephyr|        xDrive50i|   xtracab|      manual|zhwgu22t97la05738|    wi|               5.0|            999999|yellow|  yellow|      zygi auto corp|           182000|            230000|Wed May 27 2015 1...|    wagon|\n",
      "+-------+------------------+------+-----------------+-----------------+----------+------------+-----------------+------+------------------+------------------+------+--------+--------------------+-----------------+------------------+--------------------+---------+\n",
      "\n"
     ]
    }
   ],
   "source": [
    "df.summary().show()"
   ]
  },
  {
   "cell_type": "code",
   "execution_count": 87,
   "id": "563ecde0-449b-425b-a71c-cb811382d972",
   "metadata": {},
   "outputs": [
    {
     "name": "stdout",
     "output_type": "stream",
     "text": [
      "+-----------+------+\n",
      "|  body_type| count|\n",
      "+-----------+------+\n",
      "|      sedan|203397|\n",
      "|        suv|112922|\n",
      "|        cab| 38070|\n",
      "|  hatchback| 21539|\n",
      "|    minivan| 20907|\n",
      "|      coupe| 16679|\n",
      "|      wagon| 13378|\n",
      "|convertible|  8905|\n",
      "|        van|  4449|\n",
      "|       koup|   157|\n",
      "+-----------+------+\n",
      "\n"
     ]
    }
   ],
   "source": [
    "# Body Type Categorization\n",
    "df = df.withColumn(\n",
    "    \"body_type\",\n",
    "     when(col(\"body\").like(\"%cab%\"), \"cab\")\n",
    "    .when(col(\"body\").like(\"%suv%\"), \"suv\")\n",
    "    .when(col(\"body\").like(\"%sedan%\"), \"sedan\")\n",
    "    .when(col(\"body\").like(\"%hatchback%\"), \"hatchback\")\n",
    "    .when(col(\"body\") == \"minivan\", \"minivan\")\n",
    "    .when(col(\"body\").like(\"%van%\"), \"van\")\n",
    "    .when(col(\"body\") == \"supercrew\", \"cab\")\n",
    "    .when(col(\"body\").like(\"%coupe%\"), \"coupe\")\n",
    "    .when(col(\"body\").like(\"%wagon%\"), \"wagon\")\n",
    "    .when(col(\"body\").like(\"%convertible%\"), \"convertible\")\n",
    "    .when(col(\"body\").like(\"%koup%\"), \"koup\")\n",
    ")\n",
    "df.groupBy(\"body_type\").count().sort(desc(\"count\")).show()"
   ]
  },
  {
   "cell_type": "markdown",
   "id": "0a7cadfe-eee5-4e6a-a9d1-bda4ab6ce3f1",
   "metadata": {},
   "source": [
    "## Model-Making"
   ]
  },
  {
   "cell_type": "code",
   "execution_count": 134,
   "id": "9cd60b25-cb4b-46f8-8c67-f9f4d9598e9c",
   "metadata": {},
   "outputs": [
    {
     "name": "stdout",
     "output_type": "stream",
     "text": [
      "+----+-----------+------------+---------+--------+--------+--------+-----+\n",
      "|year|  body_type|transmission|condition|odometer|   color|interior|  mmr|\n",
      "+----+-----------+------------+---------+--------+--------+--------+-----+\n",
      "|2009|      sedan|   automatic|      2.9|   91341|   black|   black| 8650|\n",
      "|2008|convertible|   automatic|      3.3|   69135|     red|   black| 7500|\n",
      "|2008|        suv|   automatic|      4.1|  170726|    blue|    gray|10300|\n",
      "|2006|      sedan|   automatic|      1.9|  110866|     red|    gray| 2025|\n",
      "|2013|      sedan|      manual|      3.9|   24072|    gray|   black|11750|\n",
      "|2013|        suv|   automatic|      3.7|   19499|  silver|   black|17050|\n",
      "|2010|      sedan|   automatic|      2.0|  153354|    gray|    gray| 5750|\n",
      "|2010|        cab|   automatic|      2.6|   76422|   black|    gray|19400|\n",
      "|2014|        van|   automatic|      4.9|    5620|   white|    gray|20400|\n",
      "|2014|        cab|   automatic|      4.2|   17665|     red|    gray|20500|\n",
      "|2012|        suv|   automatic|      4.1|   41449|   white|   beige|28800|\n",
      "|2014|      sedan|   automatic|      3.8|   16379|    gray|   black|29500|\n",
      "|2012|        suv|   automatic|      2.0|   26796|  silver|    gray|16300|\n",
      "|2001|        suv|   automatic|      1.9|  156047|  silver|    gray| 2000|\n",
      "|2005|        cab|   automatic|      3.5|  121260|   black|    gray| 7675|\n",
      "|2008|convertible|   automatic|      4.1|   36138|   green|   beige| 8700|\n",
      "|2006|      coupe|   automatic|      1.9|  146935|  silver|   black| 4100|\n",
      "|2009|  hatchback|   automatic|      2.5|   50111|    blue|   black| 8675|\n",
      "|2011|      sedan|   automatic|      2.6|   75999|burgundy|    gray| 7525|\n",
      "|2012|        suv|   automatic|      3.0|   25810|    gray|    gray|16600|\n",
      "+----+-----------+------------+---------+--------+--------+--------+-----+\n",
      "only showing top 20 rows\n",
      "\n"
     ]
    }
   ],
   "source": [
    "# \"year\", \"make\", \"model\", \"body\", \"transmission\", \"condition\", \"odometer\", \"color\"\n",
    "features_df = df.select([\"year\", \"body_type\", \"transmission\", \"condition\", \"odometer\", \"color\", \"interior\", \"mmr\"])\n",
    "features_df.show()"
   ]
  },
  {
   "cell_type": "code",
   "execution_count": 102,
   "id": "ebf6b545-87a2-48d6-a827-2bc5c0479f94",
   "metadata": {},
   "outputs": [],
   "source": [
    "from pyspark.sql.types import *\n",
    "from pyspark.ml.feature import StringIndexer\n",
    "from pyspark.ml.feature import VectorAssembler\n",
    "from pyspark.ml.feature import VectorIndexer\n",
    "from pyspark.ml import Pipeline"
   ]
  },
  {
   "cell_type": "code",
   "execution_count": 135,
   "id": "640bb9c7-11a9-4342-8a8e-bea0ab2c82b4",
   "metadata": {},
   "outputs": [
    {
     "name": "stdout",
     "output_type": "stream",
     "text": [
      "+----+-----------+------------+---------+--------+--------+--------+-----+-------------+----------------+---------+------------+\n",
      "|year|  body_type|transmission|condition|odometer|   color|interior|  mmr|body_type_idx|transmission_idx|color_idx|interior_idx|\n",
      "+----+-----------+------------+---------+--------+--------+--------+-----+-------------+----------------+---------+------------+\n",
      "|2009|      sedan|   automatic|      2.9|   91341|   black|   black| 8650|          0.0|             0.0|      0.0|         0.0|\n",
      "|2008|convertible|   automatic|      3.3|   69135|     red|   black| 7500|          7.0|             0.0|      5.0|         0.0|\n",
      "|2008|        suv|   automatic|      4.1|  170726|    blue|    gray|10300|          1.0|             0.0|      4.0|         1.0|\n",
      "|2006|      sedan|   automatic|      1.9|  110866|     red|    gray| 2025|          0.0|             0.0|      5.0|         1.0|\n",
      "|2013|      sedan|      manual|      3.9|   24072|    gray|   black|11750|          0.0|             1.0|      3.0|         0.0|\n",
      "|2013|        suv|   automatic|      3.7|   19499|  silver|   black|17050|          1.0|             0.0|      2.0|         0.0|\n",
      "|2010|      sedan|   automatic|      2.0|  153354|    gray|    gray| 5750|          0.0|             0.0|      3.0|         1.0|\n",
      "|2010|        cab|   automatic|      2.6|   76422|   black|    gray|19400|          2.0|             0.0|      0.0|         1.0|\n",
      "|2014|        van|   automatic|      4.9|    5620|   white|    gray|20400|          8.0|             0.0|      1.0|         1.0|\n",
      "|2014|        cab|   automatic|      4.2|   17665|     red|    gray|20500|          2.0|             0.0|      5.0|         1.0|\n",
      "|2012|        suv|   automatic|      4.1|   41449|   white|   beige|28800|          1.0|             0.0|      1.0|         2.0|\n",
      "|2014|      sedan|   automatic|      3.8|   16379|    gray|   black|29500|          0.0|             0.0|      3.0|         0.0|\n",
      "|2012|        suv|   automatic|      2.0|   26796|  silver|    gray|16300|          1.0|             0.0|      2.0|         1.0|\n",
      "|2001|        suv|   automatic|      1.9|  156047|  silver|    gray| 2000|          1.0|             0.0|      2.0|         1.0|\n",
      "|2005|        cab|   automatic|      3.5|  121260|   black|    gray| 7675|          2.0|             0.0|      0.0|         1.0|\n",
      "|2008|convertible|   automatic|      4.1|   36138|   green|   beige| 8700|          7.0|             0.0|      7.0|         2.0|\n",
      "|2006|      coupe|   automatic|      1.9|  146935|  silver|   black| 4100|          5.0|             0.0|      2.0|         0.0|\n",
      "|2009|  hatchback|   automatic|      2.5|   50111|    blue|   black| 8675|          3.0|             0.0|      4.0|         0.0|\n",
      "|2011|      sedan|   automatic|      2.6|   75999|burgundy|    gray| 7525|          0.0|             0.0|      8.0|         1.0|\n",
      "|2012|        suv|   automatic|      3.0|   25810|    gray|    gray|16600|          1.0|             0.0|      3.0|         1.0|\n",
      "+----+-----------+------------+---------+--------+--------+--------+-----+-------------+----------------+---------+------------+\n",
      "only showing top 20 rows\n",
      "\n"
     ]
    }
   ],
   "source": [
    "indexers = [StringIndexer(inputCol=col, outputCol=col+'_idx').fit(features_df) for col in [\"body_type\", \"transmission\",\"color\", \"interior\"]]\n",
    "pipeline = Pipeline(stages=indexers)\n",
    "features_df = pipeline.fit(features_df).transform(features_df)\n",
    "features_df.show()"
   ]
  },
  {
   "cell_type": "code",
   "execution_count": 136,
   "id": "5f2a6b2c-cf05-4a2d-9e86-221a239f37f4",
   "metadata": {},
   "outputs": [
    {
     "name": "stdout",
     "output_type": "stream",
     "text": [
      "+----+-----------+------------+---------+--------+--------+--------+-----+-------------+----------------+---------+------------+---------------------------------+\n",
      "|year|body_type  |transmission|condition|odometer|color   |interior|mmr  |body_type_idx|transmission_idx|color_idx|interior_idx|features                         |\n",
      "+----+-----------+------------+---------+--------+--------+--------+-----+-------------+----------------+---------+------------+---------------------------------+\n",
      "|2009|sedan      |automatic   |2.9      |91341   |black   |black   |8650 |0.0          |0.0             |0.0      |0.0         |(6,[0,3],[2009.0,91341.0])       |\n",
      "|2008|convertible|automatic   |3.3      |69135   |red     |black   |7500 |7.0          |0.0             |5.0      |0.0         |[2008.0,7.0,0.0,69135.0,5.0,0.0] |\n",
      "|2008|suv        |automatic   |4.1      |170726  |blue    |gray    |10300|1.0          |0.0             |4.0      |1.0         |[2008.0,1.0,0.0,170726.0,4.0,1.0]|\n",
      "|2006|sedan      |automatic   |1.9      |110866  |red     |gray    |2025 |0.0          |0.0             |5.0      |1.0         |[2006.0,0.0,0.0,110866.0,5.0,1.0]|\n",
      "|2013|sedan      |manual      |3.9      |24072   |gray    |black   |11750|0.0          |1.0             |3.0      |0.0         |[2013.0,0.0,1.0,24072.0,3.0,0.0] |\n",
      "|2013|suv        |automatic   |3.7      |19499   |silver  |black   |17050|1.0          |0.0             |2.0      |0.0         |[2013.0,1.0,0.0,19499.0,2.0,0.0] |\n",
      "|2010|sedan      |automatic   |2.0      |153354  |gray    |gray    |5750 |0.0          |0.0             |3.0      |1.0         |[2010.0,0.0,0.0,153354.0,3.0,1.0]|\n",
      "|2010|cab        |automatic   |2.6      |76422   |black   |gray    |19400|2.0          |0.0             |0.0      |1.0         |[2010.0,2.0,0.0,76422.0,0.0,1.0] |\n",
      "|2014|van        |automatic   |4.9      |5620    |white   |gray    |20400|8.0          |0.0             |1.0      |1.0         |[2014.0,8.0,0.0,5620.0,1.0,1.0]  |\n",
      "|2014|cab        |automatic   |4.2      |17665   |red     |gray    |20500|2.0          |0.0             |5.0      |1.0         |[2014.0,2.0,0.0,17665.0,5.0,1.0] |\n",
      "|2012|suv        |automatic   |4.1      |41449   |white   |beige   |28800|1.0          |0.0             |1.0      |2.0         |[2012.0,1.0,0.0,41449.0,1.0,2.0] |\n",
      "|2014|sedan      |automatic   |3.8      |16379   |gray    |black   |29500|0.0          |0.0             |3.0      |0.0         |[2014.0,0.0,0.0,16379.0,3.0,0.0] |\n",
      "|2012|suv        |automatic   |2.0      |26796   |silver  |gray    |16300|1.0          |0.0             |2.0      |1.0         |[2012.0,1.0,0.0,26796.0,2.0,1.0] |\n",
      "|2001|suv        |automatic   |1.9      |156047  |silver  |gray    |2000 |1.0          |0.0             |2.0      |1.0         |[2001.0,1.0,0.0,156047.0,2.0,1.0]|\n",
      "|2005|cab        |automatic   |3.5      |121260  |black   |gray    |7675 |2.0          |0.0             |0.0      |1.0         |[2005.0,2.0,0.0,121260.0,0.0,1.0]|\n",
      "|2008|convertible|automatic   |4.1      |36138   |green   |beige   |8700 |7.0          |0.0             |7.0      |2.0         |[2008.0,7.0,0.0,36138.0,7.0,2.0] |\n",
      "|2006|coupe      |automatic   |1.9      |146935  |silver  |black   |4100 |5.0          |0.0             |2.0      |0.0         |[2006.0,5.0,0.0,146935.0,2.0,0.0]|\n",
      "|2009|hatchback  |automatic   |2.5      |50111   |blue    |black   |8675 |3.0          |0.0             |4.0      |0.0         |[2009.0,3.0,0.0,50111.0,4.0,0.0] |\n",
      "|2011|sedan      |automatic   |2.6      |75999   |burgundy|gray    |7525 |0.0          |0.0             |8.0      |1.0         |[2011.0,0.0,0.0,75999.0,8.0,1.0] |\n",
      "|2012|suv        |automatic   |3.0      |25810   |gray    |gray    |16600|1.0          |0.0             |3.0      |1.0         |[2012.0,1.0,0.0,25810.0,3.0,1.0] |\n",
      "+----+-----------+------------+---------+--------+--------+--------+-----+-------------+----------------+---------+------------+---------------------------------+\n",
      "only showing top 20 rows\n",
      "\n"
     ]
    }
   ],
   "source": [
    "assembler = VectorAssembler(\n",
    "    inputCols=[\"year\", \"body_type_idx\", \"transmission_idx\", \"odometer\", \"color_idx\", \"interior_idx\"],\n",
    "    outputCol=\"features\"\n",
    ")\n",
    "features_df = assembler.transform(features_df)\n",
    "features_df.show(truncate=False)"
   ]
  },
  {
   "cell_type": "code",
   "execution_count": 137,
   "id": "5b43593f-953b-478f-bf32-1e38b8dd9301",
   "metadata": {},
   "outputs": [
    {
     "name": "stdout",
     "output_type": "stream",
     "text": [
      "+---------------------------------+-----+\n",
      "|features                         |mmr  |\n",
      "+---------------------------------+-----+\n",
      "|(6,[0,3],[2008.0,128962.0])      |5475 |\n",
      "|[2011.0,0.0,0.0,52875.0,0.0,2.0] |16950|\n",
      "|[2002.0,0.0,0.0,125093.0,3.0,0.0]|2475 |\n",
      "|[2014.0,5.0,0.0,4760.0,5.0,0.0]  |18100|\n",
      "|[2011.0,1.0,0.0,49007.0,2.0,0.0] |21000|\n",
      "|[2010.0,1.0,0.0,82837.0,0.0,1.0] |27600|\n",
      "|[2011.0,2.0,0.0,47190.0,5.0,1.0] |15700|\n",
      "|[2004.0,2.0,0.0,117633.0,9.0,2.0]|4825 |\n",
      "|[2015.0,1.0,0.0,21433.0,3.0,0.0] |19600|\n",
      "|[2005.0,0.0,0.0,118274.0,4.0,0.0]|4775 |\n",
      "|[2013.0,0.0,0.0,19031.0,0.0,10.0]|33100|\n",
      "|[2011.0,0.0,0.0,72619.0,1.0,0.0] |7875 |\n",
      "|[2008.0,0.0,0.0,108617.0,0.0,1.0]|4475 |\n",
      "|[2006.0,0.0,0.0,97114.0,0.0,1.0] |10500|\n",
      "|[2006.0,1.0,0.0,117611.0,1.0,1.0]|3525 |\n",
      "|[2012.0,0.0,0.0,56051.0,3.0,0.0] |11200|\n",
      "|[2004.0,0.0,1.0,126041.0,2.0,0.0]|2325 |\n",
      "|[2013.0,0.0,0.0,39510.0,8.0,0.0] |19800|\n",
      "|[2013.0,1.0,0.0,21231.0,1.0,1.0] |15650|\n",
      "|[2013.0,4.0,0.0,26123.0,3.0,0.0] |13250|\n",
      "+---------------------------------+-----+\n",
      "only showing top 20 rows\n",
      "\n"
     ]
    }
   ],
   "source": [
    "features_vector_df = features_df.select(['features','mmr'])\n",
    "features_vector_df = features_vector_df.withColumn('mmr', features_vector_df['mmr'].cast(IntegerType()))\n",
    "features_vector_df.show(truncate=False)"
   ]
  },
  {
   "cell_type": "code",
   "execution_count": 138,
   "id": "c4750d5e-ff79-41c9-86db-1c0e4a827878",
   "metadata": {},
   "outputs": [],
   "source": [
    "(trainData, testData) = features_vector_df.randomSplit([0.8, 0.2], seed=42)"
   ]
  },
  {
   "cell_type": "code",
   "execution_count": 128,
   "id": "50f3bad7-a627-417e-9f7b-03bad3f4deee",
   "metadata": {},
   "outputs": [
    {
     "name": "stdout",
     "output_type": "stream",
     "text": [
      "+--------------------+----+\n",
      "|            features| mmr|\n",
      "+--------------------+----+\n",
      "|(7,[0,1,4],[1992....| 425|\n",
      "|(7,[0,1,4],[1995....|1000|\n",
      "|(7,[0,1,4],[1997....| 950|\n",
      "|(7,[0,1,4],[1997....|1700|\n",
      "|(7,[0,1,4],[1998....|2325|\n",
      "|(7,[0,1,4],[1998....| 825|\n",
      "|(7,[0,1,4],[1999....|1125|\n",
      "|(7,[0,1,4],[1999....|1075|\n",
      "|(7,[0,1,4],[1999....|1950|\n",
      "|(7,[0,1,4],[1999....|1000|\n",
      "|(7,[0,1,4],[2000....|1750|\n",
      "|(7,[0,1,4],[2000....|2975|\n",
      "|(7,[0,1,4],[2000....|1025|\n",
      "|(7,[0,1,4],[2000....|4050|\n",
      "|(7,[0,1,4],[2000....|2525|\n",
      "|(7,[0,1,4],[2000....|2050|\n",
      "|(7,[0,1,4],[2000....|1275|\n",
      "|(7,[0,1,4],[2000....| 825|\n",
      "|(7,[0,1,4],[2000....| 975|\n",
      "|(7,[0,1,4],[2001....| 975|\n",
      "+--------------------+----+\n",
      "only showing top 20 rows\n",
      "\n"
     ]
    }
   ],
   "source": [
    "trainData.show()"
   ]
  },
  {
   "cell_type": "code",
   "execution_count": 101,
   "id": "8745661c-a2f7-4ac9-8cc6-113f639c420c",
   "metadata": {},
   "outputs": [],
   "source": [
    "# Import classification models\n",
    "\n",
    "from pyspark.ml.regression import RandomForestRegressor"
   ]
  },
  {
   "cell_type": "code",
   "execution_count": 139,
   "id": "c79c740e-11ec-4f6a-a97c-30f7e03ca6b8",
   "metadata": {},
   "outputs": [],
   "source": [
    "rf = RandomForestRegressor(labelCol=\"mmr\", featuresCol=\"features\").fit(trainData)"
   ]
  },
  {
   "cell_type": "code",
   "execution_count": 141,
   "id": "d84b5235-6675-4130-b28a-ebbbe7fcc2b7",
   "metadata": {},
   "outputs": [
    {
     "name": "stdout",
     "output_type": "stream",
     "text": [
      "+--------------------+----+------------------+\n",
      "|            features| mmr|        prediction|\n",
      "+--------------------+----+------------------+\n",
      "|(6,[0,3],[1995.0,...|1000| 2766.269389081892|\n",
      "|(6,[0,3],[1997.0,...|1175| 2766.269389081892|\n",
      "|(6,[0,3],[1998.0,...|4000|12843.531860102998|\n",
      "|(6,[0,3],[1999.0,...| 825|4588.6779689718915|\n",
      "|(6,[0,3],[2000.0,...|2900|12111.328015282666|\n",
      "|(6,[0,3],[2000.0,...|2625| 3150.060807903777|\n",
      "|(6,[0,3],[2000.0,...| 950| 2766.269389081892|\n",
      "|(6,[0,3],[2001.0,...|2300| 5254.440592081379|\n",
      "|(6,[0,3],[2001.0,...|1425| 2766.269389081892|\n",
      "|(6,[0,3],[2001.0,...|1850| 2766.269389081892|\n",
      "|(6,[0,3],[2001.0,...|2175| 2766.269389081892|\n",
      "|(6,[0,3],[2001.0,...|2525| 2766.269389081892|\n",
      "|(6,[0,3],[2001.0,...|3550| 2766.269389081892|\n",
      "|(6,[0,3],[2001.0,...| 975| 2766.269389081892|\n",
      "|(6,[0,3],[2002.0,...|5125| 5338.050598075963|\n",
      "|(6,[0,3],[2002.0,...|1800| 4672.287974966475|\n",
      "|(6,[0,3],[2002.0,...|3075| 2766.269389081892|\n",
      "|(6,[0,3],[2003.0,...|6025| 5223.329174361937|\n",
      "|(6,[0,3],[2003.0,...|2950|  3492.86400325527|\n",
      "|(6,[0,3],[2003.0,...|3100|  3492.86400325527|\n",
      "+--------------------+----+------------------+\n",
      "only showing top 20 rows\n",
      "\n"
     ]
    }
   ],
   "source": [
    "predictedData = rf.transform(testData)\n",
    "predictedData.show()"
   ]
  },
  {
   "cell_type": "markdown",
   "id": "5e3c7a55-ec6c-4fd1-8628-520d2e4dacae",
   "metadata": {},
   "source": [
    "## Model Evaluation"
   ]
  },
  {
   "cell_type": "code",
   "execution_count": 143,
   "id": "50516273-e26f-4a11-b836-e9c0b1351af2",
   "metadata": {},
   "outputs": [],
   "source": [
    "# Import evaluation models\n",
    "\n",
    "from pyspark.ml.evaluation import RegressionEvaluator\n",
    "from pyspark.mllib.evaluation import MulticlassMetrics\n"
   ]
  },
  {
   "cell_type": "code",
   "execution_count": 149,
   "id": "191f81e6-faeb-4c7d-bed6-5246cb03ff2b",
   "metadata": {},
   "outputs": [
    {
     "name": "stdout",
     "output_type": "stream",
     "text": [
      "Root Mean Squared Error (RMSE) 6291.252465458869\n",
      "Mean Squared Error (MSE) 39579857.58414229\n",
      "R-squared (R²) 0.549023372710608\n"
     ]
    }
   ],
   "source": [
    "evaluator1 = RegressionEvaluator(\n",
    "    labelCol=\"mmr\", predictionCol=\"prediction\", metricName=\"rmse\")\n",
    "evaluator2 = RegressionEvaluator(\n",
    "    labelCol=\"mmr\", predictionCol=\"prediction\", metricName=\"mse\")\n",
    "evaluator3 = RegressionEvaluator(\n",
    "    labelCol=\"mmr\", predictionCol=\"prediction\", metricName=\"r2\")\n",
    "rmse = evaluator1.evaluate(predictedData)\n",
    "mse = evaluator2.evaluate(predictedData)\n",
    "r2 = evaluator3.evaluate(predictedData)\n",
    "print(\"Root Mean Squared Error (RMSE)\", rmse)\n",
    "print(\"Mean Squared Error (MSE)\", mse)\n",
    "print(\"R-squared (R²)\", r2)"
   ]
  },
  {
   "cell_type": "code",
   "execution_count": 151,
   "id": "4c9e7ed5-3cb5-4b99-9183-a1268559f973",
   "metadata": {},
   "outputs": [
    {
     "name": "stdout",
     "output_type": "stream",
     "text": [
      "Mean Absolute Percentage Error (MAPE) on test data = 45.55314229831474%\n"
     ]
    }
   ],
   "source": [
    "predictions = predictedData.withColumn(\"ape\", abs((col(\"mmr\") - col(\"prediction\")) / col(\"mmr\")))\n",
    "mape = predictions.select(mean(col(\"ape\"))).collect()[0][0] * 100\n",
    "\n",
    "print(f\"Mean Absolute Percentage Error (MAPE) on test data = {mape}%\")"
   ]
  }
 ],
 "metadata": {
  "kernelspec": {
   "display_name": "Python 3 (ipykernel)",
   "language": "python",
   "name": "python3"
  },
  "language_info": {
   "codemirror_mode": {
    "name": "ipython",
    "version": 3
   },
   "file_extension": ".py",
   "mimetype": "text/x-python",
   "name": "python",
   "nbconvert_exporter": "python",
   "pygments_lexer": "ipython3",
   "version": "3.11.7"
  }
 },
 "nbformat": 4,
 "nbformat_minor": 5
}
